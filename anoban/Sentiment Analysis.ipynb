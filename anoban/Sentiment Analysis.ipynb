{
 "cells": [
  {
   "cell_type": "markdown",
   "id": "24f0bdda-d259-4a0a-97c7-ad8299669692",
   "metadata": {},
   "source": [
    "# ***Sentiment Analyses***\n",
    "__________________"
   ]
  },
  {
   "cell_type": "code",
   "execution_count": 57,
   "id": "758747ab-197a-4b52-b779-e7091ecc4958",
   "metadata": {
    "execution": {
     "iopub.execute_input": "2023-04-02T00:49:41.308109Z",
     "iopub.status.busy": "2023-04-02T00:49:41.308109Z",
     "iopub.status.idle": "2023-04-02T00:49:41.326799Z",
     "shell.execute_reply": "2023-04-02T00:49:41.326799Z",
     "shell.execute_reply.started": "2023-04-02T00:49:41.308109Z"
    },
    "tags": []
   },
   "outputs": [],
   "source": [
    "import pandas as pd\n",
    "import numpy as np\n",
    "from sklearn.model_selection import train_test_split\n",
    "from sklearn.feature_extraction.text import (CountVectorizer, TfidfVectorizer)\n",
    "from sklearn.linear_model import LogisticRegression\n",
    "from sklearn.metrics import roc_auc_score"
   ]
  },
  {
   "cell_type": "code",
   "execution_count": 8,
   "id": "d7d0666a-fb29-4865-afb7-54aee636c510",
   "metadata": {
    "execution": {
     "iopub.execute_input": "2023-04-01T10:01:59.263467Z",
     "iopub.status.busy": "2023-04-01T10:01:59.263467Z",
     "iopub.status.idle": "2023-04-01T10:01:59.276462Z",
     "shell.execute_reply": "2023-04-01T10:01:59.276462Z",
     "shell.execute_reply.started": "2023-04-01T10:01:59.263467Z"
    },
    "tags": []
   },
   "outputs": [],
   "source": [
    "# A dataset on unlocked mobile phones sold on Amazon"
   ]
  },
  {
   "cell_type": "code",
   "execution_count": 2,
   "id": "8d85c128-4b79-440b-beb2-7075dd2e4e42",
   "metadata": {
    "execution": {
     "iopub.execute_input": "2023-04-02T00:21:44.989850Z",
     "iopub.status.busy": "2023-04-02T00:21:44.989850Z",
     "iopub.status.idle": "2023-04-02T00:21:47.097999Z",
     "shell.execute_reply": "2023-04-02T00:21:47.097999Z",
     "shell.execute_reply.started": "2023-04-02T00:21:44.989850Z"
    },
    "tags": []
   },
   "outputs": [
    {
     "data": {
      "text/html": [
       "<div>\n",
       "<style scoped>\n",
       "    .dataframe tbody tr th:only-of-type {\n",
       "        vertical-align: middle;\n",
       "    }\n",
       "\n",
       "    .dataframe tbody tr th {\n",
       "        vertical-align: top;\n",
       "    }\n",
       "\n",
       "    .dataframe thead th {\n",
       "        text-align: right;\n",
       "    }\n",
       "</style>\n",
       "<table border=\"1\" class=\"dataframe\">\n",
       "  <thead>\n",
       "    <tr style=\"text-align: right;\">\n",
       "      <th></th>\n",
       "      <th>Product Name</th>\n",
       "      <th>Brand Name</th>\n",
       "      <th>Price</th>\n",
       "      <th>Rating</th>\n",
       "      <th>Reviews</th>\n",
       "      <th>Review Votes</th>\n",
       "    </tr>\n",
       "  </thead>\n",
       "  <tbody>\n",
       "    <tr>\n",
       "      <th>0</th>\n",
       "      <td>\"CLEAR CLEAN ESN\" Sprint EPIC 4G Galaxy SPH-D7...</td>\n",
       "      <td>Samsung</td>\n",
       "      <td>199.99</td>\n",
       "      <td>5</td>\n",
       "      <td>I feel so LUCKY to have found this used (phone...</td>\n",
       "      <td>1.0</td>\n",
       "    </tr>\n",
       "    <tr>\n",
       "      <th>1</th>\n",
       "      <td>\"CLEAR CLEAN ESN\" Sprint EPIC 4G Galaxy SPH-D7...</td>\n",
       "      <td>Samsung</td>\n",
       "      <td>199.99</td>\n",
       "      <td>4</td>\n",
       "      <td>nice phone, nice up grade from my pantach revu...</td>\n",
       "      <td>0.0</td>\n",
       "    </tr>\n",
       "    <tr>\n",
       "      <th>2</th>\n",
       "      <td>\"CLEAR CLEAN ESN\" Sprint EPIC 4G Galaxy SPH-D7...</td>\n",
       "      <td>Samsung</td>\n",
       "      <td>199.99</td>\n",
       "      <td>5</td>\n",
       "      <td>Very pleased</td>\n",
       "      <td>0.0</td>\n",
       "    </tr>\n",
       "    <tr>\n",
       "      <th>3</th>\n",
       "      <td>\"CLEAR CLEAN ESN\" Sprint EPIC 4G Galaxy SPH-D7...</td>\n",
       "      <td>Samsung</td>\n",
       "      <td>199.99</td>\n",
       "      <td>4</td>\n",
       "      <td>It works good but it goes slow sometimes but i...</td>\n",
       "      <td>0.0</td>\n",
       "    </tr>\n",
       "    <tr>\n",
       "      <th>4</th>\n",
       "      <td>\"CLEAR CLEAN ESN\" Sprint EPIC 4G Galaxy SPH-D7...</td>\n",
       "      <td>Samsung</td>\n",
       "      <td>199.99</td>\n",
       "      <td>4</td>\n",
       "      <td>Great phone to replace my lost phone. The only...</td>\n",
       "      <td>0.0</td>\n",
       "    </tr>\n",
       "  </tbody>\n",
       "</table>\n",
       "</div>"
      ],
      "text/plain": [
       "                                        Product Name Brand Name   Price  \\\n",
       "0  \"CLEAR CLEAN ESN\" Sprint EPIC 4G Galaxy SPH-D7...    Samsung  199.99   \n",
       "1  \"CLEAR CLEAN ESN\" Sprint EPIC 4G Galaxy SPH-D7...    Samsung  199.99   \n",
       "2  \"CLEAR CLEAN ESN\" Sprint EPIC 4G Galaxy SPH-D7...    Samsung  199.99   \n",
       "3  \"CLEAR CLEAN ESN\" Sprint EPIC 4G Galaxy SPH-D7...    Samsung  199.99   \n",
       "4  \"CLEAR CLEAN ESN\" Sprint EPIC 4G Galaxy SPH-D7...    Samsung  199.99   \n",
       "\n",
       "   Rating                                            Reviews  Review Votes  \n",
       "0       5  I feel so LUCKY to have found this used (phone...           1.0  \n",
       "1       4  nice phone, nice up grade from my pantach revu...           0.0  \n",
       "2       5                                       Very pleased           0.0  \n",
       "3       4  It works good but it goes slow sometimes but i...           0.0  \n",
       "4       4  Great phone to replace my lost phone. The only...           0.0  "
      ]
     },
     "execution_count": 2,
     "metadata": {},
     "output_type": "execute_result"
    }
   ],
   "source": [
    "amazon = pd.read_csv(r\"D:/Applied-Text-Mining-in-Python/resources/Amazon_Unlocked_Mobile.csv\")\n",
    "amazon.head()"
   ]
  },
  {
   "cell_type": "code",
   "execution_count": 3,
   "id": "b08ea860-4169-40ec-98ee-aa2cc5b96f2d",
   "metadata": {
    "execution": {
     "iopub.execute_input": "2023-04-02T00:21:48.193176Z",
     "iopub.status.busy": "2023-04-02T00:21:48.193176Z",
     "iopub.status.idle": "2023-04-02T00:21:48.202115Z",
     "shell.execute_reply": "2023-04-02T00:21:48.202115Z",
     "shell.execute_reply.started": "2023-04-02T00:21:48.193176Z"
    },
    "tags": []
   },
   "outputs": [
    {
     "data": {
      "text/plain": [
       "Index(['Product Name', 'Brand Name', 'Price', 'Rating', 'Reviews',\n",
       "       'Review Votes'],\n",
       "      dtype='object')"
      ]
     },
     "execution_count": 3,
     "metadata": {},
     "output_type": "execute_result"
    }
   ],
   "source": [
    "amazon.columns"
   ]
  },
  {
   "cell_type": "code",
   "execution_count": 4,
   "id": "bb8df8d4-b32c-4f68-800c-578c1dd5c99e",
   "metadata": {
    "execution": {
     "iopub.execute_input": "2023-04-02T00:21:48.669900Z",
     "iopub.status.busy": "2023-04-02T00:21:48.669900Z",
     "iopub.status.idle": "2023-04-02T00:21:48.687277Z",
     "shell.execute_reply": "2023-04-02T00:21:48.686687Z",
     "shell.execute_reply.started": "2023-04-02T00:21:48.669900Z"
    },
    "tags": []
   },
   "outputs": [
    {
     "data": {
      "text/plain": [
       "(413840, 6)"
      ]
     },
     "execution_count": 4,
     "metadata": {},
     "output_type": "execute_result"
    }
   ],
   "source": [
    "amazon.shape"
   ]
  },
  {
   "cell_type": "code",
   "execution_count": 5,
   "id": "c297a6bb-a19f-436d-9a42-fd13d80e0158",
   "metadata": {
    "execution": {
     "iopub.execute_input": "2023-04-02T00:21:49.418965Z",
     "iopub.status.busy": "2023-04-02T00:21:49.418965Z",
     "iopub.status.idle": "2023-04-02T00:21:49.830842Z",
     "shell.execute_reply": "2023-04-02T00:21:49.830842Z",
     "shell.execute_reply.started": "2023-04-02T00:21:49.418965Z"
    },
    "tags": []
   },
   "outputs": [],
   "source": [
    "# We'll focus only on the Rating & Reviews columns.\n",
    "\n",
    "amazon.dropna(axis = 0, inplace = True)\n",
    "\n",
    "# remove all records with a rating 3, assuming these are neutral on a rating system 0 - 5\n",
    "amazon.drop(amazon.index[amazon.Rating == 3], axis = 0, inplace = True)\n",
    "\n",
    "# A new column that binarily labels the data\n",
    "# If review > 3, positively rated (1) else not-positively rated. (0)\n",
    "\n",
    "amazon[\"positively_rated\"] = amazon.Rating.apply(lambda rating: 1 if rating > 3 else 0)"
   ]
  },
  {
   "cell_type": "code",
   "execution_count": 6,
   "id": "1b607cbb-85f8-4010-a014-6813899ac0e5",
   "metadata": {
    "execution": {
     "iopub.execute_input": "2023-04-02T00:21:50.329089Z",
     "iopub.status.busy": "2023-04-02T00:21:50.329089Z",
     "iopub.status.idle": "2023-04-02T00:21:50.346133Z",
     "shell.execute_reply": "2023-04-02T00:21:50.346133Z",
     "shell.execute_reply.started": "2023-04-02T00:21:50.329089Z"
    },
    "tags": []
   },
   "outputs": [
    {
     "data": {
      "text/html": [
       "<div>\n",
       "<style scoped>\n",
       "    .dataframe tbody tr th:only-of-type {\n",
       "        vertical-align: middle;\n",
       "    }\n",
       "\n",
       "    .dataframe tbody tr th {\n",
       "        vertical-align: top;\n",
       "    }\n",
       "\n",
       "    .dataframe thead th {\n",
       "        text-align: right;\n",
       "    }\n",
       "</style>\n",
       "<table border=\"1\" class=\"dataframe\">\n",
       "  <thead>\n",
       "    <tr style=\"text-align: right;\">\n",
       "      <th></th>\n",
       "      <th>Product Name</th>\n",
       "      <th>Brand Name</th>\n",
       "      <th>Price</th>\n",
       "      <th>Rating</th>\n",
       "      <th>Reviews</th>\n",
       "      <th>Review Votes</th>\n",
       "      <th>positively_rated</th>\n",
       "    </tr>\n",
       "  </thead>\n",
       "  <tbody>\n",
       "    <tr>\n",
       "      <th>0</th>\n",
       "      <td>\"CLEAR CLEAN ESN\" Sprint EPIC 4G Galaxy SPH-D7...</td>\n",
       "      <td>Samsung</td>\n",
       "      <td>199.99</td>\n",
       "      <td>5</td>\n",
       "      <td>I feel so LUCKY to have found this used (phone...</td>\n",
       "      <td>1.0</td>\n",
       "      <td>1</td>\n",
       "    </tr>\n",
       "    <tr>\n",
       "      <th>1</th>\n",
       "      <td>\"CLEAR CLEAN ESN\" Sprint EPIC 4G Galaxy SPH-D7...</td>\n",
       "      <td>Samsung</td>\n",
       "      <td>199.99</td>\n",
       "      <td>4</td>\n",
       "      <td>nice phone, nice up grade from my pantach revu...</td>\n",
       "      <td>0.0</td>\n",
       "      <td>1</td>\n",
       "    </tr>\n",
       "    <tr>\n",
       "      <th>2</th>\n",
       "      <td>\"CLEAR CLEAN ESN\" Sprint EPIC 4G Galaxy SPH-D7...</td>\n",
       "      <td>Samsung</td>\n",
       "      <td>199.99</td>\n",
       "      <td>5</td>\n",
       "      <td>Very pleased</td>\n",
       "      <td>0.0</td>\n",
       "      <td>1</td>\n",
       "    </tr>\n",
       "    <tr>\n",
       "      <th>3</th>\n",
       "      <td>\"CLEAR CLEAN ESN\" Sprint EPIC 4G Galaxy SPH-D7...</td>\n",
       "      <td>Samsung</td>\n",
       "      <td>199.99</td>\n",
       "      <td>4</td>\n",
       "      <td>It works good but it goes slow sometimes but i...</td>\n",
       "      <td>0.0</td>\n",
       "      <td>1</td>\n",
       "    </tr>\n",
       "    <tr>\n",
       "      <th>4</th>\n",
       "      <td>\"CLEAR CLEAN ESN\" Sprint EPIC 4G Galaxy SPH-D7...</td>\n",
       "      <td>Samsung</td>\n",
       "      <td>199.99</td>\n",
       "      <td>4</td>\n",
       "      <td>Great phone to replace my lost phone. The only...</td>\n",
       "      <td>0.0</td>\n",
       "      <td>1</td>\n",
       "    </tr>\n",
       "    <tr>\n",
       "      <th>...</th>\n",
       "      <td>...</td>\n",
       "      <td>...</td>\n",
       "      <td>...</td>\n",
       "      <td>...</td>\n",
       "      <td>...</td>\n",
       "      <td>...</td>\n",
       "      <td>...</td>\n",
       "    </tr>\n",
       "    <tr>\n",
       "      <th>413832</th>\n",
       "      <td>Samsung Convoy U640 Phone for Verizon Wireless...</td>\n",
       "      <td>Samsung</td>\n",
       "      <td>79.95</td>\n",
       "      <td>4</td>\n",
       "      <td>good rugged phone that has a long-lasting batt...</td>\n",
       "      <td>0.0</td>\n",
       "      <td>1</td>\n",
       "    </tr>\n",
       "    <tr>\n",
       "      <th>413834</th>\n",
       "      <td>Samsung Convoy U640 Phone for Verizon Wireless...</td>\n",
       "      <td>Samsung</td>\n",
       "      <td>79.95</td>\n",
       "      <td>1</td>\n",
       "      <td>used hard</td>\n",
       "      <td>0.0</td>\n",
       "      <td>0</td>\n",
       "    </tr>\n",
       "    <tr>\n",
       "      <th>413835</th>\n",
       "      <td>Samsung Convoy U640 Phone for Verizon Wireless...</td>\n",
       "      <td>Samsung</td>\n",
       "      <td>79.95</td>\n",
       "      <td>5</td>\n",
       "      <td>another great deal great price</td>\n",
       "      <td>0.0</td>\n",
       "      <td>1</td>\n",
       "    </tr>\n",
       "    <tr>\n",
       "      <th>413837</th>\n",
       "      <td>Samsung Convoy U640 Phone for Verizon Wireless...</td>\n",
       "      <td>Samsung</td>\n",
       "      <td>79.95</td>\n",
       "      <td>5</td>\n",
       "      <td>Passes every drop test onto porcelain tile!</td>\n",
       "      <td>0.0</td>\n",
       "      <td>1</td>\n",
       "    </tr>\n",
       "    <tr>\n",
       "      <th>413839</th>\n",
       "      <td>Samsung Convoy U640 Phone for Verizon Wireless...</td>\n",
       "      <td>Samsung</td>\n",
       "      <td>79.95</td>\n",
       "      <td>4</td>\n",
       "      <td>Only downside is that apparently Verizon no lo...</td>\n",
       "      <td>0.0</td>\n",
       "      <td>1</td>\n",
       "    </tr>\n",
       "  </tbody>\n",
       "</table>\n",
       "<p>308277 rows × 7 columns</p>\n",
       "</div>"
      ],
      "text/plain": [
       "                                             Product Name Brand Name   Price  \\\n",
       "0       \"CLEAR CLEAN ESN\" Sprint EPIC 4G Galaxy SPH-D7...    Samsung  199.99   \n",
       "1       \"CLEAR CLEAN ESN\" Sprint EPIC 4G Galaxy SPH-D7...    Samsung  199.99   \n",
       "2       \"CLEAR CLEAN ESN\" Sprint EPIC 4G Galaxy SPH-D7...    Samsung  199.99   \n",
       "3       \"CLEAR CLEAN ESN\" Sprint EPIC 4G Galaxy SPH-D7...    Samsung  199.99   \n",
       "4       \"CLEAR CLEAN ESN\" Sprint EPIC 4G Galaxy SPH-D7...    Samsung  199.99   \n",
       "...                                                   ...        ...     ...   \n",
       "413832  Samsung Convoy U640 Phone for Verizon Wireless...    Samsung   79.95   \n",
       "413834  Samsung Convoy U640 Phone for Verizon Wireless...    Samsung   79.95   \n",
       "413835  Samsung Convoy U640 Phone for Verizon Wireless...    Samsung   79.95   \n",
       "413837  Samsung Convoy U640 Phone for Verizon Wireless...    Samsung   79.95   \n",
       "413839  Samsung Convoy U640 Phone for Verizon Wireless...    Samsung   79.95   \n",
       "\n",
       "        Rating                                            Reviews  \\\n",
       "0            5  I feel so LUCKY to have found this used (phone...   \n",
       "1            4  nice phone, nice up grade from my pantach revu...   \n",
       "2            5                                       Very pleased   \n",
       "3            4  It works good but it goes slow sometimes but i...   \n",
       "4            4  Great phone to replace my lost phone. The only...   \n",
       "...        ...                                                ...   \n",
       "413832       4  good rugged phone that has a long-lasting batt...   \n",
       "413834       1                                          used hard   \n",
       "413835       5                     another great deal great price   \n",
       "413837       5        Passes every drop test onto porcelain tile!   \n",
       "413839       4  Only downside is that apparently Verizon no lo...   \n",
       "\n",
       "        Review Votes  positively_rated  \n",
       "0                1.0                 1  \n",
       "1                0.0                 1  \n",
       "2                0.0                 1  \n",
       "3                0.0                 1  \n",
       "4                0.0                 1  \n",
       "...              ...               ...  \n",
       "413832           0.0                 1  \n",
       "413834           0.0                 0  \n",
       "413835           0.0                 1  \n",
       "413837           0.0                 1  \n",
       "413839           0.0                 1  \n",
       "\n",
       "[308277 rows x 7 columns]"
      ]
     },
     "execution_count": 6,
     "metadata": {},
     "output_type": "execute_result"
    }
   ],
   "source": [
    "amazon"
   ]
  },
  {
   "cell_type": "code",
   "execution_count": 7,
   "id": "85fdf245-afd1-4852-b91e-b178317acf89",
   "metadata": {
    "execution": {
     "iopub.execute_input": "2023-04-02T00:21:50.925493Z",
     "iopub.status.busy": "2023-04-02T00:21:50.925493Z",
     "iopub.status.idle": "2023-04-02T00:21:50.935181Z",
     "shell.execute_reply": "2023-04-02T00:21:50.935181Z",
     "shell.execute_reply.started": "2023-04-02T00:21:50.925493Z"
    },
    "tags": []
   },
   "outputs": [
    {
     "data": {
      "text/plain": [
       "(308277, 7)"
      ]
     },
     "execution_count": 7,
     "metadata": {},
     "output_type": "execute_result"
    }
   ],
   "source": [
    "amazon.shape"
   ]
  },
  {
   "cell_type": "code",
   "execution_count": 8,
   "id": "11c9bdbe-4a6d-4295-925e-cadffc0b4ed7",
   "metadata": {
    "execution": {
     "iopub.execute_input": "2023-04-02T00:21:51.694905Z",
     "iopub.status.busy": "2023-04-02T00:21:51.694905Z",
     "iopub.status.idle": "2023-04-02T00:21:51.710625Z",
     "shell.execute_reply": "2023-04-02T00:21:51.709618Z",
     "shell.execute_reply.started": "2023-04-02T00:21:51.694905Z"
    },
    "tags": []
   },
   "outputs": [
    {
     "data": {
      "text/plain": [
       "0.7482686025879323"
      ]
     },
     "execution_count": 8,
     "metadata": {},
     "output_type": "execute_result"
    }
   ],
   "source": [
    "amazon.positively_rated.mean()"
   ]
  },
  {
   "cell_type": "code",
   "execution_count": 9,
   "id": "69a7da7d-6ff4-4ae3-a647-49b6c01954e8",
   "metadata": {
    "execution": {
     "iopub.execute_input": "2023-04-02T00:21:52.259484Z",
     "iopub.status.busy": "2023-04-02T00:21:52.259484Z",
     "iopub.status.idle": "2023-04-02T00:21:52.275134Z",
     "shell.execute_reply": "2023-04-02T00:21:52.274609Z",
     "shell.execute_reply.started": "2023-04-02T00:21:52.259484Z"
    },
    "tags": []
   },
   "outputs": [],
   "source": [
    "# mean of positively_rated shows that we have imbalanced classes\n",
    "# That is, the distribution is skewed\n",
    "# There are more data points in the positively rated class than in the non-positively rated class."
   ]
  },
  {
   "cell_type": "code",
   "execution_count": 10,
   "id": "3449666b-c1b4-405a-91b9-b2671b311157",
   "metadata": {
    "execution": {
     "iopub.execute_input": "2023-04-02T00:24:02.354032Z",
     "iopub.status.busy": "2023-04-02T00:24:02.354032Z",
     "iopub.status.idle": "2023-04-02T00:24:02.401843Z",
     "shell.execute_reply": "2023-04-02T00:24:02.400774Z",
     "shell.execute_reply.started": "2023-04-02T00:24:02.354032Z"
    },
    "tags": []
   },
   "outputs": [],
   "source": [
    "train_x, test_x, train_labs, test_labs = train_test_split(amazon.Reviews, amazon.positively_rated, random_state = 0)"
   ]
  },
  {
   "cell_type": "code",
   "execution_count": 11,
   "id": "28f5bb3b-b82a-47f1-9f36-558e178f5c9b",
   "metadata": {
    "execution": {
     "iopub.execute_input": "2023-04-02T00:24:02.840407Z",
     "iopub.status.busy": "2023-04-02T00:24:02.840407Z",
     "iopub.status.idle": "2023-04-02T00:24:02.852481Z",
     "shell.execute_reply": "2023-04-02T00:24:02.852481Z",
     "shell.execute_reply.started": "2023-04-02T00:24:02.840407Z"
    },
    "tags": []
   },
   "outputs": [
    {
     "data": {
      "text/plain": [
       "\"I feel so LUCKY to have found this used (phone to us & not used hard at all), phone on line from someone who upgraded and sold this one. My Son liked his old one that finally fell apart after 2.5+ years and didn't want an upgrade!! Thank you Seller, we really appreciate it & your honesty re: said used phone.I recommend this seller very highly & would but from them again!!\""
      ]
     },
     "execution_count": 11,
     "metadata": {},
     "output_type": "execute_result"
    }
   ],
   "source": [
    "train_x[0]"
   ]
  },
  {
   "cell_type": "code",
   "execution_count": 12,
   "id": "81856b23-fafc-4cf0-b4b9-a4713c89396d",
   "metadata": {
    "execution": {
     "iopub.execute_input": "2023-04-02T00:24:03.375124Z",
     "iopub.status.busy": "2023-04-02T00:24:03.375124Z",
     "iopub.status.idle": "2023-04-02T00:24:03.380129Z",
     "shell.execute_reply": "2023-04-02T00:24:03.380129Z",
     "shell.execute_reply.started": "2023-04-02T00:24:03.375124Z"
    },
    "tags": []
   },
   "outputs": [
    {
     "data": {
      "text/plain": [
       "(231207,)"
      ]
     },
     "execution_count": 12,
     "metadata": {},
     "output_type": "execute_result"
    }
   ],
   "source": [
    "train_x.shape"
   ]
  },
  {
   "cell_type": "markdown",
   "id": "a2296a6a-226b-4f8e-a8b7-667c72360b9c",
   "metadata": {},
   "source": [
    "## ***Bag of Words Approach***\n",
    "--------------------------------------"
   ]
  },
  {
   "cell_type": "code",
   "execution_count": 13,
   "id": "9425a4c3-8995-4025-bd86-7c6a02f120c8",
   "metadata": {
    "execution": {
     "iopub.execute_input": "2023-04-02T00:24:03.798151Z",
     "iopub.status.busy": "2023-04-02T00:24:03.798151Z",
     "iopub.status.idle": "2023-04-02T00:24:03.803047Z",
     "shell.execute_reply": "2023-04-02T00:24:03.803047Z",
     "shell.execute_reply.started": "2023-04-02T00:24:03.798151Z"
    },
    "tags": []
   },
   "outputs": [],
   "source": [
    "# We need to convert this text data into a numeric representation that Sklearn can use.\n",
    "# Bag of words approach is a commonly used basic technique, that ignores structure and just counts the frequency of words.\n",
    "\n",
    "# count vectorizer converts a collection of text documents into a matrix of token counts, using the bag-of-words approach"
   ]
  },
  {
   "cell_type": "code",
   "execution_count": 14,
   "id": "e4caee82-e6ed-4230-96d2-bcf8e3da29da",
   "metadata": {
    "execution": {
     "iopub.execute_input": "2023-04-02T00:24:04.174470Z",
     "iopub.status.busy": "2023-04-02T00:24:04.174470Z",
     "iopub.status.idle": "2023-04-02T00:24:04.178793Z",
     "shell.execute_reply": "2023-04-02T00:24:04.178793Z",
     "shell.execute_reply.started": "2023-04-02T00:24:04.174470Z"
    },
    "tags": []
   },
   "outputs": [],
   "source": [
    "# CountVectorizer tokenizes each document by finding all sequences of characters (?words)\n",
    "# separated by word boundaries\n",
    "# converts everything to lowercase\n",
    "# and builds a vocabulary using these tokens."
   ]
  },
  {
   "cell_type": "code",
   "execution_count": 15,
   "id": "13d3f402-1a86-4656-89be-2c3000a95f8a",
   "metadata": {
    "execution": {
     "iopub.execute_input": "2023-04-02T00:24:04.550505Z",
     "iopub.status.busy": "2023-04-02T00:24:04.550505Z",
     "iopub.status.idle": "2023-04-02T00:24:09.077284Z",
     "shell.execute_reply": "2023-04-02T00:24:09.077284Z",
     "shell.execute_reply.started": "2023-04-02T00:24:04.550505Z"
    },
    "tags": []
   },
   "outputs": [],
   "source": [
    "vector = CountVectorizer().fit(train_x)"
   ]
  },
  {
   "cell_type": "code",
   "execution_count": 16,
   "id": "d7996c5c-2edf-479b-b9fa-38fca79d6e05",
   "metadata": {
    "execution": {
     "iopub.execute_input": "2023-04-02T00:24:10.022853Z",
     "iopub.status.busy": "2023-04-02T00:24:10.022853Z",
     "iopub.status.idle": "2023-04-02T00:24:10.068603Z",
     "shell.execute_reply": "2023-04-02T00:24:10.068603Z",
     "shell.execute_reply.started": "2023-04-02T00:24:10.022853Z"
    },
    "tags": []
   },
   "outputs": [
    {
     "data": {
      "text/plain": [
       "array(['00', '2048those', '4less', '99303', 'adr6275', 'andentering',\n",
       "       'assignment', 'bandwidth', 'blazingly', 'bullets', 'cassettes',\n",
       "       'cleary', 'condishion', 'cpl', 'debi', 'deғιnιтely',\n",
       "       'dollarsshipping', 'ele', 'esteem', 'eyeglasses', 'flashy',\n",
       "       'fusion2', 'gorila', 'hasbro', 'human', 'inefficiencies', 'irullu',\n",
       "       'kinds', 'like', 'makeup', 'microsaudered', 'msgi', 'nightmarish',\n",
       "       'oldy', 'p770', 'phalet', 'poori', 'productsaid', 'quirky',\n",
       "       'rediculoius', 'responseive', 'sadness', 'send', 'sir', 'sos',\n",
       "       'storecons', 'synch', 'them', 'trace', 'unconditional', 'utiles',\n",
       "       'waiste', 'withstanding', 'zeis'], dtype=object)"
      ]
     },
     "execution_count": 16,
     "metadata": {},
     "output_type": "execute_result"
    }
   ],
   "source": [
    "# This vocabulary was built using all tokens from the training data.\n",
    "\n",
    "vector.get_feature_names_out()[::1000]"
   ]
  },
  {
   "cell_type": "code",
   "execution_count": 17,
   "id": "d8aa208a-3cc7-4ecc-822b-1b7a7d832fff",
   "metadata": {
    "execution": {
     "iopub.execute_input": "2023-04-02T00:24:10.477615Z",
     "iopub.status.busy": "2023-04-02T00:24:10.477615Z",
     "iopub.status.idle": "2023-04-02T00:24:10.521765Z",
     "shell.execute_reply": "2023-04-02T00:24:10.521765Z",
     "shell.execute_reply.started": "2023-04-02T00:24:10.477615Z"
    },
    "tags": []
   },
   "outputs": [
    {
     "data": {
      "text/plain": [
       "53216"
      ]
     },
     "execution_count": 17,
     "metadata": {},
     "output_type": "execute_result"
    }
   ],
   "source": [
    "len(vector.get_feature_names_out())"
   ]
  },
  {
   "cell_type": "code",
   "execution_count": 18,
   "id": "2649d413-9d5f-4d3f-ba88-b6d20cc1a4d0",
   "metadata": {
    "execution": {
     "iopub.execute_input": "2023-04-02T00:24:11.483736Z",
     "iopub.status.busy": "2023-04-02T00:24:11.483736Z",
     "iopub.status.idle": "2023-04-02T00:24:11.491143Z",
     "shell.execute_reply": "2023-04-02T00:24:11.491143Z",
     "shell.execute_reply.started": "2023-04-02T00:24:11.483736Z"
    },
    "tags": []
   },
   "outputs": [],
   "source": [
    "# We will be working with a whopping 53,216 features."
   ]
  },
  {
   "cell_type": "code",
   "execution_count": 19,
   "id": "0b1c0332-b7c1-420f-a9d1-c00ca9bafaec",
   "metadata": {
    "execution": {
     "iopub.execute_input": "2023-04-02T00:24:11.845753Z",
     "iopub.status.busy": "2023-04-02T00:24:11.845753Z",
     "iopub.status.idle": "2023-04-02T00:24:11.851327Z",
     "shell.execute_reply": "2023-04-02T00:24:11.851327Z",
     "shell.execute_reply.started": "2023-04-02T00:24:11.845753Z"
    },
    "tags": []
   },
   "outputs": [],
   "source": [
    "# Next, transform this vocabulary vector into a matrix (SciPy sparse matrix)\n",
    "# where, each row corresponds to a document and each column corresponds to a word from our vocabulary"
   ]
  },
  {
   "cell_type": "code",
   "execution_count": 20,
   "id": "5fa83b75-4cc4-4c79-8805-7a8166c300d9",
   "metadata": {
    "execution": {
     "iopub.execute_input": "2023-04-02T00:24:12.175614Z",
     "iopub.status.busy": "2023-04-02T00:24:12.175614Z",
     "iopub.status.idle": "2023-04-02T00:24:12.214418Z",
     "shell.execute_reply": "2023-04-02T00:24:12.214418Z",
     "shell.execute_reply.started": "2023-04-02T00:24:12.175614Z"
    },
    "tags": []
   },
   "outputs": [
    {
     "name": "stdout",
     "output_type": "stream",
     "text": [
      "So, expect the dimension of the matrix to be 231207 x 53216 shaped\n"
     ]
    }
   ],
   "source": [
    "print(f\"So, expect the dimension of the matrix to be {train_x.shape[0]} x {len(vector.get_feature_names_out())} shaped\")"
   ]
  },
  {
   "cell_type": "code",
   "execution_count": 21,
   "id": "ce0b7f38-2baf-41a5-92c8-3402f1cb5694",
   "metadata": {
    "execution": {
     "iopub.execute_input": "2023-04-02T00:24:12.725087Z",
     "iopub.status.busy": "2023-04-02T00:24:12.725087Z",
     "iopub.status.idle": "2023-04-02T00:24:17.306245Z",
     "shell.execute_reply": "2023-04-02T00:24:17.306245Z",
     "shell.execute_reply.started": "2023-04-02T00:24:12.725087Z"
    },
    "tags": []
   },
   "outputs": [],
   "source": [
    "train_x_vectorized = vector.transform(train_x)"
   ]
  },
  {
   "cell_type": "code",
   "execution_count": 22,
   "id": "274a238d-a92b-4852-b5c1-d57cb4220f40",
   "metadata": {
    "execution": {
     "iopub.execute_input": "2023-04-02T00:24:17.306245Z",
     "iopub.status.busy": "2023-04-02T00:24:17.306245Z",
     "iopub.status.idle": "2023-04-02T00:24:17.312978Z",
     "shell.execute_reply": "2023-04-02T00:24:17.312978Z",
     "shell.execute_reply.started": "2023-04-02T00:24:17.306245Z"
    },
    "tags": []
   },
   "outputs": [
    {
     "data": {
      "text/plain": [
       "<231207x53216 sparse matrix of type '<class 'numpy.int64'>'\n",
       "\twith 6117776 stored elements in Compressed Sparse Row format>"
      ]
     },
     "execution_count": 22,
     "metadata": {},
     "output_type": "execute_result"
    }
   ],
   "source": [
    "train_x_vectorized"
   ]
  },
  {
   "cell_type": "code",
   "execution_count": 23,
   "id": "004c163d-4cb2-4982-a2d7-42b2c397536f",
   "metadata": {
    "execution": {
     "iopub.execute_input": "2023-04-02T00:24:17.314085Z",
     "iopub.status.busy": "2023-04-02T00:24:17.314085Z",
     "iopub.status.idle": "2023-04-02T00:24:17.449231Z",
     "shell.execute_reply": "2023-04-02T00:24:17.449231Z",
     "shell.execute_reply.started": "2023-04-02T00:24:17.314085Z"
    },
    "tags": []
   },
   "outputs": [],
   "source": [
    "# Entries in this matrix are the frequency of each word in each document.\n",
    "# Since the number of words in most reviews are far too smaller than the number of words in the vocabulary, most entries in this \n",
    "# matrix are 0."
   ]
  },
  {
   "cell_type": "code",
   "execution_count": 24,
   "id": "52c9909d-994d-4e24-a21a-7c183d949da2",
   "metadata": {
    "execution": {
     "iopub.execute_input": "2023-04-02T00:24:17.449231Z",
     "iopub.status.busy": "2023-04-02T00:24:17.449231Z",
     "iopub.status.idle": "2023-04-02T00:24:17.527146Z",
     "shell.execute_reply": "2023-04-02T00:24:17.527146Z",
     "shell.execute_reply.started": "2023-04-02T00:24:17.449231Z"
    },
    "tags": []
   },
   "outputs": [],
   "source": [
    "lreg = LogisticRegression(max_iter = 100_000)"
   ]
  },
  {
   "cell_type": "code",
   "execution_count": 47,
   "id": "8fdc44cc-de25-4a13-9585-9d10272776b5",
   "metadata": {
    "execution": {
     "iopub.execute_input": "2023-04-02T00:32:30.231301Z",
     "iopub.status.busy": "2023-04-02T00:32:30.231301Z",
     "iopub.status.idle": "2023-04-02T00:32:59.667400Z",
     "shell.execute_reply": "2023-04-02T00:32:59.667400Z",
     "shell.execute_reply.started": "2023-04-02T00:32:30.231301Z"
    },
    "tags": []
   },
   "outputs": [
    {
     "data": {
      "text/html": [
       "<style>#sk-container-id-2 {color: black;background-color: white;}#sk-container-id-2 pre{padding: 0;}#sk-container-id-2 div.sk-toggleable {background-color: white;}#sk-container-id-2 label.sk-toggleable__label {cursor: pointer;display: block;width: 100%;margin-bottom: 0;padding: 0.3em;box-sizing: border-box;text-align: center;}#sk-container-id-2 label.sk-toggleable__label-arrow:before {content: \"▸\";float: left;margin-right: 0.25em;color: #696969;}#sk-container-id-2 label.sk-toggleable__label-arrow:hover:before {color: black;}#sk-container-id-2 div.sk-estimator:hover label.sk-toggleable__label-arrow:before {color: black;}#sk-container-id-2 div.sk-toggleable__content {max-height: 0;max-width: 0;overflow: hidden;text-align: left;background-color: #f0f8ff;}#sk-container-id-2 div.sk-toggleable__content pre {margin: 0.2em;color: black;border-radius: 0.25em;background-color: #f0f8ff;}#sk-container-id-2 input.sk-toggleable__control:checked~div.sk-toggleable__content {max-height: 200px;max-width: 100%;overflow: auto;}#sk-container-id-2 input.sk-toggleable__control:checked~label.sk-toggleable__label-arrow:before {content: \"▾\";}#sk-container-id-2 div.sk-estimator input.sk-toggleable__control:checked~label.sk-toggleable__label {background-color: #d4ebff;}#sk-container-id-2 div.sk-label input.sk-toggleable__control:checked~label.sk-toggleable__label {background-color: #d4ebff;}#sk-container-id-2 input.sk-hidden--visually {border: 0;clip: rect(1px 1px 1px 1px);clip: rect(1px, 1px, 1px, 1px);height: 1px;margin: -1px;overflow: hidden;padding: 0;position: absolute;width: 1px;}#sk-container-id-2 div.sk-estimator {font-family: monospace;background-color: #f0f8ff;border: 1px dotted black;border-radius: 0.25em;box-sizing: border-box;margin-bottom: 0.5em;}#sk-container-id-2 div.sk-estimator:hover {background-color: #d4ebff;}#sk-container-id-2 div.sk-parallel-item::after {content: \"\";width: 100%;border-bottom: 1px solid gray;flex-grow: 1;}#sk-container-id-2 div.sk-label:hover label.sk-toggleable__label {background-color: #d4ebff;}#sk-container-id-2 div.sk-serial::before {content: \"\";position: absolute;border-left: 1px solid gray;box-sizing: border-box;top: 0;bottom: 0;left: 50%;z-index: 0;}#sk-container-id-2 div.sk-serial {display: flex;flex-direction: column;align-items: center;background-color: white;padding-right: 0.2em;padding-left: 0.2em;position: relative;}#sk-container-id-2 div.sk-item {position: relative;z-index: 1;}#sk-container-id-2 div.sk-parallel {display: flex;align-items: stretch;justify-content: center;background-color: white;position: relative;}#sk-container-id-2 div.sk-item::before, #sk-container-id-2 div.sk-parallel-item::before {content: \"\";position: absolute;border-left: 1px solid gray;box-sizing: border-box;top: 0;bottom: 0;left: 50%;z-index: -1;}#sk-container-id-2 div.sk-parallel-item {display: flex;flex-direction: column;z-index: 1;position: relative;background-color: white;}#sk-container-id-2 div.sk-parallel-item:first-child::after {align-self: flex-end;width: 50%;}#sk-container-id-2 div.sk-parallel-item:last-child::after {align-self: flex-start;width: 50%;}#sk-container-id-2 div.sk-parallel-item:only-child::after {width: 0;}#sk-container-id-2 div.sk-dashed-wrapped {border: 1px dashed gray;margin: 0 0.4em 0.5em 0.4em;box-sizing: border-box;padding-bottom: 0.4em;background-color: white;}#sk-container-id-2 div.sk-label label {font-family: monospace;font-weight: bold;display: inline-block;line-height: 1.2em;}#sk-container-id-2 div.sk-label-container {text-align: center;}#sk-container-id-2 div.sk-container {/* jupyter's `normalize.less` sets `[hidden] { display: none; }` but bootstrap.min.css set `[hidden] { display: none !important; }` so we also need the `!important` here to be able to override the default hidden behavior on the sphinx rendered scikit-learn.org. See: https://github.com/scikit-learn/scikit-learn/issues/21755 */display: inline-block !important;position: relative;}#sk-container-id-2 div.sk-text-repr-fallback {display: none;}</style><div id=\"sk-container-id-2\" class=\"sk-top-container\"><div class=\"sk-text-repr-fallback\"><pre>LogisticRegression(max_iter=100000)</pre><b>In a Jupyter environment, please rerun this cell to show the HTML representation or trust the notebook. <br />On GitHub, the HTML representation is unable to render, please try loading this page with nbviewer.org.</b></div><div class=\"sk-container\" hidden><div class=\"sk-item\"><div class=\"sk-estimator sk-toggleable\"><input class=\"sk-toggleable__control sk-hidden--visually\" id=\"sk-estimator-id-2\" type=\"checkbox\" checked><label for=\"sk-estimator-id-2\" class=\"sk-toggleable__label sk-toggleable__label-arrow\">LogisticRegression</label><div class=\"sk-toggleable__content\"><pre>LogisticRegression(max_iter=100000)</pre></div></div></div></div></div>"
      ],
      "text/plain": [
       "LogisticRegression(max_iter=100000)"
      ]
     },
     "execution_count": 47,
     "metadata": {},
     "output_type": "execute_result"
    }
   ],
   "source": [
    "lreg.fit(train_x_vectorized, train_labs)"
   ]
  },
  {
   "cell_type": "code",
   "execution_count": 48,
   "id": "0da249d3-59fd-4885-8451-573c0703dcbf",
   "metadata": {
    "execution": {
     "iopub.execute_input": "2023-04-02T00:33:03.104192Z",
     "iopub.status.busy": "2023-04-02T00:33:03.088605Z",
     "iopub.status.idle": "2023-04-02T00:33:04.658767Z",
     "shell.execute_reply": "2023-04-02T00:33:04.658767Z",
     "shell.execute_reply.started": "2023-04-02T00:33:03.104192Z"
    },
    "tags": []
   },
   "outputs": [
    {
     "name": "stdout",
     "output_type": "stream",
     "text": [
      "AOC score is 0.9305195681511472\n"
     ]
    }
   ],
   "source": [
    "# Transform the test data using the vectorizer that was fitted to the training data.\n",
    "# Any words in test_x that weren't in train_x will just be ignored.\n",
    "\n",
    "predictions = lreg.predict(vector.transform(test_x))\n",
    "\n",
    "print(f\"AOC score is {roc_auc_score(test_labs, predictions)}\")"
   ]
  },
  {
   "cell_type": "code",
   "execution_count": 50,
   "id": "f1b7f042-b68d-4c9d-b2ea-f959cee3b022",
   "metadata": {
    "execution": {
     "iopub.execute_input": "2023-04-02T00:33:13.009012Z",
     "iopub.status.busy": "2023-04-02T00:33:13.009012Z",
     "iopub.status.idle": "2023-04-02T00:33:13.132862Z",
     "shell.execute_reply": "2023-04-02T00:33:13.132862Z",
     "shell.execute_reply.started": "2023-04-02T00:33:13.009012Z"
    },
    "tags": []
   },
   "outputs": [
    {
     "data": {
      "text/plain": [
       "array(['mony', 'worst', 'false', ..., '4eeeks', 'excelente', 'excelent'],\n",
       "      dtype='<U567')"
      ]
     },
     "execution_count": 50,
     "metadata": {},
     "output_type": "execute_result"
    }
   ],
   "source": [
    "# Coefficients from our model\n",
    "\n",
    "# Collect the tokens in a numpy array\n",
    "feature_names = np.array(vector.get_feature_names_out(), dtype = np.str_)\n",
    "\n",
    "# get the coefficients' 1st element (an array)\n",
    "# do not use .sort() since it sorts inplace without giving an option to disable it.\n",
    "feature_names[lreg.coef_[0].argsort()]"
   ]
  },
  {
   "cell_type": "code",
   "execution_count": 55,
   "id": "d21a9c38-fccc-4fd2-9b40-8c8e615db9ab",
   "metadata": {
    "execution": {
     "iopub.execute_input": "2023-04-02T00:34:38.059770Z",
     "iopub.status.busy": "2023-04-02T00:34:38.059770Z",
     "iopub.status.idle": "2023-04-02T00:34:38.146998Z",
     "shell.execute_reply": "2023-04-02T00:34:38.146998Z",
     "shell.execute_reply.started": "2023-04-02T00:34:38.059770Z"
    },
    "tags": []
   },
   "outputs": [
    {
     "name": "stdout",
     "output_type": "stream",
     "text": [
      "Smallest coefficients: ['mony' 'worst' 'false' 'worthless' 'horribly' 'messing' 'unsatisfied'\n",
      " 'blacklist' 'junk' 'superthin']\n",
      "\n",
      "Largest coefficients: ['mn8k2ll' 'loves' 'pleasantly' 'loving' 'excellent' 'efficient'\n",
      " 'exelente' '4eeeks' 'excelente' 'excelent']\n"
     ]
    }
   ],
   "source": [
    "print(f\"Smallest coefficients: {feature_names[lreg.coef_[0].argsort()][:10]}\\n\")\n",
    "print(f\"Largest coefficients: {feature_names[lreg.coef_[0].argsort()][-10:]}\")"
   ]
  },
  {
   "cell_type": "code",
   "execution_count": 56,
   "id": "c3c8c19c-a752-4d9e-bba1-374afc5249d0",
   "metadata": {
    "execution": {
     "iopub.execute_input": "2023-04-02T00:48:09.545439Z",
     "iopub.status.busy": "2023-04-02T00:48:09.545439Z",
     "iopub.status.idle": "2023-04-02T00:48:09.559338Z",
     "shell.execute_reply": "2023-04-02T00:48:09.559338Z",
     "shell.execute_reply.started": "2023-04-02T00:48:09.545439Z"
    },
    "tags": []
   },
   "outputs": [],
   "source": [
    "# Note how similar words has got grouped together!"
   ]
  },
  {
   "cell_type": "markdown",
   "id": "4eb8bda0-b098-42c9-aaa7-c61110476629",
   "metadata": {},
   "source": [
    "## ***Term Frequency Inverse Document Frequency (TFIDF) Approach***\n",
    "-------------------------"
   ]
  },
  {
   "cell_type": "code",
   "execution_count": 58,
   "id": "4250906a-2e92-49be-9d9f-6be12300342d",
   "metadata": {
    "execution": {
     "iopub.execute_input": "2023-04-02T00:52:08.514669Z",
     "iopub.status.busy": "2023-04-02T00:52:08.514669Z",
     "iopub.status.idle": "2023-04-02T00:52:13.193087Z",
     "shell.execute_reply": "2023-04-02T00:52:13.193087Z",
     "shell.execute_reply.started": "2023-04-02T00:52:08.514669Z"
    },
    "tags": []
   },
   "outputs": [],
   "source": [
    "# Instead of using CountVectorizer() as in bag-of-words approach, we are using the TfidfVectorizer() here.\n",
    "# the min_df argument the minimum number of documents a token needs to be present in order to become part of the vocabulary\n",
    "# This reduces the number of tokens in the resulting vocabulary and reduces eliminates misspelt words, noise tokens like \"67thgi\"\n",
    "\n",
    "vector = TfidfVectorizer(min_df = 5).fit(train_x)"
   ]
  },
  {
   "cell_type": "code",
   "execution_count": 60,
   "id": "9768632c-4324-429a-86a6-118ff95d35ce",
   "metadata": {
    "execution": {
     "iopub.execute_input": "2023-04-02T00:52:48.569259Z",
     "iopub.status.busy": "2023-04-02T00:52:48.569259Z",
     "iopub.status.idle": "2023-04-02T00:52:48.598234Z",
     "shell.execute_reply": "2023-04-02T00:52:48.598234Z",
     "shell.execute_reply.started": "2023-04-02T00:52:48.569259Z"
    },
    "tags": []
   },
   "outputs": [
    {
     "data": {
      "text/plain": [
       "17951"
      ]
     },
     "execution_count": 60,
     "metadata": {},
     "output_type": "execute_result"
    }
   ],
   "source": [
    "# We are dealing with 17,951 features (tokens) here.\n",
    "# With CountVectorizer() we got 53,216 features.\n",
    "# However, CountVectorizer() also accepts a min_df argument!!.\n",
    "\n",
    "len(vector.get_feature_names_out())"
   ]
  },
  {
   "cell_type": "code",
   "execution_count": 61,
   "id": "0b3edbf5-ff8e-4432-b86e-084b448a2195",
   "metadata": {
    "execution": {
     "iopub.execute_input": "2023-04-02T00:54:29.071555Z",
     "iopub.status.busy": "2023-04-02T00:54:29.071555Z",
     "iopub.status.idle": "2023-04-02T00:54:29.079954Z",
     "shell.execute_reply": "2023-04-02T00:54:29.079954Z",
     "shell.execute_reply.started": "2023-04-02T00:54:29.071555Z"
    },
    "tags": []
   },
   "outputs": [],
   "source": [
    "# TFIDF gives high priority to tokens that rarely occur in the corpus (the whole collection of documents)\n",
    "# and frequently occur in individual documents."
   ]
  },
  {
   "cell_type": "code",
   "execution_count": 63,
   "id": "66a4109b-3482-4482-9b8a-aa0553de12ee",
   "metadata": {
    "execution": {
     "iopub.execute_input": "2023-04-02T01:02:56.125110Z",
     "iopub.status.busy": "2023-04-02T01:02:56.125110Z",
     "iopub.status.idle": "2023-04-02T01:03:06.599703Z",
     "shell.execute_reply": "2023-04-02T01:03:06.599703Z",
     "shell.execute_reply.started": "2023-04-02T01:02:56.125110Z"
    },
    "tags": []
   },
   "outputs": [
    {
     "data": {
      "text/html": [
       "<style>#sk-container-id-3 {color: black;background-color: white;}#sk-container-id-3 pre{padding: 0;}#sk-container-id-3 div.sk-toggleable {background-color: white;}#sk-container-id-3 label.sk-toggleable__label {cursor: pointer;display: block;width: 100%;margin-bottom: 0;padding: 0.3em;box-sizing: border-box;text-align: center;}#sk-container-id-3 label.sk-toggleable__label-arrow:before {content: \"▸\";float: left;margin-right: 0.25em;color: #696969;}#sk-container-id-3 label.sk-toggleable__label-arrow:hover:before {color: black;}#sk-container-id-3 div.sk-estimator:hover label.sk-toggleable__label-arrow:before {color: black;}#sk-container-id-3 div.sk-toggleable__content {max-height: 0;max-width: 0;overflow: hidden;text-align: left;background-color: #f0f8ff;}#sk-container-id-3 div.sk-toggleable__content pre {margin: 0.2em;color: black;border-radius: 0.25em;background-color: #f0f8ff;}#sk-container-id-3 input.sk-toggleable__control:checked~div.sk-toggleable__content {max-height: 200px;max-width: 100%;overflow: auto;}#sk-container-id-3 input.sk-toggleable__control:checked~label.sk-toggleable__label-arrow:before {content: \"▾\";}#sk-container-id-3 div.sk-estimator input.sk-toggleable__control:checked~label.sk-toggleable__label {background-color: #d4ebff;}#sk-container-id-3 div.sk-label input.sk-toggleable__control:checked~label.sk-toggleable__label {background-color: #d4ebff;}#sk-container-id-3 input.sk-hidden--visually {border: 0;clip: rect(1px 1px 1px 1px);clip: rect(1px, 1px, 1px, 1px);height: 1px;margin: -1px;overflow: hidden;padding: 0;position: absolute;width: 1px;}#sk-container-id-3 div.sk-estimator {font-family: monospace;background-color: #f0f8ff;border: 1px dotted black;border-radius: 0.25em;box-sizing: border-box;margin-bottom: 0.5em;}#sk-container-id-3 div.sk-estimator:hover {background-color: #d4ebff;}#sk-container-id-3 div.sk-parallel-item::after {content: \"\";width: 100%;border-bottom: 1px solid gray;flex-grow: 1;}#sk-container-id-3 div.sk-label:hover label.sk-toggleable__label {background-color: #d4ebff;}#sk-container-id-3 div.sk-serial::before {content: \"\";position: absolute;border-left: 1px solid gray;box-sizing: border-box;top: 0;bottom: 0;left: 50%;z-index: 0;}#sk-container-id-3 div.sk-serial {display: flex;flex-direction: column;align-items: center;background-color: white;padding-right: 0.2em;padding-left: 0.2em;position: relative;}#sk-container-id-3 div.sk-item {position: relative;z-index: 1;}#sk-container-id-3 div.sk-parallel {display: flex;align-items: stretch;justify-content: center;background-color: white;position: relative;}#sk-container-id-3 div.sk-item::before, #sk-container-id-3 div.sk-parallel-item::before {content: \"\";position: absolute;border-left: 1px solid gray;box-sizing: border-box;top: 0;bottom: 0;left: 50%;z-index: -1;}#sk-container-id-3 div.sk-parallel-item {display: flex;flex-direction: column;z-index: 1;position: relative;background-color: white;}#sk-container-id-3 div.sk-parallel-item:first-child::after {align-self: flex-end;width: 50%;}#sk-container-id-3 div.sk-parallel-item:last-child::after {align-self: flex-start;width: 50%;}#sk-container-id-3 div.sk-parallel-item:only-child::after {width: 0;}#sk-container-id-3 div.sk-dashed-wrapped {border: 1px dashed gray;margin: 0 0.4em 0.5em 0.4em;box-sizing: border-box;padding-bottom: 0.4em;background-color: white;}#sk-container-id-3 div.sk-label label {font-family: monospace;font-weight: bold;display: inline-block;line-height: 1.2em;}#sk-container-id-3 div.sk-label-container {text-align: center;}#sk-container-id-3 div.sk-container {/* jupyter's `normalize.less` sets `[hidden] { display: none; }` but bootstrap.min.css set `[hidden] { display: none !important; }` so we also need the `!important` here to be able to override the default hidden behavior on the sphinx rendered scikit-learn.org. See: https://github.com/scikit-learn/scikit-learn/issues/21755 */display: inline-block !important;position: relative;}#sk-container-id-3 div.sk-text-repr-fallback {display: none;}</style><div id=\"sk-container-id-3\" class=\"sk-top-container\"><div class=\"sk-text-repr-fallback\"><pre>LogisticRegression(max_iter=100000)</pre><b>In a Jupyter environment, please rerun this cell to show the HTML representation or trust the notebook. <br />On GitHub, the HTML representation is unable to render, please try loading this page with nbviewer.org.</b></div><div class=\"sk-container\" hidden><div class=\"sk-item\"><div class=\"sk-estimator sk-toggleable\"><input class=\"sk-toggleable__control sk-hidden--visually\" id=\"sk-estimator-id-3\" type=\"checkbox\" checked><label for=\"sk-estimator-id-3\" class=\"sk-toggleable__label sk-toggleable__label-arrow\">LogisticRegression</label><div class=\"sk-toggleable__content\"><pre>LogisticRegression(max_iter=100000)</pre></div></div></div></div></div>"
      ],
      "text/plain": [
       "LogisticRegression(max_iter=100000)"
      ]
     },
     "execution_count": 63,
     "metadata": {},
     "output_type": "execute_result"
    }
   ],
   "source": [
    "train_x_vectorized = vector.transform(train_x)\n",
    "\n",
    "lreg = LogisticRegression(max_iter = 100_000)\n",
    "lreg.fit(train_x_vectorized, train_labs)"
   ]
  },
  {
   "cell_type": "code",
   "execution_count": 64,
   "id": "90d3fb06-084d-4eb0-bb70-c25f949e0090",
   "metadata": {
    "execution": {
     "iopub.execute_input": "2023-04-02T01:03:08.439141Z",
     "iopub.status.busy": "2023-04-02T01:03:08.439141Z",
     "iopub.status.idle": "2023-04-02T01:03:10.065425Z",
     "shell.execute_reply": "2023-04-02T01:03:10.065425Z",
     "shell.execute_reply.started": "2023-04-02T01:03:08.439141Z"
    },
    "tags": []
   },
   "outputs": [
    {
     "name": "stdout",
     "output_type": "stream",
     "text": [
      "AUC score: 0.9364981457623438\n"
     ]
    }
   ],
   "source": [
    "predictions = lreg.predict(vector.transform(test_x))\n",
    "print(f\"AUC score: {roc_auc_score(predictions, test_labs)}\")"
   ]
  },
  {
   "cell_type": "code",
   "execution_count": 65,
   "id": "41f8f74a-bf63-4a58-b983-1c2922f6a9ee",
   "metadata": {
    "execution": {
     "iopub.execute_input": "2023-04-02T01:04:51.551733Z",
     "iopub.status.busy": "2023-04-02T01:04:51.551733Z",
     "iopub.status.idle": "2023-04-02T01:04:51.561690Z",
     "shell.execute_reply": "2023-04-02T01:04:51.561690Z",
     "shell.execute_reply.started": "2023-04-02T01:04:51.551733Z"
    },
    "tags": []
   },
   "outputs": [],
   "source": [
    "# AUCs are quite similar but this time we used a small subset of features\n",
    "# Implying that this approach has performed better than the bag-of-words approach."
   ]
  },
  {
   "cell_type": "code",
   "execution_count": 71,
   "id": "e087c4a2-ca84-4658-823b-d34e56b5fc92",
   "metadata": {
    "execution": {
     "iopub.execute_input": "2023-04-02T01:09:05.907303Z",
     "iopub.status.busy": "2023-04-02T01:09:05.907303Z",
     "iopub.status.idle": "2023-04-02T01:09:05.931297Z",
     "shell.execute_reply": "2023-04-02T01:09:05.931297Z",
     "shell.execute_reply.started": "2023-04-02T01:09:05.907303Z"
    },
    "tags": []
   },
   "outputs": [
    {
     "name": "stdout",
     "output_type": "stream",
     "text": [
      "Smallest TFIDF: ['not' 'worst' 'useless' 'disappointed' 'terrible' 'return' 'waste' 'poor'\n",
      " 'horrible' 'doesn']\n",
      "\n",
      "Largest TFIDF: ['loves' 'best' 'easy' 'perfectly' 'awesome' 'amazing' 'perfect'\n",
      " 'excellent' 'great' 'love']\n"
     ]
    }
   ],
   "source": [
    "features = np.array(vector.get_feature_names_out(), dtype = np.str_)\n",
    "print(f\"Smallest TFIDF: {features[lreg.coef_[0].argsort()[:10]]}\\n\")\n",
    "print(f\"Largest TFIDF: {features[lreg.coef_[0].argsort()[-10:]]}\")"
   ]
  },
  {
   "cell_type": "markdown",
   "id": "59fe0ce4-ff60-4a08-9589-91ef60fa0be6",
   "metadata": {},
   "source": [
    "## ***n-grams***\n",
    "----------------------------"
   ]
  },
  {
   "cell_type": "code",
   "execution_count": null,
   "id": "51884198-db5b-4c0c-a00d-c9a682c04374",
   "metadata": {},
   "outputs": [],
   "source": []
  }
 ],
 "metadata": {
  "kernelspec": {
   "display_name": "Python 3 (ipykernel)",
   "language": "python",
   "name": "python3"
  },
  "language_info": {
   "codemirror_mode": {
    "name": "ipython",
    "version": 3
   },
   "file_extension": ".py",
   "mimetype": "text/x-python",
   "name": "python",
   "nbconvert_exporter": "python",
   "pygments_lexer": "ipython3",
   "version": "3.11.2"
  }
 },
 "nbformat": 4,
 "nbformat_minor": 5
}
