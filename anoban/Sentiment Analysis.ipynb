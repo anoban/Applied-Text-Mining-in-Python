{
 "cells": [
  {
   "cell_type": "markdown",
   "id": "24f0bdda-d259-4a0a-97c7-ad8299669692",
   "metadata": {},
   "source": [
    "# ***Sentiment Analyses***\n",
    "__________________"
   ]
  },
  {
   "cell_type": "code",
   "execution_count": 48,
   "id": "758747ab-197a-4b52-b779-e7091ecc4958",
   "metadata": {
    "execution": {
     "iopub.execute_input": "2023-04-01T10:44:48.736735Z",
     "iopub.status.busy": "2023-04-01T10:44:48.736735Z",
     "iopub.status.idle": "2023-04-01T10:44:48.741061Z",
     "shell.execute_reply": "2023-04-01T10:44:48.741061Z",
     "shell.execute_reply.started": "2023-04-01T10:44:48.736735Z"
    },
    "tags": []
   },
   "outputs": [],
   "source": [
    "import pandas as pd\n",
    "import numpy as np\n",
    "from sklearn.model_selection import train_test_split\n",
    "from sklearn.feature_extraction.text import CountVectorizer\n",
    "from sklearn.linear_model import LogisticRegression\n",
    "from sklearn.metrics import roc_auc_score"
   ]
  },
  {
   "cell_type": "code",
   "execution_count": 8,
   "id": "d7d0666a-fb29-4865-afb7-54aee636c510",
   "metadata": {
    "execution": {
     "iopub.execute_input": "2023-04-01T10:01:59.263467Z",
     "iopub.status.busy": "2023-04-01T10:01:59.263467Z",
     "iopub.status.idle": "2023-04-01T10:01:59.276462Z",
     "shell.execute_reply": "2023-04-01T10:01:59.276462Z",
     "shell.execute_reply.started": "2023-04-01T10:01:59.263467Z"
    },
    "tags": []
   },
   "outputs": [],
   "source": [
    "# A dataset on unlocked mobile phones sold on Amazon"
   ]
  },
  {
   "cell_type": "code",
   "execution_count": 9,
   "id": "8d85c128-4b79-440b-beb2-7075dd2e4e42",
   "metadata": {
    "execution": {
     "iopub.execute_input": "2023-04-01T10:01:59.672738Z",
     "iopub.status.busy": "2023-04-01T10:01:59.672738Z",
     "iopub.status.idle": "2023-04-01T10:02:00.984284Z",
     "shell.execute_reply": "2023-04-01T10:02:00.984284Z",
     "shell.execute_reply.started": "2023-04-01T10:01:59.672738Z"
    },
    "tags": []
   },
   "outputs": [
    {
     "data": {
      "text/html": [
       "<div>\n",
       "<style scoped>\n",
       "    .dataframe tbody tr th:only-of-type {\n",
       "        vertical-align: middle;\n",
       "    }\n",
       "\n",
       "    .dataframe tbody tr th {\n",
       "        vertical-align: top;\n",
       "    }\n",
       "\n",
       "    .dataframe thead th {\n",
       "        text-align: right;\n",
       "    }\n",
       "</style>\n",
       "<table border=\"1\" class=\"dataframe\">\n",
       "  <thead>\n",
       "    <tr style=\"text-align: right;\">\n",
       "      <th></th>\n",
       "      <th>Product Name</th>\n",
       "      <th>Brand Name</th>\n",
       "      <th>Price</th>\n",
       "      <th>Rating</th>\n",
       "      <th>Reviews</th>\n",
       "      <th>Review Votes</th>\n",
       "    </tr>\n",
       "  </thead>\n",
       "  <tbody>\n",
       "    <tr>\n",
       "      <th>0</th>\n",
       "      <td>\"CLEAR CLEAN ESN\" Sprint EPIC 4G Galaxy SPH-D7...</td>\n",
       "      <td>Samsung</td>\n",
       "      <td>199.99</td>\n",
       "      <td>5</td>\n",
       "      <td>I feel so LUCKY to have found this used (phone...</td>\n",
       "      <td>1.0</td>\n",
       "    </tr>\n",
       "    <tr>\n",
       "      <th>1</th>\n",
       "      <td>\"CLEAR CLEAN ESN\" Sprint EPIC 4G Galaxy SPH-D7...</td>\n",
       "      <td>Samsung</td>\n",
       "      <td>199.99</td>\n",
       "      <td>4</td>\n",
       "      <td>nice phone, nice up grade from my pantach revu...</td>\n",
       "      <td>0.0</td>\n",
       "    </tr>\n",
       "    <tr>\n",
       "      <th>2</th>\n",
       "      <td>\"CLEAR CLEAN ESN\" Sprint EPIC 4G Galaxy SPH-D7...</td>\n",
       "      <td>Samsung</td>\n",
       "      <td>199.99</td>\n",
       "      <td>5</td>\n",
       "      <td>Very pleased</td>\n",
       "      <td>0.0</td>\n",
       "    </tr>\n",
       "    <tr>\n",
       "      <th>3</th>\n",
       "      <td>\"CLEAR CLEAN ESN\" Sprint EPIC 4G Galaxy SPH-D7...</td>\n",
       "      <td>Samsung</td>\n",
       "      <td>199.99</td>\n",
       "      <td>4</td>\n",
       "      <td>It works good but it goes slow sometimes but i...</td>\n",
       "      <td>0.0</td>\n",
       "    </tr>\n",
       "    <tr>\n",
       "      <th>4</th>\n",
       "      <td>\"CLEAR CLEAN ESN\" Sprint EPIC 4G Galaxy SPH-D7...</td>\n",
       "      <td>Samsung</td>\n",
       "      <td>199.99</td>\n",
       "      <td>4</td>\n",
       "      <td>Great phone to replace my lost phone. The only...</td>\n",
       "      <td>0.0</td>\n",
       "    </tr>\n",
       "  </tbody>\n",
       "</table>\n",
       "</div>"
      ],
      "text/plain": [
       "                                        Product Name Brand Name   Price  \\\n",
       "0  \"CLEAR CLEAN ESN\" Sprint EPIC 4G Galaxy SPH-D7...    Samsung  199.99   \n",
       "1  \"CLEAR CLEAN ESN\" Sprint EPIC 4G Galaxy SPH-D7...    Samsung  199.99   \n",
       "2  \"CLEAR CLEAN ESN\" Sprint EPIC 4G Galaxy SPH-D7...    Samsung  199.99   \n",
       "3  \"CLEAR CLEAN ESN\" Sprint EPIC 4G Galaxy SPH-D7...    Samsung  199.99   \n",
       "4  \"CLEAR CLEAN ESN\" Sprint EPIC 4G Galaxy SPH-D7...    Samsung  199.99   \n",
       "\n",
       "   Rating                                            Reviews  Review Votes  \n",
       "0       5  I feel so LUCKY to have found this used (phone...           1.0  \n",
       "1       4  nice phone, nice up grade from my pantach revu...           0.0  \n",
       "2       5                                       Very pleased           0.0  \n",
       "3       4  It works good but it goes slow sometimes but i...           0.0  \n",
       "4       4  Great phone to replace my lost phone. The only...           0.0  "
      ]
     },
     "execution_count": 9,
     "metadata": {},
     "output_type": "execute_result"
    }
   ],
   "source": [
    "amazon = pd.read_csv(r\"D:/Applied-Text-Mining-in-Python/resources/Amazon_Unlocked_Mobile.csv\")\n",
    "amazon.head()"
   ]
  },
  {
   "cell_type": "code",
   "execution_count": 10,
   "id": "b08ea860-4169-40ec-98ee-aa2cc5b96f2d",
   "metadata": {
    "execution": {
     "iopub.execute_input": "2023-04-01T10:02:02.172882Z",
     "iopub.status.busy": "2023-04-01T10:02:02.172882Z",
     "iopub.status.idle": "2023-04-01T10:02:02.188472Z",
     "shell.execute_reply": "2023-04-01T10:02:02.188472Z",
     "shell.execute_reply.started": "2023-04-01T10:02:02.172882Z"
    },
    "tags": []
   },
   "outputs": [
    {
     "data": {
      "text/plain": [
       "Index(['Product Name', 'Brand Name', 'Price', 'Rating', 'Reviews',\n",
       "       'Review Votes'],\n",
       "      dtype='object')"
      ]
     },
     "execution_count": 10,
     "metadata": {},
     "output_type": "execute_result"
    }
   ],
   "source": [
    "amazon.columns"
   ]
  },
  {
   "cell_type": "code",
   "execution_count": 11,
   "id": "bb8df8d4-b32c-4f68-800c-578c1dd5c99e",
   "metadata": {
    "execution": {
     "iopub.execute_input": "2023-04-01T10:02:02.628804Z",
     "iopub.status.busy": "2023-04-01T10:02:02.628804Z",
     "iopub.status.idle": "2023-04-01T10:02:02.634722Z",
     "shell.execute_reply": "2023-04-01T10:02:02.634722Z",
     "shell.execute_reply.started": "2023-04-01T10:02:02.628804Z"
    },
    "tags": []
   },
   "outputs": [
    {
     "data": {
      "text/plain": [
       "(413840, 6)"
      ]
     },
     "execution_count": 11,
     "metadata": {},
     "output_type": "execute_result"
    }
   ],
   "source": [
    "amazon.shape"
   ]
  },
  {
   "cell_type": "code",
   "execution_count": 12,
   "id": "c297a6bb-a19f-436d-9a42-fd13d80e0158",
   "metadata": {
    "execution": {
     "iopub.execute_input": "2023-04-01T10:02:03.650784Z",
     "iopub.status.busy": "2023-04-01T10:02:03.650784Z",
     "iopub.status.idle": "2023-04-01T10:02:03.895744Z",
     "shell.execute_reply": "2023-04-01T10:02:03.895744Z",
     "shell.execute_reply.started": "2023-04-01T10:02:03.650784Z"
    },
    "tags": []
   },
   "outputs": [],
   "source": [
    "# We'll focus only on the Rating & Reviews columns.\n",
    "\n",
    "amazon.dropna(axis = 0, inplace = True)\n",
    "\n",
    "# remove all records with a rating 3, assuming these are neutral on a rating system 0 - 5\n",
    "amazon.drop(amazon.index[amazon.Rating == 3], axis = 0, inplace = True)\n",
    "\n",
    "# A new column that binarily labels the data\n",
    "# If review > 3, positively rated (1) else not-positively rated. (0)\n",
    "\n",
    "amazon[\"positively_rated\"] = amazon.Rating.apply(lambda rating: 1 if rating > 3 else 0)"
   ]
  },
  {
   "cell_type": "code",
   "execution_count": 13,
   "id": "1b607cbb-85f8-4010-a014-6813899ac0e5",
   "metadata": {
    "execution": {
     "iopub.execute_input": "2023-04-01T10:02:05.664268Z",
     "iopub.status.busy": "2023-04-01T10:02:05.664268Z",
     "iopub.status.idle": "2023-04-01T10:02:05.690110Z",
     "shell.execute_reply": "2023-04-01T10:02:05.690110Z",
     "shell.execute_reply.started": "2023-04-01T10:02:05.664268Z"
    },
    "tags": []
   },
   "outputs": [
    {
     "data": {
      "text/html": [
       "<div>\n",
       "<style scoped>\n",
       "    .dataframe tbody tr th:only-of-type {\n",
       "        vertical-align: middle;\n",
       "    }\n",
       "\n",
       "    .dataframe tbody tr th {\n",
       "        vertical-align: top;\n",
       "    }\n",
       "\n",
       "    .dataframe thead th {\n",
       "        text-align: right;\n",
       "    }\n",
       "</style>\n",
       "<table border=\"1\" class=\"dataframe\">\n",
       "  <thead>\n",
       "    <tr style=\"text-align: right;\">\n",
       "      <th></th>\n",
       "      <th>Product Name</th>\n",
       "      <th>Brand Name</th>\n",
       "      <th>Price</th>\n",
       "      <th>Rating</th>\n",
       "      <th>Reviews</th>\n",
       "      <th>Review Votes</th>\n",
       "      <th>positively_rated</th>\n",
       "    </tr>\n",
       "  </thead>\n",
       "  <tbody>\n",
       "    <tr>\n",
       "      <th>0</th>\n",
       "      <td>\"CLEAR CLEAN ESN\" Sprint EPIC 4G Galaxy SPH-D7...</td>\n",
       "      <td>Samsung</td>\n",
       "      <td>199.99</td>\n",
       "      <td>5</td>\n",
       "      <td>I feel so LUCKY to have found this used (phone...</td>\n",
       "      <td>1.0</td>\n",
       "      <td>1</td>\n",
       "    </tr>\n",
       "    <tr>\n",
       "      <th>1</th>\n",
       "      <td>\"CLEAR CLEAN ESN\" Sprint EPIC 4G Galaxy SPH-D7...</td>\n",
       "      <td>Samsung</td>\n",
       "      <td>199.99</td>\n",
       "      <td>4</td>\n",
       "      <td>nice phone, nice up grade from my pantach revu...</td>\n",
       "      <td>0.0</td>\n",
       "      <td>1</td>\n",
       "    </tr>\n",
       "    <tr>\n",
       "      <th>2</th>\n",
       "      <td>\"CLEAR CLEAN ESN\" Sprint EPIC 4G Galaxy SPH-D7...</td>\n",
       "      <td>Samsung</td>\n",
       "      <td>199.99</td>\n",
       "      <td>5</td>\n",
       "      <td>Very pleased</td>\n",
       "      <td>0.0</td>\n",
       "      <td>1</td>\n",
       "    </tr>\n",
       "    <tr>\n",
       "      <th>3</th>\n",
       "      <td>\"CLEAR CLEAN ESN\" Sprint EPIC 4G Galaxy SPH-D7...</td>\n",
       "      <td>Samsung</td>\n",
       "      <td>199.99</td>\n",
       "      <td>4</td>\n",
       "      <td>It works good but it goes slow sometimes but i...</td>\n",
       "      <td>0.0</td>\n",
       "      <td>1</td>\n",
       "    </tr>\n",
       "    <tr>\n",
       "      <th>4</th>\n",
       "      <td>\"CLEAR CLEAN ESN\" Sprint EPIC 4G Galaxy SPH-D7...</td>\n",
       "      <td>Samsung</td>\n",
       "      <td>199.99</td>\n",
       "      <td>4</td>\n",
       "      <td>Great phone to replace my lost phone. The only...</td>\n",
       "      <td>0.0</td>\n",
       "      <td>1</td>\n",
       "    </tr>\n",
       "    <tr>\n",
       "      <th>...</th>\n",
       "      <td>...</td>\n",
       "      <td>...</td>\n",
       "      <td>...</td>\n",
       "      <td>...</td>\n",
       "      <td>...</td>\n",
       "      <td>...</td>\n",
       "      <td>...</td>\n",
       "    </tr>\n",
       "    <tr>\n",
       "      <th>413832</th>\n",
       "      <td>Samsung Convoy U640 Phone for Verizon Wireless...</td>\n",
       "      <td>Samsung</td>\n",
       "      <td>79.95</td>\n",
       "      <td>4</td>\n",
       "      <td>good rugged phone that has a long-lasting batt...</td>\n",
       "      <td>0.0</td>\n",
       "      <td>1</td>\n",
       "    </tr>\n",
       "    <tr>\n",
       "      <th>413834</th>\n",
       "      <td>Samsung Convoy U640 Phone for Verizon Wireless...</td>\n",
       "      <td>Samsung</td>\n",
       "      <td>79.95</td>\n",
       "      <td>1</td>\n",
       "      <td>used hard</td>\n",
       "      <td>0.0</td>\n",
       "      <td>0</td>\n",
       "    </tr>\n",
       "    <tr>\n",
       "      <th>413835</th>\n",
       "      <td>Samsung Convoy U640 Phone for Verizon Wireless...</td>\n",
       "      <td>Samsung</td>\n",
       "      <td>79.95</td>\n",
       "      <td>5</td>\n",
       "      <td>another great deal great price</td>\n",
       "      <td>0.0</td>\n",
       "      <td>1</td>\n",
       "    </tr>\n",
       "    <tr>\n",
       "      <th>413837</th>\n",
       "      <td>Samsung Convoy U640 Phone for Verizon Wireless...</td>\n",
       "      <td>Samsung</td>\n",
       "      <td>79.95</td>\n",
       "      <td>5</td>\n",
       "      <td>Passes every drop test onto porcelain tile!</td>\n",
       "      <td>0.0</td>\n",
       "      <td>1</td>\n",
       "    </tr>\n",
       "    <tr>\n",
       "      <th>413839</th>\n",
       "      <td>Samsung Convoy U640 Phone for Verizon Wireless...</td>\n",
       "      <td>Samsung</td>\n",
       "      <td>79.95</td>\n",
       "      <td>4</td>\n",
       "      <td>Only downside is that apparently Verizon no lo...</td>\n",
       "      <td>0.0</td>\n",
       "      <td>1</td>\n",
       "    </tr>\n",
       "  </tbody>\n",
       "</table>\n",
       "<p>308277 rows × 7 columns</p>\n",
       "</div>"
      ],
      "text/plain": [
       "                                             Product Name Brand Name   Price  \\\n",
       "0       \"CLEAR CLEAN ESN\" Sprint EPIC 4G Galaxy SPH-D7...    Samsung  199.99   \n",
       "1       \"CLEAR CLEAN ESN\" Sprint EPIC 4G Galaxy SPH-D7...    Samsung  199.99   \n",
       "2       \"CLEAR CLEAN ESN\" Sprint EPIC 4G Galaxy SPH-D7...    Samsung  199.99   \n",
       "3       \"CLEAR CLEAN ESN\" Sprint EPIC 4G Galaxy SPH-D7...    Samsung  199.99   \n",
       "4       \"CLEAR CLEAN ESN\" Sprint EPIC 4G Galaxy SPH-D7...    Samsung  199.99   \n",
       "...                                                   ...        ...     ...   \n",
       "413832  Samsung Convoy U640 Phone for Verizon Wireless...    Samsung   79.95   \n",
       "413834  Samsung Convoy U640 Phone for Verizon Wireless...    Samsung   79.95   \n",
       "413835  Samsung Convoy U640 Phone for Verizon Wireless...    Samsung   79.95   \n",
       "413837  Samsung Convoy U640 Phone for Verizon Wireless...    Samsung   79.95   \n",
       "413839  Samsung Convoy U640 Phone for Verizon Wireless...    Samsung   79.95   \n",
       "\n",
       "        Rating                                            Reviews  \\\n",
       "0            5  I feel so LUCKY to have found this used (phone...   \n",
       "1            4  nice phone, nice up grade from my pantach revu...   \n",
       "2            5                                       Very pleased   \n",
       "3            4  It works good but it goes slow sometimes but i...   \n",
       "4            4  Great phone to replace my lost phone. The only...   \n",
       "...        ...                                                ...   \n",
       "413832       4  good rugged phone that has a long-lasting batt...   \n",
       "413834       1                                          used hard   \n",
       "413835       5                     another great deal great price   \n",
       "413837       5        Passes every drop test onto porcelain tile!   \n",
       "413839       4  Only downside is that apparently Verizon no lo...   \n",
       "\n",
       "        Review Votes  positively_rated  \n",
       "0                1.0                 1  \n",
       "1                0.0                 1  \n",
       "2                0.0                 1  \n",
       "3                0.0                 1  \n",
       "4                0.0                 1  \n",
       "...              ...               ...  \n",
       "413832           0.0                 1  \n",
       "413834           0.0                 0  \n",
       "413835           0.0                 1  \n",
       "413837           0.0                 1  \n",
       "413839           0.0                 1  \n",
       "\n",
       "[308277 rows x 7 columns]"
      ]
     },
     "execution_count": 13,
     "metadata": {},
     "output_type": "execute_result"
    }
   ],
   "source": [
    "amazon"
   ]
  },
  {
   "cell_type": "code",
   "execution_count": 14,
   "id": "85fdf245-afd1-4852-b91e-b178317acf89",
   "metadata": {
    "execution": {
     "iopub.execute_input": "2023-04-01T10:02:12.279038Z",
     "iopub.status.busy": "2023-04-01T10:02:12.279038Z",
     "iopub.status.idle": "2023-04-01T10:02:12.294198Z",
     "shell.execute_reply": "2023-04-01T10:02:12.294198Z",
     "shell.execute_reply.started": "2023-04-01T10:02:12.279038Z"
    },
    "tags": []
   },
   "outputs": [
    {
     "data": {
      "text/plain": [
       "(308277, 7)"
      ]
     },
     "execution_count": 14,
     "metadata": {},
     "output_type": "execute_result"
    }
   ],
   "source": [
    "amazon.shape"
   ]
  },
  {
   "cell_type": "code",
   "execution_count": 15,
   "id": "11c9bdbe-4a6d-4295-925e-cadffc0b4ed7",
   "metadata": {
    "execution": {
     "iopub.execute_input": "2023-04-01T10:02:43.642830Z",
     "iopub.status.busy": "2023-04-01T10:02:43.642830Z",
     "iopub.status.idle": "2023-04-01T10:02:43.657872Z",
     "shell.execute_reply": "2023-04-01T10:02:43.657872Z",
     "shell.execute_reply.started": "2023-04-01T10:02:43.642830Z"
    },
    "tags": []
   },
   "outputs": [
    {
     "data": {
      "text/plain": [
       "0.7482686025879323"
      ]
     },
     "execution_count": 15,
     "metadata": {},
     "output_type": "execute_result"
    }
   ],
   "source": [
    "amazon.positively_rated.mean()"
   ]
  },
  {
   "cell_type": "code",
   "execution_count": 17,
   "id": "69a7da7d-6ff4-4ae3-a647-49b6c01954e8",
   "metadata": {
    "execution": {
     "iopub.execute_input": "2023-04-01T10:05:36.664152Z",
     "iopub.status.busy": "2023-04-01T10:05:36.664152Z",
     "iopub.status.idle": "2023-04-01T10:05:36.668984Z",
     "shell.execute_reply": "2023-04-01T10:05:36.668984Z",
     "shell.execute_reply.started": "2023-04-01T10:05:36.664152Z"
    },
    "tags": []
   },
   "outputs": [],
   "source": [
    "# mean of positively_rated shows that we have imbalanced classes\n",
    "# That is, the distribution is skewed\n",
    "# There are more data points in the positively rated class than in the non-positively rated class."
   ]
  },
  {
   "cell_type": "code",
   "execution_count": 18,
   "id": "3449666b-c1b4-405a-91b9-b2671b311157",
   "metadata": {
    "execution": {
     "iopub.execute_input": "2023-04-01T10:06:42.399886Z",
     "iopub.status.busy": "2023-04-01T10:06:42.399886Z",
     "iopub.status.idle": "2023-04-01T10:06:42.461261Z",
     "shell.execute_reply": "2023-04-01T10:06:42.461261Z",
     "shell.execute_reply.started": "2023-04-01T10:06:42.399886Z"
    },
    "tags": []
   },
   "outputs": [],
   "source": [
    "train_x, test_x, train_labs, test_labs = train_test_split(amazon.Reviews, amazon.positively_rated, random_state = 0)"
   ]
  },
  {
   "cell_type": "code",
   "execution_count": 21,
   "id": "28f5bb3b-b82a-47f1-9f36-558e178f5c9b",
   "metadata": {
    "execution": {
     "iopub.execute_input": "2023-04-01T10:07:02.769692Z",
     "iopub.status.busy": "2023-04-01T10:07:02.769692Z",
     "iopub.status.idle": "2023-04-01T10:07:02.786515Z",
     "shell.execute_reply": "2023-04-01T10:07:02.785948Z",
     "shell.execute_reply.started": "2023-04-01T10:07:02.769692Z"
    },
    "tags": []
   },
   "outputs": [
    {
     "data": {
      "text/plain": [
       "\"I feel so LUCKY to have found this used (phone to us & not used hard at all), phone on line from someone who upgraded and sold this one. My Son liked his old one that finally fell apart after 2.5+ years and didn't want an upgrade!! Thank you Seller, we really appreciate it & your honesty re: said used phone.I recommend this seller very highly & would but from them again!!\""
      ]
     },
     "execution_count": 21,
     "metadata": {},
     "output_type": "execute_result"
    }
   ],
   "source": [
    "train_x[0]"
   ]
  },
  {
   "cell_type": "code",
   "execution_count": 23,
   "id": "81856b23-fafc-4cf0-b4b9-a4713c89396d",
   "metadata": {
    "execution": {
     "iopub.execute_input": "2023-04-01T10:07:52.172686Z",
     "iopub.status.busy": "2023-04-01T10:07:52.172686Z",
     "iopub.status.idle": "2023-04-01T10:07:52.178868Z",
     "shell.execute_reply": "2023-04-01T10:07:52.178868Z",
     "shell.execute_reply.started": "2023-04-01T10:07:52.172686Z"
    },
    "tags": []
   },
   "outputs": [
    {
     "data": {
      "text/plain": [
       "(231207,)"
      ]
     },
     "execution_count": 23,
     "metadata": {},
     "output_type": "execute_result"
    }
   ],
   "source": [
    "train_x.shape"
   ]
  },
  {
   "cell_type": "code",
   "execution_count": 24,
   "id": "9425a4c3-8995-4025-bd86-7c6a02f120c8",
   "metadata": {
    "execution": {
     "iopub.execute_input": "2023-04-01T10:11:03.728836Z",
     "iopub.status.busy": "2023-04-01T10:11:03.728836Z",
     "iopub.status.idle": "2023-04-01T10:11:03.740942Z",
     "shell.execute_reply": "2023-04-01T10:11:03.740942Z",
     "shell.execute_reply.started": "2023-04-01T10:11:03.728836Z"
    },
    "tags": []
   },
   "outputs": [],
   "source": [
    "# We need to convert this text data into a numeric representation that Sklearn can use.\n",
    "# Bag of words approach is a commonly used basic technique, that ignores structure and just counts the frequency of words.\n",
    "\n",
    "# count vectorizer converts a collection of text documents into a matrix of token counts, using the bag-of-words approach"
   ]
  },
  {
   "cell_type": "code",
   "execution_count": 26,
   "id": "e4caee82-e6ed-4230-96d2-bcf8e3da29da",
   "metadata": {
    "execution": {
     "iopub.execute_input": "2023-04-01T10:14:12.695457Z",
     "iopub.status.busy": "2023-04-01T10:14:12.695457Z",
     "iopub.status.idle": "2023-04-01T10:14:12.701666Z",
     "shell.execute_reply": "2023-04-01T10:14:12.701666Z",
     "shell.execute_reply.started": "2023-04-01T10:14:12.695457Z"
    },
    "tags": []
   },
   "outputs": [],
   "source": [
    "# CountVectorizer tokenizes each document by finding all sequences of characters (?words)\n",
    "# separated by word boundaries\n",
    "# converts everything to lowercase\n",
    "# and builds a vocabulary using these tokens."
   ]
  },
  {
   "cell_type": "code",
   "execution_count": 27,
   "id": "13d3f402-1a86-4656-89be-2c3000a95f8a",
   "metadata": {
    "execution": {
     "iopub.execute_input": "2023-04-01T10:14:46.493890Z",
     "iopub.status.busy": "2023-04-01T10:14:46.493890Z",
     "iopub.status.idle": "2023-04-01T10:14:51.702683Z",
     "shell.execute_reply": "2023-04-01T10:14:51.702683Z",
     "shell.execute_reply.started": "2023-04-01T10:14:46.493890Z"
    },
    "tags": []
   },
   "outputs": [],
   "source": [
    "vector = CountVectorizer().fit(train_x)"
   ]
  },
  {
   "cell_type": "code",
   "execution_count": 31,
   "id": "d7996c5c-2edf-479b-b9fa-38fca79d6e05",
   "metadata": {
    "execution": {
     "iopub.execute_input": "2023-04-01T10:16:29.947236Z",
     "iopub.status.busy": "2023-04-01T10:16:29.947236Z",
     "iopub.status.idle": "2023-04-01T10:16:30.001158Z",
     "shell.execute_reply": "2023-04-01T10:16:30.001158Z",
     "shell.execute_reply.started": "2023-04-01T10:16:29.947236Z"
    },
    "tags": []
   },
   "outputs": [
    {
     "data": {
      "text/plain": [
       "array(['00', '2048those', '4less', '99303', 'adr6275', 'andentering',\n",
       "       'assignment', 'bandwidth', 'blazingly', 'bullets', 'cassettes',\n",
       "       'cleary', 'condishion', 'cpl', 'debi', 'deғιnιтely',\n",
       "       'dollarsshipping', 'ele', 'esteem', 'eyeglasses', 'flashy',\n",
       "       'fusion2', 'gorila', 'hasbro', 'human', 'inefficiencies', 'irullu',\n",
       "       'kinds', 'like', 'makeup', 'microsaudered', 'msgi', 'nightmarish',\n",
       "       'oldy', 'p770', 'phalet', 'poori', 'productsaid', 'quirky',\n",
       "       'rediculoius', 'responseive', 'sadness', 'send', 'sir', 'sos',\n",
       "       'storecons', 'synch', 'them', 'trace', 'unconditional', 'utiles',\n",
       "       'waiste', 'withstanding', 'zeis'], dtype=object)"
      ]
     },
     "execution_count": 31,
     "metadata": {},
     "output_type": "execute_result"
    }
   ],
   "source": [
    "# This vocabulary was built using all tokens from the training data.\n",
    "\n",
    "vector.get_feature_names_out()[::1000]"
   ]
  },
  {
   "cell_type": "code",
   "execution_count": 32,
   "id": "d8aa208a-3cc7-4ecc-822b-1b7a7d832fff",
   "metadata": {
    "execution": {
     "iopub.execute_input": "2023-04-01T10:16:38.845432Z",
     "iopub.status.busy": "2023-04-01T10:16:38.845432Z",
     "iopub.status.idle": "2023-04-01T10:16:38.895262Z",
     "shell.execute_reply": "2023-04-01T10:16:38.895262Z",
     "shell.execute_reply.started": "2023-04-01T10:16:38.845432Z"
    },
    "tags": []
   },
   "outputs": [
    {
     "data": {
      "text/plain": [
       "53216"
      ]
     },
     "execution_count": 32,
     "metadata": {},
     "output_type": "execute_result"
    }
   ],
   "source": [
    "len(vector.get_feature_names_out())"
   ]
  },
  {
   "cell_type": "code",
   "execution_count": 33,
   "id": "2649d413-9d5f-4d3f-ba88-b6d20cc1a4d0",
   "metadata": {
    "execution": {
     "iopub.execute_input": "2023-04-01T10:17:53.930056Z",
     "iopub.status.busy": "2023-04-01T10:17:53.930056Z",
     "iopub.status.idle": "2023-04-01T10:17:53.935082Z",
     "shell.execute_reply": "2023-04-01T10:17:53.935082Z",
     "shell.execute_reply.started": "2023-04-01T10:17:53.930056Z"
    },
    "tags": []
   },
   "outputs": [],
   "source": [
    "# We will be working with a whopping 53,216 features."
   ]
  },
  {
   "cell_type": "code",
   "execution_count": 34,
   "id": "0b1c0332-b7c1-420f-a9d1-c00ca9bafaec",
   "metadata": {
    "execution": {
     "iopub.execute_input": "2023-04-01T10:19:34.400968Z",
     "iopub.status.busy": "2023-04-01T10:19:34.400968Z",
     "iopub.status.idle": "2023-04-01T10:19:34.414467Z",
     "shell.execute_reply": "2023-04-01T10:19:34.414467Z",
     "shell.execute_reply.started": "2023-04-01T10:19:34.400968Z"
    },
    "tags": []
   },
   "outputs": [],
   "source": [
    "# Next, transform this vocabulary vector into a matrix (SciPy sparse matrix)\n",
    "# where, each row corresponds to a document and each column corresponds to a word from our vocabulary"
   ]
  },
  {
   "cell_type": "code",
   "execution_count": 41,
   "id": "5fa83b75-4cc4-4c79-8805-7a8166c300d9",
   "metadata": {
    "execution": {
     "iopub.execute_input": "2023-04-01T10:23:23.534529Z",
     "iopub.status.busy": "2023-04-01T10:23:23.534529Z",
     "iopub.status.idle": "2023-04-01T10:23:23.578742Z",
     "shell.execute_reply": "2023-04-01T10:23:23.578742Z",
     "shell.execute_reply.started": "2023-04-01T10:23:23.534529Z"
    },
    "tags": []
   },
   "outputs": [
    {
     "name": "stdout",
     "output_type": "stream",
     "text": [
      "So, expect the dimension of the matrix to be 231207 x 53216 shaped\n"
     ]
    }
   ],
   "source": [
    "print(f\"So, expect the dimension of the matrix to be {train_x.shape[0]} x {len(vector.get_feature_names_out())} shaped\")"
   ]
  },
  {
   "cell_type": "code",
   "execution_count": 36,
   "id": "ce0b7f38-2baf-41a5-92c8-3402f1cb5694",
   "metadata": {
    "execution": {
     "iopub.execute_input": "2023-04-01T10:22:24.032541Z",
     "iopub.status.busy": "2023-04-01T10:22:24.032541Z",
     "iopub.status.idle": "2023-04-01T10:22:29.076146Z",
     "shell.execute_reply": "2023-04-01T10:22:29.076146Z",
     "shell.execute_reply.started": "2023-04-01T10:22:24.032541Z"
    },
    "tags": []
   },
   "outputs": [],
   "source": [
    "train_x_vectorized = vector.transform(train_x)"
   ]
  },
  {
   "cell_type": "code",
   "execution_count": 38,
   "id": "274a238d-a92b-4852-b5c1-d57cb4220f40",
   "metadata": {
    "execution": {
     "iopub.execute_input": "2023-04-01T10:22:34.621308Z",
     "iopub.status.busy": "2023-04-01T10:22:34.621308Z",
     "iopub.status.idle": "2023-04-01T10:22:34.631068Z",
     "shell.execute_reply": "2023-04-01T10:22:34.631068Z",
     "shell.execute_reply.started": "2023-04-01T10:22:34.621308Z"
    },
    "tags": []
   },
   "outputs": [
    {
     "data": {
      "text/plain": [
       "<231207x53216 sparse matrix of type '<class 'numpy.int64'>'\n",
       "\twith 6117776 stored elements in Compressed Sparse Row format>"
      ]
     },
     "execution_count": 38,
     "metadata": {},
     "output_type": "execute_result"
    }
   ],
   "source": [
    "train_x_vectorized"
   ]
  },
  {
   "cell_type": "code",
   "execution_count": 43,
   "id": "004c163d-4cb2-4982-a2d7-42b2c397536f",
   "metadata": {
    "execution": {
     "iopub.execute_input": "2023-04-01T10:41:10.806347Z",
     "iopub.status.busy": "2023-04-01T10:41:10.806347Z",
     "iopub.status.idle": "2023-04-01T10:41:10.813001Z",
     "shell.execute_reply": "2023-04-01T10:41:10.813001Z",
     "shell.execute_reply.started": "2023-04-01T10:41:10.806347Z"
    },
    "tags": []
   },
   "outputs": [],
   "source": [
    "# Entries in this matrix are the frequency of each word in each document.\n",
    "# Since the number of words in most reviews are far too smaller than the number of words in the vocabulary, most entries in this \n",
    "# matrix are 0."
   ]
  },
  {
   "cell_type": "code",
   "execution_count": 46,
   "id": "52c9909d-994d-4e24-a21a-7c183d949da2",
   "metadata": {
    "execution": {
     "iopub.execute_input": "2023-04-01T10:42:46.785805Z",
     "iopub.status.busy": "2023-04-01T10:42:46.785805Z",
     "iopub.status.idle": "2023-04-01T10:42:46.796009Z",
     "shell.execute_reply": "2023-04-01T10:42:46.796009Z",
     "shell.execute_reply.started": "2023-04-01T10:42:46.785805Z"
    },
    "tags": []
   },
   "outputs": [],
   "source": [
    "lreg = LogisticRegression(max_iter = 100_000)"
   ]
  },
  {
   "cell_type": "code",
   "execution_count": 47,
   "id": "8fdc44cc-de25-4a13-9585-9d10272776b5",
   "metadata": {
    "execution": {
     "iopub.execute_input": "2023-04-01T10:42:47.819919Z",
     "iopub.status.busy": "2023-04-01T10:42:47.819919Z",
     "iopub.status.idle": "2023-04-01T10:43:17.803432Z",
     "shell.execute_reply": "2023-04-01T10:43:17.803432Z",
     "shell.execute_reply.started": "2023-04-01T10:42:47.819919Z"
    },
    "tags": []
   },
   "outputs": [
    {
     "data": {
      "text/html": [
       "<style>#sk-container-id-2 {color: black;background-color: white;}#sk-container-id-2 pre{padding: 0;}#sk-container-id-2 div.sk-toggleable {background-color: white;}#sk-container-id-2 label.sk-toggleable__label {cursor: pointer;display: block;width: 100%;margin-bottom: 0;padding: 0.3em;box-sizing: border-box;text-align: center;}#sk-container-id-2 label.sk-toggleable__label-arrow:before {content: \"▸\";float: left;margin-right: 0.25em;color: #696969;}#sk-container-id-2 label.sk-toggleable__label-arrow:hover:before {color: black;}#sk-container-id-2 div.sk-estimator:hover label.sk-toggleable__label-arrow:before {color: black;}#sk-container-id-2 div.sk-toggleable__content {max-height: 0;max-width: 0;overflow: hidden;text-align: left;background-color: #f0f8ff;}#sk-container-id-2 div.sk-toggleable__content pre {margin: 0.2em;color: black;border-radius: 0.25em;background-color: #f0f8ff;}#sk-container-id-2 input.sk-toggleable__control:checked~div.sk-toggleable__content {max-height: 200px;max-width: 100%;overflow: auto;}#sk-container-id-2 input.sk-toggleable__control:checked~label.sk-toggleable__label-arrow:before {content: \"▾\";}#sk-container-id-2 div.sk-estimator input.sk-toggleable__control:checked~label.sk-toggleable__label {background-color: #d4ebff;}#sk-container-id-2 div.sk-label input.sk-toggleable__control:checked~label.sk-toggleable__label {background-color: #d4ebff;}#sk-container-id-2 input.sk-hidden--visually {border: 0;clip: rect(1px 1px 1px 1px);clip: rect(1px, 1px, 1px, 1px);height: 1px;margin: -1px;overflow: hidden;padding: 0;position: absolute;width: 1px;}#sk-container-id-2 div.sk-estimator {font-family: monospace;background-color: #f0f8ff;border: 1px dotted black;border-radius: 0.25em;box-sizing: border-box;margin-bottom: 0.5em;}#sk-container-id-2 div.sk-estimator:hover {background-color: #d4ebff;}#sk-container-id-2 div.sk-parallel-item::after {content: \"\";width: 100%;border-bottom: 1px solid gray;flex-grow: 1;}#sk-container-id-2 div.sk-label:hover label.sk-toggleable__label {background-color: #d4ebff;}#sk-container-id-2 div.sk-serial::before {content: \"\";position: absolute;border-left: 1px solid gray;box-sizing: border-box;top: 0;bottom: 0;left: 50%;z-index: 0;}#sk-container-id-2 div.sk-serial {display: flex;flex-direction: column;align-items: center;background-color: white;padding-right: 0.2em;padding-left: 0.2em;position: relative;}#sk-container-id-2 div.sk-item {position: relative;z-index: 1;}#sk-container-id-2 div.sk-parallel {display: flex;align-items: stretch;justify-content: center;background-color: white;position: relative;}#sk-container-id-2 div.sk-item::before, #sk-container-id-2 div.sk-parallel-item::before {content: \"\";position: absolute;border-left: 1px solid gray;box-sizing: border-box;top: 0;bottom: 0;left: 50%;z-index: -1;}#sk-container-id-2 div.sk-parallel-item {display: flex;flex-direction: column;z-index: 1;position: relative;background-color: white;}#sk-container-id-2 div.sk-parallel-item:first-child::after {align-self: flex-end;width: 50%;}#sk-container-id-2 div.sk-parallel-item:last-child::after {align-self: flex-start;width: 50%;}#sk-container-id-2 div.sk-parallel-item:only-child::after {width: 0;}#sk-container-id-2 div.sk-dashed-wrapped {border: 1px dashed gray;margin: 0 0.4em 0.5em 0.4em;box-sizing: border-box;padding-bottom: 0.4em;background-color: white;}#sk-container-id-2 div.sk-label label {font-family: monospace;font-weight: bold;display: inline-block;line-height: 1.2em;}#sk-container-id-2 div.sk-label-container {text-align: center;}#sk-container-id-2 div.sk-container {/* jupyter's `normalize.less` sets `[hidden] { display: none; }` but bootstrap.min.css set `[hidden] { display: none !important; }` so we also need the `!important` here to be able to override the default hidden behavior on the sphinx rendered scikit-learn.org. See: https://github.com/scikit-learn/scikit-learn/issues/21755 */display: inline-block !important;position: relative;}#sk-container-id-2 div.sk-text-repr-fallback {display: none;}</style><div id=\"sk-container-id-2\" class=\"sk-top-container\"><div class=\"sk-text-repr-fallback\"><pre>LogisticRegression(max_iter=100000)</pre><b>In a Jupyter environment, please rerun this cell to show the HTML representation or trust the notebook. <br />On GitHub, the HTML representation is unable to render, please try loading this page with nbviewer.org.</b></div><div class=\"sk-container\" hidden><div class=\"sk-item\"><div class=\"sk-estimator sk-toggleable\"><input class=\"sk-toggleable__control sk-hidden--visually\" id=\"sk-estimator-id-2\" type=\"checkbox\" checked><label for=\"sk-estimator-id-2\" class=\"sk-toggleable__label sk-toggleable__label-arrow\">LogisticRegression</label><div class=\"sk-toggleable__content\"><pre>LogisticRegression(max_iter=100000)</pre></div></div></div></div></div>"
      ],
      "text/plain": [
       "LogisticRegression(max_iter=100000)"
      ]
     },
     "execution_count": 47,
     "metadata": {},
     "output_type": "execute_result"
    }
   ],
   "source": [
    "lreg.fit(train_x_vectorized, train_labs)"
   ]
  },
  {
   "cell_type": "code",
   "execution_count": 49,
   "id": "0da249d3-59fd-4885-8451-573c0703dcbf",
   "metadata": {
    "execution": {
     "iopub.execute_input": "2023-04-01T10:49:41.683786Z",
     "iopub.status.busy": "2023-04-01T10:49:41.683786Z",
     "iopub.status.idle": "2023-04-01T10:49:43.490668Z",
     "shell.execute_reply": "2023-04-01T10:49:43.490668Z",
     "shell.execute_reply.started": "2023-04-01T10:49:41.683786Z"
    },
    "tags": []
   },
   "outputs": [
    {
     "name": "stdout",
     "output_type": "stream",
     "text": [
      "AOC score is 0.9305195681511472\n"
     ]
    }
   ],
   "source": [
    "# Transform the test data using the vectorizer that was fitted to the training data.\n",
    "# Any words in test_x that weren't in train_x will just be ignored.\n",
    "\n",
    "predictions = lreg.predict(vector.transform(test_x))\n",
    "\n",
    "print(f\"AOC score is {roc_auc_score(test_labs, predictions)}\")"
   ]
  },
  {
   "cell_type": "code",
   "execution_count": null,
   "id": "f1b7f042-b68d-4c9d-b2ea-f959cee3b022",
   "metadata": {},
   "outputs": [],
   "source": []
  }
 ],
 "metadata": {
  "kernelspec": {
   "display_name": "Python 3 (ipykernel)",
   "language": "python",
   "name": "python3"
  },
  "language_info": {
   "codemirror_mode": {
    "name": "ipython",
    "version": 3
   },
   "file_extension": ".py",
   "mimetype": "text/x-python",
   "name": "python",
   "nbconvert_exporter": "python",
   "pygments_lexer": "ipython3",
   "version": "3.11.2"
  }
 },
 "nbformat": 4,
 "nbformat_minor": 5
}
