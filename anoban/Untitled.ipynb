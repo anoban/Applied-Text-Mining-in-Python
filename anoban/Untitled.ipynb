{
 "cells": [
  {
   "cell_type": "markdown",
   "id": "0ade1a4a-4a0c-4afc-a289-0721416b4f07",
   "metadata": {},
   "source": [
    "# ***Naive Bayes Classifier***\n",
    "------------------------------------"
   ]
  },
  {
   "cell_type": "code",
   "execution_count": 2,
   "id": "d696ef0f-3356-4dce-90a7-5e139d4a8fcf",
   "metadata": {
    "execution": {
     "iopub.execute_input": "2023-03-23T22:25:48.159092Z",
     "iopub.status.busy": "2023-03-23T22:25:48.159092Z",
     "iopub.status.idle": "2023-03-23T22:25:48.163474Z",
     "shell.execute_reply": "2023-03-23T22:25:48.163474Z",
     "shell.execute_reply.started": "2023-03-23T22:25:48.159092Z"
    },
    "tags": []
   },
   "outputs": [],
   "source": [
    "# Suppose you have three classes to classify web search queries into\n",
    "\n",
    "# Zoology\n",
    "# Computer Science\n",
    "# Entertainment"
   ]
  },
  {
   "cell_type": "code",
   "execution_count": 3,
   "id": "c8434d78-e701-46fb-985a-a83245818fd5",
   "metadata": {
    "execution": {
     "iopub.execute_input": "2023-03-23T22:27:10.287948Z",
     "iopub.status.busy": "2023-03-23T22:27:10.287948Z",
     "iopub.status.idle": "2023-03-23T22:27:10.300988Z",
     "shell.execute_reply": "2023-03-23T22:27:10.300988Z",
     "shell.execute_reply.started": "2023-03-23T22:27:10.287948Z"
    },
    "tags": []
   },
   "outputs": [],
   "source": [
    "# In general most web search queries fall under the entertainment category.\n",
    "# When you know nothing about a query, the chances for it being entertainment related is quite high."
   ]
  },
  {
   "cell_type": "code",
   "execution_count": 4,
   "id": "23052374-4d09-4bb4-882e-54c1968e2720",
   "metadata": {
    "execution": {
     "iopub.execute_input": "2023-03-23T22:28:34.456563Z",
     "iopub.status.busy": "2023-03-23T22:28:34.456563Z",
     "iopub.status.idle": "2023-03-23T22:28:34.460594Z",
     "shell.execute_reply": "2023-03-23T22:28:34.460594Z",
     "shell.execute_reply.started": "2023-03-23T22:28:34.456563Z"
    },
    "tags": []
   },
   "outputs": [],
   "source": [
    "# Consider the search query \"Python\"\n",
    "\n",
    "# Is it Python the snake? (Zoology)\n",
    "# Python programming language (Comp Sci)\n",
    "# Or the Monty Python show (entertainment)\n",
    "\n",
    "# How would you classify this query?\n"
   ]
  },
  {
   "cell_type": "code",
   "execution_count": null,
   "id": "244b0115-f10f-421f-b56d-92309ce07778",
   "metadata": {},
   "outputs": [],
   "source": [
    "# Without having any information about a query, we would have assumed it to be entertainment related due to sheer chance.\n",
    "# Now that we do know the query we do know that it is more likely related to the Python snake than entertainment."
   ]
  }
 ],
 "metadata": {
  "kernelspec": {
   "display_name": "Python 3 (ipykernel)",
   "language": "python",
   "name": "python3"
  },
  "language_info": {
   "codemirror_mode": {
    "name": "ipython",
    "version": 3
   },
   "file_extension": ".py",
   "mimetype": "text/x-python",
   "name": "python",
   "nbconvert_exporter": "python",
   "pygments_lexer": "ipython3",
   "version": "3.11.2"
  }
 },
 "nbformat": 4,
 "nbformat_minor": 5
}
