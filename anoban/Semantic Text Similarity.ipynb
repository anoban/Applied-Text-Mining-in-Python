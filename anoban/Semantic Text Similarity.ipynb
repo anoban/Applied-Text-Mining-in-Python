{
 "cells": [
  {
   "cell_type": "markdown",
   "id": "0708b567-c0a0-412c-8434-fda20c041414",
   "metadata": {},
   "source": [
    "# ***Semantic Text Similarity***\n",
    "------------------------"
   ]
  },
  {
   "cell_type": "code",
   "execution_count": 1,
   "id": "0caa0ba8-b074-4faa-a3a0-f74695878d79",
   "metadata": {
    "execution": {
     "iopub.execute_input": "2023-04-03T21:51:28.781510Z",
     "iopub.status.busy": "2023-04-03T21:51:28.781510Z",
     "iopub.status.idle": "2023-04-03T21:51:28.795444Z",
     "shell.execute_reply": "2023-04-03T21:51:28.795444Z",
     "shell.execute_reply.started": "2023-04-03T21:51:28.781510Z"
    },
    "tags": []
   },
   "outputs": [],
   "source": [
    "# Which pair of words are more similar?\n",
    "\n",
    "# deer, elk\n",
    "# deer, giraffe\n",
    "# deer, horse\n",
    "# deer, mouse\n",
    "\n",
    "# ---> deer, elk"
   ]
  },
  {
   "cell_type": "code",
   "execution_count": 2,
   "id": "4d752979-2cc4-41f5-8032-e539dd853614",
   "metadata": {
    "execution": {
     "iopub.execute_input": "2023-04-03T21:52:08.183917Z",
     "iopub.status.busy": "2023-04-03T21:52:08.177909Z",
     "iopub.status.idle": "2023-04-03T21:52:08.186472Z",
     "shell.execute_reply": "2023-04-03T21:52:08.186472Z",
     "shell.execute_reply.started": "2023-04-03T21:52:08.183917Z"
    },
    "tags": []
   },
   "outputs": [],
   "source": [
    "# Why does deer, elk appear more similar?\n",
    "# How to quantify this?"
   ]
  },
  {
   "cell_type": "markdown",
   "id": "42137cf9-b419-4167-aba9-d5fd6071964e",
   "metadata": {},
   "source": [
    "## ***Applications of Semantic Similarity***\n",
    "------------------------------------"
   ]
  },
  {
   "cell_type": "code",
   "execution_count": 3,
   "id": "1cd4b7db-aa1b-4efa-8a21-a81e97905c3f",
   "metadata": {
    "execution": {
     "iopub.execute_input": "2023-04-03T21:59:22.024158Z",
     "iopub.status.busy": "2023-04-03T21:59:22.024158Z",
     "iopub.status.idle": "2023-04-03T21:59:22.035630Z",
     "shell.execute_reply": "2023-04-03T21:59:22.035630Z",
     "shell.execute_reply.started": "2023-04-03T21:59:22.024158Z"
    },
    "tags": []
   },
   "outputs": [],
   "source": [
    "# Grouping similar words into semantic concepts.\n",
    "# Building block in natural language understanding tasks.\n",
    "        # Textual entailment - a text derives its meaning from another body of text\n",
    "        # Paraphrasing - rephrasing a sentence into another with same meaning."
   ]
  },
  {
   "cell_type": "markdown",
   "id": "a3a46feb-0f2d-49df-97aa-7d483684c934",
   "metadata": {},
   "source": [
    "## ***WordNet***\n",
    "--------------------"
   ]
  },
  {
   "cell_type": "code",
   "execution_count": 4,
   "id": "7b4d9028-4371-4bfc-a65f-8f7ade537594",
   "metadata": {
    "execution": {
     "iopub.execute_input": "2023-04-03T22:30:00.922976Z",
     "iopub.status.busy": "2023-04-03T22:30:00.922976Z",
     "iopub.status.idle": "2023-04-03T22:30:00.941616Z",
     "shell.execute_reply": "2023-04-03T22:30:00.941616Z",
     "shell.execute_reply.started": "2023-04-03T22:30:00.922976Z"
    },
    "tags": []
   },
   "outputs": [],
   "source": [
    "# Semantic dictionary of English words.\n",
    "# Interlinked by semantic relationships.\n",
    "# English wordnet is most comprehensive but wordnets are also available in some other languages.\n",
    "\n",
    "# Wornets includes rich linguistic information\n",
    "    # parts of speech - verb/noun/adjective/adverb\n",
    "    # word senses - different meanings of the same word\n",
    "    # synonyms\n",
    "    # hypernyms/hyponyms\n",
    "    # meronyms\n",
    "    # derivationally related forms\n",
    "    \n",
    "# Mchine readable, free"
   ]
  },
  {
   "cell_type": "code",
   "execution_count": 5,
   "id": "23a70ebd-f635-4b96-9471-61018881a9e1",
   "metadata": {
    "execution": {
     "iopub.execute_input": "2023-04-03T22:31:38.263370Z",
     "iopub.status.busy": "2023-04-03T22:31:38.263370Z",
     "iopub.status.idle": "2023-04-03T22:31:38.276640Z",
     "shell.execute_reply": "2023-04-03T22:31:38.276640Z",
     "shell.execute_reply.started": "2023-04-03T22:31:38.263370Z"
    },
    "tags": []
   },
   "outputs": [],
   "source": [
    "# WordNet organizes words in a hierarchy (Tree)\n",
    "# Many semantic measurements that use this hierarchy\n",
    "\n",
    "# consider the deer example"
   ]
  },
  {
   "cell_type": "code",
   "execution_count": 8,
   "id": "1fcd8a8d-d36f-4a8f-8dec-816864e315ce",
   "metadata": {
    "execution": {
     "iopub.execute_input": "2023-04-03T22:34:18.625151Z",
     "iopub.status.busy": "2023-04-03T22:34:18.625151Z",
     "iopub.status.idle": "2023-04-03T22:34:18.637572Z",
     "shell.execute_reply": "2023-04-03T22:34:18.637572Z",
     "shell.execute_reply.started": "2023-04-03T22:34:18.625151Z"
    },
    "tags": []
   },
   "outputs": [
    {
     "data": {
      "text/plain": [
       "('okapi',\n",
       " 'deer',\n",
       " 'giraffe',\n",
       " 'elk',\n",
       " 'wapiti',\n",
       " 'caribou',\n",
       " 'mule',\n",
       " 'horse',\n",
       " 'zebra',\n",
       " 'pony')"
      ]
     },
     "execution_count": 8,
     "metadata": {},
     "output_type": "execute_result"
    }
   ],
   "source": [
    "animals = (\"okapi\", \"deer\", \"giraffe\", \"elk\", \"wapiti\", \"caribou\", \"mule\", \"horse\", \"zebra\", \"pony\")\n",
    "animals"
   ]
  },
  {
   "cell_type": "code",
   "execution_count": 10,
   "id": "c888c723-9917-48ec-909c-049dce792779",
   "metadata": {
    "execution": {
     "iopub.execute_input": "2023-04-03T22:34:24.998554Z",
     "iopub.status.busy": "2023-04-03T22:34:24.998554Z",
     "iopub.status.idle": "2023-04-03T22:34:25.012322Z",
     "shell.execute_reply": "2023-04-03T22:34:25.012322Z",
     "shell.execute_reply.started": "2023-04-03T22:34:24.998554Z"
    },
    "tags": []
   },
   "outputs": [
    {
     "data": {
      "text/plain": [
       "('okapi', 'deer', 'giraffe', 'elk', 'wapiti', 'caribou')"
      ]
     },
     "execution_count": 10,
     "metadata": {},
     "output_type": "execute_result"
    }
   ],
   "source": [
    "# Even toed ungulates\n",
    "\n",
    "animals[:6]"
   ]
  },
  {
   "cell_type": "code",
   "execution_count": 12,
   "id": "4bffcf2c-8bab-416c-8f4f-7350735040f9",
   "metadata": {
    "execution": {
     "iopub.execute_input": "2023-04-03T22:34:43.652898Z",
     "iopub.status.busy": "2023-04-03T22:34:43.652898Z",
     "iopub.status.idle": "2023-04-03T22:34:43.666517Z",
     "shell.execute_reply": "2023-04-03T22:34:43.666517Z",
     "shell.execute_reply.started": "2023-04-03T22:34:43.652898Z"
    },
    "tags": []
   },
   "outputs": [
    {
     "data": {
      "text/plain": [
       "('mule', 'horse', 'zebra', 'pony')"
      ]
     },
     "execution_count": 12,
     "metadata": {},
     "output_type": "execute_result"
    }
   ],
   "source": [
    "# Odd toed ungulate \n",
    "\n",
    "animals[6:]"
   ]
  },
  {
   "cell_type": "code",
   "execution_count": 13,
   "id": "d498ac64-58f4-4ff1-bcc4-89850dc725e9",
   "metadata": {
    "execution": {
     "iopub.execute_input": "2023-04-03T22:35:00.957874Z",
     "iopub.status.busy": "2023-04-03T22:35:00.957874Z",
     "iopub.status.idle": "2023-04-03T22:35:00.972359Z",
     "shell.execute_reply": "2023-04-03T22:35:00.972359Z",
     "shell.execute_reply.started": "2023-04-03T22:35:00.957874Z"
    },
    "tags": []
   },
   "outputs": [
    {
     "data": {
      "text/plain": [
       "('okapi', 'deer', 'giraffe', 'elk', 'wapiti', 'caribou')"
      ]
     },
     "execution_count": 13,
     "metadata": {},
     "output_type": "execute_result"
    }
   ],
   "source": [
    "# Ruminants\n",
    "\n",
    "animals[:6]"
   ]
  },
  {
   "cell_type": "code",
   "execution_count": 14,
   "id": "e584ef04-20c2-4b67-8899-fa9a7ca1e27a",
   "metadata": {
    "execution": {
     "iopub.execute_input": "2023-04-03T22:35:13.061062Z",
     "iopub.status.busy": "2023-04-03T22:35:13.061062Z",
     "iopub.status.idle": "2023-04-03T22:35:13.077898Z",
     "shell.execute_reply": "2023-04-03T22:35:13.077898Z",
     "shell.execute_reply.started": "2023-04-03T22:35:13.061062Z"
    },
    "tags": []
   },
   "outputs": [
    {
     "data": {
      "text/plain": [
       "('mule', 'horse', 'zebra', 'pony')"
      ]
     },
     "execution_count": 14,
     "metadata": {},
     "output_type": "execute_result"
    }
   ],
   "source": [
    "# Equine\n",
    "\n",
    "animals[6:]"
   ]
  },
  {
   "cell_type": "code",
   "execution_count": 16,
   "id": "953625d0-a3de-4c0b-84a5-87e2c48257c9",
   "metadata": {
    "execution": {
     "iopub.execute_input": "2023-04-03T22:36:01.905841Z",
     "iopub.status.busy": "2023-04-03T22:36:01.905841Z",
     "iopub.status.idle": "2023-04-03T22:36:01.923282Z",
     "shell.execute_reply": "2023-04-03T22:36:01.923282Z",
     "shell.execute_reply.started": "2023-04-03T22:36:01.905841Z"
    },
    "tags": []
   },
   "outputs": [
    {
     "data": {
      "text/plain": [
       "('elk', 'wapiti', 'caribou')"
      ]
     },
     "execution_count": 16,
     "metadata": {},
     "output_type": "execute_result"
    }
   ],
   "source": [
    "# Deers\n",
    "\n",
    "animals[3:6]"
   ]
  },
  {
   "cell_type": "code",
   "execution_count": 18,
   "id": "2d6abbaa-d2a2-404c-b255-280e9376c359",
   "metadata": {
    "execution": {
     "iopub.execute_input": "2023-04-03T22:36:16.645078Z",
     "iopub.status.busy": "2023-04-03T22:36:16.645078Z",
     "iopub.status.idle": "2023-04-03T22:36:16.650887Z",
     "shell.execute_reply": "2023-04-03T22:36:16.650887Z",
     "shell.execute_reply.started": "2023-04-03T22:36:16.645078Z"
    },
    "tags": []
   },
   "outputs": [
    {
     "data": {
      "text/plain": [
       "'pony'"
      ]
     },
     "execution_count": 18,
     "metadata": {},
     "output_type": "execute_result"
    }
   ],
   "source": [
    "# Horse \n",
    "\n",
    "animals[-1]"
   ]
  },
  {
   "cell_type": "markdown",
   "id": "f7e424c6-103a-4a36-9525-c95601ff482e",
   "metadata": {},
   "source": [
    "## ***Path Similarity***\n",
    "----------------------------"
   ]
  },
  {
   "cell_type": "code",
   "execution_count": 19,
   "id": "84066aeb-b32a-49dd-8093-ca27ababc05f",
   "metadata": {
    "execution": {
     "iopub.execute_input": "2023-04-03T22:39:22.330510Z",
     "iopub.status.busy": "2023-04-03T22:39:22.330510Z",
     "iopub.status.idle": "2023-04-03T22:39:22.340558Z",
     "shell.execute_reply": "2023-04-03T22:39:22.340558Z",
     "shell.execute_reply.started": "2023-04-03T22:39:22.330510Z"
    },
    "tags": []
   },
   "outputs": [],
   "source": [
    "# Start with one of the above concepts and see how many steps it would take to get to the other?\n",
    "# i.e. the shortest path between these two concepts."
   ]
  },
  {
   "cell_type": "code",
   "execution_count": null,
   "id": "e6cca422-9020-4262-a163-6f304a5177af",
   "metadata": {},
   "outputs": [],
   "source": [
    "# Similarity can also be measured as inversely related to path distance."
   ]
  }
 ],
 "metadata": {
  "kernelspec": {
   "display_name": "Python 3 (ipykernel)",
   "language": "python",
   "name": "python3"
  },
  "language_info": {
   "codemirror_mode": {
    "name": "ipython",
    "version": 3
   },
   "file_extension": ".py",
   "mimetype": "text/x-python",
   "name": "python",
   "nbconvert_exporter": "python",
   "pygments_lexer": "ipython3",
   "version": "3.11.2"
  }
 },
 "nbformat": 4,
 "nbformat_minor": 5
}
