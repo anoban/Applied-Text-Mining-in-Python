{
 "cells": [
  {
   "cell_type": "markdown",
   "id": "70623aec-ec55-409f-ac78-66ed1c0fca75",
   "metadata": {},
   "source": [
    "# ***Information Extraction***\n",
    "-------------------------------"
   ]
  },
  {
   "cell_type": "code",
   "execution_count": 1,
   "id": "4bd3ba26-8b3e-4556-9ac2-7928721deedd",
   "metadata": {
    "execution": {
     "iopub.execute_input": "2023-04-05T07:27:57.890478Z",
     "iopub.status.busy": "2023-04-05T07:27:57.890478Z",
     "iopub.status.idle": "2023-04-05T07:27:57.894475Z",
     "shell.execute_reply": "2023-04-05T07:27:57.894475Z",
     "shell.execute_reply.started": "2023-04-05T07:27:57.890478Z"
    },
    "tags": []
   },
   "outputs": [],
   "source": [
    "# Information is hidden in free text.\n",
    "# Most traditional transactional information is structured.\n",
    "# Most of the information generated today are unstructured."
   ]
  },
  {
   "cell_type": "code",
   "execution_count": 2,
   "id": "7df34f14-4a2a-4677-b9e1-7962a14ba199",
   "metadata": {
    "execution": {
     "iopub.execute_input": "2023-04-05T07:29:18.886464Z",
     "iopub.status.busy": "2023-04-05T07:29:18.886464Z",
     "iopub.status.idle": "2023-04-05T07:29:18.895076Z",
     "shell.execute_reply": "2023-04-05T07:29:18.895076Z",
     "shell.execute_reply.started": "2023-04-05T07:29:18.886464Z"
    },
    "tags": []
   },
   "outputs": [],
   "source": [
    "# How do we convert this unstructured data into a structured form?\n",
    "# i.e. How to extract meaningful information from messy unstructured data"
   ]
  },
  {
   "cell_type": "code",
   "execution_count": 3,
   "id": "c2cb46fb-3051-4da1-93b4-c10cf8950332",
   "metadata": {
    "execution": {
     "iopub.execute_input": "2023-04-05T07:34:26.133428Z",
     "iopub.status.busy": "2023-04-05T07:34:26.133428Z",
     "iopub.status.idle": "2023-04-05T07:34:26.141048Z",
     "shell.execute_reply": "2023-04-05T07:34:26.141048Z",
     "shell.execute_reply.started": "2023-04-05T07:34:26.133428Z"
    },
    "tags": []
   },
   "outputs": [],
   "source": [
    "# To make the extracted information reusable, it needs to be in a structured form."
   ]
  },
  {
   "cell_type": "markdown",
   "id": "d7ce18a2-b86f-4af5-82d4-bb2f6d7da52f",
   "metadata": {},
   "source": [
    "![WebMD](./webmd.png)"
   ]
  },
  {
   "cell_type": "code",
   "execution_count": 4,
   "id": "e91d8c3d-ca07-4332-be66-6bc6a1ccd3a6",
   "metadata": {
    "execution": {
     "iopub.execute_input": "2023-04-05T07:38:22.269351Z",
     "iopub.status.busy": "2023-04-05T07:38:22.269351Z",
     "iopub.status.idle": "2023-04-05T07:38:22.276808Z",
     "shell.execute_reply": "2023-04-05T07:38:22.276808Z",
     "shell.execute_reply.started": "2023-04-05T07:38:22.269351Z"
    },
    "tags": []
   },
   "outputs": [],
   "source": [
    "# Identify and extract fields of interest from the above free text."
   ]
  },
  {
   "cell_type": "code",
   "execution_count": 5,
   "id": "b72679d3-d783-4134-a8d7-2c859cd9069a",
   "metadata": {
    "execution": {
     "iopub.execute_input": "2023-04-05T07:42:50.517177Z",
     "iopub.status.busy": "2023-04-05T07:42:50.517177Z",
     "iopub.status.idle": "2023-04-05T07:42:50.524807Z",
     "shell.execute_reply": "2023-04-05T07:42:50.524807Z",
     "shell.execute_reply.started": "2023-04-05T07:42:50.517177Z"
    },
    "tags": []
   },
   "outputs": [],
   "source": [
    "# Title -> Erbitux helps treat lung cancer.\n",
    "# We can drop the modifier \"advanced\" but not \"lung\" since treatment for other forms of cancer like blood cancer may vary drastically from the \n",
    "# treatments for lung cancer.\n",
    "\n",
    "# Author -> Charlene Laino\n",
    "# Reviewer -> Louse Chang MD\n",
    "# Published date -> 23/Sep/2009\n",
    "# Published place -> Berlin, Germany"
   ]
  },
  {
   "cell_type": "markdown",
   "id": "2bab4664-7da4-468b-a8cf-39da0d3b5567",
   "metadata": {},
   "source": [
    "## ***Fields of interest***\n",
    "-------------------"
   ]
  },
  {
   "cell_type": "code",
   "execution_count": 9,
   "id": "af920ddd-c7ec-415e-9fff-a6f5d89693cb",
   "metadata": {
    "execution": {
     "iopub.execute_input": "2023-04-05T07:57:41.807169Z",
     "iopub.status.busy": "2023-04-05T07:57:41.807169Z",
     "iopub.status.idle": "2023-04-05T07:57:41.812412Z",
     "shell.execute_reply": "2023-04-05T07:57:41.812412Z",
     "shell.execute_reply.started": "2023-04-05T07:57:41.807169Z"
    },
    "tags": []
   },
   "outputs": [],
   "source": [
    "# Fields of interest are named entities.\n",
    "# If it is a news, then -> people, places, dates ...\n",
    "# Finance -> money, companies, stock, investment, banks ...\n",
    "# Medicine -> diseases, pathogens, treatments ...\n",
    "# Protected information -> unique identifiers of participants in drug trials, adresses, telephone numbers, bank account numbers, email addresses."
   ]
  },
  {
   "cell_type": "code",
   "execution_count": 7,
   "id": "fa92863e-4801-45e9-889e-61fc125a7dd4",
   "metadata": {
    "execution": {
     "iopub.execute_input": "2023-04-05T07:48:22.728927Z",
     "iopub.status.busy": "2023-04-05T07:48:22.723948Z",
     "iopub.status.idle": "2023-04-05T07:48:22.732100Z",
     "shell.execute_reply": "2023-04-05T07:48:22.732100Z",
     "shell.execute_reply.started": "2023-04-05T07:48:22.728927Z"
    },
    "tags": []
   },
   "outputs": [],
   "source": [
    "# Name entities can be very diverse\n",
    "# Names of people and places are mostly in title case\n",
    "# Dates occur is specific formats\n",
    "\n",
    "# But names of other things like diseases or micro-organisms are not generally capitalized.\n",
    "# e.g. bacteria, fungi, virus, arthritis, cholestrol, diabetes"
   ]
  },
  {
   "cell_type": "markdown",
   "id": "a8fd9dc6-1837-4c27-84a9-2d1cfdc47a28",
   "metadata": {},
   "source": [
    "## ***Relations***\n",
    "-----------------------"
   ]
  },
  {
   "cell_type": "code",
   "execution_count": 8,
   "id": "5e9f50f3-e73b-4e78-ae8b-809dfb23e250",
   "metadata": {
    "execution": {
     "iopub.execute_input": "2023-04-05T07:56:13.299037Z",
     "iopub.status.busy": "2023-04-05T07:56:13.297460Z",
     "iopub.status.idle": "2023-04-05T07:56:13.302914Z",
     "shell.execute_reply": "2023-04-05T07:56:13.302914Z",
     "shell.execute_reply.started": "2023-04-05T07:56:13.299037Z"
    },
    "tags": []
   },
   "outputs": [],
   "source": [
    "# This is about what happened to whom, when, where, why etc..\n",
    "# whom is typically a person / organization\n",
    "# when is a time / date\n",
    "# where is a place\n",
    "# why is a reason"
   ]
  },
  {
   "cell_type": "code",
   "execution_count": 10,
   "id": "4da99455-f403-4bda-96ad-b9a7c1e0268c",
   "metadata": {
    "execution": {
     "iopub.execute_input": "2023-04-05T07:59:08.680646Z",
     "iopub.status.busy": "2023-04-05T07:59:08.680646Z",
     "iopub.status.idle": "2023-04-05T07:59:08.691647Z",
     "shell.execute_reply": "2023-04-05T07:59:08.691647Z",
     "shell.execute_reply.started": "2023-04-05T07:59:08.680646Z"
    },
    "tags": []
   },
   "outputs": [],
   "source": [
    "# There are relationships between these named entities that form meaning synergistically."
   ]
  },
  {
   "cell_type": "markdown",
   "id": "f0b2c863-d737-41ed-9fe2-b52c7e62b3b8",
   "metadata": {},
   "source": [
    "## ***Named Entity Recogniztion Task***\n",
    "---------------------------"
   ]
  },
  {
   "cell_type": "code",
   "execution_count": 11,
   "id": "1b70ff42-d8e2-4f16-8943-d78dc72a7c4a",
   "metadata": {
    "execution": {
     "iopub.execute_input": "2023-04-05T08:01:50.888859Z",
     "iopub.status.busy": "2023-04-05T08:01:50.888859Z",
     "iopub.status.idle": "2023-04-05T08:01:50.892317Z",
     "shell.execute_reply": "2023-04-05T08:01:50.892317Z",
     "shell.execute_reply.started": "2023-04-05T08:01:50.888859Z"
    },
    "tags": []
   },
   "outputs": [],
   "source": [
    "# Named entities are noun phrases of specific type that refer to specific individuals, places, organizations .etc...\n",
    "# Identifying all mentions ofa predefined set of named entities in a text corpus."
   ]
  },
  {
   "cell_type": "code",
   "execution_count": 12,
   "id": "d8f5bb21-ff6e-43ea-b993-386c23994a99",
   "metadata": {
    "execution": {
     "iopub.execute_input": "2023-04-05T08:15:43.296270Z",
     "iopub.status.busy": "2023-04-05T08:15:43.296270Z",
     "iopub.status.idle": "2023-04-05T08:15:43.312149Z",
     "shell.execute_reply": "2023-04-05T08:15:43.311140Z",
     "shell.execute_reply.started": "2023-04-05T08:15:43.296270Z"
    },
    "tags": []
   },
   "outputs": [],
   "source": [
    "# Identifying the occurrence of the named entity -> boundary detection.\n",
    "# Indentify the type -> tagging / classification. -> Consider an entity \"Chicago\"\n",
    "        # What Chicago is this? The city? / A music album? / A font?"
   ]
  },
  {
   "cell_type": "code",
   "execution_count": 18,
   "id": "b6efe389-c49b-4554-b405-d87c9374bdd0",
   "metadata": {
    "execution": {
     "iopub.execute_input": "2023-04-05T08:18:53.642058Z",
     "iopub.status.busy": "2023-04-05T08:18:53.642058Z",
     "iopub.status.idle": "2023-04-05T08:18:53.652710Z",
     "shell.execute_reply": "2023-04-05T08:18:53.652710Z",
     "shell.execute_reply.started": "2023-04-05T08:18:53.642058Z"
    },
    "tags": []
   },
   "outputs": [
    {
     "data": {
      "text/plain": [
       "'The patient is a 63-old female with a three-years old history of bilateral hand numbness and occassional weakness. Within the past year these symptoms have progressively gotten worse, to encompass also her feet. She had a workup by her neurologist and an MRI revealed a C5-6 disc herniation with cord compression and a T2 signal change at that level.'"
      ]
     },
     "execution_count": 18,
     "metadata": {},
     "output_type": "execute_result"
    }
   ],
   "source": [
    "\"\"\"\\\n",
    "The patient is a 63-old female with a three-years old history of bilateral hand numbness and occassional weakness. \\\n",
    "Within the past year these symptoms have progressively gotten worse, to encompass also her feet. \\\n",
    "She had a workup by her neurologist and an MRI revealed a C5-6 disc herniation with cord compression and a T2 signal change at that level.\\\n",
    "\"\"\""
   ]
  },
  {
   "cell_type": "code",
   "execution_count": null,
   "id": "029635ea-feda-4c63-ab7c-7bcd2c3bde02",
   "metadata": {},
   "outputs": [],
   "source": [
    "# The condition -> bilateral hand numbness, occassional weakness, C5-6 disc herniation with cord compression\n",
    "# Personal info -> 63-old female\n",
    "# Medical speciality -> "
   ]
  }
 ],
 "metadata": {
  "kernelspec": {
   "display_name": "Python 3 (ipykernel)",
   "language": "python",
   "name": "python3"
  },
  "language_info": {
   "codemirror_mode": {
    "name": "ipython",
    "version": 3
   },
   "file_extension": ".py",
   "mimetype": "text/x-python",
   "name": "python",
   "nbconvert_exporter": "python",
   "pygments_lexer": "ipython3",
   "version": "3.11.2"
  }
 },
 "nbformat": 4,
 "nbformat_minor": 5
}
