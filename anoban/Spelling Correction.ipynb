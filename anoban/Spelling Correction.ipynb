{
 "cells": [
  {
   "cell_type": "code",
   "execution_count": 1,
   "id": "1ba1d9c7-5cd2-4143-9c9c-322ae1960f45",
   "metadata": {
    "execution": {
     "iopub.execute_input": "2023-03-22T20:42:55.387222Z",
     "iopub.status.busy": "2023-03-22T20:42:55.387222Z",
     "iopub.status.idle": "2023-03-22T20:43:23.836154Z",
     "shell.execute_reply": "2023-03-22T20:43:23.836154Z",
     "shell.execute_reply.started": "2023-03-22T20:42:55.387222Z"
    },
    "tags": []
   },
   "outputs": [],
   "source": [
    "import nltk"
   ]
  },
  {
   "cell_type": "code",
   "execution_count": 11,
   "id": "6ac409c6-e977-4e19-a598-c49950d79090",
   "metadata": {
    "execution": {
     "iopub.execute_input": "2023-03-22T04:31:33.253496Z",
     "iopub.status.busy": "2023-03-22T04:31:33.253496Z",
     "iopub.status.idle": "2023-03-22T04:31:33.324288Z",
     "shell.execute_reply": "2023-03-22T04:31:33.324288Z",
     "shell.execute_reply.started": "2023-03-22T04:31:33.253496Z"
    },
    "tags": []
   },
   "outputs": [
    {
     "data": {
      "text/plain": [
       "236736"
      ]
     },
     "execution_count": 11,
     "metadata": {},
     "output_type": "execute_result"
    }
   ],
   "source": [
    "len(nltk.corpus.words.words())"
   ]
  },
  {
   "cell_type": "code",
   "execution_count": 12,
   "id": "b11e432b-0477-438f-ae00-ce62bc89001c",
   "metadata": {
    "execution": {
     "iopub.execute_input": "2023-03-22T04:34:18.191554Z",
     "iopub.status.busy": "2023-03-22T04:34:18.191554Z",
     "iopub.status.idle": "2023-03-22T04:34:18.207242Z",
     "shell.execute_reply": "2023-03-22T04:34:18.207242Z",
     "shell.execute_reply.started": "2023-03-22T04:34:18.191554Z"
    },
    "tags": []
   },
   "outputs": [
    {
     "data": {
      "text/plain": [
       "1"
      ]
     },
     "execution_count": 12,
     "metadata": {},
     "output_type": "execute_result"
    }
   ],
   "source": [
    "nltk.edit_distance(\"shrine\", \"shine\")"
   ]
  },
  {
   "cell_type": "code",
   "execution_count": 15,
   "id": "ff120373-8167-49e8-8a08-db3659ac9d51",
   "metadata": {
    "execution": {
     "iopub.execute_input": "2023-03-22T04:35:26.508555Z",
     "iopub.status.busy": "2023-03-22T04:35:26.508555Z",
     "iopub.status.idle": "2023-03-22T04:35:26.520940Z",
     "shell.execute_reply": "2023-03-22T04:35:26.520940Z",
     "shell.execute_reply.started": "2023-03-22T04:35:26.508555Z"
    },
    "tags": []
   },
   "outputs": [
    {
     "data": {
      "text/plain": [
       "2"
      ]
     },
     "execution_count": 15,
     "metadata": {},
     "output_type": "execute_result"
    }
   ],
   "source": [
    "nltk.edit_distance(\"damage\", \"rampage\")"
   ]
  },
  {
   "cell_type": "code",
   "execution_count": 16,
   "id": "afc9d224-d72c-40dd-997c-3894dabcc73c",
   "metadata": {
    "execution": {
     "iopub.execute_input": "2023-03-22T04:37:34.764644Z",
     "iopub.status.busy": "2023-03-22T04:37:34.764644Z",
     "iopub.status.idle": "2023-03-22T04:37:34.774264Z",
     "shell.execute_reply": "2023-03-22T04:37:34.774264Z",
     "shell.execute_reply.started": "2023-03-22T04:37:34.764644Z"
    },
    "tags": []
   },
   "outputs": [],
   "source": [
    "# confirm -> conformation\n",
    "# keep conf\n",
    "# replace i with o\n",
    "# keep rm\n",
    "# add ation\n",
    "\n",
    "# total changes -> 6"
   ]
  },
  {
   "cell_type": "code",
   "execution_count": 18,
   "id": "488640b2-e12f-4cc0-a40c-394d2d21760a",
   "metadata": {
    "execution": {
     "iopub.execute_input": "2023-03-22T04:38:57.464450Z",
     "iopub.status.busy": "2023-03-22T04:38:57.464450Z",
     "iopub.status.idle": "2023-03-22T04:38:57.484991Z",
     "shell.execute_reply": "2023-03-22T04:38:57.484991Z",
     "shell.execute_reply.started": "2023-03-22T04:38:57.464450Z"
    },
    "tags": []
   },
   "outputs": [
    {
     "data": {
      "text/plain": [
       "6"
      ]
     },
     "execution_count": 18,
     "metadata": {},
     "output_type": "execute_result"
    }
   ],
   "source": [
    "nltk.edit_distance(\"confirm\", \"conformation\")"
   ]
  },
  {
   "cell_type": "code",
   "execution_count": 20,
   "id": "d8c2a8d1-2822-49b4-a1c4-f94e415c5ec7",
   "metadata": {
    "execution": {
     "iopub.execute_input": "2023-03-22T04:39:58.438613Z",
     "iopub.status.busy": "2023-03-22T04:39:58.438613Z",
     "iopub.status.idle": "2023-03-22T04:39:58.448121Z",
     "shell.execute_reply": "2023-03-22T04:39:58.448121Z",
     "shell.execute_reply.started": "2023-03-22T04:39:58.438613Z"
    },
    "tags": []
   },
   "outputs": [
    {
     "data": {
      "text/plain": [
       "4"
      ]
     },
     "execution_count": 20,
     "metadata": {},
     "output_type": "execute_result"
    }
   ],
   "source": [
    "# man -> monica\n",
    "# replace a with o\n",
    "# add ica\n",
    "# total changes -> 4\n",
    "\n",
    "nltk.edit_distance(\"man\", \"monica\")"
   ]
  },
  {
   "cell_type": "code",
   "execution_count": 24,
   "id": "df7ea84c-f0d6-45a6-b498-bab5a6f9f17c",
   "metadata": {
    "execution": {
     "iopub.execute_input": "2023-03-22T04:40:50.995486Z",
     "iopub.status.busy": "2023-03-22T04:40:50.995486Z",
     "iopub.status.idle": "2023-03-22T04:40:51.010940Z",
     "shell.execute_reply": "2023-03-22T04:40:51.010940Z",
     "shell.execute_reply.started": "2023-03-22T04:40:50.995486Z"
    },
    "tags": []
   },
   "outputs": [
    {
     "data": {
      "text/plain": [
       "2"
      ]
     },
     "execution_count": 24,
     "metadata": {},
     "output_type": "execute_result"
    }
   ],
   "source": [
    "nltk.edit_distance(\"edge\", \"dredge\")"
   ]
  },
  {
   "cell_type": "code",
   "execution_count": 27,
   "id": "288a4a87-6ea0-4ac3-8172-2ec99ef1ebc2",
   "metadata": {
    "execution": {
     "iopub.execute_input": "2023-03-22T04:41:25.569770Z",
     "iopub.status.busy": "2023-03-22T04:41:25.569770Z",
     "iopub.status.idle": "2023-03-22T04:41:25.580660Z",
     "shell.execute_reply": "2023-03-22T04:41:25.580660Z",
     "shell.execute_reply.started": "2023-03-22T04:41:25.569770Z"
    },
    "tags": []
   },
   "outputs": [
    {
     "data": {
      "text/plain": [
       "5"
      ]
     },
     "execution_count": 27,
     "metadata": {},
     "output_type": "execute_result"
    }
   ],
   "source": [
    "nltk.edit_distance(\"tramp\", \"trampoline\")"
   ]
  },
  {
   "cell_type": "code",
   "execution_count": 29,
   "id": "5231e72b-ca7c-4c21-b66b-2c9aeea86337",
   "metadata": {
    "execution": {
     "iopub.execute_input": "2023-03-22T04:44:16.611405Z",
     "iopub.status.busy": "2023-03-22T04:44:16.611405Z",
     "iopub.status.idle": "2023-03-22T04:44:16.624669Z",
     "shell.execute_reply": "2023-03-22T04:44:16.624669Z",
     "shell.execute_reply.started": "2023-03-22T04:44:16.611405Z"
    },
    "tags": []
   },
   "outputs": [
    {
     "data": {
      "text/plain": [
       "5"
      ]
     },
     "execution_count": 29,
     "metadata": {},
     "output_type": "execute_result"
    }
   ],
   "source": [
    "nltk.edit_distance(\"path\", \"pathology\")"
   ]
  },
  {
   "cell_type": "code",
   "execution_count": 33,
   "id": "0c6fbd2a-1d7b-49d2-a08b-bbe793aa4018",
   "metadata": {
    "execution": {
     "iopub.execute_input": "2023-03-22T04:48:32.993380Z",
     "iopub.status.busy": "2023-03-22T04:48:32.993380Z",
     "iopub.status.idle": "2023-03-22T04:48:33.002546Z",
     "shell.execute_reply": "2023-03-22T04:48:33.002546Z",
     "shell.execute_reply.started": "2023-03-22T04:48:32.993380Z"
    },
    "tags": []
   },
   "outputs": [
    {
     "data": {
      "text/plain": [
       "[('P', 'r'),\n",
       " ('r', 'e'),\n",
       " ('e', 'p'),\n",
       " ('p', 'o'),\n",
       " ('o', 's'),\n",
       " ('s', 't'),\n",
       " ('t', 'e'),\n",
       " ('e', 'r'),\n",
       " ('r', 'o'),\n",
       " ('o', 'u'),\n",
       " ('u', 's')]"
      ]
     },
     "execution_count": 33,
     "metadata": {},
     "output_type": "execute_result"
    }
   ],
   "source": [
    "list(nltk.ngrams(\"Preposterous\", 2))"
   ]
  },
  {
   "cell_type": "code",
   "execution_count": 37,
   "id": "3164f95d-bc4b-4335-82cb-f6895ae1c4af",
   "metadata": {
    "execution": {
     "iopub.execute_input": "2023-03-22T04:56:14.267507Z",
     "iopub.status.busy": "2023-03-22T04:56:14.267507Z",
     "iopub.status.idle": "2023-03-22T04:56:14.283012Z",
     "shell.execute_reply": "2023-03-22T04:56:14.283012Z",
     "shell.execute_reply.started": "2023-03-22T04:56:14.267507Z"
    },
    "tags": []
   },
   "outputs": [
    {
     "data": {
      "text/plain": [
       "[('p', 'i', 'l'),\n",
       " ('i', 'l', 'l'),\n",
       " ('l', 'l', 'a'),\n",
       " ('l', 'a', 'g'),\n",
       " ('a', 'g', 'e')]"
      ]
     },
     "execution_count": 37,
     "metadata": {},
     "output_type": "execute_result"
    }
   ],
   "source": [
    "list(nltk.ngrams(\"pillage\", 3))"
   ]
  },
  {
   "cell_type": "code",
   "execution_count": 40,
   "id": "2843bc9a-d663-4692-af35-76fa1238ace1",
   "metadata": {
    "execution": {
     "iopub.execute_input": "2023-03-22T04:58:29.140572Z",
     "iopub.status.busy": "2023-03-22T04:58:29.140572Z",
     "iopub.status.idle": "2023-03-22T04:58:29.155991Z",
     "shell.execute_reply": "2023-03-22T04:58:29.155991Z",
     "shell.execute_reply.started": "2023-03-22T04:58:29.140572Z"
    },
    "tags": []
   },
   "outputs": [
    {
     "data": {
      "text/plain": [
       "0.4"
      ]
     },
     "execution_count": 40,
     "metadata": {},
     "output_type": "execute_result"
    }
   ],
   "source": [
    "nltk.jaccard_distance(set(\"leopard\"), set(\"jeopardize\"))"
   ]
  },
  {
   "cell_type": "code",
   "execution_count": 2,
   "id": "f6b2cadb-ac2c-4ba7-be9a-cedd0f665997",
   "metadata": {
    "execution": {
     "iopub.execute_input": "2023-03-22T20:45:26.405112Z",
     "iopub.status.busy": "2023-03-22T20:45:26.405112Z",
     "iopub.status.idle": "2023-03-22T20:45:26.416014Z",
     "shell.execute_reply": "2023-03-22T20:45:26.416014Z",
     "shell.execute_reply.started": "2023-03-22T20:45:26.405112Z"
    }
   },
   "outputs": [],
   "source": [
    "# When you realize that a word is misspelt, how do you find out the correct word?\n",
    "# One common way is to have a dictionary of valid words and look up the dictionary for similarly spelt words.\n",
    "# This requires us to be able to measure similarities between the misspelt word and possible corrections in the dictionary."
   ]
  },
  {
   "cell_type": "markdown",
   "id": "387f841f-d86f-4a1a-b1ee-4491a4a69740",
   "metadata": {},
   "source": [
    "## ***Levenshtein distance***\n",
    "-----------------------------"
   ]
  },
  {
   "cell_type": "code",
   "execution_count": 3,
   "id": "4be347fa-d6cc-4796-87f6-a11f2a558e0f",
   "metadata": {
    "execution": {
     "iopub.execute_input": "2023-03-22T20:48:02.290743Z",
     "iopub.status.busy": "2023-03-22T20:48:02.290743Z",
     "iopub.status.idle": "2023-03-22T20:48:02.302954Z",
     "shell.execute_reply": "2023-03-22T20:48:02.302954Z",
     "shell.execute_reply.started": "2023-03-22T20:48:02.290743Z"
    },
    "tags": []
   },
   "outputs": [
    {
     "data": {
      "text/plain": [
       "4"
      ]
     },
     "execution_count": 3,
     "metadata": {},
     "output_type": "execute_result"
    }
   ],
   "source": [
    "# This algorithm finds the smallest number of changes (additions, substitutions and deletions) needed to transform the word\n",
    "\n",
    "nltk.edit_distance(\"water\", \"cooler\")"
   ]
  },
  {
   "cell_type": "markdown",
   "id": "6307906b-4915-498c-b453-a7bfdcd6d9f7",
   "metadata": {},
   "source": [
    "## ***N-grams***\n",
    "---------------------"
   ]
  },
  {
   "cell_type": "code",
   "execution_count": 4,
   "id": "13f0c335-00e5-4990-8082-7e8dbe19b244",
   "metadata": {
    "execution": {
     "iopub.execute_input": "2023-03-22T20:51:47.818794Z",
     "iopub.status.busy": "2023-03-22T20:51:47.818794Z",
     "iopub.status.idle": "2023-03-22T20:51:47.836284Z",
     "shell.execute_reply": "2023-03-22T20:51:47.836284Z",
     "shell.execute_reply.started": "2023-03-22T20:51:47.818794Z"
    },
    "tags": []
   },
   "outputs": [],
   "source": [
    "# N-grams are character sequences of size n\n",
    "# N-grams are also used as sequences of words.\n",
    "# e.g. This is my new puppy.\n",
    "# Bi-grams of this sentence will be ->\n",
    "# [This, is], [is, my], [my, new], [new, puppy]"
   ]
  },
  {
   "cell_type": "code",
   "execution_count": 12,
   "id": "60296996-1453-44ef-a8c4-0be462f2fb1c",
   "metadata": {
    "execution": {
     "iopub.execute_input": "2023-03-22T20:57:42.169862Z",
     "iopub.status.busy": "2023-03-22T20:57:42.169862Z",
     "iopub.status.idle": "2023-03-22T20:57:42.192362Z",
     "shell.execute_reply": "2023-03-22T20:57:42.191855Z",
     "shell.execute_reply.started": "2023-03-22T20:57:42.169862Z"
    },
    "tags": []
   },
   "outputs": [
    {
     "data": {
      "text/plain": [
       "([('p', 'e'),\n",
       "  ('e', 'd'),\n",
       "  ('d', 'e'),\n",
       "  ('e', 's'),\n",
       "  ('s', 't'),\n",
       "  ('t', 'a'),\n",
       "  ('a', 'l')],\n",
       " [('p', 'e'),\n",
       "  ('e', 'd'),\n",
       "  ('d', 'e'),\n",
       "  ('e', 's'),\n",
       "  ('s', 't'),\n",
       "  ('t', 'r'),\n",
       "  ('r', 'i'),\n",
       "  ('i', 'a'),\n",
       "  ('a', 'n')])"
      ]
     },
     "execution_count": 12,
     "metadata": {},
     "output_type": "execute_result"
    }
   ],
   "source": [
    "# When two words have similar spelling, they share more n-grams \n",
    "# Bi-grams\n",
    "\n",
    "list(nltk.ngrams(\"pedestal\", 2)), list(nltk.ngrams(\"pedestrian\", 2))"
   ]
  },
  {
   "cell_type": "code",
   "execution_count": 13,
   "id": "a4ad77ea-07b2-4e73-a498-668bbf278082",
   "metadata": {
    "execution": {
     "iopub.execute_input": "2023-03-22T20:57:42.953147Z",
     "iopub.status.busy": "2023-03-22T20:57:42.953147Z",
     "iopub.status.idle": "2023-03-22T20:57:42.967721Z",
     "shell.execute_reply": "2023-03-22T20:57:42.967721Z",
     "shell.execute_reply.started": "2023-03-22T20:57:42.953147Z"
    },
    "tags": []
   },
   "outputs": [],
   "source": [
    "# Jaccard's similarity\n",
    "# Used to measure similarity between sets\n",
    "# Jaccard coefficient of sets A and B is = |A ⋂ B| / |A ⋃ B|"
   ]
  },
  {
   "cell_type": "code",
   "execution_count": 27,
   "id": "4766bc5d-06ff-4fab-8d1d-9156307352a9",
   "metadata": {
    "execution": {
     "iopub.execute_input": "2023-03-22T21:16:11.851225Z",
     "iopub.status.busy": "2023-03-22T21:16:11.851225Z",
     "iopub.status.idle": "2023-03-22T21:16:11.868975Z",
     "shell.execute_reply": "2023-03-22T21:16:11.868975Z",
     "shell.execute_reply.started": "2023-03-22T21:16:11.851225Z"
    },
    "tags": []
   },
   "outputs": [
    {
     "data": {
      "text/plain": [
       "{('a', 'l'),\n",
       " ('d', 'e'),\n",
       " ('e', 'd'),\n",
       " ('e', 's'),\n",
       " ('p', 'e'),\n",
       " ('s', 't'),\n",
       " ('t', 'a')}"
      ]
     },
     "execution_count": 27,
     "metadata": {},
     "output_type": "execute_result"
    }
   ],
   "source": [
    "set(nltk.ngrams(\"pedestal\", 2))"
   ]
  },
  {
   "cell_type": "code",
   "execution_count": 21,
   "id": "38eb93d3-5953-41f4-bd5b-1f767ea23f0a",
   "metadata": {
    "execution": {
     "iopub.execute_input": "2023-03-22T21:03:54.372341Z",
     "iopub.status.busy": "2023-03-22T21:03:54.372341Z",
     "iopub.status.idle": "2023-03-22T21:03:54.380220Z",
     "shell.execute_reply": "2023-03-22T21:03:54.380220Z",
     "shell.execute_reply.started": "2023-03-22T21:03:54.372341Z"
    },
    "tags": []
   },
   "outputs": [
    {
     "data": {
      "text/plain": [
       "0.5454545454545454"
      ]
     },
     "execution_count": 21,
     "metadata": {},
     "output_type": "execute_result"
    }
   ],
   "source": [
    "nltk.jaccard_distance(set(nltk.ngrams(\"pedestal\", 2)), set(nltk.ngrams(\"pedestrian\", 2)))"
   ]
  },
  {
   "cell_type": "code",
   "execution_count": 22,
   "id": "99703edd-0b49-4ff1-86f8-3f85617d83c9",
   "metadata": {
    "execution": {
     "iopub.execute_input": "2023-03-22T21:03:54.689492Z",
     "iopub.status.busy": "2023-03-22T21:03:54.689492Z",
     "iopub.status.idle": "2023-03-22T21:03:54.698372Z",
     "shell.execute_reply": "2023-03-22T21:03:54.698372Z",
     "shell.execute_reply.started": "2023-03-22T21:03:54.689492Z"
    },
    "tags": []
   },
   "outputs": [
    {
     "data": {
      "text/plain": [
       "0.45454545454545453"
      ]
     },
     "execution_count": 22,
     "metadata": {},
     "output_type": "execute_result"
    }
   ],
   "source": [
    "# ('p', 'e'),   ('e', 'd'),  ('d', 'e'),  ('e', 's'),  ('s', 't') are common bi-grams.\n",
    "# ('t', 'a'),   ('a', 'l'),  ('t', 'r'),   ('r', 'i'), ('i', 'a'),  ('a', 'n') are un-common\n",
    "\n",
    "5 / (5 + 6)"
   ]
  },
  {
   "cell_type": "code",
   "execution_count": 23,
   "id": "1a841de7-2867-4e1c-9593-353e49c8da6c",
   "metadata": {
    "execution": {
     "iopub.execute_input": "2023-03-22T21:04:07.921691Z",
     "iopub.status.busy": "2023-03-22T21:04:07.921691Z",
     "iopub.status.idle": "2023-03-22T21:04:07.933011Z",
     "shell.execute_reply": "2023-03-22T21:04:07.933011Z",
     "shell.execute_reply.started": "2023-03-22T21:04:07.921691Z"
    },
    "tags": []
   },
   "outputs": [
    {
     "data": {
      "text/plain": [
       "0.5714285714285714"
      ]
     },
     "execution_count": 23,
     "metadata": {},
     "output_type": "execute_result"
    }
   ],
   "source": [
    "nltk.jaccard_distance(set(nltk.ngrams(\"pierce\", 2)), set(nltk.ngrams(\"pierse\", 2)))"
   ]
  },
  {
   "cell_type": "code",
   "execution_count": 24,
   "id": "caa359ce-a4fe-4c73-b306-410319095ac8",
   "metadata": {
    "execution": {
     "iopub.execute_input": "2023-03-22T21:04:13.658746Z",
     "iopub.status.busy": "2023-03-22T21:04:13.658746Z",
     "iopub.status.idle": "2023-03-22T21:04:13.666998Z",
     "shell.execute_reply": "2023-03-22T21:04:13.666998Z",
     "shell.execute_reply.started": "2023-03-22T21:04:13.658746Z"
    },
    "tags": []
   },
   "outputs": [
    {
     "data": {
      "text/plain": [
       "0.42857142857142855"
      ]
     },
     "execution_count": 24,
     "metadata": {},
     "output_type": "execute_result"
    }
   ],
   "source": [
    "3 / 7"
   ]
  }
 ],
 "metadata": {
  "kernelspec": {
   "display_name": "Python 3 (ipykernel)",
   "language": "python",
   "name": "python3"
  },
  "language_info": {
   "codemirror_mode": {
    "name": "ipython",
    "version": 3
   },
   "file_extension": ".py",
   "mimetype": "text/x-python",
   "name": "python",
   "nbconvert_exporter": "python",
   "pygments_lexer": "ipython3",
   "version": "3.11.2"
  }
 },
 "nbformat": 4,
 "nbformat_minor": 5
}
