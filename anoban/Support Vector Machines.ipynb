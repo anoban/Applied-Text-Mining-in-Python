{
 "cells": [
  {
   "cell_type": "markdown",
   "id": "f23745de-f7e1-43c4-a180-54fd3a7ec0cf",
   "metadata": {},
   "source": [
    "# ***Support Vector Machines***\n",
    "--------------------------"
   ]
  },
  {
   "cell_type": "code",
   "execution_count": null,
   "id": "4797a568-6bf0-48b2-aa39-e0f81962d669",
   "metadata": {},
   "outputs": [],
   "source": []
  }
 ],
 "metadata": {
  "kernelspec": {
   "display_name": "Python 3 (ipykernel)",
   "language": "python",
   "name": "python3"
  },
  "language_info": {
   "codemirror_mode": {
    "name": "ipython",
    "version": 3
   },
   "file_extension": ".py",
   "mimetype": "text/x-python",
   "name": "python",
   "nbconvert_exporter": "python",
   "pygments_lexer": "ipython3",
   "version": "3.11.2"
  }
 },
 "nbformat": 4,
 "nbformat_minor": 5
}
