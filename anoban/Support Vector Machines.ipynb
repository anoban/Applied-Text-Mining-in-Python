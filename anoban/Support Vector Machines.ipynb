{
 "cells": [
  {
   "cell_type": "code",
   "execution_count": 1,
   "id": "0db4926c-dfad-4105-81c3-ee74ad8badd8",
   "metadata": {
    "execution": {
     "iopub.execute_input": "2023-03-31T04:14:02.091653Z",
     "iopub.status.busy": "2023-03-31T04:14:02.091653Z",
     "iopub.status.idle": "2023-03-31T04:14:09.955785Z",
     "shell.execute_reply": "2023-03-31T04:14:09.955785Z",
     "shell.execute_reply.started": "2023-03-31T04:14:02.091653Z"
    },
    "tags": []
   },
   "outputs": [],
   "source": [
    "import numpy as np\n",
    "import matplotlib.pyplot as plt\n",
    "from random import sample\n",
    "import typing\n",
    "import math"
   ]
  },
  {
   "cell_type": "markdown",
   "id": "f23745de-f7e1-43c4-a180-54fd3a7ec0cf",
   "metadata": {},
   "source": [
    "# ***Support Vector Machines***\n",
    "--------------------------"
   ]
  },
  {
   "cell_type": "code",
   "execution_count": 1,
   "id": "4797a568-6bf0-48b2-aa39-e0f81962d669",
   "metadata": {
    "execution": {
     "iopub.execute_input": "2023-03-30T23:36:25.808841Z",
     "iopub.status.busy": "2023-03-30T23:36:25.808841Z",
     "iopub.status.idle": "2023-03-30T23:36:25.822795Z",
     "shell.execute_reply": "2023-03-30T23:36:25.822795Z",
     "shell.execute_reply.started": "2023-03-30T23:36:25.808841Z"
    }
   },
   "outputs": [],
   "source": [
    "dt = \"\"\"When James entered preschool, he faced significant mental and behavioral health problems, including aggressive behavior,\n",
    "difficulty regulating his emotions, and trouble forming healthy relationships with peers. Despite all these difficulties,\n",
    "he did not meet the diagnostic criteria for post-traumatic stress disorder (PTSD) when he was assessed by clinicians at ages 5, 9, and 16.\n",
    "(More than 70% of children treated by the National Child Traumatic Stress Network [NCTSN] do not meet the criteria \n",
    "[Purbeck, C. A., et al., NCTSN Core Data Set Report, 2021].) By the time James started high school, he had been diagnosed with oppositional\n",
    "defiant disorder (ODD), bipolar disorder, borderline personality disorder, and generalized anxiety disorder. He takes a cocktail of\n",
    "medications, but neither his diagnoses nor his treatments address the effects of his tumultuous early years.\"\"\""
   ]
  },
  {
   "cell_type": "code",
   "execution_count": 2,
   "id": "3eb46100-165c-4d7c-b09e-1ae4504b8fcf",
   "metadata": {
    "execution": {
     "iopub.execute_input": "2023-03-30T23:40:42.733477Z",
     "iopub.status.busy": "2023-03-30T23:40:42.733477Z",
     "iopub.status.idle": "2023-03-30T23:40:42.750807Z",
     "shell.execute_reply": "2023-03-30T23:40:42.750807Z",
     "shell.execute_reply.started": "2023-03-30T23:40:42.733477Z"
    },
    "tags": []
   },
   "outputs": [],
   "source": [
    "# Consider the above text.\n",
    "# We are asked to decide to which subject domain this piece of information belongs?\n",
    "# Neurology / Sociology / Psychiatry / Psysiology / Developmental Psychology\n",
    "\n",
    "# Looking at the words like mental, behavioral health, post-traumatic stress disorder (PTSD), oppositionaldefiant disorder (ODD), \n",
    "# bipolar disorder, borderline personality disorder, and generalized anxiety disorder.\n",
    "# We are likely to classify this text as associated to Psychiatry / Developmental psychology"
   ]
  },
  {
   "cell_type": "markdown",
   "id": "bda1e929-e6ba-4022-b0e3-b6cccd5ec083",
   "metadata": {},
   "source": [
    "![Avatar - The Way of Water Review](./avatar2.png)"
   ]
  },
  {
   "cell_type": "code",
   "execution_count": 3,
   "id": "221d24dd-ba39-49b8-a59e-8d2a6a794964",
   "metadata": {
    "execution": {
     "iopub.execute_input": "2023-03-30T23:54:20.066157Z",
     "iopub.status.busy": "2023-03-30T23:54:20.066157Z",
     "iopub.status.idle": "2023-03-30T23:54:20.074737Z",
     "shell.execute_reply": "2023-03-30T23:54:20.074737Z",
     "shell.execute_reply.started": "2023-03-30T23:54:20.066157Z"
    },
    "tags": []
   },
   "outputs": [],
   "source": [
    "# Look at the above review\n",
    "# The reviewer has given 10 stars and a really good and positive review.\n",
    "# Note the use of following words.\n",
    "# remarkable, perfect, masterpiece, amazing, phenomenal etc.\n",
    "\n",
    "# If we see words like waste, lame, garbage, propaganda, wannabe, crap that would imply that the review is negative.\n",
    "# This is a sentiment based classification task, where one classifies a document based on its word composition according to a sentiment based\n",
    "# criteria."
   ]
  },
  {
   "cell_type": "code",
   "execution_count": 4,
   "id": "3a261678-d2da-4e01-aa2e-15b83b54130a",
   "metadata": {
    "execution": {
     "iopub.execute_input": "2023-03-30T23:56:11.086033Z",
     "iopub.status.busy": "2023-03-30T23:56:11.086033Z",
     "iopub.status.idle": "2023-03-30T23:56:11.099014Z",
     "shell.execute_reply": "2023-03-30T23:56:11.099014Z",
     "shell.execute_reply.started": "2023-03-30T23:56:11.086033Z"
    },
    "tags": []
   },
   "outputs": [],
   "source": [
    "# In general, a classifier can be defined as a function on the input data.\n",
    "# So,"
   ]
  },
  {
   "cell_type": "markdown",
   "id": "2e53db05-5ec3-4e50-a624-e7993b1ac19c",
   "metadata": {},
   "source": [
    "### ***$f(Medical~texts)~\\rightarrow\\text{{Psychiatry, Psychology, Physiology, Pathology, Rheumatology}}$***\n",
    "### ***$f(Movie~reviews)~\\rightarrow\\text{{Positive, Negative}}$***"
   ]
  },
  {
   "cell_type": "code",
   "execution_count": 5,
   "id": "063e29f5-5f6a-4a45-bb33-22c534c1da6d",
   "metadata": {
    "execution": {
     "iopub.execute_input": "2023-03-31T00:01:46.992800Z",
     "iopub.status.busy": "2023-03-31T00:01:46.992800Z",
     "iopub.status.idle": "2023-03-31T00:01:46.998199Z",
     "shell.execute_reply": "2023-03-31T00:01:46.998199Z",
     "shell.execute_reply.started": "2023-03-31T00:01:46.992800Z"
    },
    "tags": []
   },
   "outputs": [],
   "source": [
    "# It is typical to have numbers used to label classes e.g like -1 or +1\n",
    "# And that's what SVMs or any other linear classifiers usually use."
   ]
  },
  {
   "cell_type": "markdown",
   "id": "696be132-d91a-46ee-9345-abcd7e027d8e",
   "metadata": {},
   "source": [
    "# ***Descision Boundary***\n",
    "----------------------------"
   ]
  },
  {
   "cell_type": "code",
   "execution_count": 101,
   "id": "4bce7f53-110f-4d17-a270-aeca9cc8504f",
   "metadata": {
    "execution": {
     "iopub.execute_input": "2023-03-31T00:41:17.262004Z",
     "iopub.status.busy": "2023-03-31T00:41:17.262004Z",
     "iopub.status.idle": "2023-03-31T00:41:17.268002Z",
     "shell.execute_reply": "2023-03-31T00:41:17.267259Z",
     "shell.execute_reply.started": "2023-03-31T00:41:17.262004Z"
    },
    "tags": []
   },
   "outputs": [],
   "source": [
    "x = range(1, 21)\n",
    "y = np.random.randint(1, 50, 20)\n",
    "classes = np.repeat(['o', 's'], 10)\n",
    "colors = list(map(lambda _class: \"red\" if _class == 'o' else \"blue\", classes))"
   ]
  },
  {
   "cell_type": "code",
   "execution_count": 102,
   "id": "44941356-271e-4ba6-aa45-89a529965180",
   "metadata": {
    "execution": {
     "iopub.execute_input": "2023-03-31T00:41:17.634330Z",
     "iopub.status.busy": "2023-03-31T00:41:17.634330Z",
     "iopub.status.idle": "2023-03-31T00:41:17.872034Z",
     "shell.execute_reply": "2023-03-31T00:41:17.872034Z",
     "shell.execute_reply.started": "2023-03-31T00:41:17.634330Z"
    },
    "tags": []
   },
   "outputs": [
    {
     "data": {
      "image/png": "[encoded data removed]",
      "text/plain": [
       "<Figure size 640x480 with 1 Axes>"
      ]
     },
     "metadata": {},
     "output_type": "display_data"
    }
   ],
   "source": [
    "fig, axes = plt.subplots()\n",
    "for (_x, _y, _color, _marker) in zip(x, y, colors, classes):\n",
    "    axes.plot(_x, _y, marker = _marker, mfc = _color, ms = 15, linestyle = \"none\", mec = \"none\", gapcolor = \"none\")\n",
    "plt.show()"
   ]
  },
  {
   "cell_type": "code",
   "execution_count": 103,
   "id": "38c043ca-fe31-44b2-8fc1-05856b4b8f4b",
   "metadata": {
    "execution": {
     "iopub.execute_input": "2023-03-31T00:44:11.585071Z",
     "iopub.status.busy": "2023-03-31T00:44:11.585071Z",
     "iopub.status.idle": "2023-03-31T00:44:11.590331Z",
     "shell.execute_reply": "2023-03-31T00:44:11.590331Z",
     "shell.execute_reply.started": "2023-03-31T00:44:11.585071Z"
    },
    "tags": []
   },
   "outputs": [],
   "source": [
    "# Look at the data points in this 2 dimensional space.\n",
    "# Some of them are marked by blue stars while others are marked by red circles.\n",
    "# Let's say that the circles are class A and the stars are class B.\n",
    "\n",
    "# Now, we need to make a boundary to separate one class from the other class\n",
    "# One can choose any decision boundary\n",
    "# A circle that encircles data points of a given class\n",
    "# A square\n",
    "# Any other random irregular shapes\n",
    "\n",
    "# A classification function is represented by a decision surface or decision boundary."
   ]
  },
  {
   "cell_type": "code",
   "execution_count": 104,
   "id": "0f1b535c-7e91-4e15-92b7-e27704331e16",
   "metadata": {
    "execution": {
     "iopub.execute_input": "2023-03-31T01:19:10.527598Z",
     "iopub.status.busy": "2023-03-31T01:19:10.527598Z",
     "iopub.status.idle": "2023-03-31T01:19:10.540879Z",
     "shell.execute_reply": "2023-03-31T01:19:10.540879Z",
     "shell.execute_reply.started": "2023-03-31T01:19:10.527598Z"
    },
    "tags": []
   },
   "outputs": [],
   "source": [
    "# Whenever one uses a decision boundary, the main purpose is that when you get a unlabelled data point\n",
    "# You can label it using the decision boundary.\n",
    "# If the unlabelled data point falls inside the boundary of class A, then label that point A."
   ]
  },
  {
   "cell_type": "code",
   "execution_count": 124,
   "id": "d72fad50-04a5-42be-931c-31b3993c4527",
   "metadata": {
    "execution": {
     "iopub.execute_input": "2023-03-31T01:23:07.177209Z",
     "iopub.status.busy": "2023-03-31T01:23:07.177209Z",
     "iopub.status.idle": "2023-03-31T01:23:07.194174Z",
     "shell.execute_reply": "2023-03-31T01:23:07.194174Z",
     "shell.execute_reply.started": "2023-03-31T01:23:07.177209Z"
    },
    "tags": []
   },
   "outputs": [
    {
     "data": {
      "text/plain": [
       "23"
      ]
     },
     "execution_count": 124,
     "metadata": {},
     "output_type": "execute_result"
    }
   ],
   "source": [
    "y"
   ]
  },
  {
   "cell_type": "code",
   "execution_count": 155,
   "id": "c4584764-0e0d-4b38-95f1-ba5c46a187cc",
   "metadata": {
    "execution": {
     "iopub.execute_input": "2023-03-31T02:41:38.881660Z",
     "iopub.status.busy": "2023-03-31T02:41:38.881660Z",
     "iopub.status.idle": "2023-03-31T02:41:39.011840Z",
     "shell.execute_reply": "2023-03-31T02:41:39.011840Z",
     "shell.execute_reply.started": "2023-03-31T02:41:38.881660Z"
    },
    "tags": []
   },
   "outputs": [
    {
     "data": {
      "image/png": "[encoded data removed]",
      "text/plain": [
       "<Figure size 640x480 with 1 Axes>"
      ]
     },
     "metadata": {},
     "output_type": "display_data"
    }
   ],
   "source": [
    "# There are some other factors to consider when choosing a decision boundary.\n",
    "\n",
    "# Lets say the we have a set of positive and negative data points.\n",
    "\n",
    "x = np.arange(2, 100, 4)\n",
    "y = np.random.randint(1, 50, size = x.shape[0])\n",
    "markers = list(map(lambda _x: '+' if _x < 50 else '_', x))\n",
    "colors = list(map(lambda marker: \"red\" if marker == '+' else \"blue\", markers))\n",
    "\n",
    "fig, axes = plt.subplots()\n",
    "for (_x, _y, mar, col) in zip(x, y, markers, colors):\n",
    "    axes.plot(_x, _y, linestyle = \"none\", marker = mar, mec = col, ms = 12)\n",
    "axes.plot(88, 35, linestyle = \"none\", marker = '+', mec = \"red\", ms = 12)\n",
    "\n",
    "plt.show()"
   ]
  },
  {
   "cell_type": "code",
   "execution_count": 153,
   "id": "d9842aeb-8009-4e05-80e7-bd601081f08f",
   "metadata": {
    "execution": {
     "iopub.execute_input": "2023-03-31T02:18:31.233764Z",
     "iopub.status.busy": "2023-03-31T02:18:31.233764Z",
     "iopub.status.idle": "2023-03-31T02:18:31.277964Z",
     "shell.execute_reply": "2023-03-31T02:18:31.277964Z",
     "shell.execute_reply.started": "2023-03-31T02:18:31.233764Z"
    },
    "tags": []
   },
   "outputs": [],
   "source": [
    "# ToDo\n",
    "# Implemet this soon :(\n",
    "\n",
    "# Draw a circle around the red cross at right\n",
    "\n",
    "def circle_points(centre: typing.Tuple(float, float), radius: float, step_axisx: float) -> typing.Tuple[typing.List[float], typing.List[float]]:\n",
    "    import math\n",
    "    rsq: float = radius * radius\n",
    "    xaxis: typing.List[float] = []\n",
    "    while ((centre + step_axisx) <= radius):\n",
    "        axes.apply_aspect(centre + step_axisx )\n",
    "    yaxis: typing.List[float] = [math.sqrt(rsq - (x * x)) for x in xaixs]\n",
    "    return (xaixs, yaxis)"
   ]
  },
  {
   "cell_type": "code",
   "execution_count": 154,
   "id": "9e10ecd7-b57c-4cb3-a421-f9c8320ed742",
   "metadata": {
    "execution": {
     "iopub.execute_input": "2023-03-31T02:32:50.336452Z",
     "iopub.status.busy": "2023-03-31T02:32:50.336452Z",
     "iopub.status.idle": "2023-03-31T02:32:50.343218Z",
     "shell.execute_reply": "2023-03-31T02:32:50.343218Z",
     "shell.execute_reply.started": "2023-03-31T02:32:50.336452Z"
    },
    "tags": []
   },
   "outputs": [],
   "source": [
    "# Looking at the above data,\n",
    "# An irregular polygon can encircle all the positive data points.\n",
    "# This will give a 100% accuracy on training data, since every point has been labelled correctly.\n",
    "# But this might produce unpredictable results in test data, since we cannot expect the data points to be distributed similarly to \n",
    "# the training data.\n",
    "# There is a good degree of clustering in the training data but one cannot expect the data points in test data to be clustered similarly."
   ]
  },
  {
   "cell_type": "code",
   "execution_count": 156,
   "id": "4f8c68fd-9705-4d08-8c58-a17ebc91807b",
   "metadata": {
    "execution": {
     "iopub.execute_input": "2023-03-31T02:43:15.156794Z",
     "iopub.status.busy": "2023-03-31T02:43:15.156794Z",
     "iopub.status.idle": "2023-03-31T02:43:15.160674Z",
     "shell.execute_reply": "2023-03-31T02:43:15.160674Z",
     "shell.execute_reply.started": "2023-03-31T02:43:15.156794Z"
    },
    "tags": []
   },
   "outputs": [],
   "source": [
    "# This problem happens because of the way that we defined the decision boundary.\n",
    "# This problem is called data overfitting, where the decision boundaries learned from training data work very well on training data\n",
    "# but fails to generalize to test data."
   ]
  },
  {
   "cell_type": "code",
   "execution_count": 200,
   "id": "89dae029-9d08-4b5d-9fc6-6efa5eb05633",
   "metadata": {
    "execution": {
     "iopub.execute_input": "2023-03-31T02:55:51.598628Z",
     "iopub.status.busy": "2023-03-31T02:55:51.598628Z",
     "iopub.status.idle": "2023-03-31T02:55:51.700761Z",
     "shell.execute_reply": "2023-03-31T02:55:51.700761Z",
     "shell.execute_reply.started": "2023-03-31T02:55:51.598628Z"
    },
    "tags": []
   },
   "outputs": [
    {
     "data": {
      "image/png": "[encoded data removed]",
      "text/plain": [
       "<Figure size 640x480 with 1 Axes>"
      ]
     },
     "metadata": {},
     "output_type": "display_data"
    }
   ],
   "source": [
    "# Instead of irregular boundaries, consider boundaries defined by straight lines.\n",
    "\n",
    "\n",
    "x = np.arange(2, 100, 4)\n",
    "y = np.array([32, 33, 30, 19, 15, 31,  9,  5, 11, 12, 20, 12, 41, 24, 33,  6, 21, 21,  1, 16, 46, 19, 14, 47, 18])\n",
    "\n",
    "\n",
    "markers = list(map(lambda _x: '+' if _x < 50 else '_', x))\n",
    "colors = list(map(lambda marker: \"red\" if marker == '+' else \"blue\", markers))\n",
    "\n",
    "fig, axes = plt.subplots()\n",
    "for (_x, _y, mar, col) in zip(x, y, markers, colors):\n",
    "    axes.plot(_x, _y, linestyle = \"none\", marker = mar, mec = col, ms = 12)\n",
    "axes.plot(88, 35, linestyle = \"none\", marker = '+', mec = \"red\", ms = 12)\n",
    "\n",
    "axes.plot([35, 58], [50, 0], color = \"purple\")\n",
    "\n",
    "plt.show()"
   ]
  },
  {
   "cell_type": "code",
   "execution_count": 2,
   "id": "39459afb-e63b-48bb-a0bc-f5a91535bbf9",
   "metadata": {
    "execution": {
     "iopub.execute_input": "2023-03-31T04:19:28.320911Z",
     "iopub.status.busy": "2023-03-31T04:19:28.320911Z",
     "iopub.status.idle": "2023-03-31T04:19:28.337996Z",
     "shell.execute_reply": "2023-03-31T04:19:28.337996Z",
     "shell.execute_reply.started": "2023-03-31T04:19:28.320911Z"
    },
    "tags": []
   },
   "outputs": [],
   "source": [
    "# The above line separates the positive data points from the nengative data points\n",
    "# But it has made some mistakes.\n",
    "# This line MAXIMALLY separates the positives from the negatives\n",
    "# But does not classify all data points correctsly!\n",
    "# It is also not possible for a single straight line to separate the positive data points from the engative data points.\n",
    "\n",
    "# In a 2D data representation, this boundary is a line\n",
    "# In a 3D data representation, this boundary will be a plane\n",
    "# In an n dimensional data representation, this boundary will be a hyper plane."
   ]
  },
  {
   "cell_type": "code",
   "execution_count": 3,
   "id": "cf65c75f-1857-452f-b344-3459275f3ddb",
   "metadata": {
    "execution": {
     "iopub.execute_input": "2023-03-31T04:21:56.290637Z",
     "iopub.status.busy": "2023-03-31T04:21:56.290637Z",
     "iopub.status.idle": "2023-03-31T04:21:56.296097Z",
     "shell.execute_reply": "2023-03-31T04:21:56.296097Z",
     "shell.execute_reply.started": "2023-03-31T04:21:56.290637Z"
    },
    "tags": []
   },
   "outputs": [],
   "source": [
    "# In general, use of simple models/classifiers to fit the data is called Occam's razor\n",
    "# And simple models often generalize well.\n",
    "# These models work generally well on test data.\n",
    "\n",
    "# One should expect a few misclassifications, but the model will be a better solution overall."
   ]
  },
  {
   "cell_type": "markdown",
   "id": "9c6f8d61-6850-4f60-8363-c70fd2259be4",
   "metadata": {},
   "source": [
    "### ***Finding the linear boundary***\n",
    "_________________________"
   ]
  },
  {
   "cell_type": "code",
   "execution_count": 16,
   "id": "62d36da2-64ef-4124-97c7-b7cb3949ab5b",
   "metadata": {
    "execution": {
     "iopub.execute_input": "2023-03-31T04:28:35.812245Z",
     "iopub.status.busy": "2023-03-31T04:28:35.812245Z",
     "iopub.status.idle": "2023-03-31T04:28:35.926757Z",
     "shell.execute_reply": "2023-03-31T04:28:35.926757Z",
     "shell.execute_reply.started": "2023-03-31T04:28:35.812245Z"
    },
    "tags": []
   },
   "outputs": [
    {
     "data": {
      "image/png": "[encoded data removed]",
      "text/plain": [
       "<Figure size 640x480 with 1 Axes>"
      ]
     },
     "metadata": {},
     "output_type": "display_data"
    }
   ],
   "source": [
    "# A lot of algorithms are available for this.\n",
    "# Finding the line implies finding the slope of the line.\n",
    "# e.g. \n",
    "# Perceptron\n",
    "# Linear Discriminative analyses\n",
    "# Linear least squares\n",
    "\n",
    "# A major issue with these linear boundaries is that if there's a linear boundary, there can be, by definition, infinitely many boundaries\n",
    "\n",
    "x = np.arange(2, 100, 4)\n",
    "y = np.array([32, 33, 30, 19, 15, 31,  9,  5, 11, 12, 20, 12, 41, 24, 33,  6, 21, 21,  1, 16, 46, 19, 14, 47, 18])\n",
    "markers = list(map(lambda _x: '+' if _x < 50 else '_', x))\n",
    "colors = list(map(lambda marker: \"red\" if marker == '+' else \"blue\", markers))\n",
    "fig, axes = plt.subplots()\n",
    "for (_x, _y, mar, col) in zip(x, y, markers, colors):\n",
    "    axes.plot(_x, _y, linestyle = \"none\", marker = mar, mec = col, ms = 12)\n",
    "axes.plot(88, 35, linestyle = \"none\", marker = '+', mec = \"red\", ms = 12)\n",
    "axes.plot([35, 58], [50, 0], color = \"purple\")\n",
    "axes.plot([36, 57], [50, 0], color = \"green\")\n",
    "axes.plot([37, 56], [50, 0], color = \"navy\")\n",
    "axes.plot([38, 55], [50, 0], color = \"pink\")\n",
    "axes.plot([39, 54], [50, 0], color = \"orange\")\n",
    "axes.plot([40, 53], [50, 0], color = \"cyan\")\n",
    "plt.show()"
   ]
  },
  {
   "cell_type": "code",
   "execution_count": null,
   "id": "7761f607-cea2-4ed5-97c9-1a1cbf2ca5e3",
   "metadata": {},
   "outputs": [],
   "source": []
  }
 ],
 "metadata": {
  "kernelspec": {
   "display_name": "Python 3 (ipykernel)",
   "language": "python",
   "name": "python3"
  },
  "language_info": {
   "codemirror_mode": {
    "name": "ipython",
    "version": 3
   },
   "file_extension": ".py",
   "mimetype": "text/x-python",
   "name": "python",
   "nbconvert_exporter": "python",
   "pygments_lexer": "ipython3",
   "version": "3.11.2"
  }
 },
 "nbformat": 4,
 "nbformat_minor": 5
}
