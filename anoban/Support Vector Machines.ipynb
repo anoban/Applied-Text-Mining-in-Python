{
 "cells": [
  {
   "cell_type": "code",
   "execution_count": 46,
   "id": "0db4926c-dfad-4105-81c3-ee74ad8badd8",
   "metadata": {
    "execution": {
     "iopub.execute_input": "2023-03-31T00:23:54.342809Z",
     "iopub.status.busy": "2023-03-31T00:23:54.341810Z",
     "iopub.status.idle": "2023-03-31T00:23:54.348314Z",
     "shell.execute_reply": "2023-03-31T00:23:54.347304Z",
     "shell.execute_reply.started": "2023-03-31T00:23:54.342809Z"
    },
    "tags": []
   },
   "outputs": [],
   "source": [
    "import numpy as np\n",
    "import matplotlib.pyplot as plt\n",
    "from random import sample"
   ]
  },
  {
   "cell_type": "markdown",
   "id": "f23745de-f7e1-43c4-a180-54fd3a7ec0cf",
   "metadata": {},
   "source": [
    "# ***Support Vector Machines***\n",
    "--------------------------"
   ]
  },
  {
   "cell_type": "code",
   "execution_count": 1,
   "id": "4797a568-6bf0-48b2-aa39-e0f81962d669",
   "metadata": {
    "execution": {
     "iopub.execute_input": "2023-03-30T23:36:25.808841Z",
     "iopub.status.busy": "2023-03-30T23:36:25.808841Z",
     "iopub.status.idle": "2023-03-30T23:36:25.822795Z",
     "shell.execute_reply": "2023-03-30T23:36:25.822795Z",
     "shell.execute_reply.started": "2023-03-30T23:36:25.808841Z"
    }
   },
   "outputs": [],
   "source": [
    "dt = \"\"\"When James entered preschool, he faced significant mental and behavioral health problems, including aggressive behavior,\n",
    "difficulty regulating his emotions, and trouble forming healthy relationships with peers. Despite all these difficulties,\n",
    "he did not meet the diagnostic criteria for post-traumatic stress disorder (PTSD) when he was assessed by clinicians at ages 5, 9, and 16.\n",
    "(More than 70% of children treated by the National Child Traumatic Stress Network [NCTSN] do not meet the criteria \n",
    "[Purbeck, C. A., et al., NCTSN Core Data Set Report, 2021].) By the time James started high school, he had been diagnosed with oppositional\n",
    "defiant disorder (ODD), bipolar disorder, borderline personality disorder, and generalized anxiety disorder. He takes a cocktail of\n",
    "medications, but neither his diagnoses nor his treatments address the effects of his tumultuous early years.\"\"\""
   ]
  },
  {
   "cell_type": "code",
   "execution_count": 2,
   "id": "3eb46100-165c-4d7c-b09e-1ae4504b8fcf",
   "metadata": {
    "execution": {
     "iopub.execute_input": "2023-03-30T23:40:42.733477Z",
     "iopub.status.busy": "2023-03-30T23:40:42.733477Z",
     "iopub.status.idle": "2023-03-30T23:40:42.750807Z",
     "shell.execute_reply": "2023-03-30T23:40:42.750807Z",
     "shell.execute_reply.started": "2023-03-30T23:40:42.733477Z"
    },
    "tags": []
   },
   "outputs": [],
   "source": [
    "# Consider the above text.\n",
    "# We are asked to decide to which subject domain this piece of information belongs?\n",
    "# Neurology / Sociology / Psychiatry / Psysiology / Developmental Psychology\n",
    "\n",
    "# Looking at the words like mental, behavioral health, post-traumatic stress disorder (PTSD), oppositionaldefiant disorder (ODD), \n",
    "# bipolar disorder, borderline personality disorder, and generalized anxiety disorder.\n",
    "# We are likely to classify this text as associated to Psychiatry / Developmental psychology"
   ]
  },
  {
   "cell_type": "markdown",
   "id": "bda1e929-e6ba-4022-b0e3-b6cccd5ec083",
   "metadata": {},
   "source": [
    "![Avatar - The Way of Water Review](./avatar2.png)"
   ]
  },
  {
   "cell_type": "code",
   "execution_count": 3,
   "id": "221d24dd-ba39-49b8-a59e-8d2a6a794964",
   "metadata": {
    "execution": {
     "iopub.execute_input": "2023-03-30T23:54:20.066157Z",
     "iopub.status.busy": "2023-03-30T23:54:20.066157Z",
     "iopub.status.idle": "2023-03-30T23:54:20.074737Z",
     "shell.execute_reply": "2023-03-30T23:54:20.074737Z",
     "shell.execute_reply.started": "2023-03-30T23:54:20.066157Z"
    },
    "tags": []
   },
   "outputs": [],
   "source": [
    "# Look at the above review\n",
    "# The reviewer has given 10 stars and a really good and positive review.\n",
    "# Note the use of following words.\n",
    "# remarkable, perfect, masterpiece, amazing, phenomenal etc.\n",
    "\n",
    "# If we see words like waste, lame, garbage, propaganda, wannabe, crap that would imply that the review is negative.\n",
    "# This is a sentiment based classification task, where one classifies a document based on its word composition according to a sentiment based\n",
    "# criteria."
   ]
  },
  {
   "cell_type": "code",
   "execution_count": 4,
   "id": "3a261678-d2da-4e01-aa2e-15b83b54130a",
   "metadata": {
    "execution": {
     "iopub.execute_input": "2023-03-30T23:56:11.086033Z",
     "iopub.status.busy": "2023-03-30T23:56:11.086033Z",
     "iopub.status.idle": "2023-03-30T23:56:11.099014Z",
     "shell.execute_reply": "2023-03-30T23:56:11.099014Z",
     "shell.execute_reply.started": "2023-03-30T23:56:11.086033Z"
    },
    "tags": []
   },
   "outputs": [],
   "source": [
    "# In general, a classifier can be defined as a function on the input data.\n",
    "# So,"
   ]
  },
  {
   "cell_type": "markdown",
   "id": "2e53db05-5ec3-4e50-a624-e7993b1ac19c",
   "metadata": {},
   "source": [
    "### ***$f(Medical~texts)~\\rightarrow\\text{{Psychiatry, Psychology, Physiology, Pathology, Rheumatology}}$***\n",
    "### ***$f(Movie~reviews)~\\rightarrow\\text{{Positive, Negative}}$***"
   ]
  },
  {
   "cell_type": "code",
   "execution_count": 5,
   "id": "063e29f5-5f6a-4a45-bb33-22c534c1da6d",
   "metadata": {
    "execution": {
     "iopub.execute_input": "2023-03-31T00:01:46.992800Z",
     "iopub.status.busy": "2023-03-31T00:01:46.992800Z",
     "iopub.status.idle": "2023-03-31T00:01:46.998199Z",
     "shell.execute_reply": "2023-03-31T00:01:46.998199Z",
     "shell.execute_reply.started": "2023-03-31T00:01:46.992800Z"
    },
    "tags": []
   },
   "outputs": [],
   "source": [
    "# It is typical to have numbers used to label classes e.g like -1 or +1\n",
    "# And that's what SVMs or any other linear classifiers usually use."
   ]
  },
  {
   "cell_type": "markdown",
   "id": "696be132-d91a-46ee-9345-abcd7e027d8e",
   "metadata": {},
   "source": [
    "# ***Descision Boundary***\n",
    "----------------------------"
   ]
  },
  {
   "cell_type": "code",
   "execution_count": 101,
   "id": "4bce7f53-110f-4d17-a270-aeca9cc8504f",
   "metadata": {
    "execution": {
     "iopub.execute_input": "2023-03-31T00:41:17.262004Z",
     "iopub.status.busy": "2023-03-31T00:41:17.262004Z",
     "iopub.status.idle": "2023-03-31T00:41:17.268002Z",
     "shell.execute_reply": "2023-03-31T00:41:17.267259Z",
     "shell.execute_reply.started": "2023-03-31T00:41:17.262004Z"
    },
    "tags": []
   },
   "outputs": [],
   "source": [
    "x = range(1, 21)\n",
    "y = np.random.randint(1, 50, 20)\n",
    "classes = np.repeat(['o', 's'], 10)\n",
    "colors = list(map(lambda _class: \"red\" if _class == 'o' else \"blue\", classes))"
   ]
  },
  {
   "cell_type": "code",
   "execution_count": 102,
   "id": "44941356-271e-4ba6-aa45-89a529965180",
   "metadata": {
    "execution": {
     "iopub.execute_input": "2023-03-31T00:41:17.634330Z",
     "iopub.status.busy": "2023-03-31T00:41:17.634330Z",
     "iopub.status.idle": "2023-03-31T00:41:17.872034Z",
     "shell.execute_reply": "2023-03-31T00:41:17.872034Z",
     "shell.execute_reply.started": "2023-03-31T00:41:17.634330Z"
    },
    "tags": []
   },
   "outputs": [
    {
     "data": {
      "image/png": "[encoded data removed]",
      "text/plain": [
       "<Figure size 640x480 with 1 Axes>"
      ]
     },
     "metadata": {},
     "output_type": "display_data"
    }
   ],
   "source": [
    "fig, axes = plt.subplots()\n",
    "for (_x, _y, _color, _marker) in zip(x, y, colors, classes):\n",
    "    axes.plot(_x, _y, marker = _marker, mfc = _color, ms = 15, linestyle = \"none\", mec = \"none\", gapcolor = \"none\")\n",
    "plt.show()"
   ]
  },
  {
   "cell_type": "code",
   "execution_count": 103,
   "id": "38c043ca-fe31-44b2-8fc1-05856b4b8f4b",
   "metadata": {
    "execution": {
     "iopub.execute_input": "2023-03-31T00:44:11.585071Z",
     "iopub.status.busy": "2023-03-31T00:44:11.585071Z",
     "iopub.status.idle": "2023-03-31T00:44:11.590331Z",
     "shell.execute_reply": "2023-03-31T00:44:11.590331Z",
     "shell.execute_reply.started": "2023-03-31T00:44:11.585071Z"
    },
    "tags": []
   },
   "outputs": [],
   "source": [
    "# Look at the data points in this 2 dimensional space.\n",
    "# Some of them are marked by blue stars while others are marked by red circles.\n",
    "# Let's say that the circles are class A and the stars are class B.\n",
    "\n",
    "# Now, we need to make a boundary to separate one class from the other class\n",
    "# One can choose any decision boundary\n",
    "# A circle that encircles data points of a given class\n",
    "# A square\n",
    "# Any other random irregular shapes\n",
    "\n",
    "# A classification function is represented by a decision surface or decision boundary."
   ]
  },
  {
   "cell_type": "code",
   "execution_count": null,
   "id": "0f1b535c-7e91-4e15-92b7-e27704331e16",
   "metadata": {},
   "outputs": [],
   "source": [
    "# Whenever one uses a decision boundary, the main purpose is that "
   ]
  }
 ],
 "metadata": {
  "kernelspec": {
   "display_name": "Python 3 (ipykernel)",
   "language": "python",
   "name": "python3"
  },
  "language_info": {
   "codemirror_mode": {
    "name": "ipython",
    "version": 3
   },
   "file_extension": ".py",
   "mimetype": "text/x-python",
   "name": "python",
   "nbconvert_exporter": "python",
   "pygments_lexer": "ipython3",
   "version": "3.11.2"
  }
 },
 "nbformat": 4,
 "nbformat_minor": 5
}
