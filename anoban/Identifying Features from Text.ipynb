{
 "cells": [
  {
   "cell_type": "markdown",
   "id": "ef64a2bf-5310-416d-a58c-72f6d1d750f5",
   "metadata": {},
   "source": [
    "# ***Identifying features in Text***\n",
    "---------------------------"
   ]
  },
  {
   "cell_type": "code",
   "execution_count": 1,
   "id": "0dc027f9-28ba-4cdd-8e16-ec8ef004c939",
   "metadata": {
    "execution": {
     "iopub.execute_input": "2023-03-23T04:01:44.856684Z",
     "iopub.status.busy": "2023-03-23T04:01:44.856684Z",
     "iopub.status.idle": "2023-03-23T04:01:44.865490Z",
     "shell.execute_reply": "2023-03-23T04:01:44.865490Z",
     "shell.execute_reply.started": "2023-03-23T04:01:44.856684Z"
    },
    "tags": []
   },
   "outputs": [],
   "source": [
    "# All the informations is in textual form.\n",
    "# Features can be extracted in different granularities."
   ]
  },
  {
   "cell_type": "code",
   "execution_count": 2,
   "id": "41fa8efc-c07f-4279-924d-52f5bf34eacd",
   "metadata": {
    "execution": {
     "iopub.execute_input": "2023-03-23T04:02:35.702275Z",
     "iopub.status.busy": "2023-03-23T04:02:35.702275Z",
     "iopub.status.idle": "2023-03-23T04:02:35.713990Z",
     "shell.execute_reply": "2023-03-23T04:02:35.713990Z",
     "shell.execute_reply.started": "2023-03-23T04:02:35.702275Z"
    },
    "tags": []
   },
   "outputs": [],
   "source": [
    "# The basic feature is the set of words that comprise a text body."
   ]
  },
  {
   "cell_type": "markdown",
   "id": "7af8eeef-0481-4ad4-bf0e-28e79c500bd0",
   "metadata": {},
   "source": [
    "## ***Handling commonly occurring words (stop words)***"
   ]
  },
  {
   "cell_type": "code",
   "execution_count": 3,
   "id": "aa44c520-9634-41c3-9592-ecde5f170cb3",
   "metadata": {
    "execution": {
     "iopub.execute_input": "2023-03-23T04:04:50.574879Z",
     "iopub.status.busy": "2023-03-23T04:04:50.574879Z",
     "iopub.status.idle": "2023-03-23T04:04:50.586849Z",
     "shell.execute_reply": "2023-03-23T04:04:50.586849Z",
     "shell.execute_reply.started": "2023-03-23T04:04:50.574879Z"
    },
    "tags": []
   },
   "outputs": [],
   "source": [
    "# Some words are more important than others.\n",
    "# Certain words like \"the\", \"in\", \"on\" have very little value in classification problems most of the time.\n",
    "# And consequently be omitted under most circumstances."
   ]
  },
  {
   "cell_type": "code",
   "execution_count": 4,
   "id": "310a3bf1-4c2b-4751-8d69-cb9fa0f671fd",
   "metadata": {
    "execution": {
     "iopub.execute_input": "2023-03-23T04:06:51.133765Z",
     "iopub.status.busy": "2023-03-23T04:06:51.133765Z",
     "iopub.status.idle": "2023-03-23T04:06:51.145678Z",
     "shell.execute_reply": "2023-03-23T04:06:51.145678Z",
     "shell.execute_reply.started": "2023-03-23T04:06:51.133765Z"
    },
    "tags": []
   },
   "outputs": [],
   "source": [
    "# Normalization.\n",
    "\n",
    "# Suppose a text body has the following words\n",
    "# Parliment and parliment\n",
    "# Can we make them both lower case?\n",
    "# Or should we leve them as they are?\n",
    "\n",
    "# If we normalize US (as in U.S.A) to us, it'll become indistinguishible from the word \"us\"!"
   ]
  },
  {
   "cell_type": "code",
   "execution_count": 6,
   "id": "9cb9468b-ecb7-4a72-913d-1a09e9c4ec4f",
   "metadata": {
    "execution": {
     "iopub.execute_input": "2023-03-23T04:08:31.691116Z",
     "iopub.status.busy": "2023-03-23T04:08:31.691116Z",
     "iopub.status.idle": "2023-03-23T04:08:31.705685Z",
     "shell.execute_reply": "2023-03-23T04:08:31.705685Z",
     "shell.execute_reply.started": "2023-03-23T04:08:31.691116Z"
    },
    "tags": []
   },
   "outputs": [],
   "source": [
    "# In some cases you want to normalize the words while in others you do not.\n",
    "# In some cases you do not want plurals to be treated as different features.\n",
    "# So you'd want to stem / lemmatize them."
   ]
  },
  {
   "cell_type": "code",
   "execution_count": 7,
   "id": "c982af44-a5ab-4ece-9b65-230b91964ebe",
   "metadata": {
    "execution": {
     "iopub.execute_input": "2023-03-23T04:11:28.663367Z",
     "iopub.status.busy": "2023-03-23T04:11:28.663367Z",
     "iopub.status.idle": "2023-03-23T04:11:28.667088Z",
     "shell.execute_reply": "2023-03-23T04:11:28.667088Z",
     "shell.execute_reply.started": "2023-03-23T04:11:28.663367Z"
    },
    "tags": []
   },
   "outputs": [],
   "source": [
    "# Capitalization\n",
    "\n",
    "# Capitalization carries significant meaning in certain contexts.\n",
    "\n",
    "# White House is very different from a white house."
   ]
  },
  {
   "cell_type": "code",
   "execution_count": 8,
   "id": "6f7d9bf1-7d1a-4bc0-8f41-35e2685bf5f8",
   "metadata": {
    "execution": {
     "iopub.execute_input": "2023-03-23T04:12:37.419659Z",
     "iopub.status.busy": "2023-03-23T04:12:37.419659Z",
     "iopub.status.idle": "2023-03-23T04:12:37.430928Z",
     "shell.execute_reply": "2023-03-23T04:12:37.430928Z",
     "shell.execute_reply.started": "2023-03-23T04:12:37.419659Z"
    },
    "tags": []
   },
   "outputs": [],
   "source": [
    "# Other features\n",
    "\n",
    "# Parts of speech\n",
    "\n",
    "# Grammatical structure / sentence parsing\n",
    "\n",
    "# Grouping words of similar meanings / semantics\n",
    "# e.g buy, purchase\n",
    "# Ms. Mr. MRs. Prof. Rev. Dr.\n",
    "# Numbers / digits / dates"
   ]
  },
  {
   "cell_type": "code",
   "execution_count": 9,
   "id": "f7c67cf2-9484-4e50-b7d0-6b4d8a5c3d9f",
   "metadata": {
    "execution": {
     "iopub.execute_input": "2023-03-23T04:19:23.811354Z",
     "iopub.status.busy": "2023-03-23T04:19:23.811354Z",
     "iopub.status.idle": "2023-03-23T04:19:23.826432Z",
     "shell.execute_reply": "2023-03-23T04:19:23.826432Z",
     "shell.execute_reply.started": "2023-03-23T04:19:23.811354Z"
    },
    "tags": []
   },
   "outputs": [],
   "source": [
    "# Depending on the classification problem, features may come from inside the words or word sequences.\n",
    "# e.g bi-grams, tri-grams, n-grams.\n"
   ]
  },
  {
   "cell_type": "code",
   "execution_count": 11,
   "id": "b91c5633-0081-4d4f-9d55-c6a8ac0a632a",
   "metadata": {
    "execution": {
     "iopub.execute_input": "2023-03-23T04:20:23.854253Z",
     "iopub.status.busy": "2023-03-23T04:20:23.854253Z",
     "iopub.status.idle": "2023-03-23T04:20:23.858678Z",
     "shell.execute_reply": "2023-03-23T04:20:23.858678Z",
     "shell.execute_reply.started": "2023-03-23T04:20:23.854253Z"
    },
    "tags": []
   },
   "outputs": [],
   "source": [
    "# Character subsequences\n",
    "# like \"ing\" -> suggesta a continuous verb\n",
    "# \"ion\" -> suggests a noun"
   ]
  },
  {
   "cell_type": "code",
   "execution_count": null,
   "id": "c1ac3fc9-ea82-4ed2-a8df-d00fe5264258",
   "metadata": {},
   "outputs": [],
   "source": []
  }
 ],
 "metadata": {
  "kernelspec": {
   "display_name": "Python 3 (ipykernel)",
   "language": "python",
   "name": "python3"
  },
  "language_info": {
   "codemirror_mode": {
    "name": "ipython",
    "version": 3
   },
   "file_extension": ".py",
   "mimetype": "text/x-python",
   "name": "python",
   "nbconvert_exporter": "python",
   "pygments_lexer": "ipython3",
   "version": "3.11.2"
  }
 },
 "nbformat": 4,
 "nbformat_minor": 5
}
