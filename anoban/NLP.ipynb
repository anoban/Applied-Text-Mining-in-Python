{
 "cells": [
  {
   "cell_type": "markdown",
   "id": "8be08d38-8186-4536-b72e-c948b2eefcbd",
   "metadata": {},
   "source": [
    "# ***Natural Language Processing***\n",
    "-----------------------------"
   ]
  },
  {
   "cell_type": "markdown",
   "id": "53594db2-e07b-45bb-9dd3-16f900bfd6a8",
   "metadata": {},
   "source": [
    "## **Any computation/manipulation of human languages is called natural language processing.**"
   ]
  },
  {
   "cell_type": "markdown",
   "id": "08760426-30cf-4ae5-b4b0-8e0d1d462fa1",
   "metadata": {},
   "source": [
    "**However, natural languages are dynamic and change continuously.        \n",
    "New words get added - selfie, photobomb...         \n",
    "Old words become obsolete - thou, shalnt, methinks....         \n",
    "Meanings of words change - learn used to mean teach            \n",
    "Language rules change..**"
   ]
  },
  {
   "cell_type": "markdown",
   "id": "5919f139-dce8-4ace-ac3b-d23c8fdf39dc",
   "metadata": {},
   "source": [
    "## ***Natural language processing tasks***\n",
    "-----------------------------------------"
   ]
  },
  {
   "cell_type": "code",
   "execution_count": null,
   "id": "58121f06-0ef3-4459-8cb6-9cdeca9b67ab",
   "metadata": {},
   "outputs": [],
   "source": [
    "# Counting words / frequency of words\n",
    "# Finding sentence boundaries.\n",
    "# Parts of speech tagging.\n",
    "# Parsing sentence structures.\n",
    "# Identifying semantic rules.\n",
    "# Ientifying entities in sentences.\n",
    "# Finding which pronoun referes to which entity (coreference resolution)"
   ]
  }
 ],
 "metadata": {
  "kernelspec": {
   "display_name": "Python 3 (ipykernel)",
   "language": "python",
   "name": "python3"
  },
  "language_info": {
   "codemirror_mode": {
    "name": "ipython",
    "version": 3
   },
   "file_extension": ".py",
   "mimetype": "text/x-python",
   "name": "python",
   "nbconvert_exporter": "python",
   "pygments_lexer": "ipython3",
   "version": "3.11.2"
  }
 },
 "nbformat": 4,
 "nbformat_minor": 5
}
