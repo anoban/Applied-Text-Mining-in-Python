{
 "cells": [
  {
   "cell_type": "code",
   "execution_count": 56,
   "id": "ee381b00-4dfa-4206-b100-eeac2ec7ca3d",
   "metadata": {
    "execution": {
     "iopub.execute_input": "2023-03-19T02:09:28.436163Z",
     "iopub.status.busy": "2023-03-19T02:09:28.436163Z",
     "iopub.status.idle": "2023-03-19T02:09:28.448742Z",
     "shell.execute_reply": "2023-03-19T02:09:28.448742Z",
     "shell.execute_reply.started": "2023-03-19T02:09:28.436163Z"
    },
    "tags": []
   },
   "outputs": [],
   "source": [
    "wordsworth = \"\"\"She dwelt among the untrodden ways\n",
    "Beside the springs of Dove,\n",
    "A Maid whom there were none to praise\n",
    "And very few to love:\n",
    "\n",
    "   A violet by a mossy stone\n",
    "Half hidden from the eye!\n",
    "Fair as a star, when only one\n",
    "Is shining in the sky.\n",
    "\n",
    "   She lived unknown, and few could know\n",
    "When Lucy ceased to be;                                  \n",
    "But she is in her grave, and, oh,\n",
    "The difference to me!\n",
    "\"\"\""
   ]
  },
  {
   "cell_type": "code",
   "execution_count": 57,
   "id": "4e9a3929-670c-4b65-a224-71c47715d42a",
   "metadata": {
    "execution": {
     "iopub.execute_input": "2023-03-19T02:09:29.002902Z",
     "iopub.status.busy": "2023-03-19T02:09:29.002902Z",
     "iopub.status.idle": "2023-03-19T02:09:29.008956Z",
     "shell.execute_reply": "2023-03-19T02:09:29.008956Z",
     "shell.execute_reply.started": "2023-03-19T02:09:29.002902Z"
    },
    "tags": []
   },
   "outputs": [
    {
     "data": {
      "text/plain": [
       "388"
      ]
     },
     "execution_count": 57,
     "metadata": {},
     "output_type": "execute_result"
    }
   ],
   "source": [
    "len(wordsworth)"
   ]
  },
  {
   "cell_type": "code",
   "execution_count": 58,
   "id": "900f1ec2-ecfe-4de9-b858-eccfa66cfa95",
   "metadata": {
    "execution": {
     "iopub.execute_input": "2023-03-19T02:09:29.459735Z",
     "iopub.status.busy": "2023-03-19T02:09:29.459735Z",
     "iopub.status.idle": "2023-03-19T02:09:29.465565Z",
     "shell.execute_reply": "2023-03-19T02:09:29.465565Z",
     "shell.execute_reply.started": "2023-03-19T02:09:29.459735Z"
    },
    "tags": []
   },
   "outputs": [
    {
     "data": {
      "text/plain": [
       "['She',\n",
       " 'dwelt',\n",
       " 'among',\n",
       " 'the',\n",
       " 'untrodden',\n",
       " 'ways',\n",
       " 'Beside',\n",
       " 'the',\n",
       " 'springs',\n",
       " 'of']"
      ]
     },
     "execution_count": 58,
     "metadata": {},
     "output_type": "execute_result"
    }
   ],
   "source": [
    "wordsworth.split()[:10]"
   ]
  },
  {
   "cell_type": "code",
   "execution_count": 59,
   "id": "809eb022-7063-47d8-bd8a-ffb034ee22c4",
   "metadata": {
    "execution": {
     "iopub.execute_input": "2023-03-19T02:09:29.899841Z",
     "iopub.status.busy": "2023-03-19T02:09:29.899841Z",
     "iopub.status.idle": "2023-03-19T02:09:29.914632Z",
     "shell.execute_reply": "2023-03-19T02:09:29.914632Z",
     "shell.execute_reply.started": "2023-03-19T02:09:29.899841Z"
    },
    "tags": []
   },
   "outputs": [
    {
     "data": {
      "text/plain": [
       "71"
      ]
     },
     "execution_count": 59,
     "metadata": {},
     "output_type": "execute_result"
    }
   ],
   "source": [
    "# Tokens or words\n",
    "\n",
    "len(wordsworth.split())"
   ]
  },
  {
   "cell_type": "code",
   "execution_count": 60,
   "id": "32ad49cc-d40b-486e-926b-571c220eba20",
   "metadata": {
    "execution": {
     "iopub.execute_input": "2023-03-19T02:09:30.323912Z",
     "iopub.status.busy": "2023-03-19T02:09:30.323912Z",
     "iopub.status.idle": "2023-03-19T02:09:30.328988Z",
     "shell.execute_reply": "2023-03-19T02:09:30.328988Z",
     "shell.execute_reply.started": "2023-03-19T02:09:30.323912Z"
    },
    "tags": []
   },
   "outputs": [
    {
     "data": {
      "text/plain": [
       "60"
      ]
     },
     "execution_count": 60,
     "metadata": {},
     "output_type": "execute_result"
    }
   ],
   "source": [
    "# Unique tokens (not really unique words).\n",
    "\n",
    "len(set(wordsworth.split()))"
   ]
  },
  {
   "cell_type": "code",
   "execution_count": 61,
   "id": "11dc5766-d94b-46f9-a65d-d1e60c532ae7",
   "metadata": {
    "execution": {
     "iopub.execute_input": "2023-03-19T02:09:30.670371Z",
     "iopub.status.busy": "2023-03-19T02:09:30.670371Z",
     "iopub.status.idle": "2023-03-19T02:09:30.688868Z",
     "shell.execute_reply": "2023-03-19T02:09:30.688868Z",
     "shell.execute_reply.started": "2023-03-19T02:09:30.670371Z"
    },
    "tags": []
   },
   "outputs": [
    {
     "data": {
      "text/plain": [
       "54"
      ]
     },
     "execution_count": 61,
     "metadata": {},
     "output_type": "execute_result"
    }
   ],
   "source": [
    "# Unique words.\n",
    "\n",
    "len({token.lower() for token in wordsworth.split()})"
   ]
  },
  {
   "cell_type": "code",
   "execution_count": 62,
   "id": "9a6ea243-3178-48a5-a9cf-7af029a797be",
   "metadata": {
    "execution": {
     "iopub.execute_input": "2023-03-19T02:09:30.906331Z",
     "iopub.status.busy": "2023-03-19T02:09:30.906331Z",
     "iopub.status.idle": "2023-03-19T02:09:30.920732Z",
     "shell.execute_reply": "2023-03-19T02:09:30.920732Z",
     "shell.execute_reply.started": "2023-03-19T02:09:30.906331Z"
    },
    "tags": []
   },
   "outputs": [
    {
     "data": {
      "text/plain": [
       "['untrodden', 'difference']"
      ]
     },
     "execution_count": 62,
     "metadata": {},
     "output_type": "execute_result"
    }
   ],
   "source": [
    "[token for token in wordsworth.split() if len(token) > 8]"
   ]
  },
  {
   "cell_type": "code",
   "execution_count": 63,
   "id": "28cbfa69-4de8-4406-989e-475724fe045e",
   "metadata": {
    "execution": {
     "iopub.execute_input": "2023-03-19T02:09:31.094965Z",
     "iopub.status.busy": "2023-03-19T02:09:31.094965Z",
     "iopub.status.idle": "2023-03-19T02:09:31.106000Z",
     "shell.execute_reply": "2023-03-19T02:09:31.106000Z",
     "shell.execute_reply.started": "2023-03-19T02:09:31.094965Z"
    },
    "tags": []
   },
   "outputs": [
    {
     "data": {
      "text/plain": [
       "['She',\n",
       " 'Beside',\n",
       " 'Dove,',\n",
       " 'A',\n",
       " 'Maid',\n",
       " 'And',\n",
       " 'A',\n",
       " 'Half',\n",
       " 'Fair',\n",
       " 'Is',\n",
       " 'She',\n",
       " 'When',\n",
       " 'Lucy',\n",
       " 'But',\n",
       " 'The']"
      ]
     },
     "execution_count": 63,
     "metadata": {},
     "output_type": "execute_result"
    }
   ],
   "source": [
    "[token for token in wordsworth.split() if token.istitle()]"
   ]
  },
  {
   "cell_type": "code",
   "execution_count": 64,
   "id": "a4eaba46-76c2-4008-9bee-f029aa83b5c4",
   "metadata": {
    "execution": {
     "iopub.execute_input": "2023-03-19T02:09:31.258241Z",
     "iopub.status.busy": "2023-03-19T02:09:31.258241Z",
     "iopub.status.idle": "2023-03-19T02:09:31.262533Z",
     "shell.execute_reply": "2023-03-19T02:09:31.262533Z",
     "shell.execute_reply.started": "2023-03-19T02:09:31.258241Z"
    },
    "tags": []
   },
   "outputs": [],
   "source": [
    "text = \"Untrodden Ways\""
   ]
  },
  {
   "cell_type": "code",
   "execution_count": 65,
   "id": "fd923253-3531-485e-a118-d126b3452129",
   "metadata": {
    "execution": {
     "iopub.execute_input": "2023-03-19T02:09:31.424693Z",
     "iopub.status.busy": "2023-03-19T02:09:31.424693Z",
     "iopub.status.idle": "2023-03-19T02:09:31.432237Z",
     "shell.execute_reply": "2023-03-19T02:09:31.432237Z",
     "shell.execute_reply.started": "2023-03-19T02:09:31.424693Z"
    },
    "tags": []
   },
   "outputs": [
    {
     "data": {
      "text/plain": [
       "True"
      ]
     },
     "execution_count": 65,
     "metadata": {},
     "output_type": "execute_result"
    }
   ],
   "source": [
    "text.startswith(\"U\")"
   ]
  },
  {
   "cell_type": "code",
   "execution_count": 66,
   "id": "9610a13c-685c-4531-9542-73c86968a443",
   "metadata": {
    "execution": {
     "iopub.execute_input": "2023-03-19T02:09:31.614525Z",
     "iopub.status.busy": "2023-03-19T02:09:31.614525Z",
     "iopub.status.idle": "2023-03-19T02:09:31.624473Z",
     "shell.execute_reply": "2023-03-19T02:09:31.624473Z",
     "shell.execute_reply.started": "2023-03-19T02:09:31.614525Z"
    },
    "tags": []
   },
   "outputs": [
    {
     "data": {
      "text/plain": [
       "False"
      ]
     },
     "execution_count": 66,
     "metadata": {},
     "output_type": "execute_result"
    }
   ],
   "source": [
    "text.endswith(\"S\")"
   ]
  },
  {
   "cell_type": "code",
   "execution_count": 67,
   "id": "e5927781-edf2-4d82-825d-a0cec983937d",
   "metadata": {
    "execution": {
     "iopub.execute_input": "2023-03-19T02:09:31.772152Z",
     "iopub.status.busy": "2023-03-19T02:09:31.772152Z",
     "iopub.status.idle": "2023-03-19T02:09:31.784207Z",
     "shell.execute_reply": "2023-03-19T02:09:31.784207Z",
     "shell.execute_reply.started": "2023-03-19T02:09:31.772152Z"
    },
    "tags": []
   },
   "outputs": [
    {
     "data": {
      "text/plain": [
       "True"
      ]
     },
     "execution_count": 67,
     "metadata": {},
     "output_type": "execute_result"
    }
   ],
   "source": [
    "\"W\" in text"
   ]
  },
  {
   "cell_type": "code",
   "execution_count": 68,
   "id": "777d5fda-c01e-439f-b86b-d4750fcaae9f",
   "metadata": {
    "execution": {
     "iopub.execute_input": "2023-03-19T02:09:31.929411Z",
     "iopub.status.busy": "2023-03-19T02:09:31.929411Z",
     "iopub.status.idle": "2023-03-19T02:09:31.992298Z",
     "shell.execute_reply": "2023-03-19T02:09:31.991290Z",
     "shell.execute_reply.started": "2023-03-19T02:09:31.929411Z"
    },
    "tags": []
   },
   "outputs": [
    {
     "data": {
      "text/plain": [
       "(False, False, True)"
      ]
     },
     "execution_count": 68,
     "metadata": {},
     "output_type": "execute_result"
    }
   ],
   "source": [
    "text.islower(), text.isupper(), text.istitle()"
   ]
  },
  {
   "cell_type": "code",
   "execution_count": 69,
   "id": "a2894d97-6baf-4187-b204-7eaf798763d2",
   "metadata": {
    "execution": {
     "iopub.execute_input": "2023-03-19T02:09:32.839226Z",
     "iopub.status.busy": "2023-03-19T02:09:32.839226Z",
     "iopub.status.idle": "2023-03-19T02:09:32.850192Z",
     "shell.execute_reply": "2023-03-19T02:09:32.850192Z",
     "shell.execute_reply.started": "2023-03-19T02:09:32.839226Z"
    },
    "tags": []
   },
   "outputs": [
    {
     "data": {
      "text/plain": [
       "False"
      ]
     },
     "execution_count": 69,
     "metadata": {},
     "output_type": "execute_result"
    }
   ],
   "source": [
    "text.isdecimal()"
   ]
  },
  {
   "cell_type": "code",
   "execution_count": 70,
   "id": "ff3ec1ab-4b35-4b16-9ef6-3664653bb41b",
   "metadata": {
    "execution": {
     "iopub.execute_input": "2023-03-19T02:09:33.121902Z",
     "iopub.status.busy": "2023-03-19T02:09:33.121902Z",
     "iopub.status.idle": "2023-03-19T02:09:33.126842Z",
     "shell.execute_reply": "2023-03-19T02:09:33.126842Z",
     "shell.execute_reply.started": "2023-03-19T02:09:33.121902Z"
    },
    "tags": []
   },
   "outputs": [],
   "source": [
    "num = \"6546.53465\""
   ]
  },
  {
   "cell_type": "code",
   "execution_count": 71,
   "id": "59aed0d6-8bab-4b73-8058-adfbca1a1141",
   "metadata": {
    "execution": {
     "iopub.execute_input": "2023-03-19T02:09:33.388504Z",
     "iopub.status.busy": "2023-03-19T02:09:33.388504Z",
     "iopub.status.idle": "2023-03-19T02:09:33.400674Z",
     "shell.execute_reply": "2023-03-19T02:09:33.400674Z",
     "shell.execute_reply.started": "2023-03-19T02:09:33.388504Z"
    },
    "tags": []
   },
   "outputs": [
    {
     "data": {
      "text/plain": [
       "False"
      ]
     },
     "execution_count": 71,
     "metadata": {},
     "output_type": "execute_result"
    }
   ],
   "source": [
    "num.isalpha()"
   ]
  },
  {
   "cell_type": "code",
   "execution_count": 72,
   "id": "e5ed8219-84aa-4901-9196-6d002ac53ab0",
   "metadata": {
    "execution": {
     "iopub.execute_input": "2023-03-19T02:09:33.593174Z",
     "iopub.status.busy": "2023-03-19T02:09:33.593174Z",
     "iopub.status.idle": "2023-03-19T02:09:33.608651Z",
     "shell.execute_reply": "2023-03-19T02:09:33.608651Z",
     "shell.execute_reply.started": "2023-03-19T02:09:33.593174Z"
    },
    "tags": []
   },
   "outputs": [
    {
     "data": {
      "text/plain": [
       "False"
      ]
     },
     "execution_count": 72,
     "metadata": {},
     "output_type": "execute_result"
    }
   ],
   "source": [
    "num.isnumeric()"
   ]
  },
  {
   "cell_type": "code",
   "execution_count": 73,
   "id": "7b312f81-e9eb-4fed-b5dc-38515d61e0fe",
   "metadata": {
    "execution": {
     "iopub.execute_input": "2023-03-19T02:09:33.780862Z",
     "iopub.status.busy": "2023-03-19T02:09:33.780862Z",
     "iopub.status.idle": "2023-03-19T02:09:33.793218Z",
     "shell.execute_reply": "2023-03-19T02:09:33.793218Z",
     "shell.execute_reply.started": "2023-03-19T02:09:33.780862Z"
    },
    "tags": []
   },
   "outputs": [
    {
     "data": {
      "text/plain": [
       "False"
      ]
     },
     "execution_count": 73,
     "metadata": {},
     "output_type": "execute_result"
    }
   ],
   "source": [
    "num.isdigit()"
   ]
  },
  {
   "cell_type": "code",
   "execution_count": 74,
   "id": "693134d1-0456-4a37-b27c-9d13afd6027b",
   "metadata": {
    "execution": {
     "iopub.execute_input": "2023-03-19T02:09:34.205257Z",
     "iopub.status.busy": "2023-03-19T02:09:34.189693Z",
     "iopub.status.idle": "2023-03-19T02:09:34.209153Z",
     "shell.execute_reply": "2023-03-19T02:09:34.209153Z",
     "shell.execute_reply.started": "2023-03-19T02:09:34.205257Z"
    },
    "tags": []
   },
   "outputs": [
    {
     "data": {
      "text/plain": [
       "False"
      ]
     },
     "execution_count": 74,
     "metadata": {},
     "output_type": "execute_result"
    }
   ],
   "source": [
    "num.isdecimal()"
   ]
  },
  {
   "cell_type": "code",
   "execution_count": 75,
   "id": "79f9e3ef-ad76-4ac0-a986-12165d26b2f5",
   "metadata": {
    "execution": {
     "iopub.execute_input": "2023-03-19T02:09:34.488154Z",
     "iopub.status.busy": "2023-03-19T02:09:34.488154Z",
     "iopub.status.idle": "2023-03-19T02:09:34.494503Z",
     "shell.execute_reply": "2023-03-19T02:09:34.494503Z",
     "shell.execute_reply.started": "2023-03-19T02:09:34.488154Z"
    },
    "tags": []
   },
   "outputs": [],
   "source": [
    "num = \"754658\""
   ]
  },
  {
   "cell_type": "code",
   "execution_count": 76,
   "id": "c0fbe1ae-d999-4ba6-b9ed-848b15666661",
   "metadata": {
    "execution": {
     "iopub.execute_input": "2023-03-19T02:09:34.850006Z",
     "iopub.status.busy": "2023-03-19T02:09:34.850006Z",
     "iopub.status.idle": "2023-03-19T02:09:34.857379Z",
     "shell.execute_reply": "2023-03-19T02:09:34.857379Z",
     "shell.execute_reply.started": "2023-03-19T02:09:34.850006Z"
    },
    "tags": []
   },
   "outputs": [
    {
     "data": {
      "text/plain": [
       "(True, True, True, True)"
      ]
     },
     "execution_count": 76,
     "metadata": {},
     "output_type": "execute_result"
    }
   ],
   "source": [
    "num.isdecimal(), num.isnumeric(), num.isalnum(), num.isdigit()"
   ]
  },
  {
   "cell_type": "code",
   "execution_count": 77,
   "id": "85c4ff8a-93a1-476e-ac29-8b05f187254b",
   "metadata": {
    "execution": {
     "iopub.execute_input": "2023-03-19T02:09:35.587760Z",
     "iopub.status.busy": "2023-03-19T02:09:35.587760Z",
     "iopub.status.idle": "2023-03-19T02:09:35.601727Z",
     "shell.execute_reply": "2023-03-19T02:09:35.601727Z",
     "shell.execute_reply.started": "2023-03-19T02:09:35.587760Z"
    },
    "tags": []
   },
   "outputs": [
    {
     "data": {
      "text/plain": [
       "'SHE DWELT AMONG THE UNTRODDEN WAYS\\nBESIDE THE SPRINGS OF DOVE,\\nA MAID WHOM THERE WERE NONE TO PRAISE\\nAND VERY FEW TO LOVE:\\n\\n   A VIOLET BY A MOSSY STONE\\nHALF HIDDEN FROM THE EYE!\\nFAIR AS A STAR, WHEN ONLY ONE\\nIS SHINING IN THE SKY.\\n\\n   SHE LIVED UNKNOWN, AND FEW COULD KNOW\\nWHEN LUCY CEASED TO BE;                                  \\nBUT SHE IS IN HER GRAVE, AND, OH,\\nTHE DIFFERENCE TO ME!\\n'"
      ]
     },
     "execution_count": 77,
     "metadata": {},
     "output_type": "execute_result"
    }
   ],
   "source": [
    "wordsworth.upper()"
   ]
  },
  {
   "cell_type": "code",
   "execution_count": 78,
   "id": "8c362e83-1b9b-4955-b9cc-cdf6e9d612d1",
   "metadata": {
    "execution": {
     "iopub.execute_input": "2023-03-19T02:09:37.299134Z",
     "iopub.status.busy": "2023-03-19T02:09:37.299134Z",
     "iopub.status.idle": "2023-03-19T02:09:37.305466Z",
     "shell.execute_reply": "2023-03-19T02:09:37.305466Z",
     "shell.execute_reply.started": "2023-03-19T02:09:37.299134Z"
    },
    "tags": []
   },
   "outputs": [
    {
     "data": {
      "text/plain": [
       "'She Dwelt Among The Untrodden Ways\\nBeside The Springs Of Dove,\\nA Maid Whom There Were None To Praise\\nAnd Very Few To Love:\\n\\n   A Violet By A Mossy Stone\\nHalf Hidden From The Eye!\\nFair As A Star, When Only One\\nIs Shining In The Sky.\\n\\n   She Lived Unknown, And Few Could Know\\nWhen Lucy Ceased To Be;                                  \\nBut She Is In Her Grave, And, Oh,\\nThe Difference To Me!\\n'"
      ]
     },
     "execution_count": 78,
     "metadata": {},
     "output_type": "execute_result"
    }
   ],
   "source": [
    "wordsworth.title()"
   ]
  },
  {
   "cell_type": "code",
   "execution_count": 79,
   "id": "4284c3b6-9063-46af-ba8e-79de7d9db664",
   "metadata": {
    "execution": {
     "iopub.execute_input": "2023-03-19T02:09:37.832971Z",
     "iopub.status.busy": "2023-03-19T02:09:37.832971Z",
     "iopub.status.idle": "2023-03-19T02:09:37.849895Z",
     "shell.execute_reply": "2023-03-19T02:09:37.849895Z",
     "shell.execute_reply.started": "2023-03-19T02:09:37.832971Z"
    },
    "tags": []
   },
   "outputs": [
    {
     "data": {
      "text/plain": [
       "['She dwelt among the untrodden ways',\n",
       " 'Beside the springs of Dove,',\n",
       " 'A Maid whom there were none to praise',\n",
       " 'And very few to love:',\n",
       " '',\n",
       " '   A violet by a mossy stone',\n",
       " 'Half hidden from the eye!',\n",
       " 'Fair as a star, when only one',\n",
       " 'Is shining in the sky.',\n",
       " '',\n",
       " '   She lived unknown, and few could know',\n",
       " 'When Lucy ceased to be;                                  ',\n",
       " 'But she is in her grave, and, oh,',\n",
       " 'The difference to me!']"
      ]
     },
     "execution_count": 79,
     "metadata": {},
     "output_type": "execute_result"
    }
   ],
   "source": [
    "wordsworth.splitlines()"
   ]
  },
  {
   "cell_type": "code",
   "execution_count": 80,
   "id": "4baf6417-a504-4fa8-a86e-3cb07f8774f7",
   "metadata": {
    "execution": {
     "iopub.execute_input": "2023-03-19T02:09:48.002878Z",
     "iopub.status.busy": "2023-03-19T02:09:48.002878Z",
     "iopub.status.idle": "2023-03-19T02:09:48.010613Z",
     "shell.execute_reply": "2023-03-19T02:09:48.010613Z",
     "shell.execute_reply.started": "2023-03-19T02:09:48.002878Z"
    },
    "tags": []
   },
   "outputs": [
    {
     "data": {
      "text/plain": [
       "'She dwelt among the untrodden ways\\nBeside the springs of Dove,\\nA Maid whom there were none to praise\\nAnd very few to love:\\n\\n   A violet by a mossy stone\\nHalf hidden from the eye!\\nFair as a star, when only one\\nIs shining in the sky.\\n\\n   She lived unknown, and few could know\\nWhen Lucy ceased to be;                                  \\nBut she is in her grave, and, oh,\\nThe difference to me!'"
      ]
     },
     "execution_count": 80,
     "metadata": {},
     "output_type": "execute_result"
    }
   ],
   "source": [
    "wordsworth.strip()"
   ]
  },
  {
   "cell_type": "code",
   "execution_count": 82,
   "id": "faf64fe9-8b9c-498b-9c55-6c4ec3ed5dae",
   "metadata": {
    "execution": {
     "iopub.execute_input": "2023-03-19T02:10:36.628099Z",
     "iopub.status.busy": "2023-03-19T02:10:36.628099Z",
     "iopub.status.idle": "2023-03-19T02:10:36.635703Z",
     "shell.execute_reply": "2023-03-19T02:10:36.635703Z",
     "shell.execute_reply.started": "2023-03-19T02:10:36.628099Z"
    },
    "tags": []
   },
   "outputs": [
    {
     "data": {
      "text/plain": [
       "['She dwelt among ',\n",
       " ' untrodden ways\\nBeside ',\n",
       " ' springs of Dove,\\nA Maid whom ',\n",
       " 're were none to praise\\nAnd very few to love:\\n\\n   A violet by a mossy stone\\nHalf hidden from ',\n",
       " ' eye!\\nFair as a star, when only one\\nIs shining in ',\n",
       " ' sky.\\n\\n   She lived unknown, and few could know\\nWhen Lucy ceased to be;                                  \\nBut she is in her grave, and, oh,\\nThe difference to me!\\n']"
      ]
     },
     "execution_count": 82,
     "metadata": {},
     "output_type": "execute_result"
    }
   ],
   "source": [
    "wordsworth.split(\"the\")"
   ]
  },
  {
   "cell_type": "code",
   "execution_count": 85,
   "id": "15a59036-b2db-47d4-990c-908b668220eb",
   "metadata": {
    "execution": {
     "iopub.execute_input": "2023-03-19T02:13:11.992855Z",
     "iopub.status.busy": "2023-03-19T02:13:11.992855Z",
     "iopub.status.idle": "2023-03-19T02:13:12.010209Z",
     "shell.execute_reply": "2023-03-19T02:13:12.010209Z",
     "shell.execute_reply.started": "2023-03-19T02:13:11.992855Z"
    },
    "tags": []
   },
   "outputs": [
    {
     "data": {
      "text/plain": [
       "['S', 'h', 'e', ' ', 'd', 'w', 'e', 'l', 't', ' ']"
      ]
     },
     "execution_count": 85,
     "metadata": {},
     "output_type": "execute_result"
    }
   ],
   "source": [
    "list(wordsworth)[:10]"
   ]
  },
  {
   "cell_type": "code",
   "execution_count": 86,
   "id": "b3d9c5e3-15ca-4466-b810-dabd80950bd5",
   "metadata": {
    "execution": {
     "iopub.execute_input": "2023-03-19T02:14:33.996506Z",
     "iopub.status.busy": "2023-03-19T02:14:33.996506Z",
     "iopub.status.idle": "2023-03-19T02:14:34.008849Z",
     "shell.execute_reply": "2023-03-19T02:14:34.008849Z",
     "shell.execute_reply.started": "2023-03-19T02:14:33.996506Z"
    },
    "tags": []
   },
   "outputs": [],
   "source": [
    "_text_with_wspaces = \"   This is a text      with             too many white       spaces.                       \""
   ]
  },
  {
   "cell_type": "code",
   "execution_count": 87,
   "id": "832b7fd0-8032-4590-b0ce-72456741c326",
   "metadata": {
    "execution": {
     "iopub.execute_input": "2023-03-19T02:14:42.147439Z",
     "iopub.status.busy": "2023-03-19T02:14:42.147439Z",
     "iopub.status.idle": "2023-03-19T02:14:42.155382Z",
     "shell.execute_reply": "2023-03-19T02:14:42.155382Z",
     "shell.execute_reply.started": "2023-03-19T02:14:42.147439Z"
    },
    "tags": []
   },
   "outputs": [
    {
     "data": {
      "text/plain": [
       "'This is a text      with             too many white       spaces.'"
      ]
     },
     "execution_count": 87,
     "metadata": {},
     "output_type": "execute_result"
    }
   ],
   "source": [
    "_text_with_wspaces.strip()"
   ]
  },
  {
   "cell_type": "code",
   "execution_count": 88,
   "id": "359176ce-204b-4f78-adb7-d989064f5cf6",
   "metadata": {
    "execution": {
     "iopub.execute_input": "2023-03-19T02:15:03.997670Z",
     "iopub.status.busy": "2023-03-19T02:15:03.997670Z",
     "iopub.status.idle": "2023-03-19T02:15:04.013803Z",
     "shell.execute_reply": "2023-03-19T02:15:04.013803Z",
     "shell.execute_reply.started": "2023-03-19T02:15:03.997670Z"
    },
    "tags": []
   },
   "outputs": [
    {
     "data": {
      "text/plain": [
       "['This', 'is', 'a', 'text', 'with', 'too', 'many', 'white', 'spaces.']"
      ]
     },
     "execution_count": 88,
     "metadata": {},
     "output_type": "execute_result"
    }
   ],
   "source": [
    "_text_with_wspaces.split()"
   ]
  },
  {
   "cell_type": "code",
   "execution_count": 89,
   "id": "5f879009-bc91-4290-a4c2-ff4cbebe9790",
   "metadata": {
    "execution": {
     "iopub.execute_input": "2023-03-19T02:15:59.698750Z",
     "iopub.status.busy": "2023-03-19T02:15:59.698750Z",
     "iopub.status.idle": "2023-03-19T02:15:59.706411Z",
     "shell.execute_reply": "2023-03-19T02:15:59.706411Z",
     "shell.execute_reply.started": "2023-03-19T02:15:59.698750Z"
    },
    "tags": []
   },
   "outputs": [
    {
     "data": {
      "text/plain": [
       "0"
      ]
     },
     "execution_count": 89,
     "metadata": {},
     "output_type": "execute_result"
    }
   ],
   "source": [
    "wordsworth.find(\"S\")"
   ]
  },
  {
   "cell_type": "code",
   "execution_count": 90,
   "id": "2fcea799-15ba-4449-85d4-454dee0eaa42",
   "metadata": {
    "execution": {
     "iopub.execute_input": "2023-03-19T02:17:01.062458Z",
     "iopub.status.busy": "2023-03-19T02:17:01.062458Z",
     "iopub.status.idle": "2023-03-19T02:17:01.067720Z",
     "shell.execute_reply": "2023-03-19T02:17:01.067110Z",
     "shell.execute_reply.started": "2023-03-19T02:17:01.062458Z"
    },
    "tags": []
   },
   "outputs": [
    {
     "data": {
      "text/plain": [
       "0"
      ]
     },
     "execution_count": 90,
     "metadata": {},
     "output_type": "execute_result"
    }
   ],
   "source": [
    "\"Kurt Kobain\".find(\"K\")"
   ]
  },
  {
   "cell_type": "code",
   "execution_count": 91,
   "id": "64947d41-ffae-4db9-9a32-df4accbffaba",
   "metadata": {
    "execution": {
     "iopub.execute_input": "2023-03-19T02:17:08.477844Z",
     "iopub.status.busy": "2023-03-19T02:17:08.477844Z",
     "iopub.status.idle": "2023-03-19T02:17:08.482297Z",
     "shell.execute_reply": "2023-03-19T02:17:08.482297Z",
     "shell.execute_reply.started": "2023-03-19T02:17:08.477844Z"
    },
    "tags": []
   },
   "outputs": [
    {
     "data": {
      "text/plain": [
       "5"
      ]
     },
     "execution_count": 91,
     "metadata": {},
     "output_type": "execute_result"
    }
   ],
   "source": [
    "\"Kurt Kobain\".rfind(\"K\")"
   ]
  },
  {
   "cell_type": "code",
   "execution_count": 94,
   "id": "188f2264-525a-4158-a680-5ba2d7b43373",
   "metadata": {
    "execution": {
     "iopub.execute_input": "2023-03-19T02:30:41.578445Z",
     "iopub.status.busy": "2023-03-19T02:30:41.578445Z",
     "iopub.status.idle": "2023-03-19T02:30:41.596283Z",
     "shell.execute_reply": "2023-03-19T02:30:41.596283Z",
     "shell.execute_reply.started": "2023-03-19T02:30:41.578445Z"
    },
    "tags": []
   },
   "outputs": [],
   "source": [
    "with open(\"./Anna Karenina - Leo Tolstoy.txt\", \"r+\", encoding = \"utf-8\") as fhandle:\n",
    "    anna_karenina = fhandle.read()"
   ]
  },
  {
   "cell_type": "code",
   "execution_count": 96,
   "id": "a01a23b3-84bb-4ddc-9bc6-bb6e0400205a",
   "metadata": {
    "execution": {
     "iopub.execute_input": "2023-03-19T02:30:51.563728Z",
     "iopub.status.busy": "2023-03-19T02:30:51.563728Z",
     "iopub.status.idle": "2023-03-19T02:30:51.568174Z",
     "shell.execute_reply": "2023-03-19T02:30:51.568174Z",
     "shell.execute_reply.started": "2023-03-19T02:30:51.563728Z"
    },
    "tags": []
   },
   "outputs": [
    {
     "data": {
      "text/plain": [
       "1983951"
      ]
     },
     "execution_count": 96,
     "metadata": {},
     "output_type": "execute_result"
    }
   ],
   "source": [
    "len(anna_karenina)"
   ]
  },
  {
   "cell_type": "code",
   "execution_count": null,
   "id": "c52409d2-102a-49a3-8c17-d525b76bdb0e",
   "metadata": {},
   "outputs": [],
   "source": []
  }
 ],
 "metadata": {
  "kernelspec": {
   "display_name": "Python 3 (ipykernel)",
   "language": "python",
   "name": "python3"
  },
  "language_info": {
   "codemirror_mode": {
    "name": "ipython",
    "version": 3
   },
   "file_extension": ".py",
   "mimetype": "text/x-python",
   "name": "python",
   "nbconvert_exporter": "python",
   "pygments_lexer": "ipython3",
   "version": "3.11.2"
  }
 },
 "nbformat": 4,
 "nbformat_minor": 5
}
