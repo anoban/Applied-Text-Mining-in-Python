{
 "cells": [
  {
   "cell_type": "code",
   "execution_count": 1,
   "id": "d8737f67-259e-4c4c-9a56-b187da15171b",
   "metadata": {
    "execution": {
     "iopub.execute_input": "2023-03-20T23:55:59.072578Z",
     "iopub.status.busy": "2023-03-20T23:55:59.072578Z",
     "iopub.status.idle": "2023-03-20T23:56:15.244443Z",
     "shell.execute_reply": "2023-03-20T23:56:15.244443Z",
     "shell.execute_reply.started": "2023-03-20T23:55:59.072578Z"
    },
    "tags": []
   },
   "outputs": [],
   "source": [
    "# NLTK is Natural Language ToolKit\n",
    "\n",
    "import nltk"
   ]
  },
  {
   "cell_type": "code",
   "execution_count": 4,
   "id": "8b6b7bdf-aa04-4a89-b0e9-2e168fa0cbf9",
   "metadata": {
    "execution": {
     "iopub.execute_input": "2023-03-21T00:09:17.216117Z",
     "iopub.status.busy": "2023-03-21T00:09:17.216117Z",
     "iopub.status.idle": "2023-03-21T00:12:17.149595Z",
     "shell.execute_reply": "2023-03-21T00:12:17.149595Z",
     "shell.execute_reply.started": "2023-03-21T00:09:17.216117Z"
    },
    "tags": []
   },
   "outputs": [
    {
     "name": "stdout",
     "output_type": "stream",
     "text": [
      "showing info https://raw.githubusercontent.com/nltk/nltk_data/gh-pages/index.xml\n"
     ]
    },
    {
     "data": {
      "text/plain": [
       "True"
      ]
     },
     "execution_count": 4,
     "metadata": {},
     "output_type": "execute_result"
    }
   ],
   "source": [
    "nltk.download(download_dir = r\"./nltk_data\")"
   ]
  },
  {
   "cell_type": "code",
   "execution_count": 5,
   "id": "b88ccfc0-c363-42b0-b472-28c00018c8f9",
   "metadata": {
    "execution": {
     "iopub.execute_input": "2023-03-21T00:13:16.986424Z",
     "iopub.status.busy": "2023-03-21T00:13:16.986424Z",
     "iopub.status.idle": "2023-03-21T00:13:20.325486Z",
     "shell.execute_reply": "2023-03-21T00:13:20.325486Z",
     "shell.execute_reply.started": "2023-03-21T00:13:16.986424Z"
    },
    "tags": []
   },
   "outputs": [
    {
     "name": "stdout",
     "output_type": "stream",
     "text": [
      "*** Introductory Examples for the NLTK Book ***\n",
      "Loading text1, ..., text9 and sent1, ..., sent9\n",
      "Type the name of the text or sentence to view it.\n",
      "Type: 'texts()' or 'sents()' to list the materials.\n",
      "text1: Moby Dick by Herman Melville 1851\n",
      "text2: Sense and Sensibility by Jane Austen 1811\n",
      "text3: The Book of Genesis\n",
      "text4: Inaugural Address Corpus\n",
      "text5: Chat Corpus\n",
      "text6: Monty Python and the Holy Grail\n",
      "text7: Wall Street Journal\n",
      "text8: Personals Corpus\n",
      "text9: The Man Who Was Thursday by G . K . Chesterton 1908\n"
     ]
    }
   ],
   "source": [
    "from nltk.book import *"
   ]
  },
  {
   "cell_type": "code",
   "execution_count": 8,
   "id": "f32cc54c-bedf-4d5d-93ba-066c659d7c16",
   "metadata": {
    "execution": {
     "iopub.execute_input": "2023-03-21T00:14:01.032627Z",
     "iopub.status.busy": "2023-03-21T00:14:01.032627Z",
     "iopub.status.idle": "2023-03-21T00:14:01.045882Z",
     "shell.execute_reply": "2023-03-21T00:14:01.045882Z",
     "shell.execute_reply.started": "2023-03-21T00:14:01.032627Z"
    },
    "tags": []
   },
   "outputs": [
    {
     "name": "stdout",
     "output_type": "stream",
     "text": [
      "text1: Moby Dick by Herman Melville 1851\n",
      "text2: Sense and Sensibility by Jane Austen 1811\n",
      "text3: The Book of Genesis\n",
      "text4: Inaugural Address Corpus\n",
      "text5: Chat Corpus\n",
      "text6: Monty Python and the Holy Grail\n",
      "text7: Wall Street Journal\n",
      "text8: Personals Corpus\n",
      "text9: The Man Who Was Thursday by G . K . Chesterton 1908\n"
     ]
    }
   ],
   "source": [
    "texts()"
   ]
  },
  {
   "cell_type": "code",
   "execution_count": 10,
   "id": "8c287d88-fdb5-4a05-8ef6-f658e500279c",
   "metadata": {
    "execution": {
     "iopub.execute_input": "2023-03-21T00:15:02.430007Z",
     "iopub.status.busy": "2023-03-21T00:15:02.430007Z",
     "iopub.status.idle": "2023-03-21T00:15:02.446204Z",
     "shell.execute_reply": "2023-03-21T00:15:02.446204Z",
     "shell.execute_reply.started": "2023-03-21T00:15:02.430007Z"
    },
    "tags": []
   },
   "outputs": [
    {
     "name": "stdout",
     "output_type": "stream",
     "text": [
      "sent1: Call me Ishmael .\n",
      "sent2: The family of Dashwood had long been settled in Sussex .\n",
      "sent3: In the beginning God created the heaven and the earth .\n",
      "sent4: Fellow - Citizens of the Senate and of the House of Representatives :\n",
      "sent5: I have a problem with people PMing me to lol JOIN\n",
      "sent6: SCENE 1 : [ wind ] [ clop clop clop ] KING ARTHUR : Whoa there !\n",
      "sent7: Pierre Vinken , 61 years old , will join the board as a nonexecutive director Nov. 29 .\n",
      "sent8: 25 SEXY MALE , seeks attrac older single lady , for discreet encounters .\n",
      "sent9: THE suburb of Saffron Park lay on the sunset side of London , as red and ragged as a cloud of sunset .\n"
     ]
    }
   ],
   "source": [
    "# Sentences from every text.\n",
    "\n",
    "sents()"
   ]
  },
  {
   "cell_type": "code",
   "execution_count": 12,
   "id": "415b81ab-bcaf-4fb0-9172-abe4798a7e4c",
   "metadata": {
    "execution": {
     "iopub.execute_input": "2023-03-21T00:16:02.158979Z",
     "iopub.status.busy": "2023-03-21T00:16:02.158979Z",
     "iopub.status.idle": "2023-03-21T00:16:02.175402Z",
     "shell.execute_reply": "2023-03-21T00:16:02.175402Z",
     "shell.execute_reply.started": "2023-03-21T00:16:02.158979Z"
    },
    "tags": []
   },
   "outputs": [
    {
     "data": {
      "text/plain": [
       "['Pierre',\n",
       " 'Vinken',\n",
       " ',',\n",
       " '61',\n",
       " 'years',\n",
       " 'old',\n",
       " ',',\n",
       " 'will',\n",
       " 'join',\n",
       " 'the',\n",
       " 'board',\n",
       " 'as',\n",
       " 'a',\n",
       " 'nonexecutive',\n",
       " 'director',\n",
       " 'Nov.',\n",
       " '29',\n",
       " '.']"
      ]
     },
     "execution_count": 12,
     "metadata": {},
     "output_type": "execute_result"
    }
   ],
   "source": [
    "# A sentence from the corpus 7 - Wall Street Journal\n",
    "sent7"
   ]
  },
  {
   "cell_type": "code",
   "execution_count": 14,
   "id": "e85c281c-e9b5-411a-bb5f-4b79b62c84f2",
   "metadata": {
    "execution": {
     "iopub.execute_input": "2023-03-21T00:16:23.971822Z",
     "iopub.status.busy": "2023-03-21T00:16:23.971822Z",
     "iopub.status.idle": "2023-03-21T00:16:23.990762Z",
     "shell.execute_reply": "2023-03-21T00:16:23.990762Z",
     "shell.execute_reply.started": "2023-03-21T00:16:23.971822Z"
    },
    "tags": []
   },
   "outputs": [
    {
     "data": {
      "text/plain": [
       "18"
      ]
     },
     "execution_count": 14,
     "metadata": {},
     "output_type": "execute_result"
    }
   ],
   "source": [
    "len(sent7)"
   ]
  },
  {
   "cell_type": "code",
   "execution_count": 16,
   "id": "8e18e358-9ea3-4fd1-beb7-a72149f6b294",
   "metadata": {
    "execution": {
     "iopub.execute_input": "2023-03-21T00:16:50.534616Z",
     "iopub.status.busy": "2023-03-21T00:16:50.534616Z",
     "iopub.status.idle": "2023-03-21T00:16:50.541593Z",
     "shell.execute_reply": "2023-03-21T00:16:50.541593Z",
     "shell.execute_reply.started": "2023-03-21T00:16:50.534616Z"
    },
    "tags": []
   },
   "outputs": [
    {
     "data": {
      "text/plain": [
       "100676"
      ]
     },
     "execution_count": 16,
     "metadata": {},
     "output_type": "execute_result"
    }
   ],
   "source": [
    "# Word count not char count\n",
    "\n",
    "len(text7)"
   ]
  },
  {
   "cell_type": "code",
   "execution_count": 17,
   "id": "d85ca103-df74-4282-92aa-c6211ccaef4c",
   "metadata": {
    "execution": {
     "iopub.execute_input": "2023-03-21T00:17:07.826375Z",
     "iopub.status.busy": "2023-03-21T00:17:07.826375Z",
     "iopub.status.idle": "2023-03-21T00:17:07.843100Z",
     "shell.execute_reply": "2023-03-21T00:17:07.843100Z",
     "shell.execute_reply.started": "2023-03-21T00:17:07.826375Z"
    },
    "tags": []
   },
   "outputs": [
    {
     "data": {
      "text/plain": [
       "12408"
      ]
     },
     "execution_count": 17,
     "metadata": {},
     "output_type": "execute_result"
    }
   ],
   "source": [
    "# Unique words\n",
    "\n",
    "len(set(text7))"
   ]
  },
  {
   "cell_type": "code",
   "execution_count": 18,
   "id": "ce1f8fdd-d414-4c21-808c-fa5281b05fa0",
   "metadata": {
    "execution": {
     "iopub.execute_input": "2023-03-21T00:17:19.984134Z",
     "iopub.status.busy": "2023-03-21T00:17:19.984134Z",
     "iopub.status.idle": "2023-03-21T00:17:20.001616Z",
     "shell.execute_reply": "2023-03-21T00:17:20.001616Z",
     "shell.execute_reply.started": "2023-03-21T00:17:19.984134Z"
    },
    "tags": []
   },
   "outputs": [
    {
     "data": {
      "text/plain": [
       "0.12324685128531129"
      ]
     },
     "execution_count": 18,
     "metadata": {},
     "output_type": "execute_result"
    }
   ],
   "source": [
    "len(set(text7)) / len(text7)"
   ]
  },
  {
   "cell_type": "code",
   "execution_count": 21,
   "id": "c2187c48-7a38-481c-8f0c-4bb7d91497f1",
   "metadata": {
    "execution": {
     "iopub.execute_input": "2023-03-21T00:19:26.885616Z",
     "iopub.status.busy": "2023-03-21T00:19:26.885616Z",
     "iopub.status.idle": "2023-03-21T00:19:26.905721Z",
     "shell.execute_reply": "2023-03-21T00:19:26.905721Z",
     "shell.execute_reply.started": "2023-03-21T00:19:26.885616Z"
    },
    "tags": []
   },
   "outputs": [],
   "source": [
    "list(text7);"
   ]
  },
  {
   "cell_type": "code",
   "execution_count": 23,
   "id": "9827085d-d2bc-4fdd-8016-a070c3cfea69",
   "metadata": {
    "execution": {
     "iopub.execute_input": "2023-03-21T00:20:40.463423Z",
     "iopub.status.busy": "2023-03-21T00:20:40.463423Z",
     "iopub.status.idle": "2023-03-21T00:20:40.530454Z",
     "shell.execute_reply": "2023-03-21T00:20:40.530454Z",
     "shell.execute_reply.started": "2023-03-21T00:20:40.463423Z"
    },
    "tags": []
   },
   "outputs": [],
   "source": [
    "words = FreqDist(text7)"
   ]
  },
  {
   "cell_type": "code",
   "execution_count": 27,
   "id": "e5965b89-0935-4155-a5b2-c1d518b2a38d",
   "metadata": {
    "execution": {
     "iopub.execute_input": "2023-03-21T00:23:35.763854Z",
     "iopub.status.busy": "2023-03-21T00:23:35.763854Z",
     "iopub.status.idle": "2023-03-21T00:23:35.776359Z",
     "shell.execute_reply": "2023-03-21T00:23:35.776359Z",
     "shell.execute_reply.started": "2023-03-21T00:23:35.763854Z"
    },
    "tags": []
   },
   "outputs": [
    {
     "data": {
      "text/plain": [
       "[(',', 4885),\n",
       " ('the', 4045),\n",
       " ('.', 3828),\n",
       " ('of', 2319),\n",
       " ('to', 2164),\n",
       " ('a', 1878),\n",
       " ('in', 1572),\n",
       " ('and', 1511),\n",
       " ('*-1', 1123),\n",
       " ('0', 1099),\n",
       " ('*', 965),\n",
       " (\"'s\", 864),\n",
       " ('for', 817),\n",
       " ('that', 807),\n",
       " ('*T*-1', 806),\n",
       " ('*U*', 744),\n",
       " ('$', 718),\n",
       " ('The', 717),\n",
       " ('``', 702),\n",
       " (\"''\", 684)]"
      ]
     },
     "execution_count": 27,
     "metadata": {},
     "output_type": "execute_result"
    }
   ],
   "source": [
    "sorted([(_key, _val) for (_key, _val) in words.items()], reverse = True, key = lambda _tuple: _tuple[1])[:20]"
   ]
  },
  {
   "cell_type": "code",
   "execution_count": 30,
   "id": "236e498d-e211-41bc-8ec7-ca0545ed31f9",
   "metadata": {
    "execution": {
     "iopub.execute_input": "2023-03-21T00:24:16.799665Z",
     "iopub.status.busy": "2023-03-21T00:24:16.799665Z",
     "iopub.status.idle": "2023-03-21T00:24:16.806268Z",
     "shell.execute_reply": "2023-03-21T00:24:16.806268Z",
     "shell.execute_reply.started": "2023-03-21T00:24:16.799665Z"
    },
    "tags": []
   },
   "outputs": [
    {
     "data": {
      "text/plain": [
       "76"
      ]
     },
     "execution_count": 30,
     "metadata": {},
     "output_type": "execute_result"
    }
   ],
   "source": [
    "words.get(\"business\")"
   ]
  },
  {
   "cell_type": "markdown",
   "id": "69fc8562-497b-4e31-962f-3598b3c2a32a",
   "metadata": {},
   "source": [
    "# ***Normalization and stemming***\n",
    "---------------------------------------------"
   ]
  },
  {
   "cell_type": "code",
   "execution_count": 31,
   "id": "9bc90c55-4fb6-4199-abbe-78dfe04c1d65",
   "metadata": {
    "execution": {
     "iopub.execute_input": "2023-03-21T00:27:19.265009Z",
     "iopub.status.busy": "2023-03-21T00:27:19.265009Z",
     "iopub.status.idle": "2023-03-21T00:27:19.278607Z",
     "shell.execute_reply": "2023-03-21T00:27:19.278607Z",
     "shell.execute_reply.started": "2023-03-21T00:27:19.265009Z"
    },
    "tags": []
   },
   "outputs": [],
   "source": [
    "dummy = \"list List listed listings lists listing\""
   ]
  },
  {
   "cell_type": "code",
   "execution_count": 34,
   "id": "e61284be-2f58-4b7e-b22d-5efbe4803dff",
   "metadata": {
    "execution": {
     "iopub.execute_input": "2023-03-21T00:29:20.335507Z",
     "iopub.status.busy": "2023-03-21T00:29:20.335507Z",
     "iopub.status.idle": "2023-03-21T00:29:20.340207Z",
     "shell.execute_reply": "2023-03-21T00:29:20.340207Z",
     "shell.execute_reply.started": "2023-03-21T00:29:20.335507Z"
    },
    "tags": []
   },
   "outputs": [],
   "source": [
    "# Different forms of the same word.\n",
    "\n",
    "# List, lists, listing, listings - noun\n",
    "# List, lists, listed, listing - verb\n"
   ]
  },
  {
   "cell_type": "code",
   "execution_count": 36,
   "id": "41761e65-bf4b-458c-b1f3-9cd9c87394cb",
   "metadata": {
    "execution": {
     "iopub.execute_input": "2023-03-21T00:30:45.206176Z",
     "iopub.status.busy": "2023-03-21T00:30:45.206176Z",
     "iopub.status.idle": "2023-03-21T00:30:45.226249Z",
     "shell.execute_reply": "2023-03-21T00:30:45.226249Z",
     "shell.execute_reply.started": "2023-03-21T00:30:45.206176Z"
    },
    "tags": []
   },
   "outputs": [
    {
     "data": {
      "text/plain": [
       "['list', 'list', 'listed', 'listings', 'lists', 'listing']"
      ]
     },
     "execution_count": 36,
     "metadata": {},
     "output_type": "execute_result"
    }
   ],
   "source": [
    "# remove case differences\n",
    "\n",
    "dummy.lower().split()"
   ]
  },
  {
   "cell_type": "code",
   "execution_count": 37,
   "id": "72cf7bbe-8e62-48ee-a503-efec4c077069",
   "metadata": {
    "execution": {
     "iopub.execute_input": "2023-03-21T00:33:33.382112Z",
     "iopub.status.busy": "2023-03-21T00:33:33.382112Z",
     "iopub.status.idle": "2023-03-21T00:33:33.388814Z",
     "shell.execute_reply": "2023-03-21T00:33:33.388814Z",
     "shell.execute_reply.started": "2023-03-21T00:33:33.382112Z"
    },
    "tags": []
   },
   "outputs": [],
   "source": [
    "# Next part is stemming\n",
    "# Where all suffixes from a word are removed to leave a root form"
   ]
  },
  {
   "cell_type": "code",
   "execution_count": 65,
   "id": "7cd66746-0ece-4134-8d06-c42aa816a90d",
   "metadata": {
    "execution": {
     "iopub.execute_input": "2023-03-21T01:18:24.510992Z",
     "iopub.status.busy": "2023-03-21T01:18:24.510992Z",
     "iopub.status.idle": "2023-03-21T01:18:24.527121Z",
     "shell.execute_reply": "2023-03-21T01:18:24.527121Z",
     "shell.execute_reply.started": "2023-03-21T01:18:24.510992Z"
    },
    "tags": []
   },
   "outputs": [
    {
     "data": {
      "text/plain": [
       "['list', 'list', 'list', 'list', 'list', 'list']"
      ]
     },
     "execution_count": 65,
     "metadata": {},
     "output_type": "execute_result"
    }
   ],
   "source": [
    "stemmer = nltk.PorterStemmer()\n",
    "\n",
    "[stemmer.stem(word = word) for word in dummy.lower().split()]"
   ]
  },
  {
   "cell_type": "markdown",
   "id": "8fc8b8e6-98c1-4b14-a76a-fe5b59801212",
   "metadata": {},
   "source": [
    "# ***Lemmatization***\n",
    "----------------------------"
   ]
  },
  {
   "cell_type": "code",
   "execution_count": null,
   "id": "63db250c-8c13-4366-8834-174a3ddabd1d",
   "metadata": {},
   "outputs": [],
   "source": [
    "# However, you do not always want to remove all the suffixes.\n",
    "# By removing it is likely the stemmed word becomes less meaningful, or loses its context specific relevance"
   ]
  },
  {
   "cell_type": "code",
   "execution_count": 62,
   "id": "aa619559-fbe9-408c-a6a5-47bca1edc68b",
   "metadata": {
    "execution": {
     "iopub.execute_input": "2023-03-21T01:17:46.752304Z",
     "iopub.status.busy": "2023-03-21T01:17:46.752304Z",
     "iopub.status.idle": "2023-03-21T01:17:46.772116Z",
     "shell.execute_reply": "2023-03-21T01:17:46.772116Z",
     "shell.execute_reply.started": "2023-03-21T01:17:46.752304Z"
    },
    "tags": []
   },
   "outputs": [
    {
     "data": {
      "text/plain": [
       "1781"
      ]
     },
     "execution_count": 62,
     "metadata": {},
     "output_type": "execute_result"
    }
   ],
   "source": [
    "# Universal Declaration of Human Rights\n",
    "\n",
    "udhr = nltk.corpus.udhr.words(\"English-Latin1\")\n",
    "len(udhr)"
   ]
  },
  {
   "cell_type": "code",
   "execution_count": 64,
   "id": "9ec709ec-fdc5-4943-8dd6-a67824ab5e6d",
   "metadata": {
    "execution": {
     "iopub.execute_input": "2023-03-21T01:17:57.106251Z",
     "iopub.status.busy": "2023-03-21T01:17:57.106251Z",
     "iopub.status.idle": "2023-03-21T01:17:57.121120Z",
     "shell.execute_reply": "2023-03-21T01:17:57.121120Z",
     "shell.execute_reply.started": "2023-03-21T01:17:57.106251Z"
    },
    "tags": []
   },
   "outputs": [
    {
     "data": {
      "text/plain": [
       "['Universal',\n",
       " 'Declaration',\n",
       " 'of',\n",
       " 'Human',\n",
       " 'Rights',\n",
       " 'Preamble',\n",
       " 'Whereas',\n",
       " 'recognition',\n",
       " 'of',\n",
       " 'the',\n",
       " 'inherent',\n",
       " 'dignity',\n",
       " 'and',\n",
       " 'of',\n",
       " 'the',\n",
       " 'equal',\n",
       " 'and',\n",
       " 'inalienable',\n",
       " 'rights',\n",
       " 'of']"
      ]
     },
     "execution_count": 64,
     "metadata": {},
     "output_type": "execute_result"
    }
   ],
   "source": [
    "udhr[:20]"
   ]
  },
  {
   "cell_type": "code",
   "execution_count": 67,
   "id": "22f6c529-64b1-4811-9fb1-c0e87b96c54c",
   "metadata": {
    "execution": {
     "iopub.execute_input": "2023-03-21T01:19:08.167524Z",
     "iopub.status.busy": "2023-03-21T01:19:08.167524Z",
     "iopub.status.idle": "2023-03-21T01:19:08.183663Z",
     "shell.execute_reply": "2023-03-21T01:19:08.183663Z",
     "shell.execute_reply.started": "2023-03-21T01:19:08.167524Z"
    },
    "tags": []
   },
   "outputs": [
    {
     "data": {
      "text/plain": [
       "['univers',\n",
       " 'declar',\n",
       " 'of',\n",
       " 'human',\n",
       " 'right',\n",
       " 'preambl',\n",
       " 'wherea',\n",
       " 'recognit',\n",
       " 'of',\n",
       " 'the',\n",
       " 'inher',\n",
       " 'digniti',\n",
       " 'and',\n",
       " 'of',\n",
       " 'the',\n",
       " 'equal',\n",
       " 'and',\n",
       " 'inalien',\n",
       " 'right',\n",
       " 'of']"
      ]
     },
     "execution_count": 67,
     "metadata": {},
     "output_type": "execute_result"
    }
   ],
   "source": [
    "# See what stemming has done to certain tokens.\n",
    "\n",
    "[stemmer.stem(token) for token in udhr[:20]]"
   ]
  },
  {
   "cell_type": "code",
   "execution_count": 70,
   "id": "c5b5924d-f63c-421c-8ea2-2b031ab085c6",
   "metadata": {
    "execution": {
     "iopub.execute_input": "2023-03-21T01:24:04.112960Z",
     "iopub.status.busy": "2023-03-21T01:24:04.112960Z",
     "iopub.status.idle": "2023-03-21T01:24:04.123747Z",
     "shell.execute_reply": "2023-03-21T01:24:04.123747Z",
     "shell.execute_reply.started": "2023-03-21T01:24:04.112960Z"
    },
    "tags": []
   },
   "outputs": [
    {
     "data": {
      "text/plain": [
       "[('Universal', 'Universal'),\n",
       " ('Declaration', 'Declaration'),\n",
       " ('of', 'of'),\n",
       " ('Human', 'Human'),\n",
       " ('Rights', 'Rights'),\n",
       " ('Preamble', 'Preamble'),\n",
       " ('Whereas', 'Whereas'),\n",
       " ('recognition', 'recognition'),\n",
       " ('of', 'of'),\n",
       " ('the', 'the'),\n",
       " ('inherent', 'inherent'),\n",
       " ('dignity', 'dignity'),\n",
       " ('and', 'and'),\n",
       " ('of', 'of'),\n",
       " ('the', 'the'),\n",
       " ('equal', 'equal'),\n",
       " ('and', 'and'),\n",
       " ('inalienable', 'inalienable'),\n",
       " ('right', 'rights'),\n",
       " ('of', 'of'),\n",
       " ('all', 'all'),\n",
       " ('member', 'members'),\n",
       " ('of', 'of'),\n",
       " ('the', 'the'),\n",
       " ('human', 'human'),\n",
       " ('family', 'family'),\n",
       " ('is', 'is'),\n",
       " ('the', 'the'),\n",
       " ('foundation', 'foundation'),\n",
       " ('of', 'of')]"
      ]
     },
     "execution_count": 70,
     "metadata": {},
     "output_type": "execute_result"
    }
   ],
   "source": [
    "# Lemmatization is a rather conservative version of stemming, that tries to preserve the meaning of resulting stems\n",
    "# It does not remove suffixes disregarding the meaningfullness of the resulting stem.\n",
    "\n",
    "lemmatizer = nltk.WordNetLemmatizer()\n",
    "\n",
    "[(lemmatizer.lemmatize(token), token) for token in udhr[:30]]"
   ]
  },
  {
   "cell_type": "markdown",
   "id": "2a87f13c-3ab9-47ff-8d5b-0bd7f121aea7",
   "metadata": {},
   "source": [
    "# ***Tokenization***\n",
    "------------------------"
   ]
  },
  {
   "cell_type": "code",
   "execution_count": 71,
   "id": "c9dc25ed-ca50-47d9-9fbd-1815df5c285d",
   "metadata": {
    "execution": {
     "iopub.execute_input": "2023-03-21T01:32:25.334664Z",
     "iopub.status.busy": "2023-03-21T01:32:25.334664Z",
     "iopub.status.idle": "2023-03-21T01:32:25.343498Z",
     "shell.execute_reply": "2023-03-21T01:32:25.343498Z",
     "shell.execute_reply.started": "2023-03-21T01:32:25.334664Z"
    },
    "tags": []
   },
   "outputs": [],
   "source": [
    "dummy = \"Children shouldn't drink sugary syrups before bed.\""
   ]
  },
  {
   "cell_type": "code",
   "execution_count": 72,
   "id": "265c51f4-a068-40d2-8f00-093e058cda71",
   "metadata": {
    "execution": {
     "iopub.execute_input": "2023-03-21T01:32:30.904369Z",
     "iopub.status.busy": "2023-03-21T01:32:30.904369Z",
     "iopub.status.idle": "2023-03-21T01:32:30.919571Z",
     "shell.execute_reply": "2023-03-21T01:32:30.919571Z",
     "shell.execute_reply.started": "2023-03-21T01:32:30.904369Z"
    },
    "tags": []
   },
   "outputs": [
    {
     "data": {
      "text/plain": [
       "['Children', \"shouldn't\", 'drink', 'sugary', 'syrups', 'before', 'bed.']"
      ]
     },
     "execution_count": 72,
     "metadata": {},
     "output_type": "execute_result"
    }
   ],
   "source": [
    "dummy.split()"
   ]
  },
  {
   "cell_type": "code",
   "execution_count": 73,
   "id": "6583cc18-9bb8-43a6-97bd-2fa24e154abf",
   "metadata": {
    "execution": {
     "iopub.execute_input": "2023-03-21T01:33:03.097580Z",
     "iopub.status.busy": "2023-03-21T01:33:03.097580Z",
     "iopub.status.idle": "2023-03-21T01:33:03.113625Z",
     "shell.execute_reply": "2023-03-21T01:33:03.113625Z",
     "shell.execute_reply.started": "2023-03-21T01:33:03.097580Z"
    },
    "tags": []
   },
   "outputs": [
    {
     "data": {
      "text/plain": [
       "['Children',\n",
       " 'should',\n",
       " \"n't\",\n",
       " 'drink',\n",
       " 'sugary',\n",
       " 'syrups',\n",
       " 'before',\n",
       " 'bed',\n",
       " '.']"
      ]
     },
     "execution_count": 73,
     "metadata": {},
     "output_type": "execute_result"
    }
   ],
   "source": [
    "nltk.word_tokenize(dummy)"
   ]
  },
  {
   "cell_type": "code",
   "execution_count": 74,
   "id": "8b0bbf34-5679-4265-8955-cedb34ceaf24",
   "metadata": {
    "execution": {
     "iopub.execute_input": "2023-03-21T01:35:00.285830Z",
     "iopub.status.busy": "2023-03-21T01:35:00.285830Z",
     "iopub.status.idle": "2023-03-21T01:35:00.296362Z",
     "shell.execute_reply": "2023-03-21T01:35:00.296362Z",
     "shell.execute_reply.started": "2023-03-21T01:35:00.285830Z"
    },
    "tags": []
   },
   "outputs": [],
   "source": [
    "# Note that the nltk tokenizer has broken the n't and period into separate tokens compared to the raw split on spaces."
   ]
  },
  {
   "cell_type": "markdown",
   "id": "e2f2f2a9-2236-414c-af6d-24de08e5ee7a",
   "metadata": {},
   "source": [
    "# ***Sentence boundaries***\n",
    "-----------------------------------"
   ]
  },
  {
   "cell_type": "code",
   "execution_count": 75,
   "id": "9c959661-2eea-4e5a-b376-c4ecb9c55a57",
   "metadata": {
    "execution": {
     "iopub.execute_input": "2023-03-21T01:36:46.247954Z",
     "iopub.status.busy": "2023-03-21T01:36:46.247954Z",
     "iopub.status.idle": "2023-03-21T01:36:46.254610Z",
     "shell.execute_reply": "2023-03-21T01:36:46.254610Z",
     "shell.execute_reply.started": "2023-03-21T01:36:46.247954Z"
    },
    "tags": []
   },
   "outputs": [],
   "source": [
    "# How to identify where a sentence starts and ends?\n",
    "# Periods aren't always indicative of a sentence termination.\n",
    "# Other punctuations can replace periods in sentence termination."
   ]
  },
  {
   "cell_type": "code",
   "execution_count": 84,
   "id": "a8d04572-409c-4c42-b058-af391b331eb6",
   "metadata": {
    "execution": {
     "iopub.execute_input": "2023-03-21T01:39:13.967969Z",
     "iopub.status.busy": "2023-03-21T01:39:13.967969Z",
     "iopub.status.idle": "2023-03-21T01:39:13.973625Z",
     "shell.execute_reply": "2023-03-21T01:39:13.973625Z",
     "shell.execute_reply.started": "2023-03-21T01:39:13.967969Z"
    },
    "tags": []
   },
   "outputs": [],
   "source": [
    "greeting = \"Hi there Hailey! How have you been? It's been a long vacation, hasn't it? I really enjoyed the last two weeks with my friends \\\n",
    "from hometown. We has a blast. Hahah!\""
   ]
  },
  {
   "cell_type": "code",
   "execution_count": 85,
   "id": "283e3ae7-22cb-46a9-88d4-b7acd27d91ee",
   "metadata": {
    "execution": {
     "iopub.execute_input": "2023-03-21T01:39:14.313762Z",
     "iopub.status.busy": "2023-03-21T01:39:14.313762Z",
     "iopub.status.idle": "2023-03-21T01:39:14.334000Z",
     "shell.execute_reply": "2023-03-21T01:39:14.334000Z",
     "shell.execute_reply.started": "2023-03-21T01:39:14.313762Z"
    },
    "tags": []
   },
   "outputs": [
    {
     "data": {
      "text/plain": [
       "['Hi there Hailey!',\n",
       " 'How have you been?',\n",
       " \"It's been a long vacation, hasn't it?\",\n",
       " 'I really enjoyed the last two weeks with my friends from hometown.',\n",
       " 'We has a blast.',\n",
       " 'Hahah!']"
      ]
     },
     "execution_count": 85,
     "metadata": {},
     "output_type": "execute_result"
    }
   ],
   "source": [
    "nltk.sent_tokenize(greeting)"
   ]
  },
  {
   "cell_type": "code",
   "execution_count": null,
   "id": "4fa11762-508f-4665-864a-596dcff960f5",
   "metadata": {},
   "outputs": [],
   "source": []
  }
 ],
 "metadata": {
  "kernelspec": {
   "display_name": "Python 3 (ipykernel)",
   "language": "python",
   "name": "python3"
  },
  "language_info": {
   "codemirror_mode": {
    "name": "ipython",
    "version": 3
   },
   "file_extension": ".py",
   "mimetype": "text/x-python",
   "name": "python",
   "nbconvert_exporter": "python",
   "pygments_lexer": "ipython3",
   "version": "3.11.2"
  }
 },
 "nbformat": 4,
 "nbformat_minor": 5
}
