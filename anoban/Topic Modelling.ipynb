{
 "cells": [
  {
   "cell_type": "markdown",
   "id": "a71f109b-e33b-45f1-862d-a28b73ed85ba",
   "metadata": {},
   "source": [
    "# ***Topic Modelling***\n",
    "--------------------"
   ]
  },
  {
   "cell_type": "code",
   "execution_count": 1,
   "id": "6b59b046-69a5-4b2f-9907-2e3ed42b51ed",
   "metadata": {
    "execution": {
     "iopub.execute_input": "2023-04-04T14:00:33.044480Z",
     "iopub.status.busy": "2023-04-04T14:00:33.044480Z",
     "iopub.status.idle": "2023-04-04T14:00:33.048752Z",
     "shell.execute_reply": "2023-04-04T14:00:33.048752Z",
     "shell.execute_reply.started": "2023-04-04T14:00:33.044480Z"
    }
   },
   "outputs": [],
   "source": [
    "# Imagine a text corpus (e.g. a research paper on genetic disease modeling)\n",
    "\n",
    "# Highlight the words related to genetics in blue -> genome, gene, locus, basepairs, sequence, RNA, transcription\n",
    "# Highlight the words related to computer science in green -> prediction, models, deep learning, clusters, CUDA\n",
    "# Highlight the words related to humans in pink -> survival, lifespan, mortality, severity, mobility, food-intake"
   ]
  },
  {
   "cell_type": "code",
   "execution_count": 2,
   "id": "f803d68c-4f61-4ff2-be54-732615ae7704",
   "metadata": {
    "execution": {
     "iopub.execute_input": "2023-04-04T14:02:27.388682Z",
     "iopub.status.busy": "2023-04-04T14:02:27.388682Z",
     "iopub.status.idle": "2023-04-04T14:02:27.396308Z",
     "shell.execute_reply": "2023-04-04T14:02:27.396308Z",
     "shell.execute_reply.started": "2023-04-04T14:02:27.388682Z"
    },
    "tags": []
   },
   "outputs": [],
   "source": [
    "# Documents are generally composed of different topics.\n",
    "# Consider our paper ->\n",
    "# It includes information from genetics, life science and computer science"
   ]
  },
  {
   "cell_type": "code",
   "execution_count": 3,
   "id": "7b3a7cf7-b33a-49d1-b9f1-470424eb6c4f",
   "metadata": {
    "execution": {
     "iopub.execute_input": "2023-04-04T14:04:37.170360Z",
     "iopub.status.busy": "2023-04-04T14:04:37.170360Z",
     "iopub.status.idle": "2023-04-04T14:04:37.179270Z",
     "shell.execute_reply": "2023-04-04T14:04:37.179270Z",
     "shell.execute_reply.started": "2023-04-04T14:04:37.170360Z"
    },
    "tags": []
   },
   "outputs": [],
   "source": [
    "# Documents are typically a mixture of topics\n",
    "# E.g. a research paper on genetic disease modeling will likely have contents related to\n",
    "# genetics\n",
    "# anatomy\n",
    "# physiology\n",
    "# anthropology\n",
    "# computations\n",
    "# models\n",
    "# machine / deep learning\n",
    "# statistics\n",
    "# sociology\n",
    "# health policy"
   ]
  },
  {
   "cell_type": "code",
   "execution_count": 4,
   "id": "728ac979-9318-4436-9fcc-fd3037875876",
   "metadata": {
    "execution": {
     "iopub.execute_input": "2023-04-04T14:06:34.666050Z",
     "iopub.status.busy": "2023-04-04T14:06:34.666050Z",
     "iopub.status.idle": "2023-04-04T14:06:34.684396Z",
     "shell.execute_reply": "2023-04-04T14:06:34.684396Z",
     "shell.execute_reply.started": "2023-04-04T14:06:34.666050Z"
    },
    "tags": []
   },
   "outputs": [],
   "source": [
    "# These topics will have their distributions\n",
    "# Not all topics have equal frequencies\n",
    "\n",
    "# In a paper on genetic disease modelling,\n",
    "# f(genetics) > f(computation) > f(anthropology)"
   ]
  },
  {
   "cell_type": "code",
   "execution_count": 5,
   "id": "c388e47e-0324-4b46-94bc-f489ea849351",
   "metadata": {
    "execution": {
     "iopub.execute_input": "2023-04-04T14:07:32.438012Z",
     "iopub.status.busy": "2023-04-04T14:07:32.436387Z",
     "iopub.status.idle": "2023-04-04T14:07:32.441391Z",
     "shell.execute_reply": "2023-04-04T14:07:32.441391Z",
     "shell.execute_reply.started": "2023-04-04T14:07:32.438012Z"
    },
    "tags": []
   },
   "outputs": [],
   "source": [
    "# Topic modeling is a coarse analysis of what is in a text collection.\n",
    "# i.e. given a text corpus, figure out the most appropriate topic."
   ]
  },
  {
   "cell_type": "code",
   "execution_count": 6,
   "id": "50f67909-bd25-4c5b-9d7e-162946f2eb15",
   "metadata": {
    "execution": {
     "iopub.execute_input": "2023-04-04T14:15:27.857269Z",
     "iopub.status.busy": "2023-04-04T14:15:27.857269Z",
     "iopub.status.idle": "2023-04-04T14:15:27.874087Z",
     "shell.execute_reply": "2023-04-04T14:15:27.874087Z",
     "shell.execute_reply.started": "2023-04-04T14:15:27.857269Z"
    },
    "tags": []
   },
   "outputs": [],
   "source": [
    "# A topic is a theme in a corpus\n",
    "# Represented by word distributions.\n",
    "\n",
    "# consider the token \"team\"\n",
    "# It is more likely to occur in texts related to sports in high frequency.\n",
    "# It is less likely to occur in texts related to entertainment, medicine, music in high frequency.\n",
    "# Even less so to occur in texts related to phycology, mycology, entomology & parasitology"
   ]
  },
  {
   "cell_type": "code",
   "execution_count": 7,
   "id": "2cfde894-bf4e-4bff-8030-69833553c3ec",
   "metadata": {
    "execution": {
     "iopub.execute_input": "2023-04-04T14:17:24.625492Z",
     "iopub.status.busy": "2023-04-04T14:17:24.625492Z",
     "iopub.status.idle": "2023-04-04T14:17:24.633710Z",
     "shell.execute_reply": "2023-04-04T14:17:24.633710Z",
     "shell.execute_reply.started": "2023-04-04T14:17:24.625492Z"
    },
    "tags": []
   },
   "outputs": [],
   "source": [
    "# A document is a mixture of topics.\n",
    "# Topics are essentially a probability distribution of over all words."
   ]
  },
  {
   "cell_type": "code",
   "execution_count": 8,
   "id": "ccbccc5a-4c0b-4cd2-8d98-95979f980df8",
   "metadata": {
    "execution": {
     "iopub.execute_input": "2023-04-04T14:19:19.746995Z",
     "iopub.status.busy": "2023-04-04T14:19:19.746995Z",
     "iopub.status.idle": "2023-04-04T14:19:19.763875Z",
     "shell.execute_reply": "2023-04-04T14:19:19.763875Z",
     "shell.execute_reply.started": "2023-04-04T14:19:19.746995Z"
    },
    "tags": []
   },
   "outputs": [],
   "source": [
    "# In text modeling,\n",
    "\n",
    "# A text corpus is given.\n",
    "# A set of plausible topics.\n",
    "\n",
    "# What's not known is,\n",
    "# The actual topic\n",
    "# Topic distribution for each document."
   ]
  },
  {
   "cell_type": "code",
   "execution_count": 9,
   "id": "3326732c-6d44-454b-97b9-fcbf0c2b15b7",
   "metadata": {
    "execution": {
     "iopub.execute_input": "2023-04-04T14:21:38.756551Z",
     "iopub.status.busy": "2023-04-04T14:21:38.756551Z",
     "iopub.status.idle": "2023-04-04T14:21:38.761788Z",
     "shell.execute_reply": "2023-04-04T14:21:38.761788Z",
     "shell.execute_reply.started": "2023-04-04T14:21:38.756551Z"
    },
    "tags": []
   },
   "outputs": [],
   "source": [
    "# Tpoic modeling is basically text clustering\n",
    "# We need to figure out how words cluster together in a document and how documents cluster together in a corpus simultaneously!\n",
    "# Many approaches are available"
   ]
  },
  {
   "cell_type": "code",
   "execution_count": null,
   "id": "c7641001-8a6a-489a-8adc-b540cda67f1c",
   "metadata": {},
   "outputs": [],
   "source": [
    "# Probabilistic Latent Semantic Analysis (PLSA)\n",
    "# Latent Dirichlet Allocation (LDA)\n",
    "\n",
    "# LDA is more popular compared to the former."
   ]
  }
 ],
 "metadata": {
  "kernelspec": {
   "display_name": "Python 3 (ipykernel)",
   "language": "python",
   "name": "python3"
  },
  "language_info": {
   "codemirror_mode": {
    "name": "ipython",
    "version": 3
   },
   "file_extension": ".py",
   "mimetype": "text/x-python",
   "name": "python",
   "nbconvert_exporter": "python",
   "pygments_lexer": "ipython3",
   "version": "3.11.2"
  }
 },
 "nbformat": 4,
 "nbformat_minor": 5
}
