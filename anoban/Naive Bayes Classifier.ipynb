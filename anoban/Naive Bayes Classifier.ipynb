{
 "cells": [
  {
   "cell_type": "markdown",
   "id": "0ade1a4a-4a0c-4afc-a289-0721416b4f07",
   "metadata": {},
   "source": [
    "# ***Naive Bayes Classifier***\n",
    "------------------------------------"
   ]
  },
  {
   "cell_type": "code",
   "execution_count": 2,
   "id": "d696ef0f-3356-4dce-90a7-5e139d4a8fcf",
   "metadata": {
    "execution": {
     "iopub.execute_input": "2023-03-23T22:25:48.159092Z",
     "iopub.status.busy": "2023-03-23T22:25:48.159092Z",
     "iopub.status.idle": "2023-03-23T22:25:48.163474Z",
     "shell.execute_reply": "2023-03-23T22:25:48.163474Z",
     "shell.execute_reply.started": "2023-03-23T22:25:48.159092Z"
    },
    "tags": []
   },
   "outputs": [],
   "source": [
    "# Suppose you have three classes to classify web search queries into\n",
    "\n",
    "# Zoology\n",
    "# Computer Science\n",
    "# Entertainment"
   ]
  },
  {
   "cell_type": "code",
   "execution_count": 3,
   "id": "c8434d78-e701-46fb-985a-a83245818fd5",
   "metadata": {
    "execution": {
     "iopub.execute_input": "2023-03-23T22:27:10.287948Z",
     "iopub.status.busy": "2023-03-23T22:27:10.287948Z",
     "iopub.status.idle": "2023-03-23T22:27:10.300988Z",
     "shell.execute_reply": "2023-03-23T22:27:10.300988Z",
     "shell.execute_reply.started": "2023-03-23T22:27:10.287948Z"
    },
    "tags": []
   },
   "outputs": [],
   "source": [
    "# In general most web search queries fall under the entertainment category.\n",
    "# When you know nothing about a query, the chances for it being entertainment related is quite high."
   ]
  },
  {
   "cell_type": "code",
   "execution_count": 4,
   "id": "23052374-4d09-4bb4-882e-54c1968e2720",
   "metadata": {
    "execution": {
     "iopub.execute_input": "2023-03-23T22:28:34.456563Z",
     "iopub.status.busy": "2023-03-23T22:28:34.456563Z",
     "iopub.status.idle": "2023-03-23T22:28:34.460594Z",
     "shell.execute_reply": "2023-03-23T22:28:34.460594Z",
     "shell.execute_reply.started": "2023-03-23T22:28:34.456563Z"
    },
    "tags": []
   },
   "outputs": [],
   "source": [
    "# Consider the search query \"Python\"\n",
    "\n",
    "# Is it Python the snake? (Zoology)\n",
    "# Python programming language (Comp Sci)\n",
    "# Or the Monty Python show (entertainment)\n",
    "\n",
    "# How would you classify this query?\n"
   ]
  },
  {
   "cell_type": "code",
   "execution_count": 5,
   "id": "244b0115-f10f-421f-b56d-92309ce07778",
   "metadata": {
    "execution": {
     "iopub.execute_input": "2023-03-23T22:31:16.143868Z",
     "iopub.status.busy": "2023-03-23T22:31:16.143868Z",
     "iopub.status.idle": "2023-03-23T22:31:16.149373Z",
     "shell.execute_reply": "2023-03-23T22:31:16.149373Z",
     "shell.execute_reply.started": "2023-03-23T22:31:16.143868Z"
    },
    "tags": []
   },
   "outputs": [],
   "source": [
    "# Without having any information about a query, we would have assumed it to be entertainment related due to sheer chance.\n",
    "# Now that we do know the query we do know that it is more likely related to the Python snake than entertainment."
   ]
  },
  {
   "cell_type": "code",
   "execution_count": 7,
   "id": "774dd435-895f-426c-8c42-844a21c8c42f",
   "metadata": {
    "execution": {
     "iopub.execute_input": "2023-03-23T22:33:13.049731Z",
     "iopub.status.busy": "2023-03-23T22:33:13.049731Z",
     "iopub.status.idle": "2023-03-23T22:33:13.060785Z",
     "shell.execute_reply": "2023-03-23T22:33:13.060785Z",
     "shell.execute_reply.started": "2023-03-23T22:33:13.049731Z"
    },
    "tags": []
   },
   "outputs": [],
   "source": [
    "# Assume that the search query has changed to \"Python 3.8 download\"\n",
    "\n",
    "# We now know for a fact that this is related to Python programming language.\n",
    "# Given additional information about the context, one can better classify the query into a more appropriate category.\n",
    "# i.e Computer Science"
   ]
  },
  {
   "cell_type": "code",
   "execution_count": 8,
   "id": "ba817828-0f43-4d85-8251-fc403fac0ab5",
   "metadata": {
    "execution": {
     "iopub.execute_input": "2023-03-23T22:36:34.544782Z",
     "iopub.status.busy": "2023-03-23T22:36:34.544782Z",
     "iopub.status.idle": "2023-03-23T22:36:34.550343Z",
     "shell.execute_reply": "2023-03-23T22:36:34.550343Z",
     "shell.execute_reply.started": "2023-03-23T22:36:34.544782Z"
    },
    "tags": []
   },
   "outputs": [],
   "source": [
    "# We initially had a probabilistic model\n",
    "# That stated that most web search queries are likely to be entertainment related.\n",
    "# But when we became aware of the query string, the context changed.\n",
    "# We updated the probability of the query being Zoology related higher since the string was \"Python\"\n",
    "\n",
    "# Then with the arrival of more information\n",
    "# Such as the version number and \"download\" we knew that this query was about Python language\n",
    "# So, we update the probabilities again\n",
    "# This time giving the Computer Science class the highest probability."
   ]
  },
  {
   "cell_type": "markdown",
   "id": "a21bc75c-aafd-4d1a-8954-192d7a180e5d",
   "metadata": {},
   "source": [
    "## ***Prior probability: P(Y = Entertainment), P(Y = Zoology), P(Y = Computer science)***"
   ]
  },
  {
   "cell_type": "markdown",
   "id": "d26de6ea-696a-4ac4-9eb4-0154099af31b",
   "metadata": {},
   "source": [
    "## ***Prior probability: P(Y = Entertainment) > P(Y = Zoology) or P(Y = Computer science)***"
   ]
  },
  {
   "cell_type": "code",
   "execution_count": null,
   "id": "94b4b880-0298-465c-8d9c-5f1584f75400",
   "metadata": {},
   "outputs": [],
   "source": [
    "# These are the probabilities before having any clue about the actual query string.\n",
    "# Applies to any random search query purely based on learned past knowledge."
   ]
  },
  {
   "cell_type": "markdown",
   "id": "5586bd0c-b49e-4851-bead-69aca549dcee",
   "metadata": {},
   "source": [
    "## ***P(Y = Entertainment) + P(Y = Zoology) + P(Y = Computer science) = 1***"
   ]
  },
  {
   "cell_type": "code",
   "execution_count": 9,
   "id": "1fc0b8e1-7b50-46ff-909a-95dea35efe81",
   "metadata": {
    "execution": {
     "iopub.execute_input": "2023-03-23T22:41:48.110373Z",
     "iopub.status.busy": "2023-03-23T22:41:48.110373Z",
     "iopub.status.idle": "2023-03-23T22:41:48.118702Z",
     "shell.execute_reply": "2023-03-23T22:41:48.118702Z",
     "shell.execute_reply.started": "2023-03-23T22:41:48.110373Z"
    },
    "tags": []
   },
   "outputs": [],
   "source": [
    "# Since we have just these three classes, the sum of these probabilities should be 1.0"
   ]
  },
  {
   "cell_type": "code",
   "execution_count": 10,
   "id": "c7932227-a8f0-430d-aebc-ac2ebb4af876",
   "metadata": {
    "execution": {
     "iopub.execute_input": "2023-03-23T22:42:35.040664Z",
     "iopub.status.busy": "2023-03-23T22:42:35.040664Z",
     "iopub.status.idle": "2023-03-23T22:42:35.054497Z",
     "shell.execute_reply": "2023-03-23T22:42:35.054497Z",
     "shell.execute_reply.started": "2023-03-23T22:42:35.040664Z"
    },
    "tags": []
   },
   "outputs": [],
   "source": [
    "# Say, now that we know that the query is \"Python\""
   ]
  },
  {
   "cell_type": "markdown",
   "id": "2311f442-c485-4c17-b8a4-2aff340f8eb7",
   "metadata": {},
   "source": [
    "## ***P(Y = Entertainment | x = \"Python\")***"
   ]
  },
  {
   "cell_type": "code",
   "execution_count": 13,
   "id": "8cce5232-50b0-4ecc-a7f2-07527738bd70",
   "metadata": {
    "execution": {
     "iopub.execute_input": "2023-03-23T22:44:11.537086Z",
     "iopub.status.busy": "2023-03-23T22:44:11.537086Z",
     "iopub.status.idle": "2023-03-23T22:44:11.540480Z",
     "shell.execute_reply": "2023-03-23T22:44:11.540480Z",
     "shell.execute_reply.started": "2023-03-23T22:44:11.537086Z"
    },
    "tags": []
   },
   "outputs": [],
   "source": [
    "# Now this has become the probability of the query string being entertainment related, given the query string is \"Python\""
   ]
  },
  {
   "cell_type": "code",
   "execution_count": 14,
   "id": "2728a27a-ecf7-42c5-825c-d115c2cbcb0f",
   "metadata": {
    "execution": {
     "iopub.execute_input": "2023-03-23T22:44:12.416343Z",
     "iopub.status.busy": "2023-03-23T22:44:12.416343Z",
     "iopub.status.idle": "2023-03-23T22:44:12.419779Z",
     "shell.execute_reply": "2023-03-23T22:44:12.419779Z",
     "shell.execute_reply.started": "2023-03-23T22:44:12.416343Z"
    },
    "tags": []
   },
   "outputs": [],
   "source": [
    "# So, now"
   ]
  },
  {
   "cell_type": "markdown",
   "id": "bff8d925-4bd2-4393-98f0-ebc81d69bcb7",
   "metadata": {},
   "source": [
    "## ***P(Y = Entertainment | x = \"Python\") or P(Y = Zoology | x = \"Python\") < P(Y = Comp. Sci | x = \"Python\")***"
   ]
  },
  {
   "cell_type": "markdown",
   "id": "b0b10393-76f4-4c42-b6f1-c22edf6e19c4",
   "metadata": {},
   "source": [
    "# ***Baye's theorem***\n",
    "\n",
    "## ***Posterior probability = (Prior probability * Likelihood) / Evidence***"
   ]
  },
  {
   "cell_type": "markdown",
   "id": "6b5551ef-5b25-4bf4-b7de-6623f9fed5f7",
   "metadata": {},
   "source": [
    "# ***$P(Y | x) = \\frac{P(Y) * P(x | Y)}{P(x)}$***"
   ]
  },
  {
   "cell_type": "code",
   "execution_count": 15,
   "id": "735b1ee0-84f2-4890-895a-321f37980527",
   "metadata": {
    "execution": {
     "iopub.execute_input": "2023-03-23T22:55:14.410343Z",
     "iopub.status.busy": "2023-03-23T22:55:14.410343Z",
     "iopub.status.idle": "2023-03-23T22:55:14.416572Z",
     "shell.execute_reply": "2023-03-23T22:55:14.416572Z",
     "shell.execute_reply.started": "2023-03-23T22:55:14.410343Z"
    },
    "tags": []
   },
   "outputs": [],
   "source": [
    "# Probability of Y given x is equal to\n",
    "# The prior probability of Y P(Y) multiplied by\n",
    "# the probability of x given Y P(x | Y)\n",
    "# where the data is the class\n",
    "# i.e given that the label is Computer Science, the probability of seeing Python there.\n",
    "\n",
    "# divided by the probability of x"
   ]
  },
  {
   "cell_type": "markdown",
   "id": "35c9618c-5fcc-4e32-b4e2-46e9c72320ba",
   "metadata": {},
   "source": [
    "# ***P(Y = Comp. Sci | x = \"Python\") = $\\frac{P(Comp. Sci.) * P(x = \"Python\" | Y = Comp. Sci.)}{P(\"Python\")}$***"
   ]
  },
  {
   "cell_type": "code",
   "execution_count": null,
   "id": "03d29cf0-f10a-4bab-9a2c-027c2077df91",
   "metadata": {},
   "outputs": [],
   "source": []
  }
 ],
 "metadata": {
  "kernelspec": {
   "display_name": "Python 3 (ipykernel)",
   "language": "python",
   "name": "python3"
  },
  "language_info": {
   "codemirror_mode": {
    "name": "ipython",
    "version": 3
   },
   "file_extension": ".py",
   "mimetype": "text/x-python",
   "name": "python",
   "nbconvert_exporter": "python",
   "pygments_lexer": "ipython3",
   "version": "3.11.2"
  }
 },
 "nbformat": 4,
 "nbformat_minor": 5
}
