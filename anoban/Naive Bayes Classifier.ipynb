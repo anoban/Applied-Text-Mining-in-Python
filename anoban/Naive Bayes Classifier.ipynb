{
 "cells": [
  {
   "cell_type": "markdown",
   "id": "0ade1a4a-4a0c-4afc-a289-0721416b4f07",
   "metadata": {},
   "source": [
    "# ***Naive Bayes Classifier***\n",
    "------------------------------------"
   ]
  },
  {
   "cell_type": "code",
   "execution_count": 2,
   "id": "d696ef0f-3356-4dce-90a7-5e139d4a8fcf",
   "metadata": {
    "execution": {
     "iopub.execute_input": "2023-03-23T22:25:48.159092Z",
     "iopub.status.busy": "2023-03-23T22:25:48.159092Z",
     "iopub.status.idle": "2023-03-23T22:25:48.163474Z",
     "shell.execute_reply": "2023-03-23T22:25:48.163474Z",
     "shell.execute_reply.started": "2023-03-23T22:25:48.159092Z"
    },
    "tags": []
   },
   "outputs": [],
   "source": [
    "# Suppose you have three classes to classify web search queries into\n",
    "\n",
    "# Zoology\n",
    "# Computer Science\n",
    "# Entertainment"
   ]
  },
  {
   "cell_type": "code",
   "execution_count": 3,
   "id": "c8434d78-e701-46fb-985a-a83245818fd5",
   "metadata": {
    "execution": {
     "iopub.execute_input": "2023-03-23T22:27:10.287948Z",
     "iopub.status.busy": "2023-03-23T22:27:10.287948Z",
     "iopub.status.idle": "2023-03-23T22:27:10.300988Z",
     "shell.execute_reply": "2023-03-23T22:27:10.300988Z",
     "shell.execute_reply.started": "2023-03-23T22:27:10.287948Z"
    },
    "tags": []
   },
   "outputs": [],
   "source": [
    "# In general most web search queries fall under the entertainment category.\n",
    "# When you know nothing about a query, the chances for it being entertainment related is quite high."
   ]
  },
  {
   "cell_type": "code",
   "execution_count": 4,
   "id": "23052374-4d09-4bb4-882e-54c1968e2720",
   "metadata": {
    "execution": {
     "iopub.execute_input": "2023-03-23T22:28:34.456563Z",
     "iopub.status.busy": "2023-03-23T22:28:34.456563Z",
     "iopub.status.idle": "2023-03-23T22:28:34.460594Z",
     "shell.execute_reply": "2023-03-23T22:28:34.460594Z",
     "shell.execute_reply.started": "2023-03-23T22:28:34.456563Z"
    },
    "tags": []
   },
   "outputs": [],
   "source": [
    "# Consider the search query \"Python\"\n",
    "\n",
    "# Is it Python the snake? (Zoology)\n",
    "# Python programming language (Comp Sci)\n",
    "# Or the Monty Python show (entertainment)\n",
    "\n",
    "# How would you classify this query?\n"
   ]
  },
  {
   "cell_type": "code",
   "execution_count": 5,
   "id": "244b0115-f10f-421f-b56d-92309ce07778",
   "metadata": {
    "execution": {
     "iopub.execute_input": "2023-03-23T22:31:16.143868Z",
     "iopub.status.busy": "2023-03-23T22:31:16.143868Z",
     "iopub.status.idle": "2023-03-23T22:31:16.149373Z",
     "shell.execute_reply": "2023-03-23T22:31:16.149373Z",
     "shell.execute_reply.started": "2023-03-23T22:31:16.143868Z"
    },
    "tags": []
   },
   "outputs": [],
   "source": [
    "# Without having any information about a query, we would have assumed it to be entertainment related due to sheer chance.\n",
    "# Now that we do know the query we do know that it is more likely related to the Python snake than entertainment."
   ]
  },
  {
   "cell_type": "code",
   "execution_count": 7,
   "id": "774dd435-895f-426c-8c42-844a21c8c42f",
   "metadata": {
    "execution": {
     "iopub.execute_input": "2023-03-23T22:33:13.049731Z",
     "iopub.status.busy": "2023-03-23T22:33:13.049731Z",
     "iopub.status.idle": "2023-03-23T22:33:13.060785Z",
     "shell.execute_reply": "2023-03-23T22:33:13.060785Z",
     "shell.execute_reply.started": "2023-03-23T22:33:13.049731Z"
    },
    "tags": []
   },
   "outputs": [],
   "source": [
    "# Assume that the search query has changed to \"Python 3.8 download\"\n",
    "\n",
    "# We now know for a fact that this is related to Python programming language.\n",
    "# Given additional information about the context, one can better classify the query into a more appropriate category.\n",
    "# i.e Computer Science"
   ]
  },
  {
   "cell_type": "code",
   "execution_count": 8,
   "id": "ba817828-0f43-4d85-8251-fc403fac0ab5",
   "metadata": {
    "execution": {
     "iopub.execute_input": "2023-03-23T22:36:34.544782Z",
     "iopub.status.busy": "2023-03-23T22:36:34.544782Z",
     "iopub.status.idle": "2023-03-23T22:36:34.550343Z",
     "shell.execute_reply": "2023-03-23T22:36:34.550343Z",
     "shell.execute_reply.started": "2023-03-23T22:36:34.544782Z"
    },
    "tags": []
   },
   "outputs": [],
   "source": [
    "# We initially had a probabilistic model\n",
    "# That stated that most web search queries are likely to be entertainment related.\n",
    "# But when we became aware of the query string, the context changed.\n",
    "# We updated the probability of the query being Zoology related higher since the string was \"Python\"\n",
    "\n",
    "# Then with the arrival of more information\n",
    "# Such as the version number and \"download\" we knew that this query was about Python language\n",
    "# So, we update the probabilities again\n",
    "# This time giving the Computer Science class the highest probability."
   ]
  },
  {
   "cell_type": "markdown",
   "id": "a21bc75c-aafd-4d1a-8954-192d7a180e5d",
   "metadata": {},
   "source": [
    "## ***Prior probability: P(Y = Entertainment), P(Y = Zoology), P(Y = Computer science)***"
   ]
  },
  {
   "cell_type": "markdown",
   "id": "d26de6ea-696a-4ac4-9eb4-0154099af31b",
   "metadata": {},
   "source": [
    "## ***Prior probability: P(Y = Entertainment) > P(Y = Zoology) or P(Y = Computer science)***"
   ]
  },
  {
   "cell_type": "code",
   "execution_count": null,
   "id": "94b4b880-0298-465c-8d9c-5f1584f75400",
   "metadata": {},
   "outputs": [],
   "source": [
    "# These are the probabilities before having any clue about the actual query string.\n",
    "# Applies to any random search query purely based on learned past knowledge."
   ]
  },
  {
   "cell_type": "markdown",
   "id": "5586bd0c-b49e-4851-bead-69aca549dcee",
   "metadata": {},
   "source": [
    "## ***P(Y = Entertainment) + P(Y = Zoology) + P(Y = Computer science) = 1***"
   ]
  },
  {
   "cell_type": "code",
   "execution_count": 9,
   "id": "1fc0b8e1-7b50-46ff-909a-95dea35efe81",
   "metadata": {
    "execution": {
     "iopub.execute_input": "2023-03-23T22:41:48.110373Z",
     "iopub.status.busy": "2023-03-23T22:41:48.110373Z",
     "iopub.status.idle": "2023-03-23T22:41:48.118702Z",
     "shell.execute_reply": "2023-03-23T22:41:48.118702Z",
     "shell.execute_reply.started": "2023-03-23T22:41:48.110373Z"
    },
    "tags": []
   },
   "outputs": [],
   "source": [
    "# Since we have just these three classes, the sum of these probabilities should be 1.0"
   ]
  },
  {
   "cell_type": "code",
   "execution_count": 10,
   "id": "c7932227-a8f0-430d-aebc-ac2ebb4af876",
   "metadata": {
    "execution": {
     "iopub.execute_input": "2023-03-23T22:42:35.040664Z",
     "iopub.status.busy": "2023-03-23T22:42:35.040664Z",
     "iopub.status.idle": "2023-03-23T22:42:35.054497Z",
     "shell.execute_reply": "2023-03-23T22:42:35.054497Z",
     "shell.execute_reply.started": "2023-03-23T22:42:35.040664Z"
    },
    "tags": []
   },
   "outputs": [],
   "source": [
    "# Say, now that we know that the query is \"Python\""
   ]
  },
  {
   "cell_type": "markdown",
   "id": "2311f442-c485-4c17-b8a4-2aff340f8eb7",
   "metadata": {},
   "source": [
    "## ***P(Y = Entertainment | x = \"Python\")***"
   ]
  },
  {
   "cell_type": "code",
   "execution_count": 13,
   "id": "8cce5232-50b0-4ecc-a7f2-07527738bd70",
   "metadata": {
    "execution": {
     "iopub.execute_input": "2023-03-23T22:44:11.537086Z",
     "iopub.status.busy": "2023-03-23T22:44:11.537086Z",
     "iopub.status.idle": "2023-03-23T22:44:11.540480Z",
     "shell.execute_reply": "2023-03-23T22:44:11.540480Z",
     "shell.execute_reply.started": "2023-03-23T22:44:11.537086Z"
    },
    "tags": []
   },
   "outputs": [],
   "source": [
    "# Now this has become the probability of the query string being entertainment related, given the query string is \"Python\""
   ]
  },
  {
   "cell_type": "code",
   "execution_count": 14,
   "id": "2728a27a-ecf7-42c5-825c-d115c2cbcb0f",
   "metadata": {
    "execution": {
     "iopub.execute_input": "2023-03-23T22:44:12.416343Z",
     "iopub.status.busy": "2023-03-23T22:44:12.416343Z",
     "iopub.status.idle": "2023-03-23T22:44:12.419779Z",
     "shell.execute_reply": "2023-03-23T22:44:12.419779Z",
     "shell.execute_reply.started": "2023-03-23T22:44:12.416343Z"
    },
    "tags": []
   },
   "outputs": [],
   "source": [
    "# So, now"
   ]
  },
  {
   "cell_type": "markdown",
   "id": "bff8d925-4bd2-4393-98f0-ebc81d69bcb7",
   "metadata": {},
   "source": [
    "## ***P(Y = Entertainment | x = \"Python\") or P(Y = Zoology | x = \"Python\") < P(Y = Comp. Sci | x = \"Python\")***"
   ]
  },
  {
   "cell_type": "markdown",
   "id": "b0b10393-76f4-4c42-b6f1-c22edf6e19c4",
   "metadata": {},
   "source": [
    "# ***Baye's theorem***\n",
    "\n",
    "## ***Posterior probability = $\\frac{Prior probability \\text{ x } Likelihood}{Evidence}$***"
   ]
  },
  {
   "cell_type": "markdown",
   "id": "6b5551ef-5b25-4bf4-b7de-6623f9fed5f7",
   "metadata": {},
   "source": [
    "# ***$P(Y | x)$ = $\\frac{P(Y) \\times P(x | Y)}{P(x)}$***"
   ]
  },
  {
   "cell_type": "code",
   "execution_count": 2,
   "id": "735b1ee0-84f2-4890-895a-321f37980527",
   "metadata": {
    "execution": {
     "iopub.execute_input": "2023-03-24T12:04:52.584550Z",
     "iopub.status.busy": "2023-03-24T12:04:52.572042Z",
     "iopub.status.idle": "2023-03-24T12:04:52.587878Z",
     "shell.execute_reply": "2023-03-24T12:04:52.587878Z",
     "shell.execute_reply.started": "2023-03-24T12:04:52.584550Z"
    },
    "tags": []
   },
   "outputs": [],
   "source": [
    "# Probability of Y given x is equal to\n",
    "# The prior probability of Y P(Y) multiplied by\n",
    "# the probability of x given Y P(x | Y)\n",
    "# where the data is the class\n",
    "# i.e given that the label is Computer Science, the probability of seeing Python there.\n",
    "\n",
    "# divided by the probability of x"
   ]
  },
  {
   "cell_type": "markdown",
   "id": "35c9618c-5fcc-4e32-b4e2-46e9c72320ba",
   "metadata": {},
   "source": [
    "## ***$P(Y = Comp. Sci | x = \"Python\") = \\frac{P(Comp. Sci.)~\\times~P(x = \"Python\" | Y = Comp. Sci.)}{P(\"Python\")}$***"
   ]
  },
  {
   "cell_type": "code",
   "execution_count": 21,
   "id": "a8277891-81c0-45ba-b36d-8edaf8469f6e",
   "metadata": {
    "execution": {
     "iopub.execute_input": "2023-03-25T09:47:14.034180Z",
     "iopub.status.busy": "2023-03-25T09:47:14.034180Z",
     "iopub.status.idle": "2023-03-25T09:47:14.042810Z",
     "shell.execute_reply": "2023-03-25T09:47:14.042810Z",
     "shell.execute_reply.started": "2023-03-25T09:47:14.034180Z"
    },
    "tags": []
   },
   "outputs": [],
   "source": [
    "# So the probability of the class being Computer science given that the query string is \"Python\" equals to\n",
    "# The prior probability of the class Computer science x\n",
    "# Probability of finding the string \"Python\" in a Computer science document (Probability of the query \"Python\" given the class Computer science) x\n",
    "# Probability of getting a query string \"Python\""
   ]
  },
  {
   "cell_type": "code",
   "execution_count": 22,
   "id": "03d29cf0-f10a-4bab-9a2c-027c2077df91",
   "metadata": {
    "execution": {
     "iopub.execute_input": "2023-03-25T09:47:14.333104Z",
     "iopub.status.busy": "2023-03-25T09:47:14.333104Z",
     "iopub.status.idle": "2023-03-25T09:47:14.337153Z",
     "shell.execute_reply": "2023-03-25T09:47:14.337153Z",
     "shell.execute_reply.started": "2023-03-25T09:47:14.333104Z"
    },
    "tags": []
   },
   "outputs": [],
   "source": [
    "# However, Naive Bayes Classification model is just interested in which of the three labels is more likely.\n",
    "# Which class has the highest probability is important\n",
    "# Their exact probability values are less important."
   ]
  },
  {
   "cell_type": "code",
   "execution_count": 23,
   "id": "15b75b19-92ca-41b4-a8a8-74d8950fdbcc",
   "metadata": {
    "execution": {
     "iopub.execute_input": "2023-03-25T09:47:14.536994Z",
     "iopub.status.busy": "2023-03-25T09:47:14.536994Z",
     "iopub.status.idle": "2023-03-25T09:47:14.551834Z",
     "shell.execute_reply": "2023-03-25T09:47:14.551834Z",
     "shell.execute_reply.started": "2023-03-25T09:47:14.536994Z"
    },
    "tags": []
   },
   "outputs": [],
   "source": [
    "# So the true (predicted) label Y_hat is the Y that maximizes the P(Y | x)\n",
    "# e.g. P(Y = Comp. Sci. | x = \"Python 3.9.11\")\n",
    "# Here Y_hat is the label (class) Comp. Sci. that maximizes P(Y | x) "
   ]
  },
  {
   "cell_type": "markdown",
   "id": "88476dff-18c3-4558-a829-71801500992a",
   "metadata": {},
   "source": [
    "# ***$P(Y | x) = \\frac{P(Y)~\\cdot~P(x | Y)}{P(x)}$***"
   ]
  },
  {
   "cell_type": "code",
   "execution_count": 24,
   "id": "fbdfaff4-91e4-4189-85ed-6c48a8066bd6",
   "metadata": {
    "execution": {
     "iopub.execute_input": "2023-03-25T09:47:15.102503Z",
     "iopub.status.busy": "2023-03-25T09:47:15.102503Z",
     "iopub.status.idle": "2023-03-25T09:47:15.119526Z",
     "shell.execute_reply": "2023-03-25T09:47:15.119526Z",
     "shell.execute_reply.started": "2023-03-25T09:47:15.102503Z"
    },
    "tags": []
   },
   "outputs": [],
   "source": [
    "# Here, P(x) does not matter\n",
    "# Since the probability of seeing a query like \"Python\" has no influence on which class that query will be classified into.\n",
    "# One can safely ignore the P(x) part."
   ]
  },
  {
   "cell_type": "markdown",
   "id": "1f5a73da-ace1-4041-aa59-9078f9d8d634",
   "metadata": {},
   "source": [
    "# ***$\\hat{Y}$ = argmax P(Y | x) = argmax P(Y) x P(x | Y)***"
   ]
  },
  {
   "cell_type": "code",
   "execution_count": 25,
   "id": "135493f8-f0ca-48cc-b3f1-df07ef3f81cf",
   "metadata": {
    "execution": {
     "iopub.execute_input": "2023-03-25T09:47:16.217530Z",
     "iopub.status.busy": "2023-03-25T09:47:16.217530Z",
     "iopub.status.idle": "2023-03-25T09:47:16.222812Z",
     "shell.execute_reply": "2023-03-25T09:47:16.222812Z",
     "shell.execute_reply.started": "2023-03-25T09:47:16.217530Z"
    },
    "tags": []
   },
   "outputs": [],
   "source": [
    "# Naive assumption ->\n",
    "\n",
    "# Given the class label, features are assumed to be independent of one another.\n",
    "# e.g. Given the label Y, P(x | Y) is only dependent on the given feature X."
   ]
  },
  {
   "cell_type": "code",
   "execution_count": 26,
   "id": "22f06940-22a2-4df8-8cfa-b0310cdb7b1b",
   "metadata": {
    "execution": {
     "iopub.execute_input": "2023-03-25T09:47:16.421285Z",
     "iopub.status.busy": "2023-03-25T09:47:16.405806Z",
     "iopub.status.idle": "2023-03-25T09:47:16.423868Z",
     "shell.execute_reply": "2023-03-25T09:47:16.423868Z",
     "shell.execute_reply.started": "2023-03-25T09:47:16.421285Z"
    },
    "tags": []
   },
   "outputs": [],
   "source": [
    "# Final formulation of Naive Bayes classifier\n",
    "# x_i here enumerates the features in the web search query."
   ]
  },
  {
   "cell_type": "markdown",
   "id": "7b483cfb-ad7a-4304-a124-a2907ed0a7f8",
   "metadata": {},
   "source": [
    "# ***$\\hat{Y} =~argmax~P(Y | x)~=~argmax~P(Y)~\\times~\\pi_{i = 1}^{n}{P(x_{i} | Y)}$***"
   ]
  },
  {
   "cell_type": "code",
   "execution_count": 27,
   "id": "008e8d9a-a2ce-48d8-90da-cf0a95c9716d",
   "metadata": {
    "execution": {
     "iopub.execute_input": "2023-03-25T09:47:16.782265Z",
     "iopub.status.busy": "2023-03-25T09:47:16.782265Z",
     "iopub.status.idle": "2023-03-25T09:47:16.799426Z",
     "shell.execute_reply": "2023-03-25T09:47:16.799426Z",
     "shell.execute_reply.started": "2023-03-25T09:47:16.782265Z"
    },
    "tags": []
   },
   "outputs": [],
   "source": [
    "# Predicted label Y_hat is the label (class) that maximizes the probability of label Y given feature x. P(Y | x)"
   ]
  },
  {
   "cell_type": "code",
   "execution_count": 28,
   "id": "22387695-e400-4d7f-932a-56953ee8a9a7",
   "metadata": {
    "execution": {
     "iopub.execute_input": "2023-03-25T09:47:17.049472Z",
     "iopub.status.busy": "2023-03-25T09:47:17.049472Z",
     "iopub.status.idle": "2023-03-25T09:47:17.055104Z",
     "shell.execute_reply": "2023-03-25T09:47:17.055104Z",
     "shell.execute_reply.started": "2023-03-25T09:47:17.049472Z"
    },
    "tags": []
   },
   "outputs": [],
   "source": [
    "# If the web query is \"Python 3.10 Windows 11\""
   ]
  },
  {
   "cell_type": "markdown",
   "id": "52ebb4bf-bd9e-4b80-9448-a9646b89eabd",
   "metadata": {},
   "source": [
    "# ***$\\hat{Y}~=~argmax~P(Y)~\\times~P(\"Python\" | Y) x P(\"3.10\" | Y)~\\times~P(\"Windows 11\" | Y)$***"
   ]
  },
  {
   "cell_type": "code",
   "execution_count": 32,
   "id": "d92bfa94-4254-44f7-bf03-196e458f2c7f",
   "metadata": {
    "execution": {
     "iopub.execute_input": "2023-03-25T09:56:11.784024Z",
     "iopub.status.busy": "2023-03-25T09:56:11.784024Z",
     "iopub.status.idle": "2023-03-25T09:56:11.794553Z",
     "shell.execute_reply": "2023-03-25T09:56:11.794553Z",
     "shell.execute_reply.started": "2023-03-25T09:56:11.784024Z"
    },
    "tags": []
   },
   "outputs": [],
   "source": [
    "# Probability of this nquery being Zoology related is very low.\n"
   ]
  },
  {
   "cell_type": "code",
   "execution_count": 33,
   "id": "7b41ae12-1c00-4c75-a7ae-3d9f27b393bc",
   "metadata": {
    "execution": {
     "iopub.execute_input": "2023-03-25T09:56:11.988431Z",
     "iopub.status.busy": "2023-03-25T09:56:11.988431Z",
     "iopub.status.idle": "2023-03-25T09:56:11.999761Z",
     "shell.execute_reply": "2023-03-25T09:56:11.999761Z",
     "shell.execute_reply.started": "2023-03-25T09:56:11.988431Z"
    },
    "tags": []
   },
   "outputs": [],
   "source": [
    "# The naive Bayes classifier is only interseted in which class has the highest probability.\n",
    "# Y will belong to one of the following classes: Zoology, Computer Science, Entertainment\n",
    "# The exact probability values of the query strings per-se have very little importance.\n",
    "# i.e. P(\"Python\") has no significance\n",
    "# P(\"Python\") marks the probability of seeing the string \"Python\" in a random web search query.\n"
   ]
  },
  {
   "cell_type": "markdown",
   "id": "6c57d570-4361-40a0-9c61-9923695e385e",
   "metadata": {},
   "source": [
    "So, from the following equation, we can remove the red part!\n",
    "\n",
    "# ***$P(Y | x) = \\frac{P(Y)~\\cdot~P(x | Y)}{\\color{red}{P(x)}}$***\n",
    "\n",
    "and make it as,\n",
    "\n",
    "# ***$\\hat{Y} = \\text{argmax}~P(Y | x) = P(Y)~\\times~P(x | Y)$***"
   ]
  },
  {
   "cell_type": "code",
   "execution_count": 34,
   "id": "0f51356a-30b1-4df7-a384-e27bbe697bdd",
   "metadata": {
    "execution": {
     "iopub.execute_input": "2023-03-25T09:56:12.303277Z",
     "iopub.status.busy": "2023-03-25T09:56:12.303277Z",
     "iopub.status.idle": "2023-03-25T09:56:12.320219Z",
     "shell.execute_reply": "2023-03-25T09:56:12.320219Z",
     "shell.execute_reply.started": "2023-03-25T09:56:12.303277Z"
    },
    "tags": []
   },
   "outputs": [],
   "source": [
    "# Naive Bayes classifier assumes that there is nore relationships between features.\n",
    "# e.g. in the query \"Python 3.9.11 Windows 11\"\n",
    "# Probabilities of all individual words occurring are independent.\n",
    "# Which is not true since the version string and platform have a high likelihood of co-occurring with \"Python\"\n",
    "# than occurring independently."
   ]
  },
  {
   "cell_type": "markdown",
   "id": "80166ced-0efd-4abd-8e62-72a8dafe5208",
   "metadata": {},
   "source": [
    "# ***$\\hat{Y} =~argmax~P(Y | x)~=~argmax~P(Y)~\\times~\\pi_{i = 1}^{n}{P(x_{i} | Y)}$***\n",
    "\n",
    "## $\\hat{Y}$ - The value of Y that maximizes $P(Y | x)$\n",
    "## Which is computed as the products of the probabilities if individual features given Y."
   ]
  },
  {
   "cell_type": "code",
   "execution_count": 35,
   "id": "9097a16d-2ee7-471f-921d-a648033eaf57",
   "metadata": {
    "execution": {
     "iopub.execute_input": "2023-03-25T09:56:39.994281Z",
     "iopub.status.busy": "2023-03-25T09:56:39.994281Z",
     "iopub.status.idle": "2023-03-25T09:56:39.997054Z",
     "shell.execute_reply": "2023-03-25T09:56:39.997054Z",
     "shell.execute_reply.started": "2023-03-25T09:56:39.994281Z"
    },
    "tags": []
   },
   "outputs": [],
   "source": [
    "# Consider the query \"Python 3.11.2 download\""
   ]
  },
  {
   "cell_type": "markdown",
   "id": "8a0df7a3-6d9d-4f95-8e20-b66d2308d4bf",
   "metadata": {},
   "source": [
    "# ***$\\hat{Y}~=~argmax~P(Y)~\\times~P(Python | Y)~\\times~P(3.11.2 | Y)~\\times~P(download | Y)$***"
   ]
  },
  {
   "cell_type": "code",
   "execution_count": 36,
   "id": "61ae3a72-e8b9-45bc-a2b4-08e45226ae22",
   "metadata": {
    "execution": {
     "iopub.execute_input": "2023-03-25T10:03:14.021467Z",
     "iopub.status.busy": "2023-03-25T10:03:14.021467Z",
     "iopub.status.idle": "2023-03-25T10:03:14.030069Z",
     "shell.execute_reply": "2023-03-25T10:03:14.030069Z",
     "shell.execute_reply.started": "2023-03-25T10:03:14.021467Z"
    },
    "tags": []
   },
   "outputs": [],
   "source": [
    "# If Y is Zoology\n",
    "# P(Zoology) is typically low\n",
    "# P(Python | Zoology) will be high\n",
    "# P(3.11.2 | Zoology) will be very low\n",
    "# P(download | Zoology) will also be low.\n",
    "\n",
    "# If Y is Computer Science\n",
    "# P(Computer Science) will be low\n",
    "# P(Python | Computer Science) will be high.\n",
    "# P(3.11.2 | Computer Science) will be high.\n",
    "# P(download | Computer Science) will also be high.\n",
    "# So, of all classes Computer Science will be the class to give the argmax of P(x | Y)"
   ]
  },
  {
   "cell_type": "markdown",
   "id": "b79bec96-f1bb-4aaf-83c9-fc784829bfd6",
   "metadata": {},
   "source": [
    "# ***Parameters***\n",
    "--------------------"
   ]
  },
  {
   "cell_type": "code",
   "execution_count": 37,
   "id": "b2f3b458-ff87-4910-a524-efb7b0990b3c",
   "metadata": {
    "execution": {
     "iopub.execute_input": "2023-03-25T10:05:33.451087Z",
     "iopub.status.busy": "2023-03-25T10:05:33.451087Z",
     "iopub.status.idle": "2023-03-25T10:05:33.468360Z",
     "shell.execute_reply": "2023-03-25T10:05:33.468360Z",
     "shell.execute_reply.started": "2023-03-25T10:05:33.451087Z"
    },
    "tags": []
   },
   "outputs": [],
   "source": [
    "# In Naive Bayes model the Y_hat is the product of individual probabilities.\n",
    "# What are the parameters there?"
   ]
  },
  {
   "cell_type": "markdown",
   "id": "079c371d-3f06-4246-a538-0ba8ffb9bad0",
   "metadata": {},
   "source": [
    "## ***$Prior~probabilities:~~P(y)~for~y~in~Y$***\n",
    "## ***$Likelihoods:~P(x_{i} | y)~for~all~features~x_{i}~and~labels~y~in~Y$***"
   ]
  },
  {
   "cell_type": "code",
   "execution_count": 38,
   "id": "6f9b6d13-763a-4ad6-bb4e-06275d039019",
   "metadata": {
    "execution": {
     "iopub.execute_input": "2023-03-25T10:12:11.562573Z",
     "iopub.status.busy": "2023-03-25T10:12:11.562573Z",
     "iopub.status.idle": "2023-03-25T10:12:11.571019Z",
     "shell.execute_reply": "2023-03-25T10:12:11.571019Z",
     "shell.execute_reply.started": "2023-03-25T10:12:11.562573Z"
    },
    "tags": []
   },
   "outputs": [
    {
     "name": "stdout",
     "output_type": "stream",
     "text": [
      "Number of parameters: 1250\n"
     ]
    }
   ],
   "source": [
    "# If there are 5 classes\n",
    "# |Y| = 5\n",
    "\n",
    "# and 250 features\n",
    "# |x| = 250\n",
    "# e.g. x goes from x_0, x_1, x_2 .... x_249\n",
    "\n",
    "# How many parameters does a Naive Bayes model will have?\n",
    "\n",
    "print(f\"Number of parameters: {5 * 250}\")"
   ]
  },
  {
   "cell_type": "markdown",
   "id": "ca5625fb-2dea-4a6c-a74b-d9c660873ad1",
   "metadata": {},
   "source": [
    "# ***Learning parameters***\n",
    "-----------------------"
   ]
  },
  {
   "cell_type": "code",
   "execution_count": 48,
   "id": "262e6794-085e-4689-a890-dfc7e0236ad6",
   "metadata": {
    "execution": {
     "iopub.execute_input": "2023-03-25T10:22:03.578881Z",
     "iopub.status.busy": "2023-03-25T10:22:03.578881Z",
     "iopub.status.idle": "2023-03-25T10:22:03.595776Z",
     "shell.execute_reply": "2023-03-25T10:22:03.595776Z",
     "shell.execute_reply.started": "2023-03-25T10:22:03.578881Z"
    },
    "tags": []
   },
   "outputs": [
    {
     "name": "stdout",
     "output_type": "stream",
     "text": [
      "Prior probability of class Music is 0.4\n",
      "Prior probability of class Computer Science is 0.2\n",
      "Prior probability of class Movies is 0.2\n",
      "Prior probability of class Zoology is 0.2\n"
     ]
    }
   ],
   "source": [
    "# Let's say that you have the following 5 labels\n",
    "# Movies, Music, Zoology, Computer Science, Data Science\n",
    "\n",
    "# How do you propose that Movies or Music related queries have higher probabilities?\n",
    "\n",
    "# You will have a training dataset\n",
    "# With a set of web queries labelled with their cognate classes\n",
    "\n",
    "# e.g. a query \"Rust stable release\" labelled \"Computer Science\"\n",
    "# \"Jennifer Lopez - On The Floor ft. Pitbull\" labelled \"Music\"\n",
    "# \"Anatomy of reptilian brain\" labelled \"Zoology\"\n",
    "# \"Marry the Night - Lady Gaga\" labelled \"Music\"\n",
    "# \"Fast and Furious 6\" labelled \"Movies\"\n",
    "# et.c.\n",
    "\n",
    "# We can simply count the number of instances of all classes in the training data to compute those classess's prior probabilities.\n",
    "# Assume that the above examples are your training data (just 5 queries with their labels)\n",
    "\n",
    "print(f\"Prior probability of class {'Music'} is {2 / 5}\")\n",
    "print(f\"Prior probability of class {'Computer Science'} is {1 / 5}\")\n",
    "print(f\"Prior probability of class {'Movies'} is {1 / 5}\")\n",
    "print(f\"Prior probability of class {'Zoology'} is {1 / 5}\")"
   ]
  },
  {
   "cell_type": "code",
   "execution_count": null,
   "id": "69401ecd-601c-43ea-94fd-0733bc5ae1c7",
   "metadata": {},
   "outputs": [],
   "source": []
  }
 ],
 "metadata": {
  "kernelspec": {
   "display_name": "Python 3 (ipykernel)",
   "language": "python",
   "name": "python3"
  },
  "language_info": {
   "codemirror_mode": {
    "name": "ipython",
    "version": 3
   },
   "file_extension": ".py",
   "mimetype": "text/x-python",
   "name": "python",
   "nbconvert_exporter": "python",
   "pygments_lexer": "ipython3",
   "version": "3.11.2"
  }
 },
 "nbformat": 4,
 "nbformat_minor": 5
}
