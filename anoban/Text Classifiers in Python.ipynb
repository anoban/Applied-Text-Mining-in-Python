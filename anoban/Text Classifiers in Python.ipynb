{
 "cells": [
  {
   "cell_type": "markdown",
   "id": "d3757c78-7967-494c-b66d-347e03c87db9",
   "metadata": {},
   "source": [
    "# ***Text Classifiers in Python***\n",
    "-------------------------"
   ]
  },
  {
   "cell_type": "code",
   "execution_count": 1,
   "id": "3bb9e827-9e69-4aeb-ac57-898e1a117def",
   "metadata": {
    "execution": {
     "iopub.execute_input": "2023-04-01T02:59:58.770858Z",
     "iopub.status.busy": "2023-04-01T02:59:58.770858Z",
     "iopub.status.idle": "2023-04-01T02:59:58.775277Z",
     "shell.execute_reply": "2023-04-01T02:59:58.775277Z",
     "shell.execute_reply.started": "2023-04-01T02:59:58.770858Z"
    }
   },
   "outputs": [],
   "source": [
    "# Toolkits for supervised text classification:\n",
    "# Scikit-Learn\n",
    "# NLTK"
   ]
  },
  {
   "cell_type": "markdown",
   "id": "5dc3606a-da74-4950-ac2a-4ba7e9da83ff",
   "metadata": {},
   "source": [
    "# ***Naive Bayes Classifiers in Scikit-Learn***\n",
    "---------------------------"
   ]
  },
  {
   "cell_type": "code",
   "execution_count": 9,
   "id": "7d49e5e2-93ff-4c47-8a3c-1131a088f9bd",
   "metadata": {
    "execution": {
     "iopub.execute_input": "2023-04-01T09:42:15.870378Z",
     "iopub.status.busy": "2023-04-01T09:42:15.870378Z",
     "iopub.status.idle": "2023-04-01T09:42:15.935842Z",
     "shell.execute_reply": "2023-04-01T09:42:15.935842Z",
     "shell.execute_reply.started": "2023-04-01T09:42:15.870378Z"
    },
    "tags": []
   },
   "outputs": [],
   "source": [
    "import nltk\n",
    "from sklearn import naive_bayes\n",
    "from sklearn.metrics import f1_score, accuracy_score"
   ]
  },
  {
   "cell_type": "code",
   "execution_count": 4,
   "id": "eb309a3a-5558-4825-b876-5cb631e4f63a",
   "metadata": {
    "execution": {
     "iopub.execute_input": "2023-04-01T03:08:03.278908Z",
     "iopub.status.busy": "2023-04-01T03:08:03.278908Z",
     "iopub.status.idle": "2023-04-01T03:08:03.283167Z",
     "shell.execute_reply": "2023-04-01T03:08:03.283167Z",
     "shell.execute_reply.started": "2023-04-01T03:08:03.278908Z"
    },
    "tags": []
   },
   "outputs": [],
   "source": [
    "# Instantiating a multinomial naive bayes classifier\n",
    "# We are using Multinomial model instead of Bernoulli model.\n",
    "\n",
    "multinomial_nbc = naive_bayes.MultinomialNB()\n",
    "# then\n",
    "# multinomial_nbc.fit(train_x, train_labels)\n",
    "# multinomial_nbc.predict(test_x)\n",
    "\n",
    "# If the train data was labelled,\n",
    "# One can check how well well has the classifier done\n",
    "# f1_score(test_labels, prediction, average = \"micro\")"
   ]
  },
  {
   "cell_type": "markdown",
   "id": "8fc3de85-d9b3-494a-90c8-117ed216e9a3",
   "metadata": {},
   "source": [
    "# ***SVM classifiers in Scikit-Learn***\n",
    "--------------------------"
   ]
  },
  {
   "cell_type": "code",
   "execution_count": 3,
   "id": "e2bf90a4-fae8-4f92-9379-ff979184fa95",
   "metadata": {
    "execution": {
     "iopub.execute_input": "2023-04-01T09:31:31.011786Z",
     "iopub.status.busy": "2023-04-01T09:31:31.011786Z",
     "iopub.status.idle": "2023-04-01T09:31:32.144383Z",
     "shell.execute_reply": "2023-04-01T09:31:32.144383Z",
     "shell.execute_reply.started": "2023-04-01T09:31:31.011786Z"
    },
    "tags": []
   },
   "outputs": [],
   "source": [
    "from sklearn import svm"
   ]
  },
  {
   "cell_type": "code",
   "execution_count": 4,
   "id": "25ee505f-9ea4-4964-afa9-a21f17dfaba4",
   "metadata": {
    "execution": {
     "iopub.execute_input": "2023-04-01T09:31:32.144383Z",
     "iopub.status.busy": "2023-04-01T09:31:32.144383Z",
     "iopub.status.idle": "2023-04-01T09:31:32.152562Z",
     "shell.execute_reply": "2023-04-01T09:31:32.152562Z",
     "shell.execute_reply.started": "2023-04-01T09:31:32.144383Z"
    },
    "tags": []
   },
   "outputs": [],
   "source": [
    "# linear classifiers work well with text data\n",
    "# C is the parameter for soft margin.\n",
    "# Default value for kernels in RBF\n",
    "# Default for C is 1\n",
    "\n",
    "svm_classifier = svm.SVC(kernel = \"linear\", C = 0.1)\n",
    "\n",
    "# then\n",
    "# svm_classifier.fit(train_x, train_labels)\n",
    "# svm_classifier.predict(test_x)"
   ]
  },
  {
   "cell_type": "markdown",
   "id": "330813d7-2681-47bb-9969-3e678512a5ad",
   "metadata": {},
   "source": [
    "# ***Model Selection***\n",
    "_____________________________"
   ]
  },
  {
   "cell_type": "code",
   "execution_count": 7,
   "id": "f68d8bbe-1898-42eb-8a42-5bd6432ca2c1",
   "metadata": {
    "execution": {
     "iopub.execute_input": "2023-04-01T03:36:14.211204Z",
     "iopub.status.busy": "2023-04-01T03:36:14.211204Z",
     "iopub.status.idle": "2023-04-01T03:36:14.225036Z",
     "shell.execute_reply": "2023-04-01T03:36:14.225036Z",
     "shell.execute_reply.started": "2023-04-01T03:36:14.211204Z"
    },
    "tags": []
   },
   "outputs": [],
   "source": [
    "# 2 phases of supervised learning\n",
    "# Training phase\n",
    "# Inference phase\n",
    "\n",
    "# labelled data -> Split into train_data and validation_data (hold out)\n",
    "# then unlabelled test data -> used for prediction\n",
    "# one could use a labelled test data (data from the hold out without the labels)\n",
    "# typically the test dataset is not labelled."
   ]
  },
  {
   "cell_type": "code",
   "execution_count": 8,
   "id": "01322367-bd99-4491-90f0-0dd512607295",
   "metadata": {
    "execution": {
     "iopub.execute_input": "2023-04-01T03:37:59.272382Z",
     "iopub.status.busy": "2023-04-01T03:37:59.272382Z",
     "iopub.status.idle": "2023-04-01T03:37:59.282655Z",
     "shell.execute_reply": "2023-04-01T03:37:59.282655Z",
     "shell.execute_reply.started": "2023-04-01T03:37:59.272382Z"
    },
    "tags": []
   },
   "outputs": [],
   "source": [
    "# One can use the train data with labels to test how well models are performing by comparing the predictions to the hold out data.\n",
    "# Or to tune model parameters.\n",
    "\n",
    "# e.g. To decide which value if best for C"
   ]
  },
  {
   "cell_type": "code",
   "execution_count": 9,
   "id": "de841479-8278-443e-9e47-34091624d2a5",
   "metadata": {
    "execution": {
     "iopub.execute_input": "2023-04-01T03:38:54.151500Z",
     "iopub.status.busy": "2023-04-01T03:38:54.151500Z",
     "iopub.status.idle": "2023-04-01T03:38:54.168345Z",
     "shell.execute_reply": "2023-04-01T03:38:54.168345Z",
     "shell.execute_reply.started": "2023-04-01T03:38:54.151500Z"
    },
    "tags": []
   },
   "outputs": [],
   "source": [
    "# Two ways of model selection.\n",
    "\n",
    "# One -> having a hold out data to measure performance\n",
    "# Two -> cross validation"
   ]
  },
  {
   "cell_type": "code",
   "execution_count": 2,
   "id": "17c3a661-eda0-47fe-94bf-d8aa2bda1bc5",
   "metadata": {
    "execution": {
     "iopub.execute_input": "2023-04-01T09:30:45.512220Z",
     "iopub.status.busy": "2023-04-01T09:30:45.512220Z",
     "iopub.status.idle": "2023-04-01T09:30:58.884292Z",
     "shell.execute_reply": "2023-04-01T09:30:58.884292Z",
     "shell.execute_reply.started": "2023-04-01T09:30:45.512220Z"
    },
    "tags": []
   },
   "outputs": [],
   "source": [
    "from sklearn import model_selection\n",
    "\n",
    "# train_x, test_x, train_labs, test_labs = model_selection.train_test_split(train_data, test_size = 0.35, random_state = 0)\n",
    "# test_size is the fraction of the whole data to be used as test data.\n",
    "# random_state is used to shuffle the data before splitting.\n",
    "\n",
    "# In doing this, one loses a significant portion of the training data to hold out.\n",
    "# Including this hold out in the training data might improve the model's performance.\n",
    "# The hold out is of no use to the model but to us\n",
    "# It is used exclusively to measure model performace or to tune model parameters."
   ]
  },
  {
   "cell_type": "code",
   "execution_count": 1,
   "id": "ea9d98de-35c3-4631-a70a-7813e30ca147",
   "metadata": {
    "execution": {
     "iopub.execute_input": "2023-04-01T09:24:07.857275Z",
     "iopub.status.busy": "2023-04-01T09:24:07.856721Z",
     "iopub.status.idle": "2023-04-01T09:24:07.860583Z",
     "shell.execute_reply": "2023-04-01T09:24:07.860583Z",
     "shell.execute_reply.started": "2023-04-01T09:24:07.857275Z"
    }
   },
   "outputs": [],
   "source": [
    "# Cross validation."
   ]
  },
  {
   "cell_type": "code",
   "execution_count": 5,
   "id": "6e1494aa-7a23-4f3d-9e8a-d75e0e084d1c",
   "metadata": {
    "execution": {
     "iopub.execute_input": "2023-04-01T09:35:56.706982Z",
     "iopub.status.busy": "2023-04-01T09:35:56.706982Z",
     "iopub.status.idle": "2023-04-01T09:35:56.723154Z",
     "shell.execute_reply": "2023-04-01T09:35:56.723154Z",
     "shell.execute_reply.started": "2023-04-01T09:35:56.706982Z"
    },
    "tags": []
   },
   "outputs": [],
   "source": [
    "# A 5:4 cross validation will look something like this.\n",
    "# Where the training data gets split into 5 parts (called folds)\n",
    "# 5 models are trained each with one fold as a holdout and providing all the remaining 4 folds as training data\n",
    "# e.g. train on parts 0 - 3 and test on 4 -> model 1\n",
    "# train on parts 1 - 4 and test on 0 -> model 2\n",
    "# et.c\n",
    "\n",
    "# Every portion serves as a test and train (not simultaneously).\n",
    "# There are 5 ways of splitting the data.\n",
    "# Then avarage out the 5 results on the hold out data to evaluate the model's performance.\n",
    "# Its a common parctice to use 10 fold cross validation.\n",
    "\n",
    "# train_x, test_x, train_labs, test_labs = model_selection.train_test_split(train_data, random_state = 0, test_size = 0.25)\n",
    "# model_selection.cross_val_predict(svm_classifier, train_x, train_labs, cv = 10)\n",
    "\n",
    "# It is also very common to run cross-validation multiple times to minimize variance in the results."
   ]
  },
  {
   "cell_type": "markdown",
   "id": "bf8b3f1a-9e81-49d7-8124-7efc2f5be913",
   "metadata": {},
   "source": [
    "# ***Supervised Text Classification in NLTK***\n",
    "---------------------------------"
   ]
  },
  {
   "cell_type": "code",
   "execution_count": 6,
   "id": "3edfe186-cd96-45c9-b214-c9fd6312a210",
   "metadata": {
    "execution": {
     "iopub.execute_input": "2023-04-01T09:38:17.697678Z",
     "iopub.status.busy": "2023-04-01T09:38:17.697008Z",
     "iopub.status.idle": "2023-04-01T09:38:17.700576Z",
     "shell.execute_reply": "2023-04-01T09:38:17.700576Z",
     "shell.execute_reply.started": "2023-04-01T09:38:17.697678Z"
    },
    "tags": []
   },
   "outputs": [],
   "source": [
    "# NLTK has some text classification algorithms.\n",
    "# Naive Bayes Classifier\n",
    "# Decision Tree Classifier\n",
    "# Conditional Exponential Classifier\n",
    "# Maxent Classifier\n",
    "# Weka Classifier\n",
    "# NLTK Classifier"
   ]
  },
  {
   "cell_type": "code",
   "execution_count": 7,
   "id": "82da940f-2373-47e0-ab00-327b544433b2",
   "metadata": {
    "execution": {
     "iopub.execute_input": "2023-04-01T09:38:48.628245Z",
     "iopub.status.busy": "2023-04-01T09:38:48.628245Z",
     "iopub.status.idle": "2023-04-01T09:38:48.634539Z",
     "shell.execute_reply": "2023-04-01T09:38:48.634539Z",
     "shell.execute_reply.started": "2023-04-01T09:38:48.628245Z"
    },
    "tags": []
   },
   "outputs": [],
   "source": [
    "from nltk import NaiveBayesClassifier\n",
    "nbc = NaiveBayesClassifier.train(train_x)\n",
    "\n",
    "# If the is just one test dataset \n",
    "nbc.classify(test_x)\n",
    "\n",
    "# If there are many test datasets\n",
    "nbc.classify_many(test_x1, test_x2 ... test_xn)"
   ]
  },
  {
   "cell_type": "code",
   "execution_count": null,
   "id": "347d8ba3-5f13-4e37-a4d1-2a9d44bf30e1",
   "metadata": {
    "tags": []
   },
   "outputs": [],
   "source": [
    "# Accuracy of model performance\n",
    "\n",
    "nltk.classify.util.accuracy(nbc, test_x)"
   ]
  },
  {
   "cell_type": "code",
   "execution_count": null,
   "id": "dc703539-5f93-402e-9a7f-542be9912447",
   "metadata": {},
   "outputs": [],
   "source": [
    "# Get the labels\n",
    "\n",
    "nbc.labels()"
   ]
  },
  {
   "cell_type": "code",
   "execution_count": null,
   "id": "e6f67c35-dc17-4633-9123-ec4a0aaf40e9",
   "metadata": {},
   "outputs": [],
   "source": [
    "# Top few features in the classification task.\n",
    "# Particularly useful with NBCs\n",
    "\n",
    "nbc.show_most_informative_features()"
   ]
  },
  {
   "cell_type": "markdown",
   "id": "4c1738d1-d923-4d97-814e-3dea72d14747",
   "metadata": {},
   "source": [
    "# ***Interfacing Scikit-Learn classifiers from NLTK***"
   ]
  },
  {
   "cell_type": "code",
   "execution_count": 12,
   "id": "d7b5c2e1-2bba-4eb2-9078-eb7bf23991de",
   "metadata": {
    "execution": {
     "iopub.execute_input": "2023-04-01T09:48:51.275443Z",
     "iopub.status.busy": "2023-04-01T09:48:51.275443Z",
     "iopub.status.idle": "2023-04-01T09:48:51.283305Z",
     "shell.execute_reply": "2023-04-01T09:48:51.283305Z",
     "shell.execute_reply.started": "2023-04-01T09:48:51.275443Z"
    },
    "tags": []
   },
   "outputs": [],
   "source": [
    "from nltk.classify import SklearnClassifier\n",
    "from sklearn.naive_bayes import (MultinomialNB, BernoulliNB)\n",
    "from sklearn.svm import SVC"
   ]
  },
  {
   "cell_type": "code",
   "execution_count": null,
   "id": "d8fbfcb0-db18-40bf-8aac-b49a7770b627",
   "metadata": {},
   "outputs": [],
   "source": [
    "# The NLTK function is essentially a wrapper around Sklearn procedures.\n",
    "\n",
    "bnli_classifier = SklearnClassifier(BernoulliNB()).train(train_x)"
   ]
  },
  {
   "cell_type": "code",
   "execution_count": null,
   "id": "aeb719ca-6db4-4435-b97f-d338e2c79a4f",
   "metadata": {},
   "outputs": [],
   "source": [
    "# arguments to SVC() is passed to it's caller function.\n",
    "\n",
    "svm_classifier = SklearnClassifier(SVC(), kernel = \"linear\", C = 0.5).train(train_x)"
   ]
  }
 ],
 "metadata": {
  "kernelspec": {
   "display_name": "Python 3 (ipykernel)",
   "language": "python",
   "name": "python3"
  },
  "language_info": {
   "codemirror_mode": {
    "name": "ipython",
    "version": 3
   },
   "file_extension": ".py",
   "mimetype": "text/x-python",
   "name": "python",
   "nbconvert_exporter": "python",
   "pygments_lexer": "ipython3",
   "version": "3.11.2"
  }
 },
 "nbformat": 4,
 "nbformat_minor": 5
}
