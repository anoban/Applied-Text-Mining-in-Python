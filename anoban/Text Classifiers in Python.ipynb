{
 "cells": [
  {
   "cell_type": "markdown",
   "id": "d3757c78-7967-494c-b66d-347e03c87db9",
   "metadata": {},
   "source": [
    "# ***Text Classifiers in Python***\n",
    "-------------------------"
   ]
  },
  {
   "cell_type": "code",
   "execution_count": 1,
   "id": "3bb9e827-9e69-4aeb-ac57-898e1a117def",
   "metadata": {
    "execution": {
     "iopub.execute_input": "2023-04-01T02:59:58.770858Z",
     "iopub.status.busy": "2023-04-01T02:59:58.770858Z",
     "iopub.status.idle": "2023-04-01T02:59:58.775277Z",
     "shell.execute_reply": "2023-04-01T02:59:58.775277Z",
     "shell.execute_reply.started": "2023-04-01T02:59:58.770858Z"
    }
   },
   "outputs": [],
   "source": [
    "# Toolkits for supervised text classification:\n",
    "# Scikit-Learn\n",
    "# NLTK"
   ]
  },
  {
   "cell_type": "markdown",
   "id": "5dc3606a-da74-4950-ac2a-4ba7e9da83ff",
   "metadata": {},
   "source": [
    "# ***Naive Bayes Classifiers in Scikit-Learn***\n",
    "---------------------------"
   ]
  },
  {
   "cell_type": "code",
   "execution_count": 3,
   "id": "7d49e5e2-93ff-4c47-8a3c-1131a088f9bd",
   "metadata": {
    "execution": {
     "iopub.execute_input": "2023-04-01T03:05:45.733423Z",
     "iopub.status.busy": "2023-04-01T03:05:45.732518Z",
     "iopub.status.idle": "2023-04-01T03:05:45.736173Z",
     "shell.execute_reply": "2023-04-01T03:05:45.736173Z",
     "shell.execute_reply.started": "2023-04-01T03:05:45.733423Z"
    },
    "tags": []
   },
   "outputs": [],
   "source": [
    "from sklearn import naive_bayes\n",
    "from sklearn.metrics import f1_score, accuracy_score"
   ]
  },
  {
   "cell_type": "code",
   "execution_count": 4,
   "id": "eb309a3a-5558-4825-b876-5cb631e4f63a",
   "metadata": {
    "execution": {
     "iopub.execute_input": "2023-04-01T03:08:03.278908Z",
     "iopub.status.busy": "2023-04-01T03:08:03.278908Z",
     "iopub.status.idle": "2023-04-01T03:08:03.283167Z",
     "shell.execute_reply": "2023-04-01T03:08:03.283167Z",
     "shell.execute_reply.started": "2023-04-01T03:08:03.278908Z"
    },
    "tags": []
   },
   "outputs": [],
   "source": [
    "# Instantiating a multinomial naive bayes classifier\n",
    "# We are using Multinomial model instead of Bernoulli model.\n",
    "\n",
    "multinomial_nbc = naive_bayes.MultinomialNB()\n",
    "# then\n",
    "# multinomial_nbc.fit(train_x, train_labels)\n",
    "# multinomial_nbc.predict(test_x)\n",
    "\n",
    "# If the train data was labelled,\n",
    "# One can check how well well has the classifier done\n",
    "# f1_score(test_labels, prediction, average = \"micro\")"
   ]
  },
  {
   "cell_type": "markdown",
   "id": "8fc3de85-d9b3-494a-90c8-117ed216e9a3",
   "metadata": {},
   "source": [
    "# ***SVM classifiers in Scikit-Learn***\n",
    "--------------------------"
   ]
  },
  {
   "cell_type": "code",
   "execution_count": 5,
   "id": "e2bf90a4-fae8-4f92-9379-ff979184fa95",
   "metadata": {
    "execution": {
     "iopub.execute_input": "2023-04-01T03:08:50.882737Z",
     "iopub.status.busy": "2023-04-01T03:08:50.882737Z",
     "iopub.status.idle": "2023-04-01T03:08:51.873993Z",
     "shell.execute_reply": "2023-04-01T03:08:51.873993Z",
     "shell.execute_reply.started": "2023-04-01T03:08:50.882737Z"
    },
    "tags": []
   },
   "outputs": [],
   "source": [
    "from sklearn import svm"
   ]
  },
  {
   "cell_type": "code",
   "execution_count": 6,
   "id": "25ee505f-9ea4-4964-afa9-a21f17dfaba4",
   "metadata": {
    "execution": {
     "iopub.execute_input": "2023-04-01T03:30:34.571998Z",
     "iopub.status.busy": "2023-04-01T03:30:34.571998Z",
     "iopub.status.idle": "2023-04-01T03:30:34.583249Z",
     "shell.execute_reply": "2023-04-01T03:30:34.583249Z",
     "shell.execute_reply.started": "2023-04-01T03:30:34.571998Z"
    },
    "tags": []
   },
   "outputs": [],
   "source": [
    "# linear classifiers work well with text data\n",
    "# C is the parameter for soft margin.\n",
    "# Default value for kernels in RBF\n",
    "# Default for C is 1\n",
    "\n",
    "svm_classifier = svm.SVC(kernel = \"linear\", C = 0.1)\n",
    "\n",
    "# then\n",
    "# svm_classifier.fit(train_x, train_labels)\n",
    "# svm_classifier.predict(test_x)"
   ]
  },
  {
   "cell_type": "markdown",
   "id": "330813d7-2681-47bb-9969-3e678512a5ad",
   "metadata": {},
   "source": [
    "# ***Model Selection***\n",
    "_____________________________"
   ]
  },
  {
   "cell_type": "code",
   "execution_count": 7,
   "id": "f68d8bbe-1898-42eb-8a42-5bd6432ca2c1",
   "metadata": {
    "execution": {
     "iopub.execute_input": "2023-04-01T03:36:14.211204Z",
     "iopub.status.busy": "2023-04-01T03:36:14.211204Z",
     "iopub.status.idle": "2023-04-01T03:36:14.225036Z",
     "shell.execute_reply": "2023-04-01T03:36:14.225036Z",
     "shell.execute_reply.started": "2023-04-01T03:36:14.211204Z"
    },
    "tags": []
   },
   "outputs": [],
   "source": [
    "# 2 phases of supervised learning\n",
    "# Training phase\n",
    "# Inference phase\n",
    "\n",
    "# labelled data -> Split into train_data and validation_data (hold out)\n",
    "# then unlabelled test data -> used for prediction\n",
    "# one could use a labelled test data (data from the hold out without the labels)\n",
    "# typically the test dataset is not labelled."
   ]
  },
  {
   "cell_type": "code",
   "execution_count": 8,
   "id": "01322367-bd99-4491-90f0-0dd512607295",
   "metadata": {
    "execution": {
     "iopub.execute_input": "2023-04-01T03:37:59.272382Z",
     "iopub.status.busy": "2023-04-01T03:37:59.272382Z",
     "iopub.status.idle": "2023-04-01T03:37:59.282655Z",
     "shell.execute_reply": "2023-04-01T03:37:59.282655Z",
     "shell.execute_reply.started": "2023-04-01T03:37:59.272382Z"
    },
    "tags": []
   },
   "outputs": [],
   "source": [
    "# One can use the train data with labels to test how well models are performing by comparing the predictions to the hold out data.\n",
    "# Or to tune model parameters.\n",
    "\n",
    "# e.g. To decide which value if best for C"
   ]
  },
  {
   "cell_type": "code",
   "execution_count": 9,
   "id": "de841479-8278-443e-9e47-34091624d2a5",
   "metadata": {
    "execution": {
     "iopub.execute_input": "2023-04-01T03:38:54.151500Z",
     "iopub.status.busy": "2023-04-01T03:38:54.151500Z",
     "iopub.status.idle": "2023-04-01T03:38:54.168345Z",
     "shell.execute_reply": "2023-04-01T03:38:54.168345Z",
     "shell.execute_reply.started": "2023-04-01T03:38:54.151500Z"
    },
    "tags": []
   },
   "outputs": [],
   "source": [
    "# Two ways of model selection.\n",
    "\n",
    "# One -> having a hold out data to measure performance\n",
    "# Two -> cross validation"
   ]
  },
  {
   "cell_type": "code",
   "execution_count": 10,
   "id": "17c3a661-eda0-47fe-94bf-d8aa2bda1bc5",
   "metadata": {
    "execution": {
     "iopub.execute_input": "2023-04-01T03:44:56.528884Z",
     "iopub.status.busy": "2023-04-01T03:44:56.528884Z",
     "iopub.status.idle": "2023-04-01T03:44:56.545810Z",
     "shell.execute_reply": "2023-04-01T03:44:56.545810Z",
     "shell.execute_reply.started": "2023-04-01T03:44:56.528884Z"
    },
    "tags": []
   },
   "outputs": [],
   "source": [
    "from sklearn import model_selection\n",
    "\n",
    "# train_x, test_x, train_labs, test_labs = model_selection.train_test_split(train_data, test_size = 0.35, random_state = 0)\n",
    "# test_size is the fraction of the whole data to be used as test data.\n",
    "# random_state is used to shuffle the data before splitting.\n",
    "\n",
    "# In doing this, one loses a significant portion of the training data to hold out.\n",
    "# Including this hold out in the training data might improve the model's performance.\n",
    "# The hold out is of no use to the model but to us\n",
    "# It is used exclusively to measure model performace or to tune model parameters."
   ]
  },
  {
   "cell_type": "code",
   "execution_count": null,
   "id": "ea9d98de-35c3-4631-a70a-7813e30ca147",
   "metadata": {},
   "outputs": [],
   "source": [
    "# Cross validation."
   ]
  }
 ],
 "metadata": {
  "kernelspec": {
   "display_name": "Python 3 (ipykernel)",
   "language": "python",
   "name": "python3"
  },
  "language_info": {
   "codemirror_mode": {
    "name": "ipython",
    "version": 3
   },
   "file_extension": ".py",
   "mimetype": "text/x-python",
   "name": "python",
   "nbconvert_exporter": "python",
   "pygments_lexer": "ipython3",
   "version": "3.11.2"
  }
 },
 "nbformat": 4,
 "nbformat_minor": 5
}
