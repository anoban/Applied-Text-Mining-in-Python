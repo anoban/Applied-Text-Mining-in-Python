{
 "cells": [
  {
   "cell_type": "markdown",
   "id": "c6aae8b7-fa10-4c87-b78b-fdcbfb34c067",
   "metadata": {},
   "source": [
    "# ***Advanced NLP Tasks***\n",
    "-----------------------------"
   ]
  },
  {
   "cell_type": "markdown",
   "id": "5f4b602a-e933-4980-901a-fc3b63b46527",
   "metadata": {},
   "source": [
    "## ***Parts of Speech (PoS) Tagging***"
   ]
  },
  {
   "cell_type": "code",
   "execution_count": 3,
   "id": "a831644f-8866-496a-80b3-2076a6d33f3a",
   "metadata": {
    "execution": {
     "iopub.execute_input": "2023-03-21T23:57:48.179635Z",
     "iopub.status.busy": "2023-03-21T23:57:48.179635Z",
     "iopub.status.idle": "2023-03-21T23:58:23.927930Z",
     "shell.execute_reply": "2023-03-21T23:58:23.927930Z",
     "shell.execute_reply.started": "2023-03-21T23:57:48.179635Z"
    },
    "tags": []
   },
   "outputs": [],
   "source": [
    "import nltk"
   ]
  },
  {
   "cell_type": "code",
   "execution_count": 2,
   "id": "e9641334-5cda-4704-9ab3-f17dee79dccb",
   "metadata": {
    "execution": {
     "iopub.execute_input": "2023-03-21T12:00:48.397995Z",
     "iopub.status.busy": "2023-03-21T12:00:48.397995Z",
     "iopub.status.idle": "2023-03-21T12:00:48.406851Z",
     "shell.execute_reply": "2023-03-21T12:00:48.406851Z",
     "shell.execute_reply.started": "2023-03-21T12:00:48.397995Z"
    },
    "tags": []
   },
   "outputs": [],
   "source": [
    "# There are different classes of words.\n",
    "# Conjunctions, Caedinals, Determiners, Prepositions, Adjectives, Modals, Nouns, Possessives, Pronouns, Adverbs, Symbols,\n",
    "# Verbs... etc"
   ]
  },
  {
   "cell_type": "code",
   "execution_count": 4,
   "id": "47711a2f-b2b8-4923-b7a7-90616d3ede9a",
   "metadata": {
    "execution": {
     "iopub.execute_input": "2023-03-21T12:01:18.942725Z",
     "iopub.status.busy": "2023-03-21T12:01:18.942725Z",
     "iopub.status.idle": "2023-03-21T12:01:18.949836Z",
     "shell.execute_reply": "2023-03-21T12:01:18.949836Z",
     "shell.execute_reply.started": "2023-03-21T12:01:18.942725Z"
    },
    "tags": []
   },
   "outputs": [
    {
     "name": "stdout",
     "output_type": "stream",
     "text": [
      "MD: modal auxiliary\n",
      "    can cannot could couldn't dare may might must need ought shall should\n",
      "    shouldn't will would\n"
     ]
    }
   ],
   "source": [
    "# Modal verbs.\n",
    "\n",
    "nltk.help.upenn_tagset(\"MD\")"
   ]
  },
  {
   "cell_type": "code",
   "execution_count": 7,
   "id": "d5483b1a-ae30-4201-b9f9-6825a266a188",
   "metadata": {
    "execution": {
     "iopub.execute_input": "2023-03-21T12:03:34.823351Z",
     "iopub.status.busy": "2023-03-21T12:03:34.823351Z",
     "iopub.status.idle": "2023-03-21T12:03:34.829687Z",
     "shell.execute_reply": "2023-03-21T12:03:34.829687Z",
     "shell.execute_reply.started": "2023-03-21T12:03:34.823351Z"
    },
    "tags": []
   },
   "outputs": [],
   "source": [
    "# To do POS tagging, split the sentence into tokens\n",
    "\n",
    "sentence = \"Children below 18 years old shouldn't drink alchoholic beverages before bed.\""
   ]
  },
  {
   "cell_type": "code",
   "execution_count": 10,
   "id": "cbd8dbaa-774a-4722-be0e-e2e839a76d12",
   "metadata": {
    "execution": {
     "iopub.execute_input": "2023-03-21T12:04:11.493954Z",
     "iopub.status.busy": "2023-03-21T12:04:11.493954Z",
     "iopub.status.idle": "2023-03-21T12:04:11.502351Z",
     "shell.execute_reply": "2023-03-21T12:04:11.502351Z",
     "shell.execute_reply.started": "2023-03-21T12:04:11.493954Z"
    },
    "tags": []
   },
   "outputs": [
    {
     "name": "stdout",
     "output_type": "stream",
     "text": [
      "Children, below, 18, years, old, should, n't, drink, alchoholic, beverages, before, bed, .\n"
     ]
    }
   ],
   "source": [
    "tokens = nltk.word_tokenize(sentence)\n",
    "print(*tokens, sep = \", \")"
   ]
  },
  {
   "cell_type": "code",
   "execution_count": 11,
   "id": "22f12b19-a155-490f-92b8-c6c25d5406de",
   "metadata": {
    "execution": {
     "iopub.execute_input": "2023-03-21T12:04:26.508772Z",
     "iopub.status.busy": "2023-03-21T12:04:26.508772Z",
     "iopub.status.idle": "2023-03-21T12:04:26.804275Z",
     "shell.execute_reply": "2023-03-21T12:04:26.804275Z",
     "shell.execute_reply.started": "2023-03-21T12:04:26.508772Z"
    },
    "tags": []
   },
   "outputs": [
    {
     "data": {
      "text/plain": [
       "[('Children', 'NNP'),\n",
       " ('below', 'IN'),\n",
       " ('18', 'CD'),\n",
       " ('years', 'NNS'),\n",
       " ('old', 'JJ'),\n",
       " ('should', 'MD'),\n",
       " (\"n't\", 'RB'),\n",
       " ('drink', 'VB'),\n",
       " ('alchoholic', 'JJ'),\n",
       " ('beverages', 'NNS'),\n",
       " ('before', 'IN'),\n",
       " ('bed', 'NN'),\n",
       " ('.', '.')]"
      ]
     },
     "execution_count": 11,
     "metadata": {},
     "output_type": "execute_result"
    }
   ],
   "source": [
    "nltk.pos_tag(tokens)"
   ]
  },
  {
   "cell_type": "code",
   "execution_count": 12,
   "id": "4f3615d1-1de9-45a8-8e91-ac9309230d1c",
   "metadata": {
    "execution": {
     "iopub.execute_input": "2023-03-21T12:08:04.568342Z",
     "iopub.status.busy": "2023-03-21T12:08:04.568342Z",
     "iopub.status.idle": "2023-03-21T12:08:04.581451Z",
     "shell.execute_reply": "2023-03-21T12:08:04.581451Z",
     "shell.execute_reply.started": "2023-03-21T12:08:04.568342Z"
    },
    "tags": []
   },
   "outputs": [],
   "source": [
    "# Children - Plural noun\n",
    "# below - \n",
    "# 18 - \n",
    "# years - Singular noun\n",
    "# old - asjective\n",
    "# should - modal verb\n",
    "# n't - \n",
    "# drink - verb\n",
    "# alchoholic - adjective\n",
    "# beverages - Singular noun\n",
    "# before - \n",
    "# bed - "
   ]
  },
  {
   "cell_type": "code",
   "execution_count": 13,
   "id": "92cbb3fa-c9bb-46f9-a7c9-bb09be0bf4dd",
   "metadata": {
    "execution": {
     "iopub.execute_input": "2023-03-21T12:10:25.366115Z",
     "iopub.status.busy": "2023-03-21T12:10:25.366115Z",
     "iopub.status.idle": "2023-03-21T12:10:25.376108Z",
     "shell.execute_reply": "2023-03-21T12:10:25.376108Z",
     "shell.execute_reply.started": "2023-03-21T12:10:25.366115Z"
    },
    "tags": []
   },
   "outputs": [],
   "source": [
    "# Ambiguity in POS tagging.\n",
    "\n",
    "# Visiting aunts can be a nuisance.\n",
    "# How to interpret this sentence?\n",
    "\n",
    "# Paying visits to aunts can be a nuisance.\n",
    "# or\n",
    "# Aunts who visit you could be a nuisance.\n",
    "\n",
    "sentence = \"Visiting aunts can be a nuisance.\""
   ]
  },
  {
   "cell_type": "code",
   "execution_count": 14,
   "id": "8f07e6ad-805b-4dff-8d51-dff4233d3c16",
   "metadata": {
    "execution": {
     "iopub.execute_input": "2023-03-21T12:11:25.736122Z",
     "iopub.status.busy": "2023-03-21T12:11:25.736122Z",
     "iopub.status.idle": "2023-03-21T12:11:25.740982Z",
     "shell.execute_reply": "2023-03-21T12:11:25.740982Z",
     "shell.execute_reply.started": "2023-03-21T12:11:25.736122Z"
    },
    "tags": []
   },
   "outputs": [],
   "source": [
    "# In the first interpretation, visiting is a verb \n",
    "# In the second interpretation, visiting is an adjective"
   ]
  },
  {
   "cell_type": "code",
   "execution_count": 15,
   "id": "28e283c2-5ad9-4b04-980d-4c2b2d9242f4",
   "metadata": {
    "execution": {
     "iopub.execute_input": "2023-03-21T12:11:52.668491Z",
     "iopub.status.busy": "2023-03-21T12:11:52.668491Z",
     "iopub.status.idle": "2023-03-21T12:11:52.682634Z",
     "shell.execute_reply": "2023-03-21T12:11:52.682634Z",
     "shell.execute_reply.started": "2023-03-21T12:11:52.668491Z"
    },
    "tags": []
   },
   "outputs": [
    {
     "data": {
      "text/plain": [
       "[('Visiting', 'VBG'),\n",
       " ('aunts', 'NNS'),\n",
       " ('can', 'MD'),\n",
       " ('be', 'VB'),\n",
       " ('a', 'DT'),\n",
       " ('nuisance', 'NN'),\n",
       " ('.', '.')]"
      ]
     },
     "execution_count": 15,
     "metadata": {},
     "output_type": "execute_result"
    }
   ],
   "source": [
    "nltk.pos_tag(nltk.word_tokenize(sentence))"
   ]
  },
  {
   "cell_type": "code",
   "execution_count": 16,
   "id": "14f48c25-d0c7-4ba9-9cae-5c033e001c17",
   "metadata": {
    "execution": {
     "iopub.execute_input": "2023-03-21T12:14:36.644444Z",
     "iopub.status.busy": "2023-03-21T12:14:36.644444Z",
     "iopub.status.idle": "2023-03-21T12:14:36.661716Z",
     "shell.execute_reply": "2023-03-21T12:14:36.661716Z",
     "shell.execute_reply.started": "2023-03-21T12:14:36.644444Z"
    },
    "tags": []
   },
   "outputs": [],
   "source": [
    "# NLTK categorizes visiting as a gerund verb\n",
    "# So you are visting the aunts\n",
    "# aunts - Plural noun\n",
    "# can - \n",
    "\n",
    "# NLTK considers the first interpretation."
   ]
  },
  {
   "cell_type": "markdown",
   "id": "8d3a380e-28d5-46d9-9095-2926efc5af54",
   "metadata": {},
   "source": [
    "## ***Parsing the sentence structure***\n",
    "-------------------------------"
   ]
  },
  {
   "cell_type": "code",
   "execution_count": 29,
   "id": "8963ff6e-caf4-4961-b153-f9a8b6a67a69",
   "metadata": {
    "execution": {
     "iopub.execute_input": "2023-03-21T12:39:21.801881Z",
     "iopub.status.busy": "2023-03-21T12:39:21.801881Z",
     "iopub.status.idle": "2023-03-21T12:39:21.812588Z",
     "shell.execute_reply": "2023-03-21T12:39:21.812588Z",
     "shell.execute_reply.started": "2023-03-21T12:39:21.801881Z"
    },
    "tags": []
   },
   "outputs": [],
   "source": [
    "text = \"Romeo loves Juliet\""
   ]
  },
  {
   "cell_type": "code",
   "execution_count": 30,
   "id": "1a4c5c67-a4be-49de-956b-826186c06ffd",
   "metadata": {
    "execution": {
     "iopub.execute_input": "2023-03-21T12:39:22.164092Z",
     "iopub.status.busy": "2023-03-21T12:39:22.164092Z",
     "iopub.status.idle": "2023-03-21T12:39:22.179421Z",
     "shell.execute_reply": "2023-03-21T12:39:22.179421Z",
     "shell.execute_reply.started": "2023-03-21T12:39:22.164092Z"
    },
    "tags": []
   },
   "outputs": [],
   "source": [
    "# Noun - Romeo, Juliet\n",
    "# Verb - loves\n",
    "\n",
    "# Subject - Romeo\n",
    "# Verb - loves\n",
    "# Object - Juliet"
   ]
  },
  {
   "cell_type": "code",
   "execution_count": 31,
   "id": "a97f6f64-0488-41ed-9fa5-7ac28423f7f6",
   "metadata": {
    "execution": {
     "iopub.execute_input": "2023-03-21T12:39:22.446402Z",
     "iopub.status.busy": "2023-03-21T12:39:22.446402Z",
     "iopub.status.idle": "2023-03-21T12:39:22.459018Z",
     "shell.execute_reply": "2023-03-21T12:39:22.459018Z",
     "shell.execute_reply.started": "2023-03-21T12:39:22.446402Z"
    },
    "tags": []
   },
   "outputs": [],
   "source": [
    "tokens = nltk.word_tokenize(text)"
   ]
  },
  {
   "cell_type": "code",
   "execution_count": 32,
   "id": "549d7ce7-6029-4028-9116-7cb4eb163d13",
   "metadata": {
    "execution": {
     "iopub.execute_input": "2023-03-21T12:39:22.838998Z",
     "iopub.status.busy": "2023-03-21T12:39:22.838998Z",
     "iopub.status.idle": "2023-03-21T12:39:22.847364Z",
     "shell.execute_reply": "2023-03-21T12:39:22.847364Z",
     "shell.execute_reply.started": "2023-03-21T12:39:22.838998Z"
    },
    "tags": []
   },
   "outputs": [
    {
     "data": {
      "text/plain": [
       "[('Romeo', 'NNP'), ('loves', 'VBZ'), ('Juliet', 'NNP')]"
      ]
     },
     "execution_count": 32,
     "metadata": {},
     "output_type": "execute_result"
    }
   ],
   "source": [
    "nltk.pos_tag(tokens)"
   ]
  },
  {
   "cell_type": "code",
   "execution_count": 33,
   "id": "60f4ade2-07c8-4463-bda1-b839fd0ca67a",
   "metadata": {
    "execution": {
     "iopub.execute_input": "2023-03-21T12:39:23.332895Z",
     "iopub.status.busy": "2023-03-21T12:39:23.332895Z",
     "iopub.status.idle": "2023-03-21T12:39:23.339114Z",
     "shell.execute_reply": "2023-03-21T12:39:23.339114Z",
     "shell.execute_reply.started": "2023-03-21T12:39:23.332895Z"
    },
    "tags": []
   },
   "outputs": [],
   "source": [
    "# If we break down the sentence structure of Romeo loves Juliet\n",
    "\n",
    "# The sentence comprises of two parts.\n",
    "# A noun phrase followed by a verb phrase\n",
    "\n",
    "# Noun phrase - Romeo\n",
    "# Verb phrase - loves Juliet\n",
    "# This verb phrase is made of a verb and a noun phrase\n",
    "# verb - loves\n",
    "# noun phrase - Juliet"
   ]
  },
  {
   "cell_type": "code",
   "execution_count": 34,
   "id": "bc2ab441-ad26-4e50-bb4b-9a272a46a627",
   "metadata": {
    "execution": {
     "iopub.execute_input": "2023-03-21T12:39:23.718743Z",
     "iopub.status.busy": "2023-03-21T12:39:23.718743Z",
     "iopub.status.idle": "2023-03-21T12:39:23.730630Z",
     "shell.execute_reply": "2023-03-21T12:39:23.730630Z",
     "shell.execute_reply.started": "2023-03-21T12:39:23.718743Z"
    },
    "tags": []
   },
   "outputs": [],
   "source": [
    "grammar = nltk.CFG.fromstring(\"\"\"\n",
    "S -> NP VP\n",
    "VP -> V NP\n",
    "NP -> \"Romeo\" | \"Juliet\"\n",
    "V -> \"loves\"\n",
    "\"\"\")"
   ]
  },
  {
   "cell_type": "code",
   "execution_count": 35,
   "id": "65af6070-e5c0-45e5-8bc5-3791bd37112a",
   "metadata": {
    "execution": {
     "iopub.execute_input": "2023-03-21T12:39:24.095210Z",
     "iopub.status.busy": "2023-03-21T12:39:24.095210Z",
     "iopub.status.idle": "2023-03-21T12:39:24.106700Z",
     "shell.execute_reply": "2023-03-21T12:39:24.106700Z",
     "shell.execute_reply.started": "2023-03-21T12:39:24.095210Z"
    },
    "tags": []
   },
   "outputs": [],
   "source": [
    "parser = nltk.ChartParser(grammar)"
   ]
  },
  {
   "cell_type": "code",
   "execution_count": 36,
   "id": "046ac05f-cb74-4327-b5d3-a1403e68dd7a",
   "metadata": {
    "execution": {
     "iopub.execute_input": "2023-03-21T12:39:24.441164Z",
     "iopub.status.busy": "2023-03-21T12:39:24.441164Z",
     "iopub.status.idle": "2023-03-21T12:39:24.446667Z",
     "shell.execute_reply": "2023-03-21T12:39:24.446667Z",
     "shell.execute_reply.started": "2023-03-21T12:39:24.441164Z"
    },
    "tags": []
   },
   "outputs": [
    {
     "data": {
      "text/plain": [
       "[Tree('S', [Tree('NP', ['Romeo']), Tree('VP', [Tree('V', ['loves']), Tree('NP', ['Juliet'])])])]"
      ]
     },
     "execution_count": 36,
     "metadata": {},
     "output_type": "execute_result"
    }
   ],
   "source": [
    "parser.parse_all(tokens)"
   ]
  },
  {
   "cell_type": "markdown",
   "id": "d5bada8c-f95b-4278-b976-2058f3999169",
   "metadata": {},
   "source": [
    "# ***Ambiguity in Parsing***\n",
    "-----------------------------------"
   ]
  },
  {
   "cell_type": "code",
   "execution_count": 37,
   "id": "35995999-6296-44d1-b050-12aa41e21d2f",
   "metadata": {
    "execution": {
     "iopub.execute_input": "2023-03-21T12:42:20.705128Z",
     "iopub.status.busy": "2023-03-21T12:42:20.705128Z",
     "iopub.status.idle": "2023-03-21T12:42:20.709612Z",
     "shell.execute_reply": "2023-03-21T12:42:20.709612Z",
     "shell.execute_reply.started": "2023-03-21T12:42:20.705128Z"
    },
    "tags": []
   },
   "outputs": [],
   "source": [
    "# I saw the man with a telescope.\n",
    "# How to interpret this sentence?\n",
    "\n",
    "# I saw the man carrying a telescope.\n",
    "# or\n",
    "# I saw the man through a telescope."
   ]
  },
  {
   "cell_type": "code",
   "execution_count": 38,
   "id": "6ef0771d-6374-40b7-9c6a-23f71076ae87",
   "metadata": {
    "execution": {
     "iopub.execute_input": "2023-03-21T12:51:17.407162Z",
     "iopub.status.busy": "2023-03-21T12:51:17.407162Z",
     "iopub.status.idle": "2023-03-21T12:51:17.418592Z",
     "shell.execute_reply": "2023-03-21T12:51:17.418592Z",
     "shell.execute_reply.started": "2023-03-21T12:51:17.407162Z"
    },
    "tags": []
   },
   "outputs": [],
   "source": [
    "# Ambiguity may exist even if the sentence is grammatically correct."
   ]
  },
  {
   "cell_type": "code",
   "execution_count": 6,
   "id": "348218d7-29aa-4155-b854-06c2853f7b36",
   "metadata": {
    "execution": {
     "iopub.execute_input": "2023-03-22T00:09:00.291598Z",
     "iopub.status.busy": "2023-03-22T00:09:00.291598Z",
     "iopub.status.idle": "2023-03-22T00:09:00.308936Z",
     "shell.execute_reply": "2023-03-22T00:09:00.308936Z",
     "shell.execute_reply.started": "2023-03-22T00:09:00.291598Z"
    },
    "tags": []
   },
   "outputs": [],
   "source": [
    "# Break down of the sentence structure\n",
    "\n",
    "# The sentence could be broken down into a noun phrase and a verb phrase\n",
    "# Noun phrase - I\n",
    "# verb phrase - saw the man with a telescope.\n",
    "\n",
    "# This verb phrase can be further broken down into\n",
    "# a verb - saw\n",
    "# noun phrase - the man with a telescope.\n",
    "\n",
    "# But here's the ambiguity.\n",
    "# There are two ways to break the verb pharse\n",
    "# instead of breaking it as a verb followed by a verb phrase\n",
    "# We can break it as a verb phrase followed by a preposition phrase\n",
    "\n",
    "# verb phrase - saw the man\n",
    "# preposition phrase - with a telescope.\n",
    "# (This structure assumes that He saw the man through a telescope.)"
   ]
  },
  {
   "cell_type": "code",
   "execution_count": 2,
   "id": "7cd81df0-ed1f-458b-a8aa-bf548541046d",
   "metadata": {
    "execution": {
     "iopub.execute_input": "2023-03-21T23:57:35.219132Z",
     "iopub.status.busy": "2023-03-21T23:57:35.219132Z",
     "iopub.status.idle": "2023-03-21T23:57:35.237929Z",
     "shell.execute_reply": "2023-03-21T23:57:35.237929Z",
     "shell.execute_reply.started": "2023-03-21T23:57:35.219132Z"
    },
    "tags": []
   },
   "outputs": [],
   "source": [
    "sentence = \"I saw the man with a telescope\""
   ]
  },
  {
   "cell_type": "code",
   "execution_count": 5,
   "id": "495ec8cf-b685-49f3-9f3d-8a2d24c8de05",
   "metadata": {
    "execution": {
     "iopub.execute_input": "2023-03-21T23:58:49.650875Z",
     "iopub.status.busy": "2023-03-21T23:58:49.650875Z",
     "iopub.status.idle": "2023-03-21T23:58:49.660559Z",
     "shell.execute_reply": "2023-03-21T23:58:49.660559Z",
     "shell.execute_reply.started": "2023-03-21T23:58:49.650875Z"
    },
    "tags": []
   },
   "outputs": [
    {
     "data": {
      "text/plain": [
       "['I', 'saw', 'the', 'man', 'with', 'a', 'telescope']"
      ]
     },
     "execution_count": 5,
     "metadata": {},
     "output_type": "execute_result"
    }
   ],
   "source": [
    "tokens = nltk.word_tokenize(sentence)\n",
    "tokens"
   ]
  },
  {
   "cell_type": "code",
   "execution_count": 8,
   "id": "0044563f-9124-4fa9-a01b-462ece5c0f13",
   "metadata": {
    "execution": {
     "iopub.execute_input": "2023-03-22T00:14:37.607583Z",
     "iopub.status.busy": "2023-03-22T00:14:37.591943Z",
     "iopub.status.idle": "2023-03-22T00:14:37.610968Z",
     "shell.execute_reply": "2023-03-22T00:14:37.610968Z",
     "shell.execute_reply.started": "2023-03-22T00:14:37.591943Z"
    },
    "tags": []
   },
   "outputs": [],
   "source": [
    "grammar = nltk.data.load(r\"./grammar.cfg\")"
   ]
  },
  {
   "cell_type": "code",
   "execution_count": 10,
   "id": "f789a019-0cf1-42e6-97f1-c254faef1927",
   "metadata": {
    "execution": {
     "iopub.execute_input": "2023-03-22T00:14:54.407224Z",
     "iopub.status.busy": "2023-03-22T00:14:54.407224Z",
     "iopub.status.idle": "2023-03-22T00:14:54.412353Z",
     "shell.execute_reply": "2023-03-22T00:14:54.411342Z",
     "shell.execute_reply.started": "2023-03-22T00:14:54.407224Z"
    },
    "tags": []
   },
   "outputs": [],
   "source": [
    "parser = nltk.ChartParser(grammar)"
   ]
  },
  {
   "cell_type": "code",
   "execution_count": 12,
   "id": "aadeab84-b5c4-4fdb-9f11-a63d4b40d455",
   "metadata": {
    "execution": {
     "iopub.execute_input": "2023-03-22T00:16:00.524448Z",
     "iopub.status.busy": "2023-03-22T00:16:00.524448Z",
     "iopub.status.idle": "2023-03-22T00:16:00.539579Z",
     "shell.execute_reply": "2023-03-22T00:16:00.539579Z",
     "shell.execute_reply.started": "2023-03-22T00:16:00.524448Z"
    },
    "tags": []
   },
   "outputs": [
    {
     "data": {
      "text/plain": [
       "[Tree('S', [Tree('NP', ['I']), Tree('VP', [Tree('VP', [Tree('V', ['saw']), Tree('NP', [Tree('DT', ['the']), Tree('N', ['man'])])]), Tree('PP', [Tree('P', ['with']), Tree('NP', [Tree('DT', ['a']), Tree('N', ['telescope'])])])])]),\n",
       " Tree('S', [Tree('NP', ['I']), Tree('VP', [Tree('V', ['saw']), Tree('NP', [Tree('DT', ['the']), Tree('N', ['man']), Tree('PP', [Tree('P', ['with']), Tree('NP', [Tree('DT', ['a']), Tree('N', ['telescope'])])])])])])]"
      ]
     },
     "execution_count": 12,
     "metadata": {},
     "output_type": "execute_result"
    }
   ],
   "source": [
    "parser.parse_all(tokens)"
   ]
  },
  {
   "cell_type": "code",
   "execution_count": 13,
   "id": "23c3c76d-1d73-467b-b19b-6030dd6c1d25",
   "metadata": {
    "execution": {
     "iopub.execute_input": "2023-03-22T00:16:10.434486Z",
     "iopub.status.busy": "2023-03-22T00:16:10.434486Z",
     "iopub.status.idle": "2023-03-22T00:16:10.587176Z",
     "shell.execute_reply": "2023-03-22T00:16:10.587176Z",
     "shell.execute_reply.started": "2023-03-22T00:16:10.434486Z"
    },
    "tags": []
   },
   "outputs": [
    {
     "name": "stdout",
     "output_type": "stream",
     "text": [
      "(S\n",
      "  (NP I)\n",
      "  (VP\n",
      "    (VP (V saw) (NP (DT the) (N man)))\n",
      "    (PP (P with) (NP (DT a) (N telescope)))))\n",
      "(S\n",
      "  (NP I)\n",
      "  (VP\n",
      "    (V saw)\n",
      "    (NP (DT the) (N man) (PP (P with) (NP (DT a) (N telescope))))))\n"
     ]
    }
   ],
   "source": [
    "for tree in parser.parse_all(tokens):\n",
    "    print(tree)"
   ]
  },
  {
   "cell_type": "code",
   "execution_count": 14,
   "id": "30224435-9123-4ea5-bd5c-80444e213b0b",
   "metadata": {
    "execution": {
     "iopub.execute_input": "2023-03-22T00:19:11.115460Z",
     "iopub.status.busy": "2023-03-22T00:19:11.115460Z",
     "iopub.status.idle": "2023-03-22T00:19:11.128344Z",
     "shell.execute_reply": "2023-03-22T00:19:11.128344Z",
     "shell.execute_reply.started": "2023-03-22T00:19:11.115460Z"
    },
    "tags": []
   },
   "outputs": [],
   "source": [
    "# NLTK bundles a set of parsed tree structures of some corpora\n",
    "\n",
    "from nltk.corpus import treebank"
   ]
  },
  {
   "cell_type": "code",
   "execution_count": 20,
   "id": "a0b79a9b-2e41-44ed-a8ad-00a98f17fe71",
   "metadata": {
    "execution": {
     "iopub.execute_input": "2023-03-22T00:20:39.230639Z",
     "iopub.status.busy": "2023-03-22T00:20:39.230639Z",
     "iopub.status.idle": "2023-03-22T00:20:39.242362Z",
     "shell.execute_reply": "2023-03-22T00:20:39.242362Z",
     "shell.execute_reply.started": "2023-03-22T00:20:39.230639Z"
    },
    "tags": []
   },
   "outputs": [
    {
     "data": {
      "text/plain": [
       "[Tree('S', [Tree('NP-SBJ', [Tree('NP', [Tree('NNP', ['Pierre']), Tree('NNP', ['Vinken'])]), Tree(',', [',']), Tree('ADJP', [Tree('NP', [Tree('CD', ['61']), Tree('NNS', ['years'])]), Tree('JJ', ['old'])]), Tree(',', [','])]), Tree('VP', [Tree('MD', ['will']), Tree('VP', [Tree('VB', ['join']), Tree('NP', [Tree('DT', ['the']), Tree('NN', ['board'])]), Tree('PP-CLR', [Tree('IN', ['as']), Tree('NP', [Tree('DT', ['a']), Tree('JJ', ['nonexecutive']), Tree('NN', ['director'])])]), Tree('NP-TMP', [Tree('NNP', ['Nov.']), Tree('CD', ['29'])])])]), Tree('.', ['.'])]), Tree('S', [Tree('NP-SBJ', [Tree('NNP', ['Mr.']), Tree('NNP', ['Vinken'])]), Tree('VP', [Tree('VBZ', ['is']), Tree('NP-PRD', [Tree('NP', [Tree('NN', ['chairman'])]), Tree('PP', [Tree('IN', ['of']), Tree('NP', [Tree('NP', [Tree('NNP', ['Elsevier']), Tree('NNP', ['N.V.'])]), Tree(',', [',']), Tree('NP', [Tree('DT', ['the']), Tree('NNP', ['Dutch']), Tree('VBG', ['publishing']), Tree('NN', ['group'])])])])])]), Tree('.', ['.'])])]"
      ]
     },
     "execution_count": 20,
     "metadata": {},
     "output_type": "execute_result"
    }
   ],
   "source": [
    "treebank.parsed_sents(\"wsj_0001.mrg\")"
   ]
  },
  {
   "cell_type": "code",
   "execution_count": 21,
   "id": "c2e210fe-45f7-46a6-84ef-0e0974165c03",
   "metadata": {
    "execution": {
     "iopub.execute_input": "2023-03-22T00:20:40.016115Z",
     "iopub.status.busy": "2023-03-22T00:20:40.016115Z",
     "iopub.status.idle": "2023-03-22T00:20:40.034513Z",
     "shell.execute_reply": "2023-03-22T00:20:40.034513Z",
     "shell.execute_reply.started": "2023-03-22T00:20:40.016115Z"
    },
    "tags": []
   },
   "outputs": [
    {
     "name": "stdout",
     "output_type": "stream",
     "text": [
      "(S\n",
      "  (NP-SBJ\n",
      "    (NP (NNP Pierre) (NNP Vinken))\n",
      "    (, ,)\n",
      "    (ADJP (NP (CD 61) (NNS years)) (JJ old))\n",
      "    (, ,))\n",
      "  (VP\n",
      "    (MD will)\n",
      "    (VP\n",
      "      (VB join)\n",
      "      (NP (DT the) (NN board))\n",
      "      (PP-CLR (IN as) (NP (DT a) (JJ nonexecutive) (NN director)))\n",
      "      (NP-TMP (NNP Nov.) (CD 29))))\n",
      "  (. .))\n",
      "(S\n",
      "  (NP-SBJ (NNP Mr.) (NNP Vinken))\n",
      "  (VP\n",
      "    (VBZ is)\n",
      "    (NP-PRD\n",
      "      (NP (NN chairman))\n",
      "      (PP\n",
      "        (IN of)\n",
      "        (NP\n",
      "          (NP (NNP Elsevier) (NNP N.V.))\n",
      "          (, ,)\n",
      "          (NP (DT the) (NNP Dutch) (VBG publishing) (NN group))))))\n",
      "  (. .))\n"
     ]
    }
   ],
   "source": [
    "for tree in treebank.parsed_sents(\"wsj_0001.mrg\"):\n",
    "    print(tree)"
   ]
  },
  {
   "cell_type": "code",
   "execution_count": 22,
   "id": "864b19d2-c1d9-4757-9a5c-49c3e0f6d2b2",
   "metadata": {
    "execution": {
     "iopub.execute_input": "2023-03-22T00:25:03.884424Z",
     "iopub.status.busy": "2023-03-22T00:25:03.884424Z",
     "iopub.status.idle": "2023-03-22T00:25:04.128000Z",
     "shell.execute_reply": "2023-03-22T00:25:04.128000Z",
     "shell.execute_reply.started": "2023-03-22T00:25:03.884424Z"
    },
    "tags": []
   },
   "outputs": [
    {
     "data": {
      "text/plain": [
       "[('The', 'DT'), ('old', 'JJ'), ('man', 'NN'), ('the', 'DT'), ('boat', 'NN')]"
      ]
     },
     "execution_count": 22,
     "metadata": {},
     "output_type": "execute_result"
    }
   ],
   "source": [
    "# Uncommon usages of words\n",
    "# Means that the old people are maneouvoring the boat.\n",
    "\n",
    "sentence = \"The old man the boat\"\n",
    "tokens = nltk.word_tokenize(sentence)\n",
    "nltk.pos_tag(tokens)"
   ]
  },
  {
   "cell_type": "code",
   "execution_count": 23,
   "id": "29ecdf9c-89dd-4ff9-869d-ad50b3e10a26",
   "metadata": {
    "execution": {
     "iopub.execute_input": "2023-03-22T00:25:41.979270Z",
     "iopub.status.busy": "2023-03-22T00:25:41.979270Z",
     "iopub.status.idle": "2023-03-22T00:25:41.992937Z",
     "shell.execute_reply": "2023-03-22T00:25:41.992937Z",
     "shell.execute_reply.started": "2023-03-22T00:25:41.979270Z"
    },
    "tags": []
   },
   "outputs": [],
   "source": [
    "# NLTK assumes \"man\" as a noun\n",
    "# But it truly functions as a verb in this sentence."
   ]
  },
  {
   "cell_type": "code",
   "execution_count": 24,
   "id": "8376a32e-1602-451a-8224-a971cc9dc830",
   "metadata": {
    "execution": {
     "iopub.execute_input": "2023-03-22T00:26:13.553477Z",
     "iopub.status.busy": "2023-03-22T00:26:13.553477Z",
     "iopub.status.idle": "2023-03-22T00:26:13.567112Z",
     "shell.execute_reply": "2023-03-22T00:26:13.567112Z",
     "shell.execute_reply.started": "2023-03-22T00:26:13.553477Z"
    },
    "tags": []
   },
   "outputs": [
    {
     "data": {
      "text/plain": [
       "[('Colourless', 'NNP'),\n",
       " ('green', 'JJ'),\n",
       " ('ideas', 'NNS'),\n",
       " ('sleep', 'VBP'),\n",
       " ('furiously', 'RB')]"
      ]
     },
     "execution_count": 24,
     "metadata": {},
     "output_type": "execute_result"
    }
   ],
   "source": [
    "# Here the sentence is grammatically and syntactically correct\n",
    "# But has no meaning.\n",
    "# NLTK classifies Colourless as noun and green as adjective instead of classifying both of them as adjectives.\n",
    "\n",
    "sentence = \"Colourless green ideas sleep furiously\"\n",
    "tokens = nltk.word_tokenize(sentence)\n",
    "nltk.pos_tag(tokens)"
   ]
  },
  {
   "cell_type": "code",
   "execution_count": null,
   "id": "f69e3ded-4d13-4f4a-9b75-c0e2b98c4624",
   "metadata": {},
   "outputs": [],
   "source": []
  }
 ],
 "metadata": {
  "kernelspec": {
   "display_name": "Python 3 (ipykernel)",
   "language": "python",
   "name": "python3"
  },
  "language_info": {
   "codemirror_mode": {
    "name": "ipython",
    "version": 3
   },
   "file_extension": ".py",
   "mimetype": "text/x-python",
   "name": "python",
   "nbconvert_exporter": "python",
   "pygments_lexer": "ipython3",
   "version": "3.11.2"
  }
 },
 "nbformat": 4,
 "nbformat_minor": 5
}
