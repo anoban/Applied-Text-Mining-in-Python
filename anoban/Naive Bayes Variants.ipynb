{
 "cells": [
  {
   "cell_type": "markdown",
   "id": "6c27e104-97c9-48e0-a634-e004388485d8",
   "metadata": {},
   "source": [
    "# ***Naive Bayes Variants***\n",
    "-----------------------"
   ]
  },
  {
   "cell_type": "code",
   "execution_count": 4,
   "id": "0ccf6542-e239-450e-aa40-e1aaf44c41c6",
   "metadata": {
    "execution": {
     "iopub.execute_input": "2023-03-26T02:12:44.270499Z",
     "iopub.status.busy": "2023-03-26T02:12:44.270499Z",
     "iopub.status.idle": "2023-03-26T02:12:44.281255Z",
     "shell.execute_reply": "2023-03-26T02:12:44.281255Z",
     "shell.execute_reply.started": "2023-03-26T02:12:44.270499Z"
    },
    "tags": []
   },
   "outputs": [],
   "source": [
    "from collections import Counter"
   ]
  },
  {
   "cell_type": "code",
   "execution_count": 1,
   "id": "290b0dff-80ff-497e-913e-bd1ee41a61cb",
   "metadata": {
    "execution": {
     "iopub.execute_input": "2023-03-26T02:05:15.197294Z",
     "iopub.status.busy": "2023-03-26T02:05:15.197294Z",
     "iopub.status.idle": "2023-03-26T02:05:15.208969Z",
     "shell.execute_reply": "2023-03-26T02:05:15.208969Z",
     "shell.execute_reply.started": "2023-03-26T02:05:15.197294Z"
    },
    "tags": []
   },
   "outputs": [],
   "source": [
    "# Features \n",
    "# There are two ways in which Naive Bayes features could be learned.\n",
    "\n",
    "# 1. Multinomial Naive Bayes model\n",
    "# 2. Bernoulli model"
   ]
  },
  {
   "cell_type": "markdown",
   "id": "ce37e3c8-2d7f-4447-819e-7843caa9181a",
   "metadata": {},
   "source": [
    "## ***Multinomial Naive Bayes Model***\n",
    "-------------------------"
   ]
  },
  {
   "cell_type": "code",
   "execution_count": 2,
   "id": "e13d31b3-68eb-4dc2-bb41-2cbef56cfbf8",
   "metadata": {
    "execution": {
     "iopub.execute_input": "2023-03-26T02:09:36.799761Z",
     "iopub.status.busy": "2023-03-26T02:09:36.799761Z",
     "iopub.status.idle": "2023-03-26T02:09:36.816284Z",
     "shell.execute_reply": "2023-03-26T02:09:36.816284Z",
     "shell.execute_reply.started": "2023-03-26T02:09:36.799761Z"
    },
    "tags": []
   },
   "outputs": [],
   "source": [
    "# Multinomial Naive Bayes model assumes that the data follows a multinomial distribution.\n",
    "# When you have a set of features (e.g words in a query ) that define a data instance\n",
    "# these features are independent of each other\n",
    "# and can occur multiple times in a data instance (one feature can occur multiple times in a data instance e.g. query)\n",
    "\n",
    "# Counts are important in multinomial distributions."
   ]
  },
  {
   "cell_type": "code",
   "execution_count": 3,
   "id": "0b989990-ead7-4492-aacc-2ce2aa97320c",
   "metadata": {
    "execution": {
     "iopub.execute_input": "2023-03-26T02:12:26.332718Z",
     "iopub.status.busy": "2023-03-26T02:12:26.332718Z",
     "iopub.status.idle": "2023-03-26T02:12:26.350241Z",
     "shell.execute_reply": "2023-03-26T02:12:26.350241Z",
     "shell.execute_reply.started": "2023-03-26T02:12:26.332718Z"
    },
    "tags": []
   },
   "outputs": [],
   "source": [
    "# Suppose you have a piece of text\n",
    "# What are the words (features) used in this model?\n",
    "# That would be called a Bag-Of-Words model.\n",
    "\n",
    "# If you use all possible words regardless of their presence in a given document, it will be a Bernoulli distribution for each feature.\n",
    "# but when the frequencies of the features are important;"
   ]
  },
  {
   "cell_type": "code",
   "execution_count": 5,
   "id": "c6d1bc63-4c33-461b-a2d5-510ddaaeeafc",
   "metadata": {
    "execution": {
     "iopub.execute_input": "2023-03-26T02:13:38.250046Z",
     "iopub.status.busy": "2023-03-26T02:13:38.250046Z",
     "iopub.status.idle": "2023-03-26T02:13:38.256043Z",
     "shell.execute_reply": "2023-03-26T02:13:38.255033Z",
     "shell.execute_reply.started": "2023-03-26T02:13:38.250046Z"
    },
    "tags": []
   },
   "outputs": [],
   "source": [
    "text = \"\"\"I have wished a bird would fly away,\n",
    "And not sing by my house all day;\n",
    "\n",
    "Have clapped my hands at him from the door\n",
    "When it seemed as if I could bear no more.\n",
    "\n",
    "The fault must partly have been in me.\n",
    "The bird was not to blame for his key.\n",
    "\n",
    "And of course there must be something wrong\n",
    "In wanting to silence any song.\"\"\""
   ]
  },
  {
   "cell_type": "code",
   "execution_count": 9,
   "id": "ac41c2de-1531-4a96-9f4c-e26883e0dcfc",
   "metadata": {
    "execution": {
     "iopub.execute_input": "2023-03-26T02:14:43.342937Z",
     "iopub.status.busy": "2023-03-26T02:14:43.342937Z",
     "iopub.status.idle": "2023-03-26T02:14:43.350399Z",
     "shell.execute_reply": "2023-03-26T02:14:43.350399Z",
     "shell.execute_reply.started": "2023-03-26T02:14:43.342937Z"
    },
    "tags": []
   },
   "outputs": [
    {
     "data": {
      "text/plain": [
       "Counter({'I': 2,\n",
       "         'have': 2,\n",
       "         'wished': 1,\n",
       "         'a': 1,\n",
       "         'bird': 2,\n",
       "         'would': 1,\n",
       "         'fly': 1,\n",
       "         'away,': 1,\n",
       "         'And': 2,\n",
       "         'not': 2,\n",
       "         'sing': 1,\n",
       "         'by': 1,\n",
       "         'my': 2,\n",
       "         'house': 1,\n",
       "         'all': 1,\n",
       "         'day;': 1,\n",
       "         'Have': 1,\n",
       "         'clapped': 1,\n",
       "         'hands': 1,\n",
       "         'at': 1,\n",
       "         'him': 1,\n",
       "         'from': 1,\n",
       "         'the': 1,\n",
       "         'door': 1,\n",
       "         'When': 1,\n",
       "         'it': 1,\n",
       "         'seemed': 1,\n",
       "         'as': 1,\n",
       "         'if': 1,\n",
       "         'could': 1,\n",
       "         'bear': 1,\n",
       "         'no': 1,\n",
       "         'more.': 1,\n",
       "         'The': 2,\n",
       "         'fault': 1,\n",
       "         'must': 2,\n",
       "         'partly': 1,\n",
       "         'been': 1,\n",
       "         'in': 1,\n",
       "         'me.': 1,\n",
       "         'was': 1,\n",
       "         'to': 2,\n",
       "         'blame': 1,\n",
       "         'for': 1,\n",
       "         'his': 1,\n",
       "         'key.': 1,\n",
       "         'of': 1,\n",
       "         'course': 1,\n",
       "         'there': 1,\n",
       "         'be': 1,\n",
       "         'something': 1,\n",
       "         'wrong': 1,\n",
       "         'In': 1,\n",
       "         'wanting': 1,\n",
       "         'silence': 1,\n",
       "         'any': 1,\n",
       "         'song.': 1})"
      ]
     },
     "execution_count": 9,
     "metadata": {},
     "output_type": "execute_result"
    }
   ],
   "source": [
    "Counter(text.split())"
   ]
  },
  {
   "cell_type": "code",
   "execution_count": 10,
   "id": "9bba6a85-15cf-4712-bc8a-71ffefc466a8",
   "metadata": {
    "execution": {
     "iopub.execute_input": "2023-03-26T02:19:52.519041Z",
     "iopub.status.busy": "2023-03-26T02:19:52.519041Z",
     "iopub.status.idle": "2023-03-26T02:19:52.528410Z",
     "shell.execute_reply": "2023-03-26T02:19:52.528410Z",
     "shell.execute_reply.started": "2023-03-26T02:19:52.519041Z"
    },
    "tags": []
   },
   "outputs": [],
   "source": [
    "# When you need to give more importance to rare or specific words\n",
    "# One can use a term-frequency-inverse-document-frequency-weighting\n",
    "# This measures how common a given word is in the given corpora of text\n",
    "\n",
    "# Typically words like \"the\", \"is\" are very common in almost all texts.\n",
    "# Thus these words are not very informative.\n",
    "# But words like \"idiosyncracy\", \"congregate\", \"nascent\", \"neonatal\" occur very rarely in any generic text corpora\n",
    "# So, one might want to give more importance to such words compared to more generic words."
   ]
  },
  {
   "cell_type": "code",
   "execution_count": null,
   "id": "4f17070d-ac68-4bff-9e29-6a18928d810d",
   "metadata": {},
   "outputs": [],
   "source": [
    "# "
   ]
  }
 ],
 "metadata": {
  "kernelspec": {
   "display_name": "Python 3 (ipykernel)",
   "language": "python",
   "name": "python3"
  },
  "language_info": {
   "codemirror_mode": {
    "name": "ipython",
    "version": 3
   },
   "file_extension": ".py",
   "mimetype": "text/x-python",
   "name": "python",
   "nbconvert_exporter": "python",
   "pygments_lexer": "ipython3",
   "version": "3.11.2"
  }
 },
 "nbformat": 4,
 "nbformat_minor": 5
}
