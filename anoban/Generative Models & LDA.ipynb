{
 "cells": [
  {
   "cell_type": "code",
   "execution_count": 15,
   "id": "87f8d9b3-b3f9-49fe-9e6f-1fca67870943",
   "metadata": {
    "execution": {
     "iopub.execute_input": "2023-04-05T01:48:43.406566Z",
     "iopub.status.busy": "2023-04-05T01:48:43.406566Z",
     "iopub.status.idle": "2023-04-05T01:48:43.415551Z",
     "shell.execute_reply": "2023-04-05T01:48:43.415551Z",
     "shell.execute_reply.started": "2023-04-05T01:48:43.406566Z"
    },
    "tags": []
   },
   "outputs": [],
   "source": [
    "from collections import Counter\n",
    "import random"
   ]
  },
  {
   "cell_type": "markdown",
   "id": "ab9e5527-0785-47c3-9944-294dd14fc519",
   "metadata": {},
   "source": [
    "# ***Generative Models and Latent Dirichlet Allocation (LDA)***\n",
    "-----------------------------------"
   ]
  },
  {
   "cell_type": "markdown",
   "id": "b4c14205-8c04-4d73-9d29-97934e9a69d8",
   "metadata": {},
   "source": [
    "## ***Generative Models for Text***\n",
    "------------------"
   ]
  },
  {
   "cell_type": "code",
   "execution_count": 1,
   "id": "e34ddd4d-d54f-42d4-b426-b50e82407af4",
   "metadata": {
    "execution": {
     "iopub.execute_input": "2023-04-05T01:44:28.068503Z",
     "iopub.status.busy": "2023-04-05T01:44:28.068503Z",
     "iopub.status.idle": "2023-04-05T01:44:28.079591Z",
     "shell.execute_reply": "2023-04-05T01:44:28.079591Z",
     "shell.execute_reply.started": "2023-04-05T01:44:28.068503Z"
    }
   },
   "outputs": [],
   "source": [
    "# Imagine a chest that generates texts.\n",
    "# We could create documents generated from this chest."
   ]
  },
  {
   "cell_type": "code",
   "execution_count": 4,
   "id": "8275e5c7-2fdc-48a5-9320-b23bd6a28f71",
   "metadata": {
    "execution": {
     "iopub.execute_input": "2023-04-05T01:46:08.381296Z",
     "iopub.status.busy": "2023-04-05T01:46:08.381296Z",
     "iopub.status.idle": "2023-04-05T01:46:08.390222Z",
     "shell.execute_reply": "2023-04-05T01:46:08.390222Z",
     "shell.execute_reply.started": "2023-04-05T01:46:08.381296Z"
    },
    "tags": []
   },
   "outputs": [],
   "source": [
    "with open(r\"./The Philosopher's Stone.txt\", \"r\", encoding = \"latin-1\") as fhandle:\n",
    "    philosophers_stone = fhandle.read()"
   ]
  },
  {
   "cell_type": "code",
   "execution_count": 14,
   "id": "cf609002-c563-4025-84b0-2c98880b081b",
   "metadata": {
    "execution": {
     "iopub.execute_input": "2023-04-05T01:48:23.018798Z",
     "iopub.status.busy": "2023-04-05T01:48:23.018798Z",
     "iopub.status.idle": "2023-04-05T01:48:23.061086Z",
     "shell.execute_reply": "2023-04-05T01:48:23.061086Z",
     "shell.execute_reply.started": "2023-04-05T01:48:23.018798Z"
    },
    "tags": []
   },
   "outputs": [
    {
     "data": {
      "text/plain": [
       "[('the', 3654),\n",
       " ('and', 2139),\n",
       " ('to', 1827),\n",
       " ('a', 1578),\n",
       " ('Harry', 1254),\n",
       " ('of', 1233),\n",
       " ('was', 1150),\n",
       " ('he', 1020),\n",
       " ('in', 898),\n",
       " ('his', 892)]"
      ]
     },
     "execution_count": 14,
     "metadata": {},
     "output_type": "execute_result"
    }
   ],
   "source": [
    "sorted([(key, value) for (key, value) in Counter(philosophers_stone.split()).items()], reverse = True, key = lambda pair: pair[1])[:10]"
   ]
  },
  {
   "cell_type": "code",
   "execution_count": 23,
   "id": "66a3d23c-ae4c-4d24-9cf1-0d9e9aaaba12",
   "metadata": {
    "execution": {
     "iopub.execute_input": "2023-04-05T01:49:19.983144Z",
     "iopub.status.busy": "2023-04-05T01:49:19.983144Z",
     "iopub.status.idle": "2023-04-05T01:49:19.998716Z",
     "shell.execute_reply": "2023-04-05T01:49:19.998716Z",
     "shell.execute_reply.started": "2023-04-05T01:49:19.983144Z"
    },
    "tags": []
   },
   "outputs": [
    {
     "data": {
      "text/plain": [
       "['the', 'send', 'doing', 'Harry', 'that', 'a', 'as', 'for', 'hard,', 'He']"
      ]
     },
     "execution_count": 23,
     "metadata": {},
     "output_type": "execute_result"
    }
   ],
   "source": [
    "random.sample(philosophers_stone.split(), 10)"
   ]
  },
  {
   "cell_type": "code",
   "execution_count": null,
   "id": "2a282b15-8495-434a-b861-2e1198ee2476",
   "metadata": {},
   "outputs": [],
   "source": [
    "# Looking at the sample, (assume thse are from the chest)\n",
    "# We can say that this chest gives words from Harry Potter books."
   ]
  }
 ],
 "metadata": {
  "kernelspec": {
   "display_name": "Python 3 (ipykernel)",
   "language": "python",
   "name": "python3"
  },
  "language_info": {
   "codemirror_mode": {
    "name": "ipython",
    "version": 3
   },
   "file_extension": ".py",
   "mimetype": "text/x-python",
   "name": "python",
   "nbconvert_exporter": "python",
   "pygments_lexer": "ipython3",
   "version": "3.11.2"
  }
 },
 "nbformat": 4,
 "nbformat_minor": 5
}
