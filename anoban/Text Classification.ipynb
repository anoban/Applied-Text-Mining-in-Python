{
 "cells": [
  {
   "cell_type": "markdown",
   "id": "5c2d2392-0e51-47f5-a613-8525e6b5445a",
   "metadata": {
    "execution": {
     "iopub.execute_input": "2023-03-23T01:35:20.468626Z",
     "iopub.status.busy": "2023-03-23T01:35:20.468626Z",
     "iopub.status.idle": "2023-03-23T01:35:20.473730Z",
     "shell.execute_reply": "2023-03-23T01:35:20.473730Z",
     "shell.execute_reply.started": "2023-03-23T01:35:20.468626Z"
    },
    "tags": []
   },
   "source": [
    "# ***Supervised learning for text.***\n",
    "------------------"
   ]
  },
  {
   "cell_type": "code",
   "execution_count": 2,
   "id": "9a6cbc80-dcee-4383-a567-593580caba07",
   "metadata": {
    "execution": {
     "iopub.execute_input": "2023-03-23T01:38:43.690037Z",
     "iopub.status.busy": "2023-03-23T01:38:43.690037Z",
     "iopub.status.idle": "2023-03-23T01:38:43.705124Z",
     "shell.execute_reply": "2023-03-23T01:38:43.705124Z",
     "shell.execute_reply.started": "2023-03-23T01:38:43.690037Z"
    },
    "tags": []
   },
   "outputs": [],
   "source": [
    "# Assume that you are given a paragraph form a medical textbook.\n",
    "# Could you identify which domain of medicine it belongs to?\n",
    "# Nephrology, urology, paediatrics, orthopaedics, etc.."
   ]
  },
  {
   "cell_type": "code",
   "execution_count": 3,
   "id": "0c02b71b-5b8a-484b-aefa-8eecee8123ad",
   "metadata": {
    "execution": {
     "iopub.execute_input": "2023-03-23T01:42:30.205185Z",
     "iopub.status.busy": "2023-03-23T01:42:30.205185Z",
     "iopub.status.idle": "2023-03-23T01:42:30.216976Z",
     "shell.execute_reply": "2023-03-23T01:42:30.216976Z",
     "shell.execute_reply.started": "2023-03-23T01:42:30.205185Z"
    },
    "tags": []
   },
   "outputs": [],
   "source": [
    "# Examples of text classification.\n",
    "\n",
    "# Categorizing newspaper articles.\n",
    "# Politics, sports, technology, et.c\n",
    "\n",
    "# Spam detection.\n",
    "# Sentiment analyses.\n",
    "# Spelling correction."
   ]
  },
  {
   "cell_type": "code",
   "execution_count": 4,
   "id": "040c51e2-16fa-4dec-8027-abbdc5b7d721",
   "metadata": {
    "execution": {
     "iopub.execute_input": "2023-03-23T01:45:53.630483Z",
     "iopub.status.busy": "2023-03-23T01:45:53.630483Z",
     "iopub.status.idle": "2023-03-23T01:45:53.647682Z",
     "shell.execute_reply": "2023-03-23T01:45:53.647682Z",
     "shell.execute_reply.started": "2023-03-23T01:45:53.630483Z"
    },
    "tags": []
   },
   "outputs": [],
   "source": [
    "# Supervised learning\n",
    "\n",
    "# Training phase ->\n",
    "# Labelled inputs are fed to a classification algorithm for learning.\n",
    "\n",
    "# Inference phase ->\n",
    "# Unlabelled data to be classified is fed to the trained model."
   ]
  },
  {
   "cell_type": "code",
   "execution_count": 5,
   "id": "41c14f3f-c61e-418f-b9cf-73477ffca17b",
   "metadata": {
    "execution": {
     "iopub.execute_input": "2023-03-23T01:47:07.719886Z",
     "iopub.status.busy": "2023-03-23T01:47:07.719886Z",
     "iopub.status.idle": "2023-03-23T01:47:07.728220Z",
     "shell.execute_reply": "2023-03-23T01:47:07.728220Z",
     "shell.execute_reply.started": "2023-03-23T01:47:07.719886Z"
    },
    "tags": []
   },
   "outputs": [],
   "source": [
    "# Trained model\n",
    "# Models are trained on properties (features) and their cognate importances (weights)."
   ]
  },
  {
   "cell_type": "code",
   "execution_count": 6,
   "id": "4e0f12e4-2077-4ab7-bb6f-fb6347a9507d",
   "metadata": {
    "execution": {
     "iopub.execute_input": "2023-03-23T01:48:43.144072Z",
     "iopub.status.busy": "2023-03-23T01:48:43.144072Z",
     "iopub.status.idle": "2023-03-23T01:48:43.160139Z",
     "shell.execute_reply": "2023-03-23T01:48:43.160139Z",
     "shell.execute_reply.started": "2023-03-23T01:48:43.144072Z"
    },
    "tags": []
   },
   "outputs": [],
   "source": [
    "# Consider an email as example\n",
    "\n",
    "# features ->\n",
    "# Sender\n",
    "# Does it have words like money, deposit, credit card, prince .et.c"
   ]
  },
  {
   "cell_type": "markdown",
   "id": "1643edce-0502-4770-9971-06124f30e843",
   "metadata": {},
   "source": [
    "## ***Set of attributes X : {$x_1, x_2, x_3 .... x_n$}***"
   ]
  },
  {
   "cell_type": "code",
   "execution_count": null,
   "id": "ae6241e1-2bff-4b8e-9055-482d6df54f1e",
   "metadata": {},
   "outputs": [],
   "source": [
    "# "
   ]
  }
 ],
 "metadata": {
  "kernelspec": {
   "display_name": "Python 3 (ipykernel)",
   "language": "python",
   "name": "python3"
  },
  "language_info": {
   "codemirror_mode": {
    "name": "ipython",
    "version": 3
   },
   "file_extension": ".py",
   "mimetype": "text/x-python",
   "name": "python",
   "nbconvert_exporter": "python",
   "pygments_lexer": "ipython3",
   "version": "3.11.2"
  }
 },
 "nbformat": 4,
 "nbformat_minor": 5
}
