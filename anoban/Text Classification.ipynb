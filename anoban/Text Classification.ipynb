{
 "cells": [
  {
   "cell_type": "markdown",
   "id": "5c2d2392-0e51-47f5-a613-8525e6b5445a",
   "metadata": {
    "execution": {
     "iopub.execute_input": "2023-03-23T01:35:20.468626Z",
     "iopub.status.busy": "2023-03-23T01:35:20.468626Z",
     "iopub.status.idle": "2023-03-23T01:35:20.473730Z",
     "shell.execute_reply": "2023-03-23T01:35:20.473730Z",
     "shell.execute_reply.started": "2023-03-23T01:35:20.468626Z"
    },
    "tags": []
   },
   "source": [
    "# ***Supervised learning for text.***\n",
    "------------------"
   ]
  },
  {
   "cell_type": "code",
   "execution_count": 2,
   "id": "9a6cbc80-dcee-4383-a567-593580caba07",
   "metadata": {
    "execution": {
     "iopub.execute_input": "2023-03-23T01:38:43.690037Z",
     "iopub.status.busy": "2023-03-23T01:38:43.690037Z",
     "iopub.status.idle": "2023-03-23T01:38:43.705124Z",
     "shell.execute_reply": "2023-03-23T01:38:43.705124Z",
     "shell.execute_reply.started": "2023-03-23T01:38:43.690037Z"
    },
    "tags": []
   },
   "outputs": [],
   "source": [
    "# Assume that you are given a paragraph form a medical textbook.\n",
    "# Could you identify which domain of medicine it belongs to?\n",
    "# Nephrology, urology, paediatrics, orthopaedics, etc.."
   ]
  },
  {
   "cell_type": "code",
   "execution_count": 3,
   "id": "0c02b71b-5b8a-484b-aefa-8eecee8123ad",
   "metadata": {
    "execution": {
     "iopub.execute_input": "2023-03-23T01:42:30.205185Z",
     "iopub.status.busy": "2023-03-23T01:42:30.205185Z",
     "iopub.status.idle": "2023-03-23T01:42:30.216976Z",
     "shell.execute_reply": "2023-03-23T01:42:30.216976Z",
     "shell.execute_reply.started": "2023-03-23T01:42:30.205185Z"
    },
    "tags": []
   },
   "outputs": [],
   "source": [
    "# Examples of text classification.\n",
    "\n",
    "# Categorizing newspaper articles.\n",
    "# Politics, sports, technology, et.c\n",
    "\n",
    "# Spam detection.\n",
    "# Sentiment analyses.\n",
    "# Spelling correction."
   ]
  },
  {
   "cell_type": "code",
   "execution_count": 4,
   "id": "040c51e2-16fa-4dec-8027-abbdc5b7d721",
   "metadata": {
    "execution": {
     "iopub.execute_input": "2023-03-23T01:45:53.630483Z",
     "iopub.status.busy": "2023-03-23T01:45:53.630483Z",
     "iopub.status.idle": "2023-03-23T01:45:53.647682Z",
     "shell.execute_reply": "2023-03-23T01:45:53.647682Z",
     "shell.execute_reply.started": "2023-03-23T01:45:53.630483Z"
    },
    "tags": []
   },
   "outputs": [],
   "source": [
    "# Supervised learning\n",
    "\n",
    "# Training phase ->\n",
    "# Labelled inputs are fed to a classification algorithm for learning.\n",
    "\n",
    "# Inference phase ->\n",
    "# Unlabelled data to be classified is fed to the trained model."
   ]
  },
  {
   "cell_type": "code",
   "execution_count": 5,
   "id": "41c14f3f-c61e-418f-b9cf-73477ffca17b",
   "metadata": {
    "execution": {
     "iopub.execute_input": "2023-03-23T01:47:07.719886Z",
     "iopub.status.busy": "2023-03-23T01:47:07.719886Z",
     "iopub.status.idle": "2023-03-23T01:47:07.728220Z",
     "shell.execute_reply": "2023-03-23T01:47:07.728220Z",
     "shell.execute_reply.started": "2023-03-23T01:47:07.719886Z"
    },
    "tags": []
   },
   "outputs": [],
   "source": [
    "# Trained model\n",
    "# Models are trained on properties (features) and their cognate importances (weights)."
   ]
  },
  {
   "cell_type": "code",
   "execution_count": 6,
   "id": "4e0f12e4-2077-4ab7-bb6f-fb6347a9507d",
   "metadata": {
    "execution": {
     "iopub.execute_input": "2023-03-23T01:48:43.144072Z",
     "iopub.status.busy": "2023-03-23T01:48:43.144072Z",
     "iopub.status.idle": "2023-03-23T01:48:43.160139Z",
     "shell.execute_reply": "2023-03-23T01:48:43.160139Z",
     "shell.execute_reply.started": "2023-03-23T01:48:43.144072Z"
    },
    "tags": []
   },
   "outputs": [],
   "source": [
    "# Consider an email as example\n",
    "\n",
    "# features ->\n",
    "# Sender\n",
    "# Does it have words like money, deposit, credit card, prince .et.c"
   ]
  },
  {
   "cell_type": "markdown",
   "id": "1643edce-0502-4770-9971-06124f30e843",
   "metadata": {},
   "source": [
    "## ***Set of attributes X : {$x_1, x_2, x_3 .... x_n$}***"
   ]
  },
  {
   "cell_type": "markdown",
   "id": "e76494a3-d3c0-4de7-a3c9-ed0bb78c52ac",
   "metadata": {},
   "source": [
    "## ***Set of class labels Y : {$y_1, y_2, y_3, ... y_n$}***"
   ]
  },
  {
   "cell_type": "code",
   "execution_count": 1,
   "id": "e42cfa80-0a44-410e-8ba8-d577882c40fc",
   "metadata": {
    "execution": {
     "iopub.execute_input": "2023-03-23T03:42:28.136720Z",
     "iopub.status.busy": "2023-03-23T03:42:28.136720Z",
     "iopub.status.idle": "2023-03-23T03:42:28.148081Z",
     "shell.execute_reply": "2023-03-23T03:42:28.148081Z",
     "shell.execute_reply.started": "2023-03-23T03:42:28.136720Z"
    },
    "tags": []
   },
   "outputs": [],
   "source": [
    "# Class labels can be binary when there are just two categories to calssify into.\n",
    "# Or can be multi label classes.\n"
   ]
  },
  {
   "cell_type": "code",
   "execution_count": 2,
   "id": "026f61a0-d35c-4ac1-beac-cbf173325ce3",
   "metadata": {
    "execution": {
     "iopub.execute_input": "2023-03-23T03:43:40.178738Z",
     "iopub.status.busy": "2023-03-23T03:43:40.178738Z",
     "iopub.status.idle": "2023-03-23T03:43:40.189201Z",
     "shell.execute_reply": "2023-03-23T03:43:40.189201Z",
     "shell.execute_reply.started": "2023-03-23T03:43:40.178738Z"
    },
    "tags": []
   },
   "outputs": [],
   "source": [
    "# In training data, there'll be a x set and a y set.\n",
    "# The y data typically contains the labels.\n",
    "\n",
    "# In test data the x data will be there (unlabelled)\n",
    "# The model will be expected to predict the y labels."
   ]
  },
  {
   "cell_type": "code",
   "execution_count": 3,
   "id": "56deba1d-b5cb-47ce-8c3a-ca0fc3f6f069",
   "metadata": {
    "execution": {
     "iopub.execute_input": "2023-03-23T03:44:50.430754Z",
     "iopub.status.busy": "2023-03-23T03:44:50.430754Z",
     "iopub.status.idle": "2023-03-23T03:44:50.445191Z",
     "shell.execute_reply": "2023-03-23T03:44:50.445191Z",
     "shell.execute_reply.started": "2023-03-23T03:44:50.430754Z"
    },
    "tags": []
   },
   "outputs": [],
   "source": [
    "# In training one typically does not use the whole dataset for training.\n",
    "# One typically witholds a portion of training data to test the model efficiency. (Hold out data)"
   ]
  },
  {
   "cell_type": "code",
   "execution_count": 4,
   "id": "1ce92699-a2d7-4a19-b4a1-fed1417e939c",
   "metadata": {
    "execution": {
     "iopub.execute_input": "2023-03-23T03:45:27.638023Z",
     "iopub.status.busy": "2023-03-23T03:45:27.638023Z",
     "iopub.status.idle": "2023-03-23T03:45:27.651886Z",
     "shell.execute_reply": "2023-03-23T03:45:27.651886Z",
     "shell.execute_reply.started": "2023-03-23T03:45:27.638023Z"
    },
    "tags": []
   },
   "outputs": [],
   "source": [
    "# So split the training data into data for actual training and a hold out."
   ]
  },
  {
   "cell_type": "code",
   "execution_count": 6,
   "id": "1757a8fd-c355-4f5c-b073-060dfb1ad3e8",
   "metadata": {
    "execution": {
     "iopub.execute_input": "2023-03-23T03:48:43.816737Z",
     "iopub.status.busy": "2023-03-23T03:48:43.816737Z",
     "iopub.status.idle": "2023-03-23T03:48:43.830057Z",
     "shell.execute_reply": "2023-03-23T03:48:43.830057Z",
     "shell.execute_reply.started": "2023-03-23T03:48:43.816737Z"
    }
   },
   "outputs": [],
   "source": [
    "# Types of classification\n",
    "\n",
    "# Binary classification\n",
    "# Whether an email is a spam or not\n",
    "# Whether an article is sports related or not \n",
    "# Whether a colour is red or blue.\n",
    "\n",
    "# When there are just two options to classify into, it is called a binary classification."
   ]
  },
  {
   "cell_type": "code",
   "execution_count": 7,
   "id": "d7e2f251-2343-49af-a849-f64780c9317c",
   "metadata": {
    "execution": {
     "iopub.execute_input": "2023-03-23T03:50:20.096666Z",
     "iopub.status.busy": "2023-03-23T03:50:20.096666Z",
     "iopub.status.idle": "2023-03-23T03:50:20.109428Z",
     "shell.execute_reply": "2023-03-23T03:50:20.109428Z",
     "shell.execute_reply.started": "2023-03-23T03:50:20.096666Z"
    },
    "tags": []
   },
   "outputs": [],
   "source": [
    "# When there is more than two options, the classification is calledc multi-class classification.\n",
    "# E.g. To which domain of medicine a given medical textbook paragraph belongs to?\n",
    "\n",
    "# Urology, pathology, cardioogy, oncology, rheumatology, orthopaedics, neurology, et.c..."
   ]
  },
  {
   "cell_type": "code",
   "execution_count": null,
   "id": "e74b924b-6d1a-43d9-8a6f-567d53378546",
   "metadata": {},
   "outputs": [],
   "source": []
  }
 ],
 "metadata": {
  "kernelspec": {
   "display_name": "Python 3 (ipykernel)",
   "language": "python",
   "name": "python3"
  },
  "language_info": {
   "codemirror_mode": {
    "name": "ipython",
    "version": 3
   },
   "file_extension": ".py",
   "mimetype": "text/x-python",
   "name": "python",
   "nbconvert_exporter": "python",
   "pygments_lexer": "ipython3",
   "version": "3.11.2"
  }
 },
 "nbformat": 4,
 "nbformat_minor": 5
}
