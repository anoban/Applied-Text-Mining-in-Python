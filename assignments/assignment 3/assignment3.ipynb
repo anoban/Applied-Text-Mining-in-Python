{
 "cells": [
  {
   "cell_type": "markdown",
   "metadata": {
    "deletable": false,
    "editable": false,
    "nbgrader": {
     "cell_type": "markdown",
     "checksum": "7109c4020fb6a8bcaef37e41e738e03d",
     "grade": false,
     "grade_id": "cell-dcb6ef72e08dd5fe",
     "locked": true,
     "schema_version": 3,
     "solution": false,
     "task": false
    }
   },
   "source": [
    "# Assignment 3\n",
    "\n",
    "In this assignment you will explore text message data and create models to predict if a message is spam or not. "
   ]
  },
  {
   "cell_type": "code",
   "execution_count": 1,
   "metadata": {
    "execution": {
     "iopub.execute_input": "2023-04-02T23:43:48.283852Z",
     "iopub.status.busy": "2023-04-02T23:43:48.283852Z",
     "iopub.status.idle": "2023-04-02T23:44:09.065761Z",
     "shell.execute_reply": "2023-04-02T23:44:09.065761Z",
     "shell.execute_reply.started": "2023-04-02T23:43:48.283852Z"
    },
    "tags": []
   },
   "outputs": [],
   "source": [
    "import pandas as pd\n",
    "import numpy as np\n",
    "from sklearn.model_selection import train_test_split\n",
    "from sklearn.feature_extraction.text import (CountVectorizer, TfidfVectorizer)\n",
    "from sklearn.naive_bayes import MultinomialNB\n",
    "from sklearn.linear_model import LogisticRegression\n",
    "from sklearn.metrics import roc_auc_score\n",
    "from sklearn.svm import SVC\n",
    "from scipy.sparse import csr_matrix, hstack\n",
    "import re"
   ]
  },
  {
   "cell_type": "code",
   "execution_count": 2,
   "metadata": {
    "execution": {
     "iopub.execute_input": "2023-04-02T23:44:19.387419Z",
     "iopub.status.busy": "2023-04-02T23:44:19.387419Z",
     "iopub.status.idle": "2023-04-02T23:44:19.540873Z",
     "shell.execute_reply": "2023-04-02T23:44:19.540873Z",
     "shell.execute_reply.started": "2023-04-02T23:44:19.387419Z"
    },
    "tags": []
   },
   "outputs": [],
   "source": [
    "spam_data = pd.read_csv(r\"D:/Applied-Text-Mining-in-Python/assignments/assignment 3/assets/spam.csv\")"
   ]
  },
  {
   "cell_type": "code",
   "execution_count": 3,
   "metadata": {
    "execution": {
     "iopub.execute_input": "2023-04-02T23:44:21.113641Z",
     "iopub.status.busy": "2023-04-02T23:44:21.113641Z",
     "iopub.status.idle": "2023-04-02T23:44:21.210999Z",
     "shell.execute_reply": "2023-04-02T23:44:21.210999Z",
     "shell.execute_reply.started": "2023-04-02T23:44:21.113641Z"
    },
    "tags": []
   },
   "outputs": [
    {
     "data": {
      "text/plain": [
       "array(['ham', 'spam'], dtype=object)"
      ]
     },
     "execution_count": 3,
     "metadata": {},
     "output_type": "execute_result"
    }
   ],
   "source": [
    "spam_data.target.unique()"
   ]
  },
  {
   "cell_type": "code",
   "execution_count": 4,
   "metadata": {
    "execution": {
     "iopub.execute_input": "2023-04-02T23:44:21.694106Z",
     "iopub.status.busy": "2023-04-02T23:44:21.694106Z",
     "iopub.status.idle": "2023-04-02T23:44:21.709549Z",
     "shell.execute_reply": "2023-04-02T23:44:21.709549Z",
     "shell.execute_reply.started": "2023-04-02T23:44:21.694106Z"
    },
    "tags": []
   },
   "outputs": [
    {
     "data": {
      "text/plain": [
       "0     ham\n",
       "1     ham\n",
       "2    spam\n",
       "3     ham\n",
       "4     ham\n",
       "5    spam\n",
       "6     ham\n",
       "7     ham\n",
       "8    spam\n",
       "9    spam\n",
       "Name: target, dtype: object"
      ]
     },
     "execution_count": 4,
     "metadata": {},
     "output_type": "execute_result"
    }
   ],
   "source": [
    "spam_data.target[:10]"
   ]
  },
  {
   "cell_type": "code",
   "execution_count": 5,
   "metadata": {
    "deletable": true,
    "execution": {
     "iopub.execute_input": "2023-04-02T23:44:22.086684Z",
     "iopub.status.busy": "2023-04-02T23:44:22.086684Z",
     "iopub.status.idle": "2023-04-02T23:44:22.204456Z",
     "shell.execute_reply": "2023-04-02T23:44:22.204456Z",
     "shell.execute_reply.started": "2023-04-02T23:44:22.086684Z"
    },
    "nbgrader": {
     "cell_type": "code",
     "checksum": "97714be9ccaf89bbff57d64a249680b8",
     "grade": false,
     "grade_id": "cell-f403cc37f510e3b4",
     "locked": true,
     "schema_version": 3,
     "solution": false,
     "task": false
    },
    "tags": []
   },
   "outputs": [
    {
     "data": {
      "text/html": [
       "<div>\n",
       "<style scoped>\n",
       "    .dataframe tbody tr th:only-of-type {\n",
       "        vertical-align: middle;\n",
       "    }\n",
       "\n",
       "    .dataframe tbody tr th {\n",
       "        vertical-align: top;\n",
       "    }\n",
       "\n",
       "    .dataframe thead th {\n",
       "        text-align: right;\n",
       "    }\n",
       "</style>\n",
       "<table border=\"1\" class=\"dataframe\">\n",
       "  <thead>\n",
       "    <tr style=\"text-align: right;\">\n",
       "      <th></th>\n",
       "      <th>text</th>\n",
       "      <th>target</th>\n",
       "    </tr>\n",
       "  </thead>\n",
       "  <tbody>\n",
       "    <tr>\n",
       "      <th>0</th>\n",
       "      <td>Go until jurong point, crazy.. Available only ...</td>\n",
       "      <td>0</td>\n",
       "    </tr>\n",
       "    <tr>\n",
       "      <th>1</th>\n",
       "      <td>Ok lar... Joking wif u oni...</td>\n",
       "      <td>0</td>\n",
       "    </tr>\n",
       "    <tr>\n",
       "      <th>2</th>\n",
       "      <td>Free entry in 2 a wkly comp to win FA Cup fina...</td>\n",
       "      <td>1</td>\n",
       "    </tr>\n",
       "    <tr>\n",
       "      <th>3</th>\n",
       "      <td>U dun say so early hor... U c already then say...</td>\n",
       "      <td>0</td>\n",
       "    </tr>\n",
       "    <tr>\n",
       "      <th>4</th>\n",
       "      <td>Nah I don't think he goes to usf, he lives aro...</td>\n",
       "      <td>0</td>\n",
       "    </tr>\n",
       "    <tr>\n",
       "      <th>5</th>\n",
       "      <td>FreeMsg Hey there darling it's been 3 week's n...</td>\n",
       "      <td>1</td>\n",
       "    </tr>\n",
       "    <tr>\n",
       "      <th>6</th>\n",
       "      <td>Even my brother is not like to speak with me. ...</td>\n",
       "      <td>0</td>\n",
       "    </tr>\n",
       "    <tr>\n",
       "      <th>7</th>\n",
       "      <td>As per your request 'Melle Melle (Oru Minnamin...</td>\n",
       "      <td>0</td>\n",
       "    </tr>\n",
       "    <tr>\n",
       "      <th>8</th>\n",
       "      <td>WINNER!! As a valued network customer you have...</td>\n",
       "      <td>1</td>\n",
       "    </tr>\n",
       "    <tr>\n",
       "      <th>9</th>\n",
       "      <td>Had your mobile 11 months or more? U R entitle...</td>\n",
       "      <td>1</td>\n",
       "    </tr>\n",
       "  </tbody>\n",
       "</table>\n",
       "</div>"
      ],
      "text/plain": [
       "                                                text  target\n",
       "0  Go until jurong point, crazy.. Available only ...       0\n",
       "1                      Ok lar... Joking wif u oni...       0\n",
       "2  Free entry in 2 a wkly comp to win FA Cup fina...       1\n",
       "3  U dun say so early hor... U c already then say...       0\n",
       "4  Nah I don't think he goes to usf, he lives aro...       0\n",
       "5  FreeMsg Hey there darling it's been 3 week's n...       1\n",
       "6  Even my brother is not like to speak with me. ...       0\n",
       "7  As per your request 'Melle Melle (Oru Minnamin...       0\n",
       "8  WINNER!! As a valued network customer you have...       1\n",
       "9  Had your mobile 11 months or more? U R entitle...       1"
      ]
     },
     "execution_count": 5,
     "metadata": {},
     "output_type": "execute_result"
    }
   ],
   "source": [
    "# spam -> 1, ham -> 0\n",
    "spam_data['target'] = np.where(spam_data['target']=='spam',1,0)\n",
    "spam_data.head(10)"
   ]
  },
  {
   "cell_type": "code",
   "execution_count": 6,
   "metadata": {
    "deletable": true,
    "execution": {
     "iopub.execute_input": "2023-04-02T23:44:22.495720Z",
     "iopub.status.busy": "2023-04-02T23:44:22.495720Z",
     "iopub.status.idle": "2023-04-02T23:44:22.506195Z",
     "shell.execute_reply": "2023-04-02T23:44:22.506195Z",
     "shell.execute_reply.started": "2023-04-02T23:44:22.495720Z"
    },
    "nbgrader": {
     "cell_type": "code",
     "checksum": "8458ef46cc0956f75d602cfadbb125f8",
     "grade": false,
     "grade_id": "cell-73f5a763723ca5b1",
     "locked": true,
     "schema_version": 3,
     "solution": false,
     "task": false
    },
    "tags": []
   },
   "outputs": [],
   "source": [
    "X_train, X_test, y_train, y_test = train_test_split(spam_data['text'], spam_data['target'], random_state=0)"
   ]
  },
  {
   "cell_type": "markdown",
   "metadata": {
    "deletable": false,
    "editable": false,
    "nbgrader": {
     "cell_type": "markdown",
     "checksum": "aa1acdd18515eabb22a61270e7d9aed5",
     "grade": false,
     "grade_id": "cell-687d4f4eb100a178",
     "locked": true,
     "schema_version": 3,
     "solution": false,
     "task": false
    }
   },
   "source": [
    "### Question 1\n",
    "What percentage of the documents in `spam_data` are spam?\n",
    "\n",
    "*This function should return a float, the percent value (i.e. $ratio * 100$).*"
   ]
  },
  {
   "cell_type": "code",
   "execution_count": 19,
   "metadata": {
    "execution": {
     "iopub.execute_input": "2023-04-02T11:19:43.074229Z",
     "iopub.status.busy": "2023-04-02T11:19:43.074229Z",
     "iopub.status.idle": "2023-04-02T11:19:43.082499Z",
     "shell.execute_reply": "2023-04-02T11:19:43.082499Z",
     "shell.execute_reply.started": "2023-04-02T11:19:43.074229Z"
    },
    "tags": []
   },
   "outputs": [
    {
     "data": {
      "text/plain": [
       "True"
      ]
     },
     "execution_count": 19,
     "metadata": {},
     "output_type": "execute_result"
    }
   ],
   "source": [
    "(spam_data.target == 1).sum() + (spam_data.target == 0).sum() == spam_data.shape[0]"
   ]
  },
  {
   "cell_type": "code",
   "execution_count": 20,
   "metadata": {
    "execution": {
     "iopub.execute_input": "2023-04-02T11:20:05.051420Z",
     "iopub.status.busy": "2023-04-02T11:20:05.051420Z",
     "iopub.status.idle": "2023-04-02T11:20:05.057679Z",
     "shell.execute_reply": "2023-04-02T11:20:05.057679Z",
     "shell.execute_reply.started": "2023-04-02T11:20:05.051420Z"
    },
    "tags": []
   },
   "outputs": [
    {
     "data": {
      "text/plain": [
       "(747, 4825)"
      ]
     },
     "execution_count": 20,
     "metadata": {},
     "output_type": "execute_result"
    }
   ],
   "source": [
    "(spam_data.target == 1).sum(), (spam_data.target == 0).sum()"
   ]
  },
  {
   "cell_type": "code",
   "execution_count": 15,
   "metadata": {
    "deletable": false,
    "execution": {
     "iopub.execute_input": "2023-04-02T11:18:56.814037Z",
     "iopub.status.busy": "2023-04-02T11:18:56.814037Z",
     "iopub.status.idle": "2023-04-02T11:18:56.830812Z",
     "shell.execute_reply": "2023-04-02T11:18:56.830812Z",
     "shell.execute_reply.started": "2023-04-02T11:18:56.814037Z"
    },
    "nbgrader": {
     "cell_type": "code",
     "checksum": "2793aeb56f0b9f5455a8022808ce2c68",
     "grade": false,
     "grade_id": "cell-2707cd8ee068d8d3",
     "locked": false,
     "schema_version": 3,
     "solution": true,
     "task": false
    }
   },
   "outputs": [
    {
     "data": {
      "text/plain": [
       "13.406317300789663"
      ]
     },
     "execution_count": 15,
     "metadata": {},
     "output_type": "execute_result"
    }
   ],
   "source": [
    "def answer_one():\n",
    "    return (spam_data.target == 1).sum() / spam_data.shape[0] * 100\n",
    "\n",
    "answer_one()"
   ]
  },
  {
   "cell_type": "code",
   "execution_count": null,
   "metadata": {
    "deletable": false,
    "editable": false,
    "nbgrader": {
     "cell_type": "code",
     "checksum": "b439a749e0a4074aeacbe58049c5bf35",
     "grade": true,
     "grade_id": "cell-35ee2f1c33047f8c",
     "locked": true,
     "points": 1,
     "schema_version": 3,
     "solution": false,
     "task": false
    }
   },
   "outputs": [],
   "source": []
  },
  {
   "cell_type": "markdown",
   "metadata": {
    "deletable": false,
    "editable": false,
    "nbgrader": {
     "cell_type": "markdown",
     "checksum": "a1d3d36cf3d3ae8a7d2e0334eb0a7b9c",
     "grade": false,
     "grade_id": "cell-a86c7b0db64621be",
     "locked": true,
     "schema_version": 3,
     "solution": false,
     "task": false
    }
   },
   "source": [
    "### Question 2\n",
    "\n",
    "Fit the training data `X_train` using a Count Vectorizer with default parameters.\n",
    "\n",
    "What is the longest token in the vocabulary?\n",
    "\n",
    "*This function should return a string.*"
   ]
  },
  {
   "cell_type": "code",
   "execution_count": 27,
   "metadata": {
    "execution": {
     "iopub.execute_input": "2023-04-02T11:25:04.056416Z",
     "iopub.status.busy": "2023-04-02T11:25:04.056416Z",
     "iopub.status.idle": "2023-04-02T11:25:04.129553Z",
     "shell.execute_reply": "2023-04-02T11:25:04.129553Z",
     "shell.execute_reply.started": "2023-04-02T11:25:04.056416Z"
    },
    "tags": []
   },
   "outputs": [
    {
     "data": {
      "text/plain": [
       "'com1win150ppmx3age16subscription'"
      ]
     },
     "execution_count": 27,
     "metadata": {},
     "output_type": "execute_result"
    }
   ],
   "source": [
    "sorted(CountVectorizer().fit(X_train).get_feature_names_out(), reverse = True, key = lambda token: len(token))[0]"
   ]
  },
  {
   "cell_type": "code",
   "execution_count": 28,
   "metadata": {
    "deletable": false,
    "execution": {
     "iopub.execute_input": "2023-04-02T11:25:22.763670Z",
     "iopub.status.busy": "2023-04-02T11:25:22.763670Z",
     "iopub.status.idle": "2023-04-02T11:25:22.831997Z",
     "shell.execute_reply": "2023-04-02T11:25:22.831997Z",
     "shell.execute_reply.started": "2023-04-02T11:25:22.763670Z"
    },
    "nbgrader": {
     "cell_type": "code",
     "checksum": "a99146357529f0924de5432298a2a73b",
     "grade": false,
     "grade_id": "cell-ed0fec2012295ea3",
     "locked": false,
     "schema_version": 3,
     "solution": true,
     "task": false
    }
   },
   "outputs": [
    {
     "data": {
      "text/plain": [
       "'com1win150ppmx3age16subscription'"
      ]
     },
     "execution_count": 28,
     "metadata": {},
     "output_type": "execute_result"
    }
   ],
   "source": [
    "def answer_two():\n",
    "    return sorted(CountVectorizer().fit(X_train).get_feature_names_out(), reverse = True, key = lambda token: len(token))[0]\n",
    "\n",
    "answer_two()"
   ]
  },
  {
   "cell_type": "code",
   "execution_count": null,
   "metadata": {
    "deletable": false,
    "editable": false,
    "nbgrader": {
     "cell_type": "code",
     "checksum": "50c106c6e36fbba1eac00269b3215cef",
     "grade": true,
     "grade_id": "cell-6eb97e449cd12bee",
     "locked": true,
     "points": 1,
     "schema_version": 3,
     "solution": false,
     "task": false
    }
   },
   "outputs": [],
   "source": []
  },
  {
   "cell_type": "markdown",
   "metadata": {
    "deletable": false,
    "editable": false,
    "nbgrader": {
     "cell_type": "markdown",
     "checksum": "77778225d05ba447bf388c0884703333",
     "grade": false,
     "grade_id": "cell-bf601421a6965e8f",
     "locked": true,
     "schema_version": 3,
     "solution": false,
     "task": false
    }
   },
   "source": [
    "### Question 3\n",
    "\n",
    "Fit and transform the training data `X_train` using a Count Vectorizer with default parameters.\n",
    "\n",
    "Next, fit a fit a multinomial Naive Bayes classifier model with smoothing `alpha=0.1`. Find the area under the curve (AUC) score using the transformed test data.\n",
    "\n",
    "*This function should return the AUC score as a float.*"
   ]
  },
  {
   "cell_type": "code",
   "execution_count": 32,
   "metadata": {
    "deletable": false,
    "execution": {
     "iopub.execute_input": "2023-04-02T11:32:19.024963Z",
     "iopub.status.busy": "2023-04-02T11:32:19.024963Z",
     "iopub.status.idle": "2023-04-02T11:32:19.140503Z",
     "shell.execute_reply": "2023-04-02T11:32:19.140503Z",
     "shell.execute_reply.started": "2023-04-02T11:32:19.024963Z"
    },
    "nbgrader": {
     "cell_type": "code",
     "checksum": "978982d101ec080d93ae0fbceb856df2",
     "grade": false,
     "grade_id": "cell-d6823cd2d4b78595",
     "locked": false,
     "schema_version": 3,
     "solution": true,
     "task": false
    },
    "tags": []
   },
   "outputs": [
    {
     "data": {
      "text/plain": [
       "0.9720812182741116"
      ]
     },
     "execution_count": 32,
     "metadata": {},
     "output_type": "execute_result"
    }
   ],
   "source": [
    "def answer_three():\n",
    "\n",
    "    vector = CountVectorizer().fit(X_train)\n",
    "    train_x_vectorized = vector.transform(X_train)\n",
    "    model = MultinomialNB(alpha = 0.1)\n",
    "    model.fit(train_x_vectorized, y_train)\n",
    "    predictions = model.predict(vector.transform(X_test))\n",
    "    return roc_auc_score(y_test, predictions)\n",
    "\n",
    "answer_three()"
   ]
  },
  {
   "cell_type": "code",
   "execution_count": null,
   "metadata": {
    "deletable": false,
    "editable": false,
    "nbgrader": {
     "cell_type": "code",
     "checksum": "1e5d06cc86ab90502c72075822f243aa",
     "grade": true,
     "grade_id": "cell-c9dd3c3ec0b63773",
     "locked": true,
     "points": 1,
     "schema_version": 3,
     "solution": false,
     "task": false
    }
   },
   "outputs": [],
   "source": []
  },
  {
   "cell_type": "markdown",
   "metadata": {
    "deletable": false,
    "editable": false,
    "nbgrader": {
     "cell_type": "markdown",
     "checksum": "18f455d16422cc21ef23082784d54d23",
     "grade": false,
     "grade_id": "cell-881103829277a63e",
     "locked": true,
     "schema_version": 3,
     "solution": false,
     "task": false
    }
   },
   "source": [
    "### Question 4\n",
    "\n",
    "Fit and transform the training data `X_train` using a Tfidf Vectorizer with default parameters. The transformed data will be a compressed sparse row matrix where the number of rows is the number of documents in `X_train`, the number of columns is the number of features found by the vectorizer in each document, and each value in the sparse matrix is the tf-idf value. First find the **max** tf-idf value for every feature.\n",
    "\n",
    "What 20 features have the smallest tf-idf and what 20 have the largest tf-idf among the **max** tf-idf values?\n",
    "\n",
    "Put these features in two series where each series is sorted by tf-idf value. The index of the series should be the feature name, and the data should be the tf-idf.\n",
    "\n",
    "The series of 20 features with smallest tf-idfs should be sorted smallest tfidf first, the list of 20 features with largest tf-idfs should be sorted largest first. Any entries with identical tf-ids should appear in lexigraphically increasing order by their feature name in boh series. For example, if the features \"a\", \"b\", \"c\" had the tf-idfs 1.0, 0.5, 1.0 in the series with the largest tf-idfs, then they should occur in the returned result in the order \"a\", \"c\", \"b\" with values 1.0, 1.0, 0.5.\n",
    "\n",
    "*This function should return a tuple of two series\n",
    "`(smallest tf-idfs series, largest tf-idfs series)`.*"
   ]
  },
  {
   "cell_type": "code",
   "execution_count": 49,
   "metadata": {
    "execution": {
     "iopub.execute_input": "2023-04-02T11:55:31.907083Z",
     "iopub.status.busy": "2023-04-02T11:55:31.907083Z",
     "iopub.status.idle": "2023-04-02T11:55:32.008247Z",
     "shell.execute_reply": "2023-04-02T11:55:32.008247Z",
     "shell.execute_reply.started": "2023-04-02T11:55:31.907083Z"
    },
    "tags": []
   },
   "outputs": [
    {
     "name": "stdout",
     "output_type": "stream",
     "text": [
      "There are 7354 features in the vector\n",
      "There are 7354 columns in the SciPy sparse matrix\n"
     ]
    }
   ],
   "source": [
    "# x -> documents\n",
    "# y -> features\n",
    "\n",
    "vector = TfidfVectorizer().fit(X_train)\n",
    "sparse_mat = vector.transform(X_train)\n",
    "\n",
    "print(f\"There are {vector.get_feature_names_out().size} features in the vector\")\n",
    "print(f\"There are {sparse_mat.max(axis = 0).toarray().size} columns in the SciPy sparse matrix\")"
   ]
  },
  {
   "cell_type": "code",
   "execution_count": 55,
   "metadata": {
    "execution": {
     "iopub.execute_input": "2023-04-02T11:57:24.152994Z",
     "iopub.status.busy": "2023-04-02T11:57:24.152994Z",
     "iopub.status.idle": "2023-04-02T11:57:24.161389Z",
     "shell.execute_reply": "2023-04-02T11:57:24.161389Z",
     "shell.execute_reply.started": "2023-04-02T11:57:24.152994Z"
    },
    "tags": []
   },
   "outputs": [
    {
     "data": {
      "text/plain": [
       "array([0.23731416, 0.36138463, 0.22862438, ..., 0.27814246, 0.36296157,\n",
       "       0.3487995 ])"
      ]
     },
     "execution_count": 55,
     "metadata": {},
     "output_type": "execute_result"
    }
   ],
   "source": [
    "# an array of column maximums\n",
    "\n",
    "maxes = sparse_mat.max(axis = 0).toarray()[0]\n",
    "maxes"
   ]
  },
  {
   "cell_type": "code",
   "execution_count": 68,
   "metadata": {
    "execution": {
     "iopub.execute_input": "2023-04-02T12:06:33.826889Z",
     "iopub.status.busy": "2023-04-02T12:06:33.826889Z",
     "iopub.status.idle": "2023-04-02T12:06:33.840134Z",
     "shell.execute_reply": "2023-04-02T12:06:33.840134Z",
     "shell.execute_reply.started": "2023-04-02T12:06:33.826889Z"
    },
    "tags": []
   },
   "outputs": [
    {
     "data": {
      "text/plain": [
       "array([ 81,  82,  83,  84,  85,  86,  87,  88,  89,  90,  91,  92,  93,\n",
       "        94,  95,  96,  97,  98,  99, 100])"
      ]
     },
     "execution_count": 68,
     "metadata": {},
     "output_type": "execute_result"
    }
   ],
   "source": [
    "np.arange(1, 101)[-20:]"
   ]
  },
  {
   "cell_type": "code",
   "execution_count": 61,
   "metadata": {
    "execution": {
     "iopub.execute_input": "2023-04-02T11:59:20.452471Z",
     "iopub.status.busy": "2023-04-02T11:59:20.452471Z",
     "iopub.status.idle": "2023-04-02T11:59:20.466339Z",
     "shell.execute_reply": "2023-04-02T11:59:20.466339Z",
     "shell.execute_reply.started": "2023-04-02T11:59:20.452471Z"
    },
    "tags": []
   },
   "outputs": [],
   "source": [
    "# smallest\n",
    "smallest = maxes.argsort()[:20]\n",
    "\n",
    "# largest\n",
    "largest = maxes.argsort()[-20:]"
   ]
  },
  {
   "cell_type": "code",
   "execution_count": 62,
   "metadata": {
    "execution": {
     "iopub.execute_input": "2023-04-02T11:59:25.848058Z",
     "iopub.status.busy": "2023-04-02T11:59:25.848058Z",
     "iopub.status.idle": "2023-04-02T11:59:25.862721Z",
     "shell.execute_reply": "2023-04-02T11:59:25.862721Z",
     "shell.execute_reply.started": "2023-04-02T11:59:25.848058Z"
    },
    "tags": []
   },
   "outputs": [
    {
     "data": {
      "text/plain": [
       "array(['sympathetic', 'healer', 'aaniye', 'dependable', 'companion',\n",
       "       'listener', 'athletic', 'exterminator', 'psychiatrist', 'pest',\n",
       "       'determined', 'chef', 'courageous', 'stylist', 'psychologist',\n",
       "       'organizer', 'pudunga', 'venaam', 'diwali', 'mornings'],\n",
       "      dtype=object)"
      ]
     },
     "execution_count": 62,
     "metadata": {},
     "output_type": "execute_result"
    }
   ],
   "source": [
    "vector.get_feature_names_out()[smallest]"
   ]
  },
  {
   "cell_type": "code",
   "execution_count": 69,
   "metadata": {
    "execution": {
     "iopub.execute_input": "2023-04-02T12:09:13.198679Z",
     "iopub.status.busy": "2023-04-02T12:09:13.198679Z",
     "iopub.status.idle": "2023-04-02T12:09:13.217883Z",
     "shell.execute_reply": "2023-04-02T12:09:13.217883Z",
     "shell.execute_reply.started": "2023-04-02T12:09:13.198679Z"
    },
    "tags": []
   },
   "outputs": [
    {
     "data": {
      "text/plain": [
       "array([0.07447452, 0.07447452, 0.07447452, 0.07447452, 0.07447452,\n",
       "       0.07447452, 0.07447452, 0.07447452, 0.07447452, 0.07447452,\n",
       "       0.07447452, 0.07447452, 0.07447452, 0.07447452, 0.07447452,\n",
       "       0.07447452, 0.07447452, 0.07447452, 0.09124961, 0.09124961])"
      ]
     },
     "execution_count": 69,
     "metadata": {},
     "output_type": "execute_result"
    }
   ],
   "source": [
    "maxes[smallest]"
   ]
  },
  {
   "cell_type": "code",
   "execution_count": 85,
   "metadata": {
    "execution": {
     "iopub.execute_input": "2023-04-02T12:20:07.323574Z",
     "iopub.status.busy": "2023-04-02T12:20:07.323574Z",
     "iopub.status.idle": "2023-04-02T12:20:07.340587Z",
     "shell.execute_reply": "2023-04-02T12:20:07.340587Z",
     "shell.execute_reply.started": "2023-04-02T12:20:07.323574Z"
    },
    "tags": []
   },
   "outputs": [
    {
     "data": {
      "text/plain": [
       "sympathetic     0.074475\n",
       "venaam          0.074475\n",
       "pudunga         0.074475\n",
       "organizer       0.074475\n",
       "psychologist    0.074475\n",
       "stylist         0.074475\n",
       "courageous      0.074475\n",
       "chef            0.074475\n",
       "determined      0.074475\n",
       "pest            0.074475\n",
       "psychiatrist    0.074475\n",
       "exterminator    0.074475\n",
       "athletic        0.074475\n",
       "listener        0.074475\n",
       "companion       0.074475\n",
       "dependable      0.074475\n",
       "aaniye          0.074475\n",
       "healer          0.074475\n",
       "diwali          0.091250\n",
       "mornings        0.091250\n",
       "dtype: float64"
      ]
     },
     "execution_count": 85,
     "metadata": {},
     "output_type": "execute_result"
    }
   ],
   "source": [
    "s_smallest = pd.Series(maxes[smallest], index = vector.get_feature_names_out()[smallest]).sort_values()\n",
    "s_smallest"
   ]
  },
  {
   "cell_type": "code",
   "execution_count": 86,
   "metadata": {
    "execution": {
     "iopub.execute_input": "2023-04-02T12:20:27.444580Z",
     "iopub.status.busy": "2023-04-02T12:20:27.444580Z",
     "iopub.status.idle": "2023-04-02T12:20:27.464014Z",
     "shell.execute_reply": "2023-04-02T12:20:27.464014Z",
     "shell.execute_reply.started": "2023-04-02T12:20:27.444580Z"
    },
    "tags": []
   },
   "outputs": [
    {
     "data": {
      "text/plain": [
       "aaniye          0.074475\n",
       "athletic        0.074475\n",
       "chef            0.074475\n",
       "companion       0.074475\n",
       "courageous      0.074475\n",
       "dependable      0.074475\n",
       "determined      0.074475\n",
       "exterminator    0.074475\n",
       "healer          0.074475\n",
       "listener        0.074475\n",
       "organizer       0.074475\n",
       "pest            0.074475\n",
       "psychiatrist    0.074475\n",
       "psychologist    0.074475\n",
       "pudunga         0.074475\n",
       "stylist         0.074475\n",
       "sympathetic     0.074475\n",
       "venaam          0.074475\n",
       "diwali          0.091250\n",
       "mornings        0.091250\n",
       "dtype: float64"
      ]
     },
     "execution_count": 86,
     "metadata": {},
     "output_type": "execute_result"
    }
   ],
   "source": [
    "pd.concat([s_smallest[:18].sort_index(), s_smallest[18:].sort_index()])"
   ]
  },
  {
   "cell_type": "code",
   "execution_count": 63,
   "metadata": {
    "execution": {
     "iopub.execute_input": "2023-04-02T12:00:06.309257Z",
     "iopub.status.busy": "2023-04-02T12:00:06.309257Z",
     "iopub.status.idle": "2023-04-02T12:00:06.323337Z",
     "shell.execute_reply": "2023-04-02T12:00:06.323337Z",
     "shell.execute_reply.started": "2023-04-02T12:00:06.309257Z"
    },
    "tags": []
   },
   "outputs": [
    {
     "data": {
      "text/plain": [
       "array(['blank', 'tick', '645', 'done', 'too', 'anytime', 'beerage',\n",
       "       'where', 'ok', 'thank', 'yup', 'nite', 'lei', 'anything', 'er',\n",
       "       'thanx', 'okie', 'home', 'havent', '146tf150p'], dtype=object)"
      ]
     },
     "execution_count": 63,
     "metadata": {},
     "output_type": "execute_result"
    }
   ],
   "source": [
    "vector.get_feature_names_out()[largest]"
   ]
  },
  {
   "cell_type": "code",
   "execution_count": 70,
   "metadata": {
    "execution": {
     "iopub.execute_input": "2023-04-02T12:09:22.426133Z",
     "iopub.status.busy": "2023-04-02T12:09:22.426133Z",
     "iopub.status.idle": "2023-04-02T12:09:22.432176Z",
     "shell.execute_reply": "2023-04-02T12:09:22.432176Z",
     "shell.execute_reply.started": "2023-04-02T12:09:22.426133Z"
    },
    "tags": []
   },
   "outputs": [
    {
     "data": {
      "text/plain": [
       "array([0.93270158, 0.9801659 , 1.        , 1.        , 1.        ,\n",
       "       1.        , 1.        , 1.        , 1.        , 1.        ,\n",
       "       1.        , 1.        , 1.        , 1.        , 1.        ,\n",
       "       1.        , 1.        , 1.        , 1.        , 1.        ])"
      ]
     },
     "execution_count": 70,
     "metadata": {},
     "output_type": "execute_result"
    }
   ],
   "source": [
    "maxes[largest]"
   ]
  },
  {
   "cell_type": "code",
   "execution_count": 87,
   "metadata": {
    "execution": {
     "iopub.execute_input": "2023-04-02T12:21:32.740242Z",
     "iopub.status.busy": "2023-04-02T12:21:32.740242Z",
     "iopub.status.idle": "2023-04-02T12:21:32.759303Z",
     "shell.execute_reply": "2023-04-02T12:21:32.759303Z",
     "shell.execute_reply.started": "2023-04-02T12:21:32.740242Z"
    },
    "tags": []
   },
   "outputs": [
    {
     "data": {
      "text/plain": [
       "yup          1.000000\n",
       "nite         1.000000\n",
       "havent       1.000000\n",
       "home         1.000000\n",
       "okie         1.000000\n",
       "thanx        1.000000\n",
       "er           1.000000\n",
       "anything     1.000000\n",
       "lei          1.000000\n",
       "146tf150p    1.000000\n",
       "thank        1.000000\n",
       "ok           1.000000\n",
       "where        1.000000\n",
       "beerage      1.000000\n",
       "anytime      1.000000\n",
       "too          1.000000\n",
       "done         1.000000\n",
       "645          1.000000\n",
       "tick         0.980166\n",
       "blank        0.932702\n",
       "dtype: float64"
      ]
     },
     "execution_count": 87,
     "metadata": {},
     "output_type": "execute_result"
    }
   ],
   "source": [
    "s_largest = pd.Series(maxes[largest], index = vector.get_feature_names_out()[largest]).sort_values(ascending = False)\n",
    "s_largest"
   ]
  },
  {
   "cell_type": "code",
   "execution_count": 89,
   "metadata": {
    "execution": {
     "iopub.execute_input": "2023-04-02T12:22:52.066219Z",
     "iopub.status.busy": "2023-04-02T12:22:52.066219Z",
     "iopub.status.idle": "2023-04-02T12:22:52.083213Z",
     "shell.execute_reply": "2023-04-02T12:22:52.083213Z",
     "shell.execute_reply.started": "2023-04-02T12:22:52.066219Z"
    },
    "tags": []
   },
   "outputs": [
    {
     "data": {
      "text/plain": [
       "146tf150p    1.000000\n",
       "645          1.000000\n",
       "anything     1.000000\n",
       "anytime      1.000000\n",
       "beerage      1.000000\n",
       "done         1.000000\n",
       "er           1.000000\n",
       "havent       1.000000\n",
       "home         1.000000\n",
       "lei          1.000000\n",
       "nite         1.000000\n",
       "ok           1.000000\n",
       "okie         1.000000\n",
       "thank        1.000000\n",
       "thanx        1.000000\n",
       "too          1.000000\n",
       "where        1.000000\n",
       "yup          1.000000\n",
       "tick         0.980166\n",
       "blank        0.932702\n",
       "dtype: float64"
      ]
     },
     "execution_count": 89,
     "metadata": {},
     "output_type": "execute_result"
    }
   ],
   "source": [
    "pd.concat([s_largest[:18].sort_index(), s_largest[18:]])"
   ]
  },
  {
   "cell_type": "code",
   "execution_count": 93,
   "metadata": {
    "deletable": false,
    "execution": {
     "iopub.execute_input": "2023-04-02T12:39:48.126143Z",
     "iopub.status.busy": "2023-04-02T12:39:48.126143Z",
     "iopub.status.idle": "2023-04-02T12:39:48.242044Z",
     "shell.execute_reply": "2023-04-02T12:39:48.242044Z",
     "shell.execute_reply.started": "2023-04-02T12:39:48.126143Z"
    },
    "nbgrader": {
     "cell_type": "code",
     "checksum": "398b7634e65c7fdec4e98f8966139517",
     "grade": false,
     "grade_id": "cell-76cb5ae962a7a6f5",
     "locked": false,
     "schema_version": 3,
     "solution": true,
     "task": false
    },
    "tags": []
   },
   "outputs": [
    {
     "data": {
      "text/plain": [
       "(aaniye          0.074475\n",
       " athletic        0.074475\n",
       " chef            0.074475\n",
       " companion       0.074475\n",
       " courageous      0.074475\n",
       " dependable      0.074475\n",
       " determined      0.074475\n",
       " exterminator    0.074475\n",
       " healer          0.074475\n",
       " listener        0.074475\n",
       " organizer       0.074475\n",
       " pest            0.074475\n",
       " psychiatrist    0.074475\n",
       " psychologist    0.074475\n",
       " pudunga         0.074475\n",
       " stylist         0.074475\n",
       " sympathetic     0.074475\n",
       " venaam          0.074475\n",
       " diwali          0.091250\n",
       " mornings        0.091250\n",
       " dtype: float64,\n",
       " 146tf150p    1.000000\n",
       " 645          1.000000\n",
       " anything     1.000000\n",
       " anytime      1.000000\n",
       " beerage      1.000000\n",
       " done         1.000000\n",
       " er           1.000000\n",
       " havent       1.000000\n",
       " home         1.000000\n",
       " lei          1.000000\n",
       " nite         1.000000\n",
       " ok           1.000000\n",
       " okie         1.000000\n",
       " thank        1.000000\n",
       " thanx        1.000000\n",
       " too          1.000000\n",
       " where        1.000000\n",
       " yup          1.000000\n",
       " tick         0.980166\n",
       " blank        0.932702\n",
       " dtype: float64)"
      ]
     },
     "execution_count": 93,
     "metadata": {},
     "output_type": "execute_result"
    }
   ],
   "source": [
    "def answer_four():\n",
    "\n",
    "    vector = TfidfVectorizer().fit(X_train)\n",
    "    sparse_mat = vector.transform(X_train)\n",
    "    maxes = sparse_mat.max(axis = 0).toarray()[0]\n",
    "    smallest = maxes.argsort()[:20]\n",
    "    largest = maxes.argsort()[-20:]\n",
    "    s_smallest = pd.Series(maxes[smallest], index = vector.get_feature_names_out()[smallest]).sort_values()\n",
    "    s_largest = pd.Series(maxes[largest], index = vector.get_feature_names_out()[largest]).sort_values(ascending = False)\n",
    "    \n",
    "    _s = pd.concat([s_smallest[:18].sort_index(), s_smallest[18:].sort_index()])\n",
    "    _l = pd.concat([s_largest[:18].sort_index(), s_largest[18:]])\n",
    "    return _s, _l\n",
    "    \n",
    "answer_four()"
   ]
  },
  {
   "cell_type": "code",
   "execution_count": null,
   "metadata": {
    "deletable": false,
    "editable": false,
    "nbgrader": {
     "cell_type": "code",
     "checksum": "65b6827daca8dc89566fe6731234e202",
     "grade": true,
     "grade_id": "cell-09a122df96d70683",
     "locked": true,
     "points": 1,
     "schema_version": 3,
     "solution": false,
     "task": false
    }
   },
   "outputs": [],
   "source": []
  },
  {
   "cell_type": "markdown",
   "metadata": {
    "deletable": false,
    "editable": false,
    "nbgrader": {
     "cell_type": "markdown",
     "checksum": "e40c91cd89e25cecdcb123bb447dadd1",
     "grade": false,
     "grade_id": "cell-cf833ad4436ff594",
     "locked": true,
     "schema_version": 3,
     "solution": false,
     "task": false
    }
   },
   "source": [
    "### Question 5\n",
    "\n",
    "Fit and transform the training data `X_train` using a Tfidf Vectorizer ignoring terms that have a document frequency strictly lower than **3**.\n",
    "\n",
    "Then fit a multinomial Naive Bayes classifier model with smoothing `alpha=0.1` and compute the area under the curve (AUC) score using the transformed test data.\n",
    "\n",
    "*This function should return the AUC score as a float.*"
   ]
  },
  {
   "cell_type": "code",
   "execution_count": null,
   "metadata": {
    "tags": []
   },
   "outputs": [],
   "source": []
  },
  {
   "cell_type": "code",
   "execution_count": 14,
   "metadata": {
    "deletable": false,
    "execution": {
     "iopub.execute_input": "2023-04-02T23:52:43.659101Z",
     "iopub.status.busy": "2023-04-02T23:52:43.659101Z",
     "iopub.status.idle": "2023-04-02T23:52:43.854193Z",
     "shell.execute_reply": "2023-04-02T23:52:43.854193Z",
     "shell.execute_reply.started": "2023-04-02T23:52:43.659101Z"
    },
    "nbgrader": {
     "cell_type": "code",
     "checksum": "8679a4b2f417981c7f2163a0fa692866",
     "grade": false,
     "grade_id": "cell-4f8dc958e73ebf9e",
     "locked": false,
     "schema_version": 3,
     "solution": true,
     "task": false
    },
    "tags": []
   },
   "outputs": [
    {
     "data": {
      "text/plain": [
       "0.9954968337775665"
      ]
     },
     "execution_count": 14,
     "metadata": {},
     "output_type": "execute_result"
    }
   ],
   "source": [
    "def answer_five():\n",
    "    vector = TfidfVectorizer(min_df = 3).fit(X_train)\n",
    "    train_x_vectorized = vector.transform(X_train)\n",
    "    \n",
    "    model = MultinomialNB(alpha = 0.1)\n",
    "    model.fit(train_x_vectorized, y_train)\n",
    "    \n",
    "    predictions = model.predict_proba(vector.transform(X_test))[:, 1]\n",
    "    return roc_auc_score(y_test, predictions)\n",
    "    \n",
    "answer_five()"
   ]
  },
  {
   "cell_type": "code",
   "execution_count": null,
   "metadata": {
    "deletable": false,
    "editable": false,
    "nbgrader": {
     "cell_type": "code",
     "checksum": "bcf549a0e74e7e1818c9accf7cd6556d",
     "grade": true,
     "grade_id": "cell-09607be9c976cae0",
     "locked": true,
     "points": 1,
     "schema_version": 3,
     "solution": false,
     "task": false
    }
   },
   "outputs": [],
   "source": []
  },
  {
   "cell_type": "markdown",
   "metadata": {
    "deletable": false,
    "editable": false,
    "nbgrader": {
     "cell_type": "markdown",
     "checksum": "01decd9375604608e5ee425fd9f57f08",
     "grade": false,
     "grade_id": "cell-8140300bc6d127ff",
     "locked": true,
     "schema_version": 3,
     "solution": false,
     "task": false
    }
   },
   "source": [
    "### Question 6\n",
    "\n",
    "What is the average length of documents (number of characters) for not spam and spam documents?\n",
    "\n",
    "*This function should return a tuple (average length not spam, average length spam).*"
   ]
  },
  {
   "cell_type": "code",
   "execution_count": 104,
   "metadata": {
    "execution": {
     "iopub.execute_input": "2023-04-02T13:07:12.727961Z",
     "iopub.status.busy": "2023-04-02T13:07:12.727961Z",
     "iopub.status.idle": "2023-04-02T13:07:12.745243Z",
     "shell.execute_reply": "2023-04-02T13:07:12.745243Z",
     "shell.execute_reply.started": "2023-04-02T13:07:12.727961Z"
    },
    "tags": []
   },
   "outputs": [
    {
     "data": {
      "text/plain": [
       "138.8661311914324"
      ]
     },
     "execution_count": 104,
     "metadata": {},
     "output_type": "execute_result"
    }
   ],
   "source": [
    "spam_data.text.loc[spam_data.target == 1].apply(lambda text: len(text)).mean()"
   ]
  },
  {
   "cell_type": "code",
   "execution_count": 105,
   "metadata": {
    "execution": {
     "iopub.execute_input": "2023-04-02T13:07:26.777682Z",
     "iopub.status.busy": "2023-04-02T13:07:26.777682Z",
     "iopub.status.idle": "2023-04-02T13:07:26.794368Z",
     "shell.execute_reply": "2023-04-02T13:07:26.794368Z",
     "shell.execute_reply.started": "2023-04-02T13:07:26.777682Z"
    },
    "tags": []
   },
   "outputs": [
    {
     "data": {
      "text/plain": [
       "71.02362694300518"
      ]
     },
     "execution_count": 105,
     "metadata": {},
     "output_type": "execute_result"
    }
   ],
   "source": [
    "spam_data.text.loc[spam_data.target == 0].apply(lambda text: len(text)).mean()"
   ]
  },
  {
   "cell_type": "code",
   "execution_count": 109,
   "metadata": {
    "deletable": false,
    "execution": {
     "iopub.execute_input": "2023-04-02T13:09:16.270987Z",
     "iopub.status.busy": "2023-04-02T13:09:16.270987Z",
     "iopub.status.idle": "2023-04-02T13:09:16.284722Z",
     "shell.execute_reply": "2023-04-02T13:09:16.284722Z",
     "shell.execute_reply.started": "2023-04-02T13:09:16.270987Z"
    },
    "nbgrader": {
     "cell_type": "code",
     "checksum": "94051f9c02aab671e630b67e818fa490",
     "grade": false,
     "grade_id": "cell-9ef7d7820ba0644d",
     "locked": false,
     "schema_version": 3,
     "solution": true,
     "task": false
    },
    "tags": []
   },
   "outputs": [
    {
     "data": {
      "text/plain": [
       "(71.02362694300518, 138.8661311914324)"
      ]
     },
     "execution_count": 109,
     "metadata": {},
     "output_type": "execute_result"
    }
   ],
   "source": [
    "def answer_six():\n",
    "\n",
    "    return (spam_data.text.loc[spam_data.target == 0].apply(lambda text: len(text)).mean(),\n",
    "                spam_data.text.loc[spam_data.target == 1].apply(lambda text: len(text)).mean())\n",
    "\n",
    "answer_six()"
   ]
  },
  {
   "cell_type": "code",
   "execution_count": null,
   "metadata": {
    "deletable": false,
    "editable": false,
    "nbgrader": {
     "cell_type": "code",
     "checksum": "7d0200c29dd8c642e469627c9ec80d0d",
     "grade": true,
     "grade_id": "cell-3cc7f12d3457b034",
     "locked": true,
     "points": 1,
     "schema_version": 3,
     "solution": false,
     "task": false
    }
   },
   "outputs": [],
   "source": []
  },
  {
   "cell_type": "markdown",
   "metadata": {
    "deletable": false,
    "editable": false,
    "nbgrader": {
     "cell_type": "markdown",
     "checksum": "9ae20c6a5ea3577daaff67026ada729d",
     "grade": false,
     "grade_id": "cell-142fa11bdbd6c041",
     "locked": true,
     "schema_version": 3,
     "solution": false,
     "task": false
    }
   },
   "source": [
    "<br>\n",
    "<br>\n",
    "The following function has been provided to help you combine new features into the training data:"
   ]
  },
  {
   "cell_type": "code",
   "execution_count": 15,
   "metadata": {
    "deletable": true,
    "execution": {
     "iopub.execute_input": "2023-04-02T23:53:54.066813Z",
     "iopub.status.busy": "2023-04-02T23:53:54.066813Z",
     "iopub.status.idle": "2023-04-02T23:53:54.072933Z",
     "shell.execute_reply": "2023-04-02T23:53:54.072933Z",
     "shell.execute_reply.started": "2023-04-02T23:53:54.066813Z"
    },
    "nbgrader": {
     "cell_type": "code",
     "checksum": "d03fff196791b604effa8f3738498b59",
     "grade": false,
     "grade_id": "cell-b1b59ae1895c1675",
     "locked": false,
     "schema_version": 3,
     "solution": false,
     "task": false
    },
    "tags": []
   },
   "outputs": [],
   "source": [
    "def add_feature(X, feature_to_add):\n",
    "    \"\"\"\n",
    "    Returns sparse feature matrix with added feature.\n",
    "    feature_to_add can also be a list of features.\n",
    "    \"\"\" \n",
    "    return hstack([X, csr_matrix(feature_to_add).T], 'csr')"
   ]
  },
  {
   "cell_type": "markdown",
   "metadata": {
    "deletable": false,
    "editable": false,
    "nbgrader": {
     "cell_type": "markdown",
     "checksum": "4388967b5944a88ddb4ba6ce1ee787bc",
     "grade": false,
     "grade_id": "cell-157cfd481d53666e",
     "locked": true,
     "schema_version": 3,
     "solution": false,
     "task": false
    }
   },
   "source": [
    "### Question 7\n",
    "\n",
    "Fit and transform the training data X_train using a Tfidf Vectorizer ignoring terms that have a document frequency strictly lower than **5**.\n",
    "\n",
    "Using this document-term matrix and an additional feature, **the length of document (number of characters)**, fit a Support Vector Classification model with regularization `C=10000`. Then compute the area under the curve (AUC) score using the transformed test data.\n",
    "\n",
    "*Hint: Since probability is set to false, use the model's `decision_function` on the test data when calculating the target scores to use in roc_auc_score*\n",
    "\n",
    "*This function should return the AUC score as a float.*"
   ]
  },
  {
   "cell_type": "code",
   "execution_count": null,
   "metadata": {},
   "outputs": [],
   "source": []
  },
  {
   "cell_type": "code",
   "execution_count": 20,
   "metadata": {
    "deletable": false,
    "execution": {
     "iopub.execute_input": "2023-04-03T00:02:30.247114Z",
     "iopub.status.busy": "2023-04-03T00:02:30.247114Z",
     "iopub.status.idle": "2023-04-03T00:02:31.492629Z",
     "shell.execute_reply": "2023-04-03T00:02:31.492629Z",
     "shell.execute_reply.started": "2023-04-03T00:02:30.247114Z"
    },
    "nbgrader": {
     "cell_type": "code",
     "checksum": "3308c695dc06f58ad0471f643e787794",
     "grade": false,
     "grade_id": "cell-8bd2ea8cadce6a40",
     "locked": false,
     "schema_version": 3,
     "solution": true,
     "task": false
    },
    "tags": []
   },
   "outputs": [
    {
     "data": {
      "text/plain": [
       "0.9963202213809143"
      ]
     },
     "execution_count": 20,
     "metadata": {},
     "output_type": "execute_result"
    }
   ],
   "source": [
    "def answer_seven():\n",
    "\n",
    "    len_docs_train = X_train.apply(lambda text: len(text))\n",
    "    len_docs_test = X_test.apply(lambda text: len(text))\n",
    "    \n",
    "    vector = TfidfVectorizer(min_df = 5).fit(X_train)\n",
    "    \n",
    "    train_x_vectorized = vector.transform(X_train)\n",
    "    new_train_x_vectorized = add_feature(train_x_vectorized, len_docs_train)\n",
    "    \n",
    "    test_x_vectorized = vector.transform(X_test)\n",
    "    new_test_x_vectorized = add_feature(test_x_vectorized, len_docs_test)\n",
    "    \n",
    "    model = SVC(C = 10000)\n",
    "    model.fit(new_train_x_vectorized, y_train)\n",
    "    \n",
    "    predictions = model.decision_function(new_test_x_vectorized)\n",
    "    return roc_auc_score(y_test, predictions)\n",
    "    \n",
    "answer_seven()"
   ]
  },
  {
   "cell_type": "code",
   "execution_count": null,
   "metadata": {
    "deletable": false,
    "editable": false,
    "nbgrader": {
     "cell_type": "code",
     "checksum": "c32d3ed51b28e5570648f91f13f78778",
     "grade": true,
     "grade_id": "cell-3627e3b7549e1a87",
     "locked": true,
     "points": 1,
     "schema_version": 3,
     "solution": false,
     "task": false
    }
   },
   "outputs": [],
   "source": []
  },
  {
   "cell_type": "markdown",
   "metadata": {
    "deletable": false,
    "editable": false,
    "nbgrader": {
     "cell_type": "markdown",
     "checksum": "5450b9d6e5473f80506df772fcdeece5",
     "grade": false,
     "grade_id": "cell-47de3c090d6cc28c",
     "locked": true,
     "schema_version": 3,
     "solution": false,
     "task": false
    }
   },
   "source": [
    "### Question 8\n",
    "\n",
    "What is the average number of digits per document for not spam and spam documents?\n",
    "\n",
    "*Hint: Use `\\d` for digit class*\n",
    "\n",
    "*This function should return a tuple (average # digits not spam, average # digits spam).*"
   ]
  },
  {
   "cell_type": "code",
   "execution_count": 18,
   "metadata": {
    "execution": {
     "iopub.execute_input": "2023-04-02T23:53:57.225946Z",
     "iopub.status.busy": "2023-04-02T23:53:57.225946Z",
     "iopub.status.idle": "2023-04-02T23:53:57.236240Z",
     "shell.execute_reply": "2023-04-02T23:53:57.236240Z",
     "shell.execute_reply.started": "2023-04-02T23:53:57.225946Z"
    },
    "tags": []
   },
   "outputs": [
    {
     "data": {
      "text/plain": [
       "['6', '3', '4', '6', '7', '6', '3', '3', '6']"
      ]
     },
     "execution_count": 18,
     "metadata": {},
     "output_type": "execute_result"
    }
   ],
   "source": [
    "re.findall(\"\\d\", \"6jg346t763fhuq3i6r\")"
   ]
  },
  {
   "cell_type": "code",
   "execution_count": 19,
   "metadata": {
    "deletable": false,
    "execution": {
     "iopub.execute_input": "2023-04-02T23:53:57.349465Z",
     "iopub.status.busy": "2023-04-02T23:53:57.349465Z",
     "iopub.status.idle": "2023-04-02T23:53:57.375544Z",
     "shell.execute_reply": "2023-04-02T23:53:57.375544Z",
     "shell.execute_reply.started": "2023-04-02T23:53:57.349465Z"
    },
    "nbgrader": {
     "cell_type": "code",
     "checksum": "f0796b63b394927cbb4f24bc1abfad05",
     "grade": false,
     "grade_id": "cell-bad49f3617c66d86",
     "locked": false,
     "schema_version": 3,
     "solution": true,
     "task": false
    },
    "tags": []
   },
   "outputs": [
    {
     "data": {
      "text/plain": [
       "(0.2992746113989637, 15.759036144578314)"
      ]
     },
     "execution_count": 19,
     "metadata": {},
     "output_type": "execute_result"
    }
   ],
   "source": [
    "def answer_eight():\n",
    "    import re\n",
    "    return (spam_data.text.loc[spam_data.target == 0].apply(lambda text: len(re.findall(\"\\d\", text))).mean(),\n",
    "            spam_data.text.loc[spam_data.target == 1].apply(lambda text: len(re.findall(\"\\d\", text))).mean())\n",
    "\n",
    "answer_eight()"
   ]
  },
  {
   "cell_type": "code",
   "execution_count": null,
   "metadata": {
    "deletable": false,
    "editable": false,
    "nbgrader": {
     "cell_type": "code",
     "checksum": "2443b6f2fae61333d4cb3d50ed6ee321",
     "grade": true,
     "grade_id": "cell-501bf7c435747a23",
     "locked": true,
     "points": 1,
     "schema_version": 3,
     "solution": false,
     "task": false
    }
   },
   "outputs": [],
   "source": []
  },
  {
   "cell_type": "markdown",
   "metadata": {
    "deletable": false,
    "editable": false,
    "nbgrader": {
     "cell_type": "markdown",
     "checksum": "c12a31611d9f66f872fd93daf94889a8",
     "grade": false,
     "grade_id": "cell-1ddf2c6c108f6a85",
     "locked": true,
     "schema_version": 3,
     "solution": false,
     "task": false
    }
   },
   "source": [
    "### Question 9\n",
    "\n",
    "Fit and transform the training data `X_train` using a Tfidf Vectorizer ignoring terms that have a document frequency strictly lower than **5** and using **word n-grams from n=1 to n=3** (unigrams, bigrams, and trigrams).\n",
    "\n",
    "Using this document-term matrix and the following additional features:\n",
    "* the length of document (number of characters)\n",
    "* **number of digits per document**\n",
    "\n",
    "fit a Logistic Regression model with regularization `C=100` and `max_iter=1000`. Then compute the area under the curve (AUC) score using the transformed test data.\n",
    "\n",
    "*This function should return the AUC score as a float.*"
   ]
  },
  {
   "cell_type": "code",
   "execution_count": null,
   "metadata": {
    "tags": []
   },
   "outputs": [],
   "source": [
    "# Use model.predict_proba()[:, 1]"
   ]
  },
  {
   "cell_type": "code",
   "execution_count": 22,
   "metadata": {
    "execution": {
     "iopub.execute_input": "2023-04-03T00:03:45.292872Z",
     "iopub.status.busy": "2023-04-03T00:03:45.292872Z",
     "iopub.status.idle": "2023-04-03T00:03:45.612974Z",
     "shell.execute_reply": "2023-04-03T00:03:45.612974Z",
     "shell.execute_reply.started": "2023-04-03T00:03:45.292872Z"
    },
    "tags": []
   },
   "outputs": [],
   "source": [
    "vector = TfidfVectorizer(min_df = 5, ngram_range = (1, 3)).fit(X_train)\n",
    "    \n",
    "train_x_vectorized = vector.transform(X_train)\n",
    "ndigits_train_x = X_train.apply(lambda text: len(re.findall(\"\\d\", text)))\n",
    "nchars_train_x = X_train.apply(lambda text: len(text))\n",
    "# new_train_x_vectorized = add_feature(add_feature(X_train, ndigits_train_x), nchars_train_x)\n",
    "\n",
    "\n",
    "test_x_vectorized = vector.transform(X_test)\n",
    "ndigits_test_x = X_test.apply(lambda text: len(re.findall(\"\\d\", text)))\n",
    "nchars_test_x = X_test.apply(lambda text: len(text))\n",
    "# new_test_x_vectorized = add_feature(add_feature(X_test, ndigits_test_x), nchars_test_x)\n",
    "\n",
    "model = LogisticRegression(C = 100, max_iter = 1000)\n",
    "# model.fit([train_x_vectorized, nchars_train_x, ndigits_train_x], y_train)\n",
    "# predictions = model.predict([test_x_vectorized, nchars_test_x, ndigits_test_x])\n",
    "    "
   ]
  },
  {
   "cell_type": "code",
   "execution_count": 24,
   "metadata": {
    "execution": {
     "iopub.execute_input": "2023-04-03T00:04:22.680568Z",
     "iopub.status.busy": "2023-04-03T00:04:22.680568Z",
     "iopub.status.idle": "2023-04-03T00:04:22.688902Z",
     "shell.execute_reply": "2023-04-03T00:04:22.688902Z",
     "shell.execute_reply.started": "2023-04-03T00:04:22.680568Z"
    },
    "tags": []
   },
   "outputs": [
    {
     "data": {
      "text/plain": [
       "<4179x3383 sparse matrix of type '<class 'numpy.float64'>'\n",
       "\twith 63064 stored elements in Compressed Sparse Row format>"
      ]
     },
     "execution_count": 24,
     "metadata": {},
     "output_type": "execute_result"
    }
   ],
   "source": [
    "train_x_vectorized"
   ]
  },
  {
   "cell_type": "code",
   "execution_count": 23,
   "metadata": {
    "execution": {
     "iopub.execute_input": "2023-04-03T00:04:07.209910Z",
     "iopub.status.busy": "2023-04-03T00:04:07.209910Z",
     "iopub.status.idle": "2023-04-03T00:04:07.223995Z",
     "shell.execute_reply": "2023-04-03T00:04:07.223995Z",
     "shell.execute_reply.started": "2023-04-03T00:04:07.209910Z"
    },
    "tags": []
   },
   "outputs": [
    {
     "data": {
      "text/plain": [
       "<4179x3384 sparse matrix of type '<class 'numpy.float64'>'\n",
       "\twith 64158 stored elements in Compressed Sparse Row format>"
      ]
     },
     "execution_count": 23,
     "metadata": {},
     "output_type": "execute_result"
    }
   ],
   "source": [
    "add_feature(train_x_vectorized, ndigits_train_x)"
   ]
  },
  {
   "cell_type": "code",
   "execution_count": 25,
   "metadata": {
    "execution": {
     "iopub.execute_input": "2023-04-03T00:04:54.510499Z",
     "iopub.status.busy": "2023-04-03T00:04:54.510499Z",
     "iopub.status.idle": "2023-04-03T00:04:54.536383Z",
     "shell.execute_reply": "2023-04-03T00:04:54.536383Z",
     "shell.execute_reply.started": "2023-04-03T00:04:54.510499Z"
    },
    "tags": []
   },
   "outputs": [
    {
     "data": {
      "text/plain": [
       "<4179x3385 sparse matrix of type '<class 'numpy.float64'>'\n",
       "\twith 68337 stored elements in Compressed Sparse Row format>"
      ]
     },
     "execution_count": 25,
     "metadata": {},
     "output_type": "execute_result"
    }
   ],
   "source": [
    "add_feature(add_feature(train_x_vectorized, ndigits_train_x), nchars_train_x)"
   ]
  },
  {
   "cell_type": "code",
   "execution_count": 26,
   "metadata": {
    "execution": {
     "iopub.execute_input": "2023-04-03T00:05:25.618912Z",
     "iopub.status.busy": "2023-04-03T00:05:25.618912Z",
     "iopub.status.idle": "2023-04-03T00:05:25.633084Z",
     "shell.execute_reply": "2023-04-03T00:05:25.633084Z",
     "shell.execute_reply.started": "2023-04-03T00:05:25.618912Z"
    },
    "tags": []
   },
   "outputs": [
    {
     "data": {
      "text/plain": [
       "<1393x3385 sparse matrix of type '<class 'numpy.float64'>'\n",
       "\twith 21846 stored elements in Compressed Sparse Row format>"
      ]
     },
     "execution_count": 26,
     "metadata": {},
     "output_type": "execute_result"
    }
   ],
   "source": [
    "add_feature(add_feature(test_x_vectorized, ndigits_test_x), nchars_test_x)"
   ]
  },
  {
   "cell_type": "code",
   "execution_count": 29,
   "metadata": {
    "deletable": false,
    "execution": {
     "iopub.execute_input": "2023-04-03T00:08:14.239985Z",
     "iopub.status.busy": "2023-04-03T00:08:14.239985Z",
     "iopub.status.idle": "2023-04-03T00:08:15.030446Z",
     "shell.execute_reply": "2023-04-03T00:08:15.030446Z",
     "shell.execute_reply.started": "2023-04-03T00:08:14.239985Z"
    },
    "nbgrader": {
     "cell_type": "code",
     "checksum": "752f6ba55e9ea2c42030a0bef42d7bc0",
     "grade": false,
     "grade_id": "cell-bbd73da89641f28d",
     "locked": false,
     "schema_version": 3,
     "solution": true,
     "task": false
    },
    "tags": []
   },
   "outputs": [
    {
     "data": {
      "text/plain": [
       "0.9973176238901245"
      ]
     },
     "execution_count": 29,
     "metadata": {},
     "output_type": "execute_result"
    }
   ],
   "source": [
    "# Graded incorrect.\n",
    "\n",
    "def answer_nine():\n",
    "    \n",
    "    vector = TfidfVectorizer(min_df = 5, ngram_range = (1, 3)).fit(X_train)\n",
    "    \n",
    "    train_x_vectorized = vector.transform(X_train)\n",
    "    ndigits_train_x = X_train.apply(lambda text: len(re.findall(\"\\d\", text)))\n",
    "    nchars_train_x = X_train.apply(lambda text: len(text))\n",
    "    new_train_x_vectorized = add_feature(add_feature(train_x_vectorized, ndigits_train_x), nchars_train_x)\n",
    "    \n",
    "    \n",
    "    test_x_vectorized = vector.transform(X_test)\n",
    "    ndigits_test_x = X_test.apply(lambda text: len(re.findall(\"\\d\", text)))\n",
    "    nchars_test_x = X_test.apply(lambda text: len(text))\n",
    "    new_test_x_vectorized = add_feature(add_feature(test_x_vectorized, ndigits_test_x), nchars_test_x)\n",
    "    \n",
    "    model = LogisticRegression(C = 100, max_iter = 1000)\n",
    "    model.fit(new_train_x_vectorized, y_train)\n",
    "    predictions = model.predict_proba(new_test_x_vectorized)[:, 1]\n",
    "    \n",
    "    return roc_auc_score(y_test, predictions)\n",
    "\n",
    "answer_nine()"
   ]
  },
  {
   "cell_type": "code",
   "execution_count": null,
   "metadata": {
    "deletable": false,
    "editable": false,
    "nbgrader": {
     "cell_type": "code",
     "checksum": "307ca68d7f0c4af478cfaca06c59f4f8",
     "grade": true,
     "grade_id": "cell-c7d3dd647af1574e",
     "locked": true,
     "points": 1,
     "schema_version": 3,
     "solution": false,
     "task": false
    }
   },
   "outputs": [],
   "source": []
  },
  {
   "cell_type": "markdown",
   "metadata": {
    "deletable": false,
    "editable": false,
    "nbgrader": {
     "cell_type": "markdown",
     "checksum": "d3d2d857dbe6d218394aff1a073463bf",
     "grade": false,
     "grade_id": "cell-822483537e34697a",
     "locked": true,
     "schema_version": 3,
     "solution": false,
     "task": false
    }
   },
   "source": [
    "### Question 10\n",
    "\n",
    "What is the average number of non-word characters (anything other than a letter, digit or underscore) per document for not spam and spam documents?\n",
    "\n",
    "*Hint: Use `\\w` and `\\W` character classes*\n",
    "\n",
    "*This function should return a tuple (average # non-word characters not spam, average # non-word characters spam).*"
   ]
  },
  {
   "cell_type": "code",
   "execution_count": 122,
   "metadata": {
    "deletable": false,
    "execution": {
     "iopub.execute_input": "2023-04-02T13:33:48.834025Z",
     "iopub.status.busy": "2023-04-02T13:33:48.834025Z",
     "iopub.status.idle": "2023-04-02T13:33:48.882906Z",
     "shell.execute_reply": "2023-04-02T13:33:48.882906Z",
     "shell.execute_reply.started": "2023-04-02T13:33:48.834025Z"
    },
    "nbgrader": {
     "cell_type": "code",
     "checksum": "dcd6cd538aa54ac0ec7b03365bd74689",
     "grade": false,
     "grade_id": "cell-8d2212cb850f907d",
     "locked": false,
     "schema_version": 3,
     "solution": true,
     "task": false
    }
   },
   "outputs": [
    {
     "data": {
      "text/plain": [
       "(17.29181347150259, 29.041499330655956)"
      ]
     },
     "execution_count": 122,
     "metadata": {},
     "output_type": "execute_result"
    }
   ],
   "source": [
    "def answer_ten():\n",
    "    import re\n",
    "    return (spam_data.text.loc[spam_data.target == 0].apply(lambda text: len(re.findall(\"\\W\", text))).mean(),\n",
    "            spam_data.text.loc[spam_data.target == 1].apply(lambda text: len(re.findall(\"\\W\", text))).mean())\n",
    "\n",
    "answer_ten()"
   ]
  },
  {
   "cell_type": "code",
   "execution_count": null,
   "metadata": {
    "deletable": false,
    "editable": false,
    "nbgrader": {
     "cell_type": "code",
     "checksum": "b7901a0e4f5b169e1305280bf4a7a2c8",
     "grade": true,
     "grade_id": "cell-1d6ac20393ffe9ff",
     "locked": true,
     "points": 1,
     "schema_version": 3,
     "solution": false,
     "task": false
    }
   },
   "outputs": [],
   "source": []
  },
  {
   "cell_type": "markdown",
   "metadata": {
    "deletable": false,
    "editable": false,
    "nbgrader": {
     "cell_type": "markdown",
     "checksum": "4aad0115bf7fe21b470680010fde6246",
     "grade": false,
     "grade_id": "cell-733de6a9548fe648",
     "locked": true,
     "schema_version": 3,
     "solution": false,
     "task": false
    }
   },
   "source": [
    "### Question 11\n",
    "\n",
    "Fit and transform the **first 2000 rows** of training data X_train using a Count Vectorizer ignoring terms that have a document frequency strictly lower than **5** and using **character n-grams from n=2 to n=5.**\n",
    "\n",
    "To tell Count Vectorizer to use character n-grams pass in `analyzer='char_wb'` which creates character n-grams only from text inside word boundaries. This should make the model more robust to spelling mistakes.\n",
    "\n",
    "Using this document-term matrix and the following additional features:\n",
    "* the length of document (number of characters)\n",
    "* number of digits per document\n",
    "* **number of non-word characters (anything other than a letter, digit or underscore.)**\n",
    "\n",
    "fit a Logistic Regression model with regularization C=100 and max_iter=1000. Then compute the area under the curve (AUC) score using the transformed test data.\n",
    "\n",
    "Also **find the 10 smallest and 10 largest coefficients from the model** and return them along with the AUC score in a tuple.\n",
    "\n",
    "The list of 10 smallest coefficients should be sorted smallest first, the list of 10 largest coefficients should be sorted largest first.\n",
    "\n",
    "The three features that were added to the document term matrix should have the following names should they appear in the list of coefficients:\n",
    "['length_of_doc', 'digit_count', 'non_word_char_count']\n",
    "\n",
    "*This function should return a tuple `(AUC score as a float, smallest coefs list, largest coefs list)`.*"
   ]
  },
  {
   "cell_type": "code",
   "execution_count": 34,
   "metadata": {
    "execution": {
     "iopub.execute_input": "2023-04-03T00:29:17.688866Z",
     "iopub.status.busy": "2023-04-03T00:29:17.688866Z",
     "iopub.status.idle": "2023-04-03T00:29:21.264112Z",
     "shell.execute_reply": "2023-04-03T00:29:21.264112Z",
     "shell.execute_reply.started": "2023-04-03T00:29:17.688866Z"
    },
    "tags": []
   },
   "outputs": [],
   "source": [
    "vector = CountVectorizer(max_df = 5, ngram_range = (2, 5), analyzer = \"char_wb\").fit(X_train[:2000])\n",
    "train_x_vectorized = vector.transform(X_train[:2000])\n",
    "\n",
    "ndigits_train_x = X_train[:2000].apply(lambda text: len(re.findall(\"\\d\", text)))\n",
    "nnonwordchars_train_x = X_train[:2000].apply(lambda text: len(re.findall(\"\\W\", text)))\n",
    "nchars_train_x = X_train[:2000].apply(lambda text: len(text))\n",
    "\n",
    "trainx = add_feature(add_feature(add_feature(train_x_vectorized, ndigits_train_x), nnonwordchars_train_x), nchars_train_x)\n",
    "\n",
    "test_x_vectorized = vector.transform(X_test)\n",
    "ndigits_test_x = X_test.apply(lambda text: len(re.findall(\"\\d\", text)))\n",
    "nnonwordchars_test_x = X_test.apply(lambda text: len(re.findall(\"\\W\", text)))\n",
    "nchars_test_x = X_test.apply(lambda text: len(text))    \n",
    "\n",
    "testx = add_feature(add_feature(add_feature(test_x_vectorized, ndigits_test_x), nnonwordchars_test_x), nchars_test_x)\n",
    "\n",
    "model = LogisticRegression(C = 100, max_iter = 1000)\n",
    "model.fit(trainx, y_train[:2000])\n",
    "predictions = model.predict_proba(testx)[:, 1]\n",
    "\n",
    "auc = roc_auc_score(y_test, predictions)"
   ]
  },
  {
   "cell_type": "code",
   "execution_count": 35,
   "metadata": {
    "execution": {
     "iopub.execute_input": "2023-04-03T00:29:41.921486Z",
     "iopub.status.busy": "2023-04-03T00:29:41.921486Z",
     "iopub.status.idle": "2023-04-03T00:29:41.959304Z",
     "shell.execute_reply": "2023-04-03T00:29:41.959304Z",
     "shell.execute_reply.started": "2023-04-03T00:29:41.921486Z"
    },
    "tags": []
   },
   "outputs": [
    {
     "data": {
      "text/plain": [
       "37353"
      ]
     },
     "execution_count": 35,
     "metadata": {},
     "output_type": "execute_result"
    }
   ],
   "source": [
    "len(vector.get_feature_names_out())"
   ]
  },
  {
   "cell_type": "code",
   "execution_count": 36,
   "metadata": {
    "execution": {
     "iopub.execute_input": "2023-04-03T00:29:50.539195Z",
     "iopub.status.busy": "2023-04-03T00:29:50.539195Z",
     "iopub.status.idle": "2023-04-03T00:29:50.553420Z",
     "shell.execute_reply": "2023-04-03T00:29:50.553420Z",
     "shell.execute_reply.started": "2023-04-03T00:29:50.539195Z"
    },
    "tags": []
   },
   "outputs": [
    {
     "data": {
      "text/plain": [
       "37356"
      ]
     },
     "execution_count": 36,
     "metadata": {},
     "output_type": "execute_result"
    }
   ],
   "source": [
    "# +3 for the new 3 features we added using add_feature() !.\n",
    "len(model.coef_[0])"
   ]
  },
  {
   "cell_type": "code",
   "execution_count": 38,
   "metadata": {
    "execution": {
     "iopub.execute_input": "2023-04-03T00:31:21.889666Z",
     "iopub.status.busy": "2023-04-03T00:31:21.889666Z",
     "iopub.status.idle": "2023-04-03T00:31:21.900740Z",
     "shell.execute_reply": "2023-04-03T00:31:21.900740Z",
     "shell.execute_reply.started": "2023-04-03T00:31:21.889666Z"
    },
    "tags": []
   },
   "outputs": [
    {
     "data": {
      "text/plain": [
       "array([-1.68539890e-04, -1.67598570e-04, -1.67598570e-04, ...,\n",
       "        1.56390400e+00, -4.72630273e-01,  1.24923081e-01])"
      ]
     },
     "execution_count": 38,
     "metadata": {},
     "output_type": "execute_result"
    }
   ],
   "source": [
    "model.coef_[0]"
   ]
  },
  {
   "cell_type": "code",
   "execution_count": 37,
   "metadata": {
    "execution": {
     "iopub.execute_input": "2023-04-03T00:31:05.440859Z",
     "iopub.status.busy": "2023-04-03T00:31:05.440859Z",
     "iopub.status.idle": "2023-04-03T00:31:05.458158Z",
     "shell.execute_reply": "2023-04-03T00:31:05.458158Z",
     "shell.execute_reply.started": "2023-04-03T00:31:05.440859Z"
    },
    "tags": []
   },
   "outputs": [
    {
     "data": {
      "text/plain": [
       "array([-0.00016854, -0.0001676 , -0.0001676 , ..., -0.02275505,\n",
       "       -0.00831284, -0.00831284])"
      ]
     },
     "execution_count": 37,
     "metadata": {},
     "output_type": "execute_result"
    }
   ],
   "source": [
    "model.coef_[0][:-3]"
   ]
  },
  {
   "cell_type": "code",
   "execution_count": 45,
   "metadata": {
    "execution": {
     "iopub.execute_input": "2023-04-03T00:33:32.778394Z",
     "iopub.status.busy": "2023-04-03T00:33:32.778394Z",
     "iopub.status.idle": "2023-04-03T00:33:32.788855Z",
     "shell.execute_reply": "2023-04-03T00:33:32.788855Z",
     "shell.execute_reply.started": "2023-04-03T00:33:32.778394Z"
    },
    "tags": []
   },
   "outputs": [
    {
     "data": {
      "text/plain": [
       "1.0"
      ]
     },
     "execution_count": 45,
     "metadata": {},
     "output_type": "execute_result"
    }
   ],
   "source": [
    "np.mean(model.coef_[0][:-3] == model.coef_[0][:37353])"
   ]
  },
  {
   "cell_type": "code",
   "execution_count": 39,
   "metadata": {
    "execution": {
     "iopub.execute_input": "2023-04-03T00:31:53.568392Z",
     "iopub.status.busy": "2023-04-03T00:31:53.568392Z",
     "iopub.status.idle": "2023-04-03T00:31:53.578165Z",
     "shell.execute_reply": "2023-04-03T00:31:53.578165Z",
     "shell.execute_reply.started": "2023-04-03T00:31:53.568392Z"
    },
    "tags": []
   },
   "outputs": [
    {
     "data": {
      "text/plain": [
       "37353"
      ]
     },
     "execution_count": 39,
     "metadata": {},
     "output_type": "execute_result"
    }
   ],
   "source": [
    "len(model.coef_[0][:-3])"
   ]
  },
  {
   "cell_type": "code",
   "execution_count": 52,
   "metadata": {
    "deletable": false,
    "execution": {
     "iopub.execute_input": "2023-04-03T00:46:07.903603Z",
     "iopub.status.busy": "2023-04-03T00:46:07.903603Z",
     "iopub.status.idle": "2023-04-03T00:46:11.212379Z",
     "shell.execute_reply": "2023-04-03T00:46:11.212379Z",
     "shell.execute_reply.started": "2023-04-03T00:46:07.903603Z"
    },
    "nbgrader": {
     "cell_type": "code",
     "checksum": "a5efa62b1d9cf26ce2beb28db30c1b83",
     "grade": false,
     "grade_id": "cell-1233becfd19fff26",
     "locked": false,
     "schema_version": 3,
     "solution": true,
     "task": false
    },
    "tags": []
   },
   "outputs": [
    {
     "data": {
      "text/plain": [
       "(0.9927253280817616,\n",
       " [' ir',\n",
       "  ',6',\n",
       "  'bed ',\n",
       "  'bi ',\n",
       "  'cked ',\n",
       "  'digit_count',\n",
       "  'obe',\n",
       "  'ubi',\n",
       "  'ubi ',\n",
       "  'ucke'],\n",
       " ['tent.',\n",
       "  'length_of_doc',\n",
       "  'ived ',\n",
       "  'ived',\n",
       "  'eived',\n",
       "  '946 ',\n",
       "  ' wini',\n",
       "  ' 946 ',\n",
       "  ' 3. ',\n",
       "  ' 3.'])"
      ]
     },
     "execution_count": 52,
     "metadata": {},
     "output_type": "execute_result"
    }
   ],
   "source": [
    "# Graded incorrect.\n",
    "\n",
    "def answer_eleven():\n",
    "\n",
    "    vector = CountVectorizer(max_df = 5, ngram_range = (2, 5), analyzer = \"char_wb\").fit(X_train[:2000])\n",
    "    train_x_vectorized = vector.transform(X_train[:2000])\n",
    "    \n",
    "    ndigits_train_x = X_train[:2000].apply(lambda text: len(re.findall(\"\\d\", text)))\n",
    "    nnonwordchars_train_x = X_train[:2000].apply(lambda text: len(re.findall(\"\\W\", text)))\n",
    "    nchars_train_x = X_train[:2000].apply(lambda text: len(text))\n",
    "    \n",
    "    trainx = add_feature(add_feature(add_feature(train_x_vectorized, ndigits_train_x), nnonwordchars_train_x), nchars_train_x)\n",
    "    \n",
    "    test_x_vectorized = vector.transform(X_test)\n",
    "    ndigits_test_x = X_test.apply(lambda text: len(re.findall(\"\\d\", text)))\n",
    "    nnonwordchars_test_x = X_test.apply(lambda text: len(re.findall(\"\\W\", text)))\n",
    "    nchars_test_x = X_test.apply(lambda text: len(text))    \n",
    "    \n",
    "    testx = add_feature(add_feature(add_feature(test_x_vectorized, ndigits_test_x), nnonwordchars_test_x), nchars_test_x)\n",
    "    \n",
    "    model = LogisticRegression(C = 100, max_iter = 1000)\n",
    "    model.fit(trainx, y_train[:2000])\n",
    "    predictions = model.predict_proba(testx)[:, 1]\n",
    "    \n",
    "    auc = roc_auc_score(y_test, predictions)\n",
    "    \n",
    "    # Nope ->>>> Leave out the last three features, since those are not in the vocabulary!\n",
    "    names = np.append(vector.get_feature_names_out(), [\"length_of_doc\", \"digit_count\", \"non_word_char_count\"])\n",
    "    smallest = names[model.coef_[0].argsort()[:10]]\n",
    "    largest = names[model.coef_[0].argsort()[-10:]]\n",
    "    \n",
    "    return (auc, sorted(smallest), sorted(largest, reverse = True))\n",
    "    \n",
    "answer_eleven()"
   ]
  },
  {
   "cell_type": "code",
   "execution_count": null,
   "metadata": {
    "deletable": false,
    "editable": false,
    "nbgrader": {
     "cell_type": "code",
     "checksum": "478c0c9b96fa606218d12419d35cb768",
     "grade": true,
     "grade_id": "cell-477ea85f5bcd7cef",
     "locked": true,
     "points": 1,
     "schema_version": 3,
     "solution": false,
     "task": false
    }
   },
   "outputs": [],
   "source": []
  }
 ],
 "metadata": {
  "coursera": {
   "course_slug": "python-text-mining",
   "graded_item_id": "Pn19K",
   "launcher_item_id": "y1juS",
   "part_id": "ctlgo"
  },
  "kernelspec": {
   "display_name": "Python 3 (ipykernel)",
   "language": "python",
   "name": "python3"
  },
  "language_info": {
   "codemirror_mode": {
    "name": "ipython",
    "version": 3
   },
   "file_extension": ".py",
   "mimetype": "text/x-python",
   "name": "python",
   "nbconvert_exporter": "python",
   "pygments_lexer": "ipython3",
   "version": "3.11.2"
  }
 },
 "nbformat": 4,
 "nbformat_minor": 4
}
