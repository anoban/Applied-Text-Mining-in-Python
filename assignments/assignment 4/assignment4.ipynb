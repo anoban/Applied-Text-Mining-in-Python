{
 "cells": [
  {
   "cell_type": "markdown",
   "metadata": {
    "deletable": false,
    "editable": false,
    "nbgrader": {
     "cell_type": "markdown",
     "checksum": "b562fcdae0cf6bf26c71c079ad6296fb",
     "grade": false,
     "grade_id": "cell-9aeed736a0e899b5",
     "locked": true,
     "schema_version": 3,
     "solution": false,
     "task": false
    }
   },
   "source": [
    "# Assignment 4 - Document Similarity & Topic Modelling"
   ]
  },
  {
   "cell_type": "markdown",
   "metadata": {
    "deletable": false,
    "editable": false,
    "nbgrader": {
     "cell_type": "markdown",
     "checksum": "56c7761e280c84be9c7ae91afd0539c2",
     "grade": false,
     "grade_id": "cell-a932c63a4c180b33",
     "locked": true,
     "schema_version": 3,
     "solution": false,
     "task": false
    }
   },
   "source": [
    "## Part 1 - Document Similarity\n",
    "\n",
    "For the first part of this assignment, you will complete the functions `doc_to_synsets` and `similarity_score` which will be used by `document_path_similarity` to find the path similarity between two documents.\n",
    "\n",
    "The following functions are provided:\n",
    "* **`convert_tag:`** converts the tag given by `nltk.pos_tag` to a tag used by `wordnet.synsets`. You will need to use this function in `doc_to_synsets`.\n",
    "* **`document_path_similarity:`** computes the symmetrical path similarity between two documents by finding the synsets in each document using `doc_to_synsets`, then computing similarities using `similarity_score`.\n",
    "\n",
    "You will need to finish writing the following functions:\n",
    "* **`doc_to_synsets:`** returns a list of synsets in document. This function should first tokenize and part of speech tag the document using `nltk.word_tokenize` and `nltk.pos_tag`. Then it should find each tokens corresponding synset using `wn.synsets(token, wordnet_tag)`. The first synset match should be used. If there is no match, that token is skipped.\n",
    "* **`similarity_score:`** returns the normalized similarity score of a list of synsets (s1) onto a second list of synsets (s2). For each synset in s1, find the synset in s2 with the largest similarity value. Sum all of the largest similarity values together and normalize this value by dividing it by the number of largest similarity values found. Be careful with data types, which should be floats. Missing values should be ignored.\n",
    "\n",
    "Once `doc_to_synsets` and `similarity_score` have been completed, submit to the autograder which will run `test_document_path_similarity` to test that these functions are running correctly. \n",
    "\n",
    "*Do not modify the functions `convert_tag`, `document_path_similarity`, and `test_document_path_similarity`.*"
   ]
  },
  {
   "cell_type": "code",
   "execution_count": null,
   "metadata": {},
   "outputs": [],
   "source": [
    "# nltk.download('punkt')\n",
    "# nltk.download('averaged_perceptron_tagger', download_dir = \"D:/nltk_data/\")"
   ]
  },
  {
   "cell_type": "code",
   "execution_count": 54,
   "metadata": {
    "execution": {
     "iopub.execute_input": "2023-04-05T11:15:38.480325Z",
     "iopub.status.busy": "2023-04-05T11:15:38.480325Z",
     "iopub.status.idle": "2023-04-05T11:15:38.489887Z",
     "shell.execute_reply": "2023-04-05T11:15:38.489887Z",
     "shell.execute_reply.started": "2023-04-05T11:15:38.480325Z"
    },
    "tags": []
   },
   "outputs": [],
   "source": [
    "import numpy as np\n",
    "import nltk\n",
    "from nltk.corpus import wordnet as wn\n",
    "import pandas as pd\n",
    "from sklearn.metrics import accuracy_score\n",
    "\n",
    "nltk.data.path.append(\"assets/\")"
   ]
  },
  {
   "cell_type": "code",
   "execution_count": 10,
   "metadata": {
    "deletable": true,
    "execution": {
     "iopub.execute_input": "2023-04-05T10:21:59.216051Z",
     "iopub.status.busy": "2023-04-05T10:21:59.216051Z",
     "iopub.status.idle": "2023-04-05T10:21:59.225861Z",
     "shell.execute_reply": "2023-04-05T10:21:59.225861Z",
     "shell.execute_reply.started": "2023-04-05T10:21:59.216051Z"
    },
    "nbgrader": {
     "cell_type": "code",
     "checksum": "6015d92a84d4300e306782fc853cd3fe",
     "grade": false,
     "grade_id": "cell-2c29841f8b54b400",
     "locked": true,
     "schema_version": 3,
     "solution": false,
     "task": false
    },
    "tags": []
   },
   "outputs": [],
   "source": [
    "def convert_tag(tag):\n",
    "    \"\"\"Convert the tag given by nltk.pos_tag to the tag used by wordnet.synsets\"\"\"\n",
    "    \n",
    "    tag_dict = {'N': 'n', 'J': 'a', 'R': 'r', 'V': 'v'}\n",
    "    try:\n",
    "        return tag_dict[tag[0]]\n",
    "    except KeyError:\n",
    "        return None"
   ]
  },
  {
   "cell_type": "code",
   "execution_count": 11,
   "metadata": {
    "execution": {
     "iopub.execute_input": "2023-04-05T10:22:01.383310Z",
     "iopub.status.busy": "2023-04-05T10:22:01.383310Z",
     "iopub.status.idle": "2023-04-05T10:22:01.389680Z",
     "shell.execute_reply": "2023-04-05T10:22:01.389680Z",
     "shell.execute_reply.started": "2023-04-05T10:22:01.383310Z"
    },
    "tags": []
   },
   "outputs": [],
   "source": [
    "text = \"She dwelt among the untrodden ways\""
   ]
  },
  {
   "cell_type": "code",
   "execution_count": 14,
   "metadata": {
    "execution": {
     "iopub.execute_input": "2023-04-05T10:22:42.209030Z",
     "iopub.status.busy": "2023-04-05T10:22:42.209030Z",
     "iopub.status.idle": "2023-04-05T10:22:42.215430Z",
     "shell.execute_reply": "2023-04-05T10:22:42.215430Z",
     "shell.execute_reply.started": "2023-04-05T10:22:42.209030Z"
    },
    "tags": []
   },
   "outputs": [],
   "source": [
    "tokens = nltk.word_tokenize(text)"
   ]
  },
  {
   "cell_type": "code",
   "execution_count": 15,
   "metadata": {
    "execution": {
     "iopub.execute_input": "2023-04-05T10:23:04.002111Z",
     "iopub.status.busy": "2023-04-05T10:23:04.002111Z",
     "iopub.status.idle": "2023-04-05T10:23:04.010203Z",
     "shell.execute_reply": "2023-04-05T10:23:04.010203Z",
     "shell.execute_reply.started": "2023-04-05T10:23:04.002111Z"
    },
    "tags": []
   },
   "outputs": [],
   "source": [
    "pos_tagged_tokens = nltk.pos_tag(tokens)"
   ]
  },
  {
   "cell_type": "code",
   "execution_count": 33,
   "metadata": {
    "execution": {
     "iopub.execute_input": "2023-04-05T10:30:25.325472Z",
     "iopub.status.busy": "2023-04-05T10:30:25.309829Z",
     "iopub.status.idle": "2023-04-05T10:30:25.329079Z",
     "shell.execute_reply": "2023-04-05T10:30:25.329079Z",
     "shell.execute_reply.started": "2023-04-05T10:30:25.325472Z"
    },
    "tags": []
   },
   "outputs": [
    {
     "data": {
      "text/plain": [
       "[('She', 'PRP'),\n",
       " ('dwelt', 'VBD'),\n",
       " ('among', 'IN'),\n",
       " ('the', 'DT'),\n",
       " ('untrodden', 'JJ'),\n",
       " ('ways', 'NNS')]"
      ]
     },
     "execution_count": 33,
     "metadata": {},
     "output_type": "execute_result"
    }
   ],
   "source": [
    "pos_tagged_tokens"
   ]
  },
  {
   "cell_type": "code",
   "execution_count": 19,
   "metadata": {
    "execution": {
     "iopub.execute_input": "2023-04-05T10:25:07.843191Z",
     "iopub.status.busy": "2023-04-05T10:25:07.843191Z",
     "iopub.status.idle": "2023-04-05T10:25:07.853515Z",
     "shell.execute_reply": "2023-04-05T10:25:07.853515Z",
     "shell.execute_reply.started": "2023-04-05T10:25:07.843191Z"
    },
    "tags": []
   },
   "outputs": [
    {
     "data": {
      "text/plain": [
       "[None, 'v', None, None, 'a', 'n']"
      ]
     },
     "execution_count": 19,
     "metadata": {},
     "output_type": "execute_result"
    }
   ],
   "source": [
    "list(map(lambda _tup: convert_tag(_tup[1]) , pos_tagged_tokens))"
   ]
  },
  {
   "cell_type": "code",
   "execution_count": 24,
   "metadata": {
    "execution": {
     "iopub.execute_input": "2023-04-05T10:27:39.628405Z",
     "iopub.status.busy": "2023-04-05T10:27:39.628405Z",
     "iopub.status.idle": "2023-04-05T10:27:39.644858Z",
     "shell.execute_reply": "2023-04-05T10:27:39.644858Z",
     "shell.execute_reply.started": "2023-04-05T10:27:39.628405Z"
    },
    "tags": []
   },
   "outputs": [
    {
     "data": {
      "text/plain": [
       "[]"
      ]
     },
     "execution_count": 24,
     "metadata": {},
     "output_type": "execute_result"
    }
   ],
   "source": [
    "wn.synsets(\"plhg\", \"v\")"
   ]
  },
  {
   "cell_type": "code",
   "execution_count": null,
   "metadata": {},
   "outputs": [],
   "source": []
  },
  {
   "cell_type": "code",
   "execution_count": null,
   "metadata": {},
   "outputs": [],
   "source": []
  },
  {
   "cell_type": "code",
   "execution_count": 34,
   "metadata": {
    "execution": {
     "iopub.execute_input": "2023-04-05T10:34:16.506819Z",
     "iopub.status.busy": "2023-04-05T10:34:16.506819Z",
     "iopub.status.idle": "2023-04-05T10:34:16.514158Z",
     "shell.execute_reply": "2023-04-05T10:34:16.514158Z",
     "shell.execute_reply.started": "2023-04-05T10:34:16.506819Z"
    },
    "tags": []
   },
   "outputs": [],
   "source": [
    "def doc_to_synsets(doc):\n",
    "    \"\"\"\n",
    "    Returns a list of synsets in document.\n",
    "\n",
    "    Tokenizes and tags the words in the document doc.\n",
    "    Then finds the first synset for each word/tag combination.\n",
    "    If a synset is not found for that combination it is skipped.\n",
    "\n",
    "    Args:\n",
    "        doc: string to be converted\n",
    "\n",
    "    Returns:\n",
    "        list of synsets\n",
    "\n",
    "    Example:\n",
    "        doc_to_synsets('Fish are friends.')\n",
    "        Out: [Synset('fish.n.01'), Synset('be.v.01'), Synset('friend.n.01')]\n",
    "    \"\"\"\n",
    "    _synsets = []\n",
    "    \n",
    "    tokens = nltk.word_tokenize(doc)\n",
    "    pos_tagged_tokens = nltk.pos_tag(tokens)\n",
    "    wordnet_tags = list(map(lambda _tuple: convert_tag(_tuple[1]), pos_tagged_tokens))\n",
    "    \n",
    "    \n",
    "    for (token, wn_tag) in zip(tokens, wordnet_tags):\n",
    "        temp_synsets = wn.synsets(token, wn_tag)\n",
    "        \n",
    "        if temp_synsets:\n",
    "            _synsets.append(temp_synsets[0])\n",
    "        else:\n",
    "            continue\n",
    "    \n",
    "    return _synsets"
   ]
  },
  {
   "cell_type": "code",
   "execution_count": 36,
   "metadata": {
    "execution": {
     "iopub.execute_input": "2023-04-05T10:35:24.098737Z",
     "iopub.status.busy": "2023-04-05T10:35:24.098737Z",
     "iopub.status.idle": "2023-04-05T10:35:24.119009Z",
     "shell.execute_reply": "2023-04-05T10:35:24.119009Z",
     "shell.execute_reply.started": "2023-04-05T10:35:24.098737Z"
    },
    "tags": []
   },
   "outputs": [
    {
     "data": {
      "text/plain": [
       "[Synset('fish.n.01'), Synset('be.v.01'), Synset('friend.n.01')]"
      ]
     },
     "execution_count": 36,
     "metadata": {},
     "output_type": "execute_result"
    }
   ],
   "source": [
    "doc_to_synsets(\"Fish are friends.\")"
   ]
  },
  {
   "cell_type": "code",
   "execution_count": null,
   "metadata": {},
   "outputs": [],
   "source": []
  },
  {
   "cell_type": "code",
   "execution_count": 39,
   "metadata": {
    "deletable": false,
    "execution": {
     "iopub.execute_input": "2023-04-05T10:49:03.989091Z",
     "iopub.status.busy": "2023-04-05T10:49:03.989091Z",
     "iopub.status.idle": "2023-04-05T10:49:03.997078Z",
     "shell.execute_reply": "2023-04-05T10:49:03.997078Z",
     "shell.execute_reply.started": "2023-04-05T10:49:03.989091Z"
    },
    "nbgrader": {
     "cell_type": "code",
     "checksum": "654d281deb3c2923c393335ccb2e789e",
     "grade": false,
     "grade_id": "cell-22d836339ad6be8a",
     "locked": false,
     "schema_version": 3,
     "solution": true,
     "task": false
    },
    "tags": []
   },
   "outputs": [],
   "source": [
    "def similarity_score(s1, s2):\n",
    "    \"\"\"\n",
    "    Calculate the normalized similarity score of s1 onto s2\n",
    "\n",
    "    For each synset in s1, finds the synset in s2 with the largest similarity value.\n",
    "    Sum of all of the largest similarity values and normalize this value by dividing it by the\n",
    "    number of largest similarity values found.\n",
    "\n",
    "    Args:\n",
    "        s1, s2: list of synsets from doc_to_synsets\n",
    "\n",
    "    Returns:\n",
    "        normalized similarity score of s1 onto s2\n",
    "\n",
    "    Example:\n",
    "        synsets1 = doc_to_synsets('I like cats')\n",
    "        synsets2 = doc_to_synsets('I like dogs')\n",
    "        similarity_score(synsets1, synsets2)\n",
    "        Out: 0.7333333333333333\n",
    "    \"\"\"\n",
    "    sim_scores = []\n",
    "    \n",
    "    for _synset1 in s1:\n",
    "        \n",
    "        highest_sscore = {\n",
    "            \"synset\": None,\n",
    "            \"score\": 0.00\n",
    "        }\n",
    "        \n",
    "        for _synset2 in s2:\n",
    "            sscore = _synset1.path_similarity(_synset2)\n",
    "            \n",
    "            if sscore >= highest_sscore[\"score\"]:\n",
    "                highest_sscore[\"synset\"] = _synset2\n",
    "                highest_sscore[\"score\"] = sscore\n",
    "        \n",
    "        sim_scores.append(highest_sscore[\"score\"])\n",
    "\n",
    "    return sum(sim_scores) / len(sim_scores)"
   ]
  },
  {
   "cell_type": "code",
   "execution_count": 40,
   "metadata": {
    "execution": {
     "iopub.execute_input": "2023-04-05T10:49:04.412550Z",
     "iopub.status.busy": "2023-04-05T10:49:04.412550Z",
     "iopub.status.idle": "2023-04-05T10:49:04.428017Z",
     "shell.execute_reply": "2023-04-05T10:49:04.428017Z",
     "shell.execute_reply.started": "2023-04-05T10:49:04.412550Z"
    },
    "tags": []
   },
   "outputs": [
    {
     "data": {
      "text/plain": [
       "0.7333333333333334"
      ]
     },
     "execution_count": 40,
     "metadata": {},
     "output_type": "execute_result"
    }
   ],
   "source": [
    "similarity_score(doc_to_synsets('I like cats'), doc_to_synsets('I like dogs'))"
   ]
  },
  {
   "cell_type": "code",
   "execution_count": null,
   "metadata": {},
   "outputs": [],
   "source": []
  },
  {
   "cell_type": "code",
   "execution_count": 42,
   "metadata": {
    "deletable": false,
    "editable": false,
    "execution": {
     "iopub.execute_input": "2023-04-05T10:52:26.934933Z",
     "iopub.status.busy": "2023-04-05T10:52:26.934933Z",
     "iopub.status.idle": "2023-04-05T10:52:26.938877Z",
     "shell.execute_reply": "2023-04-05T10:52:26.938877Z",
     "shell.execute_reply.started": "2023-04-05T10:52:26.934933Z"
    },
    "nbgrader": {
     "cell_type": "code",
     "checksum": "bfc6773bd020f674a6501b97e9e20079",
     "grade": false,
     "grade_id": "cell-314b4a30aa06ad7e",
     "locked": true,
     "schema_version": 3,
     "solution": false,
     "task": false
    },
    "tags": []
   },
   "outputs": [],
   "source": [
    "def document_path_similarity(doc1, doc2):\n",
    "    \"\"\"Finds the symmetrical similarity between doc1 and doc2\"\"\"\n",
    "\n",
    "    synsets1 = doc_to_synsets(doc1)\n",
    "    synsets2 = doc_to_synsets(doc2)\n",
    "\n",
    "    return (similarity_score(synsets1, synsets2) + similarity_score(synsets2, synsets1)) / 2"
   ]
  },
  {
   "cell_type": "code",
   "execution_count": null,
   "metadata": {
    "deletable": false,
    "editable": false,
    "nbgrader": {
     "cell_type": "code",
     "checksum": "ff03c992760f7041ff7c19303da36d04",
     "grade": true,
     "grade_id": "cell-8513adbb001100a6",
     "locked": true,
     "points": 1,
     "schema_version": 3,
     "solution": false,
     "task": false
    }
   },
   "outputs": [],
   "source": []
  },
  {
   "cell_type": "markdown",
   "metadata": {
    "deletable": false,
    "editable": false,
    "nbgrader": {
     "cell_type": "markdown",
     "checksum": "510e481c575da27a1f9b30e18e205322",
     "grade": false,
     "grade_id": "cell-e0e4fb9c6ee002af",
     "locked": true,
     "schema_version": 3,
     "solution": false,
     "task": false
    }
   },
   "source": [
    "`paraphrases` is a DataFrame which contains the following columns: `Quality`, `D1`, and `D2`.\n",
    "\n",
    "`Quality` is an indicator variable which indicates if the two documents `D1` and `D2` are paraphrases of one another (1 for paraphrase, 0 for not paraphrase)."
   ]
  },
  {
   "cell_type": "code",
   "execution_count": 43,
   "metadata": {
    "deletable": false,
    "editable": false,
    "execution": {
     "iopub.execute_input": "2023-04-05T10:52:27.928321Z",
     "iopub.status.busy": "2023-04-05T10:52:27.928321Z",
     "iopub.status.idle": "2023-04-05T10:52:27.938728Z",
     "shell.execute_reply": "2023-04-05T10:52:27.938728Z",
     "shell.execute_reply.started": "2023-04-05T10:52:27.928321Z"
    },
    "nbgrader": {
     "cell_type": "code",
     "checksum": "bb713a63ffb7b1b3471c7a1e99725201",
     "grade": false,
     "grade_id": "cell-4c40d18c6c90bcf9",
     "locked": true,
     "schema_version": 3,
     "solution": false,
     "task": false
    },
    "tags": []
   },
   "outputs": [
    {
     "data": {
      "text/html": [
       "<div>\n",
       "<style scoped>\n",
       "    .dataframe tbody tr th:only-of-type {\n",
       "        vertical-align: middle;\n",
       "    }\n",
       "\n",
       "    .dataframe tbody tr th {\n",
       "        vertical-align: top;\n",
       "    }\n",
       "\n",
       "    .dataframe thead th {\n",
       "        text-align: right;\n",
       "    }\n",
       "</style>\n",
       "<table border=\"1\" class=\"dataframe\">\n",
       "  <thead>\n",
       "    <tr style=\"text-align: right;\">\n",
       "      <th></th>\n",
       "      <th>Quality</th>\n",
       "      <th>D1</th>\n",
       "      <th>D2</th>\n",
       "    </tr>\n",
       "  </thead>\n",
       "  <tbody>\n",
       "    <tr>\n",
       "      <th>0</th>\n",
       "      <td>1</td>\n",
       "      <td>Ms Stewart, the chief executive, was not expec...</td>\n",
       "      <td>Ms Stewart, 61, its chief executive officer an...</td>\n",
       "    </tr>\n",
       "    <tr>\n",
       "      <th>1</th>\n",
       "      <td>1</td>\n",
       "      <td>After more than two years' detention under the...</td>\n",
       "      <td>After more than two years in detention by the ...</td>\n",
       "    </tr>\n",
       "    <tr>\n",
       "      <th>2</th>\n",
       "      <td>1</td>\n",
       "      <td>\"It still remains to be seen whether the reven...</td>\n",
       "      <td>\"It remains to be seen whether the revenue rec...</td>\n",
       "    </tr>\n",
       "    <tr>\n",
       "      <th>3</th>\n",
       "      <td>0</td>\n",
       "      <td>And it's going to be a wild ride,\" said Allan ...</td>\n",
       "      <td>Now the rest is just mechanical,\" said Allan H...</td>\n",
       "    </tr>\n",
       "    <tr>\n",
       "      <th>4</th>\n",
       "      <td>1</td>\n",
       "      <td>The cards are issued by Mexico's consulates to...</td>\n",
       "      <td>The card is issued by Mexico's consulates to i...</td>\n",
       "    </tr>\n",
       "  </tbody>\n",
       "</table>\n",
       "</div>"
      ],
      "text/plain": [
       "   Quality                                                 D1   \n",
       "0        1  Ms Stewart, the chief executive, was not expec...  \\\n",
       "1        1  After more than two years' detention under the...   \n",
       "2        1  \"It still remains to be seen whether the reven...   \n",
       "3        0  And it's going to be a wild ride,\" said Allan ...   \n",
       "4        1  The cards are issued by Mexico's consulates to...   \n",
       "\n",
       "                                                  D2  \n",
       "0  Ms Stewart, 61, its chief executive officer an...  \n",
       "1  After more than two years in detention by the ...  \n",
       "2  \"It remains to be seen whether the revenue rec...  \n",
       "3  Now the rest is just mechanical,\" said Allan H...  \n",
       "4  The card is issued by Mexico's consulates to i...  "
      ]
     },
     "execution_count": 43,
     "metadata": {},
     "output_type": "execute_result"
    }
   ],
   "source": [
    "# Use this dataframe for questions most_similar_docs and label_accuracy\n",
    "paraphrases = pd.read_csv('assets/paraphrases.csv')\n",
    "paraphrases.head()"
   ]
  },
  {
   "cell_type": "markdown",
   "metadata": {
    "deletable": false,
    "editable": false,
    "nbgrader": {
     "cell_type": "markdown",
     "checksum": "dc3742e572649c3961a1400794bf7080",
     "grade": false,
     "grade_id": "cell-bd634ad070710c0a",
     "locked": true,
     "schema_version": 3,
     "solution": false,
     "task": false
    }
   },
   "source": [
    "___\n",
    "\n",
    "### most_similar_docs\n",
    "\n",
    "Using `document_path_similarity`, find the pair of documents in paraphrases which has the maximum similarity score.\n",
    "\n",
    "*This function should return a tuple `(D1, D2, similarity_score)`*"
   ]
  },
  {
   "cell_type": "code",
   "execution_count": 44,
   "metadata": {
    "deletable": false,
    "execution": {
     "iopub.execute_input": "2023-04-05T10:56:35.029191Z",
     "iopub.status.busy": "2023-04-05T10:56:35.029191Z",
     "iopub.status.idle": "2023-04-05T10:56:35.578310Z",
     "shell.execute_reply": "2023-04-05T10:56:35.578310Z",
     "shell.execute_reply.started": "2023-04-05T10:56:35.029191Z"
    },
    "nbgrader": {
     "cell_type": "code",
     "checksum": "53240536e14a8ea515062fba69ee6816",
     "grade": false,
     "grade_id": "cell-a9043a8e87723e7f",
     "locked": false,
     "schema_version": 3,
     "solution": true,
     "task": false
    }
   },
   "outputs": [
    {
     "data": {
      "text/plain": [
       "('\"Indeed, Iran should be put on notice that efforts to try to remake Iraq in their image will be aggressively put down,\" he said.',\n",
       " '\"Iran should be on notice that attempts to remake Iraq in Iran\\'s image will be aggressively put down,\" he said.\\n',\n",
       " 0.9590643274853801)"
      ]
     },
     "execution_count": 44,
     "metadata": {},
     "output_type": "execute_result"
    }
   ],
   "source": [
    "def most_similar_docs():\n",
    "    \n",
    "    dpsim_scores = []\n",
    "    \n",
    "    for (doc_1, doc_2) in zip(paraphrases.D1, paraphrases.D2):\n",
    "        dpsim_scores.append(document_path_similarity(doc_1, doc_2))\n",
    "\n",
    "    offset = np.argmax(dpsim_scores)\n",
    "    \n",
    "    return (paraphrases.D1[offset], paraphrases.D2[offset], dpsim_scores[offset])\n",
    "\n",
    "most_similar_docs()"
   ]
  },
  {
   "cell_type": "code",
   "execution_count": null,
   "metadata": {
    "deletable": false,
    "editable": false,
    "nbgrader": {
     "cell_type": "code",
     "checksum": "8ef9ca58e161295ada11fe2e80a877d0",
     "grade": true,
     "grade_id": "cell-3fedb973b11cff11",
     "locked": true,
     "points": 1,
     "schema_version": 3,
     "solution": false,
     "task": false
    }
   },
   "outputs": [],
   "source": []
  },
  {
   "cell_type": "code",
   "execution_count": 45,
   "metadata": {
    "execution": {
     "iopub.execute_input": "2023-04-05T11:04:51.361323Z",
     "iopub.status.busy": "2023-04-05T11:04:51.361323Z",
     "iopub.status.idle": "2023-04-05T11:04:51.370553Z",
     "shell.execute_reply": "2023-04-05T11:04:51.370553Z",
     "shell.execute_reply.started": "2023-04-05T11:04:51.361323Z"
    },
    "tags": []
   },
   "outputs": [
    {
     "data": {
      "text/plain": [
       "(20, 3)"
      ]
     },
     "execution_count": 45,
     "metadata": {},
     "output_type": "execute_result"
    }
   ],
   "source": [
    "paraphrases.shape"
   ]
  },
  {
   "cell_type": "markdown",
   "metadata": {
    "deletable": false,
    "editable": false,
    "nbgrader": {
     "cell_type": "markdown",
     "checksum": "920f6dd60584558a367d6d6cc96b2d40",
     "grade": false,
     "grade_id": "cell-324e2e400c533ee8",
     "locked": true,
     "schema_version": 3,
     "solution": false,
     "task": false
    }
   },
   "source": [
    "### label_accuracy\n",
    "\n",
    "Provide labels for the twenty pairs of documents by computing the similarity for each pair using `document_path_similarity`. Let the classifier rule be that if the score is greater than 0.75, label is paraphrase (1), else label is paraphrase (0). Report accuracy of the classifier using scikit-learn's accuracy_score.\n",
    "\n",
    "*This function should return a float.*"
   ]
  },
  {
   "cell_type": "code",
   "execution_count": 53,
   "metadata": {
    "deletable": false,
    "execution": {
     "iopub.execute_input": "2023-04-05T11:11:57.468281Z",
     "iopub.status.busy": "2023-04-05T11:11:57.468281Z",
     "iopub.status.idle": "2023-04-05T11:11:57.911596Z",
     "shell.execute_reply": "2023-04-05T11:11:57.911596Z",
     "shell.execute_reply.started": "2023-04-05T11:11:57.468281Z"
    },
    "nbgrader": {
     "cell_type": "code",
     "checksum": "679249da013c7ed60aa06dd8b8630997",
     "grade": false,
     "grade_id": "cell-9e32dbbdb446b28d",
     "locked": false,
     "schema_version": 3,
     "solution": true,
     "task": false
    },
    "tags": []
   },
   "outputs": [
    {
     "data": {
      "text/plain": [
       "0.7"
      ]
     },
     "execution_count": 53,
     "metadata": {},
     "output_type": "execute_result"
    }
   ],
   "source": [
    "def label_accuracy():\n",
    "\n",
    "    dpsim_scores = []\n",
    "    \n",
    "    for (doc_1, doc_2) in zip(paraphrases.D1, paraphrases.D2):\n",
    "        dpsim_scores.append(document_path_similarity(doc_1, doc_2))\n",
    "        \n",
    "    labels = list(map(lambda score: 1 if (score > 0.75) else 0, dpsim_scores))\n",
    "    return accuracy_score(paraphrases.Quality, labels)\n",
    "    \n",
    "\n",
    "label_accuracy()"
   ]
  },
  {
   "cell_type": "code",
   "execution_count": null,
   "metadata": {
    "deletable": false,
    "editable": false,
    "nbgrader": {
     "cell_type": "code",
     "checksum": "f83172ce251c4665a2d20e210f333568",
     "grade": true,
     "grade_id": "cell-38683a0be95791b4",
     "locked": true,
     "points": 1,
     "schema_version": 3,
     "solution": false,
     "task": false
    }
   },
   "outputs": [],
   "source": []
  },
  {
   "cell_type": "markdown",
   "metadata": {
    "deletable": false,
    "editable": false,
    "nbgrader": {
     "cell_type": "markdown",
     "checksum": "b44e3f41d8229552249a94004bd682b4",
     "grade": false,
     "grade_id": "cell-69b6f071d2a015d1",
     "locked": true,
     "schema_version": 3,
     "solution": false,
     "task": false
    }
   },
   "source": [
    "## Part 2 - Topic Modelling\n",
    "\n",
    "For the second part of this assignment, you will use Gensim's LDA (Latent Dirichlet Allocation) model to model topics in `newsgroup_data`. You will first need to finish the code in the cell below by using gensim.models.ldamodel.LdaModel constructor to estimate LDA model parameters on the corpus, and save to the variable `ldamodel`. Extract 10 topics using `corpus` and `id_map`, and with `passes=25` and `random_state=34`."
   ]
  },
  {
   "cell_type": "code",
   "execution_count": 55,
   "metadata": {
    "deletable": false,
    "editable": false,
    "execution": {
     "iopub.execute_input": "2023-04-05T11:17:55.126121Z",
     "iopub.status.busy": "2023-04-05T11:17:55.126121Z",
     "iopub.status.idle": "2023-04-05T11:17:56.807213Z",
     "shell.execute_reply": "2023-04-05T11:17:56.807213Z",
     "shell.execute_reply.started": "2023-04-05T11:17:55.126121Z"
    },
    "nbgrader": {
     "cell_type": "code",
     "checksum": "233c1b01c469bc03afff6a117d5859bb",
     "grade": false,
     "grade_id": "cell-badd89f1cf3388f3",
     "locked": true,
     "schema_version": 3,
     "solution": false,
     "task": false
    }
   },
   "outputs": [],
   "source": [
    "import pickle\n",
    "import gensim\n",
    "from sklearn.feature_extraction.text import CountVectorizer\n",
    "\n",
    "# Load the list of documents\n",
    "with open('assets/newsgroups', 'rb') as f:\n",
    "    newsgroup_data = pickle.load(f)\n",
    "\n",
    "# Use CountVectorizor to find three letter tokens, remove stop_words, \n",
    "# remove tokens that don't appear in at least 20 documents,\n",
    "# remove tokens that appear in more than 20% of the documents\n",
    "vect = CountVectorizer(min_df=20, max_df=0.2, stop_words='english', \n",
    "                       token_pattern='(?u)\\\\b\\\\w\\\\w\\\\w+\\\\b')\n",
    "# Fit and transform\n",
    "X = vect.fit_transform(newsgroup_data)\n",
    "\n",
    "# Convert sparse matrix to gensim corpus.\n",
    "corpus = gensim.matutils.Sparse2Corpus(X, documents_columns=False)\n",
    "\n",
    "# Mapping from word IDs to words (To be used in LdaModel's id2word parameter)\n",
    "id_map = dict((v, k) for k, v in vect.vocabulary_.items())\n"
   ]
  },
  {
   "cell_type": "code",
   "execution_count": 56,
   "metadata": {
    "deletable": false,
    "execution": {
     "iopub.execute_input": "2023-04-05T11:20:10.429444Z",
     "iopub.status.busy": "2023-04-05T11:20:10.429444Z",
     "iopub.status.idle": "2023-04-05T11:20:58.853124Z",
     "shell.execute_reply": "2023-04-05T11:20:58.853124Z",
     "shell.execute_reply.started": "2023-04-05T11:20:10.429444Z"
    },
    "nbgrader": {
     "cell_type": "code",
     "checksum": "9428fc4a1c574c41e90c5f9035b188c9",
     "grade": false,
     "grade_id": "cell-335faff9e0486431",
     "locked": false,
     "schema_version": 3,
     "solution": true,
     "task": false
    },
    "tags": []
   },
   "outputs": [],
   "source": [
    "# Use the gensim.models.ldamodel.LdaModel constructor to estimate \n",
    "# LDA model parameters on the corpus, and save to the variable `ldamodel`\n",
    "\n",
    "ldamodel = gensim.models.ldamodel.LdaModel(corpus = corpus, id2word = id_map, passes = 25, random_state = 34)"
   ]
  },
  {
   "cell_type": "markdown",
   "metadata": {
    "deletable": false,
    "editable": false,
    "nbgrader": {
     "cell_type": "markdown",
     "checksum": "08aa0097d5b8ea6e1f242bea0a1c2f1f",
     "grade": false,
     "grade_id": "cell-8761473b2afdb2a0",
     "locked": true,
     "schema_version": 3,
     "solution": false,
     "task": false
    }
   },
   "source": [
    "### lda_topics\n",
    "\n",
    "Using `ldamodel`, find a list of the 10 topics and the most significant 10 words in each topic. This should be structured as a list of 10 tuples where each tuple takes on the form:\n",
    "\n",
    "`(9, '0.068*\"space\" + 0.036*\"nasa\" + 0.021*\"science\" + 0.020*\"edu\" + 0.019*\"data\" + 0.017*\"shuttle\" + 0.015*\"launch\" + 0.015*\"available\" + 0.014*\"center\" + 0.013*\"information\"')`\n",
    "\n",
    "for example.\n",
    "\n",
    "*This function should return a list of tuples.*"
   ]
  },
  {
   "cell_type": "code",
   "execution_count": 81,
   "metadata": {
    "deletable": false,
    "execution": {
     "iopub.execute_input": "2023-04-05T11:36:42.781337Z",
     "iopub.status.busy": "2023-04-05T11:36:42.781337Z",
     "iopub.status.idle": "2023-04-05T11:36:42.796262Z",
     "shell.execute_reply": "2023-04-05T11:36:42.796262Z",
     "shell.execute_reply.started": "2023-04-05T11:36:42.781337Z"
    },
    "nbgrader": {
     "cell_type": "code",
     "checksum": "9635c4874774a2fe8b6ba666622bf618",
     "grade": false,
     "grade_id": "cell-3626921bb392f4cf",
     "locked": false,
     "schema_version": 3,
     "solution": true,
     "task": false
    }
   },
   "outputs": [],
   "source": [
    "def lda_topics():\n",
    "    return ldamodel.show_topics(num_topics = 10, num_words = 10)"
   ]
  },
  {
   "cell_type": "code",
   "execution_count": null,
   "metadata": {
    "deletable": false,
    "editable": false,
    "nbgrader": {
     "cell_type": "code",
     "checksum": "5b00589df439c4ea31976a1c50a4abce",
     "grade": true,
     "grade_id": "cell-be3408e13d501ecb",
     "locked": true,
     "points": 1,
     "schema_version": 3,
     "solution": false,
     "task": false
    }
   },
   "outputs": [],
   "source": []
  },
  {
   "cell_type": "code",
   "execution_count": 100,
   "metadata": {
    "execution": {
     "iopub.execute_input": "2023-04-05T11:57:05.618927Z",
     "iopub.status.busy": "2023-04-05T11:57:05.618927Z",
     "iopub.status.idle": "2023-04-05T11:57:05.635059Z",
     "shell.execute_reply": "2023-04-05T11:57:05.635059Z",
     "shell.execute_reply.started": "2023-04-05T11:57:05.618927Z"
    },
    "tags": []
   },
   "outputs": [],
   "source": [
    "lda_topics();"
   ]
  },
  {
   "cell_type": "markdown",
   "metadata": {
    "deletable": false,
    "editable": false,
    "nbgrader": {
     "cell_type": "markdown",
     "checksum": "955ee10e095bd549182a9d18177d84b8",
     "grade": false,
     "grade_id": "cell-5cb2ba78a730107f",
     "locked": true,
     "schema_version": 3,
     "solution": false,
     "task": false
    }
   },
   "source": [
    "### topic_distribution\n",
    "\n",
    "For the new document `new_doc`, find the topic distribution. Remember to use vect.transform on the the new doc, and Sparse2Corpus to convert the sparse matrix to gensim corpus.\n",
    "\n",
    "*This function should return a list of tuples, where each tuple is `(#topic, probability)`*"
   ]
  },
  {
   "cell_type": "code",
   "execution_count": 83,
   "metadata": {
    "deletable": false,
    "editable": false,
    "execution": {
     "iopub.execute_input": "2023-04-05T11:42:20.832444Z",
     "iopub.status.busy": "2023-04-05T11:42:20.832444Z",
     "iopub.status.idle": "2023-04-05T11:42:20.836652Z",
     "shell.execute_reply": "2023-04-05T11:42:20.836652Z",
     "shell.execute_reply.started": "2023-04-05T11:42:20.832444Z"
    },
    "nbgrader": {
     "cell_type": "code",
     "checksum": "178e83cfb938733a4ce0dfc9d397a15b",
     "grade": false,
     "grade_id": "cell-57807620ac95b62a",
     "locked": true,
     "schema_version": 3,
     "solution": false,
     "task": false
    }
   },
   "outputs": [],
   "source": [
    "new_doc = [\"\\n\\nIt's my understanding that the freezing will start to occur because \\\n",
    "of the\\ngrowing distance of Pluto and Charon from the Sun, due to it's\\nelliptical orbit. \\\n",
    "It is not due to shadowing effects. \\n\\n\\nPluto can shadow Charon, and vice-versa.\\n\\nGeorge \\\n",
    "Krumins\\n-- \"]"
   ]
  },
  {
   "cell_type": "code",
   "execution_count": 85,
   "metadata": {
    "execution": {
     "iopub.execute_input": "2023-04-05T11:42:49.656030Z",
     "iopub.status.busy": "2023-04-05T11:42:49.656030Z",
     "iopub.status.idle": "2023-04-05T11:42:49.668015Z",
     "shell.execute_reply": "2023-04-05T11:42:49.668015Z",
     "shell.execute_reply.started": "2023-04-05T11:42:49.656030Z"
    },
    "tags": []
   },
   "outputs": [
    {
     "data": {
      "text/plain": [
       "<1x901 sparse matrix of type '<class 'numpy.int64'>'\n",
       "\twith 4 stored elements in Compressed Sparse Row format>"
      ]
     },
     "execution_count": 85,
     "metadata": {},
     "output_type": "execute_result"
    }
   ],
   "source": [
    "vect.transform(new_doc)"
   ]
  },
  {
   "cell_type": "code",
   "execution_count": 93,
   "metadata": {
    "execution": {
     "iopub.execute_input": "2023-04-05T11:53:23.185396Z",
     "iopub.status.busy": "2023-04-05T11:53:23.185396Z",
     "iopub.status.idle": "2023-04-05T11:53:23.193222Z",
     "shell.execute_reply": "2023-04-05T11:53:23.193222Z",
     "shell.execute_reply.started": "2023-04-05T11:53:23.185396Z"
    },
    "tags": []
   },
   "outputs": [],
   "source": [
    "corp = gensim.matutils.Sparse2Corpus(vect.transform(new_doc), documents_columns = False)"
   ]
  },
  {
   "cell_type": "code",
   "execution_count": 112,
   "metadata": {
    "execution": {
     "iopub.execute_input": "2023-04-05T12:04:35.901013Z",
     "iopub.status.busy": "2023-04-05T12:04:35.901013Z",
     "iopub.status.idle": "2023-04-05T12:04:35.908890Z",
     "shell.execute_reply": "2023-04-05T12:04:35.908890Z",
     "shell.execute_reply.started": "2023-04-05T12:04:35.901013Z"
    },
    "tags": []
   },
   "outputs": [],
   "source": [
    "new = ldamodel[corp]"
   ]
  },
  {
   "cell_type": "code",
   "execution_count": null,
   "metadata": {
    "tags": []
   },
   "outputs": [],
   "source": []
  },
  {
   "cell_type": "code",
   "execution_count": null,
   "metadata": {},
   "outputs": [],
   "source": []
  },
  {
   "cell_type": "code",
   "execution_count": null,
   "metadata": {
    "deletable": false,
    "nbgrader": {
     "cell_type": "code",
     "checksum": "f407a0d5d3d8ffe64a10489b1a2f71c3",
     "grade": false,
     "grade_id": "cell-2efe69c14930ff13",
     "locked": false,
     "schema_version": 3,
     "solution": true,
     "task": false
    }
   },
   "outputs": [],
   "source": [
    "def topic_distribution():\n",
    "    \n",
    "    # YOUR CODE HERE\n",
    "    raise NotImplementedError()\n",
    "    return # Your Answer Here"
   ]
  },
  {
   "cell_type": "code",
   "execution_count": null,
   "metadata": {
    "deletable": false,
    "editable": false,
    "nbgrader": {
     "cell_type": "code",
     "checksum": "525d35a1a77b065ac55b4800e53f1efa",
     "grade": true,
     "grade_id": "cell-9a7e35944a145c49",
     "locked": true,
     "points": 1,
     "schema_version": 3,
     "solution": false,
     "task": false
    }
   },
   "outputs": [],
   "source": []
  },
  {
   "cell_type": "markdown",
   "metadata": {
    "deletable": false,
    "editable": false,
    "nbgrader": {
     "cell_type": "markdown",
     "checksum": "b4d7fdb7d4d08f321b4b0199a59e867d",
     "grade": false,
     "grade_id": "cell-edd0c66c43ce9b3c",
     "locked": true,
     "schema_version": 3,
     "solution": false,
     "task": false
    }
   },
   "source": [
    "### topic_names\n",
    "\n",
    "From the list of the following given topics, assign topic names to the topics you found. If none of these names best matches the topics you found, create a new 1-3 word \"title\" for the topic.\n",
    "\n",
    "Topics: Health, Science, Automobiles, Politics, Government, Travel, Computers & IT, Sports, Business, Society & Lifestyle, Religion, Education.\n",
    "\n",
    "*This function should return a list of 10 strings.*"
   ]
  },
  {
   "cell_type": "code",
   "execution_count": null,
   "metadata": {
    "deletable": false,
    "nbgrader": {
     "cell_type": "code",
     "checksum": "dfdbbdac5cb54200701c3e5a11c179d7",
     "grade": false,
     "grade_id": "cell-06fc668c4104c2d2",
     "locked": false,
     "schema_version": 3,
     "solution": true,
     "task": false
    }
   },
   "outputs": [],
   "source": [
    "def topic_names():\n",
    "    \n",
    "    # YOUR CODE HERE\n",
    "    raise NotImplementedError()\n",
    "    return # Your Answer Here"
   ]
  },
  {
   "cell_type": "code",
   "execution_count": null,
   "metadata": {
    "deletable": false,
    "editable": false,
    "nbgrader": {
     "cell_type": "code",
     "checksum": "c7d78951c158c0911f860154707c68e5",
     "grade": true,
     "grade_id": "cell-78ea383cc25da8da",
     "locked": true,
     "points": 1,
     "schema_version": 3,
     "solution": false,
     "task": false
    }
   },
   "outputs": [],
   "source": []
  }
 ],
 "metadata": {
  "coursera": {
   "course_slug": "python-text-mining",
   "graded_item_id": "2qbcK",
   "launcher_item_id": "pi9Sh",
   "part_id": "kQiwX"
  },
  "kernelspec": {
   "display_name": "Python 3 (ipykernel)",
   "language": "python",
   "name": "python3"
  },
  "language_info": {
   "codemirror_mode": {
    "name": "ipython",
    "version": 3
   },
   "file_extension": ".py",
   "mimetype": "text/x-python",
   "name": "python",
   "nbconvert_exporter": "python",
   "pygments_lexer": "ipython3",
   "version": "3.11.2"
  },
  "vscode": {
   "interpreter": {
    "hash": "aee8b7b246df8f9039afb4144a1f6fd8d2ca17a180786b69acc140d282b71a49"
   }
  }
 },
 "nbformat": 4,
 "nbformat_minor": 4
}
