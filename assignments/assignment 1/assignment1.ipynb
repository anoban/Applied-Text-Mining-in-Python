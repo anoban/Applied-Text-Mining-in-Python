{
 "cells": [
  {
   "cell_type": "code",
   "execution_count": 1,
   "metadata": {
    "execution": {
     "iopub.execute_input": "2023-03-20T03:43:00.104108Z",
     "iopub.status.busy": "2023-03-20T03:43:00.104108Z",
     "iopub.status.idle": "2023-03-20T03:43:05.193497Z",
     "shell.execute_reply": "2023-03-20T03:43:05.192486Z",
     "shell.execute_reply.started": "2023-03-20T03:43:00.104108Z"
    },
    "tags": []
   },
   "outputs": [],
   "source": [
    "import pandas as pd\n",
    "import numpy as np\n",
    "from datetime import datetime"
   ]
  },
  {
   "cell_type": "markdown",
   "metadata": {
    "deletable": false,
    "editable": false,
    "nbgrader": {
     "cell_type": "markdown",
     "checksum": "ec8ef6131742cfe7cbfc4f02a34ca107",
     "grade": false,
     "grade_id": "cell-8a754c8ce8a16eeb",
     "locked": true,
     "schema_version": 3,
     "solution": false,
     "task": false
    },
    "tags": []
   },
   "source": [
    "# Assignment 1\n",
    "\n",
    "In this assignment, you'll be working with messy medical data and using regex to extract relevant infromation from the data. \n",
    "\n",
    "Each line of the `dates.txt` file corresponds to a medical note. Each note has a date that needs to be extracted, but each date is encoded in one of many formats.\n",
    "\n",
    "The goal of this assignment is to correctly identify all of the different date variants encoded in this dataset and to properly normalize and sort the dates. \n",
    "\n",
    "Here is a list of some of the variants you might encounter in this dataset:\n",
    "* 04/20/2009; 04/20/09; 4/20/09; 4/3/09\n",
    "* Mar-20-2009; Mar 20, 2009; March 20, 2009;  Mar. 20, 2009; Mar 20 2009;\n",
    "* 20 Mar 2009; 20 March 2009; 20 Mar. 2009; 20 March, 2009\n",
    "* Mar 20th, 2009; Mar 21st, 2009; Mar 22nd, 2009\n",
    "* Feb 2009; Sep 2009; Oct 2010\n",
    "* 6/2008; 12/2009\n",
    "* 2009; 2010\n",
    "\n",
    "Once you have extracted these date patterns from the text, the next step is to sort them in ascending chronological order accoring to the following rules:\n",
    "* Assume all dates in xx/xx/xx format are mm/dd/yy\n",
    "* Assume all dates where year is encoded in only two digits are years from the 1900's (e.g. 1/5/89 is January 5th, 1989)\n",
    "* If the day is missing (e.g. 9/2009), assume it is the first day of the month (e.g. September 1, 2009).\n",
    "* If the month is missing (e.g. 2010), assume it is the first of January of that year (e.g. January 1, 2010).\n",
    "* Watch out for potential typos as this is a raw, real-life derived dataset.\n",
    "\n",
    "With these rules in mind, find the correct date in each note and return a pandas Series in chronological order of the original Series' indices. This Series should be sorted by a tie-break sort in the format of (\"extracted date\", \"original row number\").\n",
    "\n",
    "For example if the original series was this:\n",
    "\n",
    "    0    1999\n",
    "    1    2010\n",
    "    2    1978\n",
    "    3    2015\n",
    "    4    1985\n",
    "\n",
    "Your function should return this:\n",
    "\n",
    "    0    2\n",
    "    1    4\n",
    "    2    0\n",
    "    3    1\n",
    "    4    3\n",
    "\n",
    "Your score will be calculated using [Kendall's tau](https://en.wikipedia.org/wiki/Kendall_rank_correlation_coefficient), a correlation measure for ordinal data.\n",
    "\n",
    "*This function should return a Series of length 500 and dtype int.*"
   ]
  },
  {
   "cell_type": "code",
   "execution_count": 2,
   "metadata": {
    "execution": {
     "iopub.execute_input": "2023-03-20T02:04:10.088437Z",
     "iopub.status.busy": "2023-03-20T02:04:10.088437Z",
     "iopub.status.idle": "2023-03-20T02:04:10.098866Z",
     "shell.execute_reply": "2023-03-20T02:04:10.098866Z",
     "shell.execute_reply.started": "2023-03-20T02:04:10.088437Z"
    },
    "tags": []
   },
   "outputs": [],
   "source": [
    "def print_along_lines(series_slice):\n",
    "    for (ind, line) in zip(series_slice.index, series_slice):\n",
    "        print(f\"{ind:3d} {parsed_dates[ind]} {series_slice[ind]}\")"
   ]
  },
  {
   "cell_type": "code",
   "execution_count": 2,
   "metadata": {
    "deletable": true,
    "execution": {
     "iopub.execute_input": "2023-03-20T03:46:09.850549Z",
     "iopub.status.busy": "2023-03-20T03:46:09.850549Z",
     "iopub.status.idle": "2023-03-20T03:46:09.876506Z",
     "shell.execute_reply": "2023-03-20T03:46:09.876506Z",
     "shell.execute_reply.started": "2023-03-20T03:46:09.850549Z"
    },
    "nbgrader": {
     "cell_type": "code",
     "checksum": "4b47ce38a503bfb1f113580f394d8667",
     "grade": false,
     "grade_id": "cell-28048f36edc32946",
     "locked": true,
     "schema_version": 3,
     "solution": false,
     "task": false
    },
    "tags": []
   },
   "outputs": [
    {
     "data": {
      "text/plain": [
       "0           03/25/93 Total time of visit (in minutes):\\n\n",
       "1                         6/18/85 Primary Care Doctor:\\n\n",
       "2      sshe plans to move as of 7/8/71 In-Home Servic...\n",
       "3                  7 on 9/27/75 Audit C Score Current:\\n\n",
       "4      2/6/96 sleep studyPain Treatment Pain Level (N...\n",
       "                             ...                        \n",
       "495    1979 Family Psych History: Family History of S...\n",
       "496    therapist and friend died in ~2006 Parental/Ca...\n",
       "497                         2008 partial thyroidectomy\\n\n",
       "498    sPt describes a history of sexual abuse as a c...\n",
       "499    . In 1980, patient was living in Naples and de...\n",
       "Length: 500, dtype: object"
      ]
     },
     "execution_count": 2,
     "metadata": {},
     "output_type": "execute_result"
    }
   ],
   "source": [
    "doc = []\n",
    "with open('assets/dates.txt') as file:\n",
    "    for line in file:\n",
    "        doc.append(line)\n",
    "\n",
    "df = pd.Series(doc)\n",
    "df"
   ]
  },
  {
   "cell_type": "code",
   "execution_count": 3,
   "metadata": {
    "execution": {
     "iopub.execute_input": "2023-03-20T03:46:10.385333Z",
     "iopub.status.busy": "2023-03-20T03:46:10.385333Z",
     "iopub.status.idle": "2023-03-20T03:46:10.393592Z",
     "shell.execute_reply": "2023-03-20T03:46:10.393592Z",
     "shell.execute_reply.started": "2023-03-20T03:46:10.385333Z"
    },
    "tags": []
   },
   "outputs": [],
   "source": [
    "# a dictionary to collect all parsed dates.\n",
    "\n",
    "parsed_dates = dict.fromkeys(df.index)"
   ]
  },
  {
   "cell_type": "code",
   "execution_count": 4,
   "metadata": {
    "execution": {
     "iopub.execute_input": "2023-03-20T03:46:10.872399Z",
     "iopub.status.busy": "2023-03-20T03:46:10.872399Z",
     "iopub.status.idle": "2023-03-20T03:46:10.897465Z",
     "shell.execute_reply": "2023-03-20T03:46:10.897465Z",
     "shell.execute_reply.started": "2023-03-20T03:46:10.872399Z"
    },
    "tags": []
   },
   "outputs": [],
   "source": [
    "# all numeric date\n",
    "\n",
    "all_numeric = df[:125]\n",
    "\n",
    "for (ind, date) in zip(all_numeric.index, all_numeric.str.findall(r\"[\\d]{1,2}[/-]{1}[\\d]{1,2}[/-]{1}[\\d]{2,4}\")):\n",
    "        # parsed_dates[ind] = date[0][:-2] + \"19\" + date[0][-2:]\n",
    "        _date = date[0]\n",
    "        # print(_date)\n",
    "        if \"-\" not in _date:\n",
    "            if len(_date.split(\"/\")[2]) < 4:      \n",
    "                _strdate = _date[:-2] + \"19\" + _date[-2:]\n",
    "                # print(f\"{_date:20s} {_strdate:20s}\")\n",
    "                parsed_dates[ind] = datetime.strptime(_strdate, \"%m/%d/%Y\")\n",
    "            else:\n",
    "                # print(f\"{_date:20s}\")\n",
    "                parsed_dates[ind] = datetime.strptime(_date, \"%m/%d/%Y\")\n",
    "                \n",
    "        elif \"-\" in _date:\n",
    "            if len(_date.split(\"-\")[2]) < 4:\n",
    "                _strdate = _date[:-2] + \"19\" + _date[-2:]\n",
    "                # print(f\"{_date:20s} {_strdate:20s}\")\n",
    "                parsed_dates[ind] = datetime.strptime(_strdate, \"%m-%d-%Y\")\n",
    "            else:\n",
    "                # print(f\"{_date:20s}\")\n",
    "                parsed_dates[ind] = datetime.strptime(_date, \"%m-%d-%Y\")"
   ]
  },
  {
   "cell_type": "code",
   "execution_count": 5,
   "metadata": {
    "execution": {
     "iopub.execute_input": "2023-03-20T03:46:11.878624Z",
     "iopub.status.busy": "2023-03-20T03:46:11.878624Z",
     "iopub.status.idle": "2023-03-20T03:46:11.887498Z",
     "shell.execute_reply": "2023-03-20T03:46:11.887498Z",
     "shell.execute_reply.started": "2023-03-20T03:46:11.878624Z"
    },
    "tags": []
   },
   "outputs": [],
   "source": [
    "# print_along_lines(all_numeric)"
   ]
  },
  {
   "cell_type": "code",
   "execution_count": 6,
   "metadata": {
    "execution": {
     "iopub.execute_input": "2023-03-20T03:46:12.490650Z",
     "iopub.status.busy": "2023-03-20T03:46:12.490650Z",
     "iopub.status.idle": "2023-03-20T03:46:12.510490Z",
     "shell.execute_reply": "2023-03-20T03:46:12.509515Z",
     "shell.execute_reply.started": "2023-03-20T03:46:12.490650Z"
    },
    "tags": []
   },
   "outputs": [],
   "source": [
    "month_in_words = df[125:194]\n",
    "\n",
    "for (ind, date) in zip(month_in_words.index, month_in_words.str.findall(r\"[\\d]{1,2} [\\w]{3,} [\\d]{2,4}\")):\n",
    "        # parsed_dates[ind] = date[0]\n",
    "        _strdate  = date[0]\n",
    "        try:\n",
    "            parsed_dates[ind] = datetime.strptime(_strdate, \"%d %B %Y\")\n",
    "        except ValueError:\n",
    "            try:\n",
    "                parsed_dates[ind] = datetime.strptime(_strdate, \"%d %b %Y\")\n",
    "            except:\n",
    "                print(\"FUCK\")"
   ]
  },
  {
   "cell_type": "code",
   "execution_count": 7,
   "metadata": {
    "execution": {
     "iopub.execute_input": "2023-03-20T03:46:16.596585Z",
     "iopub.status.busy": "2023-03-20T03:46:16.596585Z",
     "iopub.status.idle": "2023-03-20T03:46:16.604516Z",
     "shell.execute_reply": "2023-03-20T03:46:16.604516Z",
     "shell.execute_reply.started": "2023-03-20T03:46:16.596585Z"
    },
    "tags": []
   },
   "outputs": [],
   "source": [
    "start_with_month = df[194:228]\n",
    "\n",
    "for (ind, date) in zip(start_with_month.index, start_with_month.str.findall(r\"[\\w]{3,}[.,]* [\\d]+[,]* [\\d]{2,4}\")):\n",
    "        # parsed_dates[ind] = date[0]\n",
    "        _strdate = date[0].replace(\",\", \"\").replace(\".\", \"\")\n",
    "        try:\n",
    "            parsed_dates[ind] = datetime.strptime(_strdate, \"%B %d %Y\")\n",
    "        except ValueError:\n",
    "            try:\n",
    "                parsed_dates[ind] = datetime.strptime(_strdate, \"%b %d %Y\")\n",
    "            except:\n",
    "                print(\"FUCK\")"
   ]
  },
  {
   "cell_type": "code",
   "execution_count": 8,
   "metadata": {
    "execution": {
     "iopub.execute_input": "2023-03-20T03:46:16.942536Z",
     "iopub.status.busy": "2023-03-20T03:46:16.942536Z",
     "iopub.status.idle": "2023-03-20T03:46:16.953086Z",
     "shell.execute_reply": "2023-03-20T03:46:16.952572Z",
     "shell.execute_reply.started": "2023-03-20T03:46:16.942536Z"
    },
    "tags": []
   },
   "outputs": [],
   "source": [
    "parsed_dates;"
   ]
  },
  {
   "cell_type": "code",
   "execution_count": null,
   "metadata": {
    "tags": []
   },
   "outputs": [],
   "source": []
  },
  {
   "cell_type": "code",
   "execution_count": 9,
   "metadata": {
    "execution": {
     "iopub.execute_input": "2023-03-20T03:46:17.889024Z",
     "iopub.status.busy": "2023-03-20T03:46:17.889024Z",
     "iopub.status.idle": "2023-03-20T03:46:17.911989Z",
     "shell.execute_reply": "2023-03-20T03:46:17.911989Z",
     "shell.execute_reply.started": "2023-03-20T03:46:17.889024Z"
    },
    "tags": []
   },
   "outputs": [],
   "source": [
    "month_and_year_only = df[228:343]\n",
    "for (ind, date) in zip(month_and_year_only.index, month_and_year_only.str.findall(r\"[A-Z]{1}[a-z]{2,}[,]* [\\d]{4}\")):\n",
    "    # parsed_dates[ind] = \"01 \" + date[0]\n",
    "    _strdate = \"01 \" + date[0].replace(\",\", \"\").replace(\"Janaury\", \"January\").replace(\"Decemeber\", \"December\")\n",
    "    try:\n",
    "        parsed_dates[ind] = datetime.strptime(_strdate, \"%d %B %Y\")\n",
    "    except ValueError:\n",
    "        try:\n",
    "            parsed_dates[ind] = datetime.strptime(_strdate, \"%d %b %Y\")\n",
    "        except:\n",
    "            print(\"FUCK\", _strdate)"
   ]
  },
  {
   "cell_type": "code",
   "execution_count": 10,
   "metadata": {
    "execution": {
     "iopub.execute_input": "2023-03-20T03:46:18.503323Z",
     "iopub.status.busy": "2023-03-20T03:46:18.503323Z",
     "iopub.status.idle": "2023-03-20T03:46:18.520906Z",
     "shell.execute_reply": "2023-03-20T03:46:18.520398Z",
     "shell.execute_reply.started": "2023-03-20T03:46:18.503323Z"
    },
    "tags": []
   },
   "outputs": [],
   "source": [
    "parsed_dates;"
   ]
  },
  {
   "cell_type": "code",
   "execution_count": null,
   "metadata": {},
   "outputs": [],
   "source": []
  },
  {
   "cell_type": "code",
   "execution_count": 11,
   "metadata": {
    "execution": {
     "iopub.execute_input": "2023-03-20T03:46:20.595810Z",
     "iopub.status.busy": "2023-03-20T03:46:20.595810Z",
     "iopub.status.idle": "2023-03-20T03:46:20.606827Z",
     "shell.execute_reply": "2023-03-20T03:46:20.606827Z",
     "shell.execute_reply.started": "2023-03-20T03:46:20.595810Z"
    },
    "tags": []
   },
   "outputs": [],
   "source": [
    "month_and_year_numeric = df[343:455]\n",
    "for (ind, date) in zip(month_and_year_numeric.index, month_and_year_numeric.str.findall(r\"[\\d]{1,2}/[\\d]{2,4}\")):\n",
    "    # parsed_dates[ind] = \"01/\" + date[0]\n",
    "    _strdate = \"01/\" + date[0]\n",
    "    parsed_dates[ind] = datetime.strptime(_strdate, \"%d/%m/%Y\")"
   ]
  },
  {
   "cell_type": "code",
   "execution_count": 12,
   "metadata": {
    "execution": {
     "iopub.execute_input": "2023-03-20T03:46:20.973480Z",
     "iopub.status.busy": "2023-03-20T03:46:20.973480Z",
     "iopub.status.idle": "2023-03-20T03:46:20.992306Z",
     "shell.execute_reply": "2023-03-20T03:46:20.991797Z",
     "shell.execute_reply.started": "2023-03-20T03:46:20.973480Z"
    },
    "tags": []
   },
   "outputs": [],
   "source": [
    "parsed_dates;"
   ]
  },
  {
   "cell_type": "code",
   "execution_count": 13,
   "metadata": {
    "execution": {
     "iopub.execute_input": "2023-03-20T03:46:21.319226Z",
     "iopub.status.busy": "2023-03-20T03:46:21.319226Z",
     "iopub.status.idle": "2023-03-20T03:46:21.332296Z",
     "shell.execute_reply": "2023-03-20T03:46:21.332296Z",
     "shell.execute_reply.started": "2023-03-20T03:46:21.319226Z"
    },
    "tags": []
   },
   "outputs": [],
   "source": [
    "year_only = df[455:]\n",
    "for (ind, date) in zip(year_only.index, year_only.str.findall(r\"[\\d]{4}\")):\n",
    "    # parsed_dates[ind] =  \"01/01/\" + date[0]\n",
    "    _strdate = \"01/01/\" + date[0]\n",
    "    parsed_dates[ind] = datetime.strptime(_strdate, \"%d/%m/%Y\")"
   ]
  },
  {
   "cell_type": "code",
   "execution_count": 24,
   "metadata": {
    "execution": {
     "iopub.execute_input": "2023-03-20T03:53:31.367492Z",
     "iopub.status.busy": "2023-03-20T03:53:31.367492Z",
     "iopub.status.idle": "2023-03-20T03:53:31.373268Z",
     "shell.execute_reply": "2023-03-20T03:53:31.373268Z",
     "shell.execute_reply.started": "2023-03-20T03:53:31.367492Z"
    },
    "tags": []
   },
   "outputs": [],
   "source": [
    "dates = pd.Series(parsed_dates, name = \"date\")"
   ]
  },
  {
   "cell_type": "code",
   "execution_count": 26,
   "metadata": {
    "execution": {
     "iopub.execute_input": "2023-03-20T03:53:34.202450Z",
     "iopub.status.busy": "2023-03-20T03:53:34.202450Z",
     "iopub.status.idle": "2023-03-20T03:53:34.210794Z",
     "shell.execute_reply": "2023-03-20T03:53:34.210794Z",
     "shell.execute_reply.started": "2023-03-20T03:53:34.202450Z"
    },
    "tags": []
   },
   "outputs": [
    {
     "data": {
      "text/plain": [
       "52"
      ]
     },
     "execution_count": 26,
     "metadata": {},
     "output_type": "execute_result"
    }
   ],
   "source": [
    "dates.duplicated().sum()"
   ]
  },
  {
   "cell_type": "code",
   "execution_count": 27,
   "metadata": {
    "execution": {
     "iopub.execute_input": "2023-03-20T03:53:34.626233Z",
     "iopub.status.busy": "2023-03-20T03:53:34.626233Z",
     "iopub.status.idle": "2023-03-20T03:53:34.636150Z",
     "shell.execute_reply": "2023-03-20T03:53:34.636150Z",
     "shell.execute_reply.started": "2023-03-20T03:53:34.626233Z"
    },
    "tags": []
   },
   "outputs": [
    {
     "data": {
      "text/plain": [
       "((500,), 448)"
      ]
     },
     "execution_count": 27,
     "metadata": {},
     "output_type": "execute_result"
    }
   ],
   "source": [
    "# There are 52 duplicates!\n",
    "\n",
    "dates.shape, len(set(dates))"
   ]
  },
  {
   "cell_type": "code",
   "execution_count": 34,
   "metadata": {
    "execution": {
     "iopub.execute_input": "2023-03-20T03:55:36.058732Z",
     "iopub.status.busy": "2023-03-20T03:55:36.058732Z",
     "iopub.status.idle": "2023-03-20T03:55:36.078643Z",
     "shell.execute_reply": "2023-03-20T03:55:36.078643Z",
     "shell.execute_reply.started": "2023-03-20T03:55:36.058732Z"
    },
    "tags": []
   },
   "outputs": [
    {
     "data": {
      "text/plain": [
       "Int64Index([  9,  84,   2,  53,  28, 474, 153,  13, 129,  98,\n",
       "            ...\n",
       "            152, 235, 464, 253, 231, 427, 141, 186, 161, 413],\n",
       "           dtype='int64', length=500)"
      ]
     },
     "execution_count": 34,
     "metadata": {},
     "output_type": "execute_result"
    }
   ],
   "source": [
    "dates.reset_index(drop = False).sort_values([\"date\", \"index\"]).index"
   ]
  },
  {
   "cell_type": "code",
   "execution_count": 16,
   "metadata": {
    "execution": {
     "iopub.execute_input": "2023-03-20T02:04:24.906007Z",
     "iopub.status.busy": "2023-03-20T02:04:24.906007Z",
     "iopub.status.idle": "2023-03-20T02:04:24.924406Z",
     "shell.execute_reply": "2023-03-20T02:04:24.924406Z",
     "shell.execute_reply.started": "2023-03-20T02:04:24.906007Z"
    },
    "tags": []
   },
   "outputs": [],
   "source": [
    "sorted_dates = dates.sort_values()"
   ]
  },
  {
   "cell_type": "code",
   "execution_count": 17,
   "metadata": {
    "execution": {
     "iopub.execute_input": "2023-03-20T02:04:25.346279Z",
     "iopub.status.busy": "2023-03-20T02:04:25.346279Z",
     "iopub.status.idle": "2023-03-20T02:04:25.357007Z",
     "shell.execute_reply": "2023-03-20T02:04:25.357007Z",
     "shell.execute_reply.started": "2023-03-20T02:04:25.346279Z"
    },
    "tags": []
   },
   "outputs": [
    {
     "data": {
      "text/plain": [
       "0        9\n",
       "1       84\n",
       "2        2\n",
       "3       53\n",
       "4       28\n",
       "      ... \n",
       "495    231\n",
       "496    141\n",
       "497    186\n",
       "498    161\n",
       "499    413\n",
       "Length: 500, dtype: int64"
      ]
     },
     "execution_count": 17,
     "metadata": {},
     "output_type": "execute_result"
    }
   ],
   "source": [
    "pd.Series(sorted_dates.index)"
   ]
  },
  {
   "cell_type": "code",
   "execution_count": 18,
   "metadata": {
    "execution": {
     "iopub.execute_input": "2023-03-20T02:04:25.943462Z",
     "iopub.status.busy": "2023-03-20T02:04:25.943462Z",
     "iopub.status.idle": "2023-03-20T02:04:25.949609Z",
     "shell.execute_reply": "2023-03-20T02:04:25.949609Z",
     "shell.execute_reply.started": "2023-03-20T02:04:25.943462Z"
    },
    "tags": []
   },
   "outputs": [
    {
     "data": {
      "text/plain": [
       "(500, 500)"
      ]
     },
     "execution_count": 18,
     "metadata": {},
     "output_type": "execute_result"
    }
   ],
   "source": [
    "len(sorted_dates.index), len(sorted_dates.index.unique())"
   ]
  },
  {
   "cell_type": "code",
   "execution_count": 19,
   "metadata": {
    "execution": {
     "iopub.execute_input": "2023-03-20T02:04:36.023603Z",
     "iopub.status.busy": "2023-03-20T02:04:36.023603Z",
     "iopub.status.idle": "2023-03-20T02:04:36.032964Z",
     "shell.execute_reply": "2023-03-20T02:04:36.032964Z",
     "shell.execute_reply.started": "2023-03-20T02:04:36.023603Z"
    },
    "tags": []
   },
   "outputs": [],
   "source": [
    "with open(\"medical.csv\", \"w\") as handle:\n",
    "    string = \"\"\n",
    "    \n",
    "    for (ind, date, line) in zip(parsed_dates.keys(), parsed_dates.values(), df):\n",
    "        string += f\"{ind}; {date.strftime('%d %m %Y')}; {line}\"\n",
    "    \n",
    "    print(string, file = handle)"
   ]
  },
  {
   "cell_type": "code",
   "execution_count": null,
   "metadata": {
    "tags": []
   },
   "outputs": [],
   "source": []
  },
  {
   "cell_type": "code",
   "execution_count": 79,
   "metadata": {
    "execution": {
     "iopub.execute_input": "2023-03-20T01:25:15.933228Z",
     "iopub.status.busy": "2023-03-20T01:25:15.933228Z",
     "iopub.status.idle": "2023-03-20T01:25:15.949201Z",
     "shell.execute_reply": "2023-03-20T01:25:15.948191Z",
     "shell.execute_reply.started": "2023-03-20T01:25:15.933228Z"
    },
    "tags": []
   },
   "outputs": [
    {
     "data": {
      "text/plain": [
       "{0: datetime.datetime(1993, 3, 25, 0, 0),\n",
       " 1: datetime.datetime(1985, 6, 18, 0, 0),\n",
       " 2: datetime.datetime(1971, 7, 8, 0, 0),\n",
       " 3: datetime.datetime(1975, 9, 27, 0, 0),\n",
       " 4: datetime.datetime(1996, 2, 6, 0, 0),\n",
       " 5: datetime.datetime(1979, 7, 6, 0, 0),\n",
       " 6: datetime.datetime(1978, 5, 18, 0, 0),\n",
       " 7: datetime.datetime(1989, 10, 24, 0, 0),\n",
       " 8: datetime.datetime(1986, 3, 7, 0, 0),\n",
       " 9: datetime.datetime(1971, 4, 10, 0, 0),\n",
       " 10: datetime.datetime(1985, 5, 11, 0, 0),\n",
       " 11: datetime.datetime(1975, 4, 9, 0, 0),\n",
       " 12: datetime.datetime(1998, 8, 1, 0, 0),\n",
       " 13: datetime.datetime(1972, 1, 26, 0, 0),\n",
       " 14: datetime.datetime(1990, 5, 24, 0, 0),\n",
       " 15: datetime.datetime(2011, 1, 25, 0, 0),\n",
       " 16: datetime.datetime(1982, 4, 12, 0, 0),\n",
       " 17: datetime.datetime(1976, 10, 13, 0, 0),\n",
       " 18: datetime.datetime(1998, 4, 24, 0, 0),\n",
       " 19: datetime.datetime(1977, 5, 21, 0, 0),\n",
       " 20: datetime.datetime(1998, 7, 21, 0, 0),\n",
       " 21: datetime.datetime(1979, 10, 21, 0, 0),\n",
       " 22: datetime.datetime(1990, 3, 3, 0, 0),\n",
       " 23: datetime.datetime(1976, 2, 11, 0, 0),\n",
       " 24: datetime.datetime(1984, 7, 25, 0, 0),\n",
       " 25: datetime.datetime(1982, 4, 13, 0, 0),\n",
       " 26: datetime.datetime(1989, 9, 22, 0, 0),\n",
       " 27: datetime.datetime(1976, 9, 2, 0, 0),\n",
       " 28: datetime.datetime(1971, 9, 12, 0, 0),\n",
       " 29: datetime.datetime(1986, 10, 24, 0, 0),\n",
       " 30: datetime.datetime(1985, 3, 31, 0, 0),\n",
       " 31: datetime.datetime(1972, 7, 20, 0, 0),\n",
       " 32: datetime.datetime(1987, 4, 12, 0, 0),\n",
       " 33: datetime.datetime(1991, 6, 20, 0, 0),\n",
       " 34: datetime.datetime(2012, 5, 12, 0, 0),\n",
       " 35: datetime.datetime(1983, 3, 15, 0, 0),\n",
       " 36: datetime.datetime(1973, 2, 14, 0, 0),\n",
       " 37: datetime.datetime(1988, 5, 24, 0, 0),\n",
       " 38: datetime.datetime(1986, 7, 27, 0, 0),\n",
       " 39: datetime.datetime(1981, 1, 14, 0, 0),\n",
       " 40: datetime.datetime(1975, 7, 29, 0, 0),\n",
       " 41: datetime.datetime(1987, 6, 24, 0, 0),\n",
       " 42: datetime.datetime(1994, 8, 14, 0, 0),\n",
       " 43: datetime.datetime(2002, 4, 13, 0, 0),\n",
       " 44: datetime.datetime(1982, 8, 16, 0, 0),\n",
       " 45: datetime.datetime(1998, 2, 15, 0, 0),\n",
       " 46: datetime.datetime(1991, 7, 15, 0, 0),\n",
       " 47: datetime.datetime(1994, 6, 12, 0, 0),\n",
       " 48: datetime.datetime(1984, 9, 17, 0, 0),\n",
       " 49: datetime.datetime(1975, 2, 28, 0, 0),\n",
       " 50: datetime.datetime(1975, 11, 22, 0, 0),\n",
       " 51: datetime.datetime(1991, 5, 24, 0, 0),\n",
       " 52: datetime.datetime(1992, 6, 13, 0, 0),\n",
       " 53: datetime.datetime(1971, 7, 11, 0, 0),\n",
       " 54: datetime.datetime(1986, 12, 26, 0, 0),\n",
       " 55: datetime.datetime(1987, 10, 11, 0, 0),\n",
       " 56: datetime.datetime(1995, 3, 14, 0, 0),\n",
       " 57: datetime.datetime(1973, 12, 1, 0, 0),\n",
       " 58: datetime.datetime(2010, 12, 5, 0, 0),\n",
       " 59: datetime.datetime(1982, 8, 20, 0, 0),\n",
       " 60: datetime.datetime(1995, 7, 24, 0, 0),\n",
       " 61: datetime.datetime(1983, 8, 6, 0, 0),\n",
       " 62: datetime.datetime(1992, 2, 22, 0, 0),\n",
       " 63: datetime.datetime(1987, 6, 28, 0, 0),\n",
       " 64: datetime.datetime(1994, 7, 29, 0, 0),\n",
       " 65: datetime.datetime(1978, 8, 11, 0, 0),\n",
       " 66: datetime.datetime(1991, 10, 29, 0, 0),\n",
       " 67: datetime.datetime(1991, 7, 6, 0, 0),\n",
       " 68: datetime.datetime(1987, 1, 21, 0, 0),\n",
       " 69: datetime.datetime(1985, 11, 3, 0, 0),\n",
       " 70: datetime.datetime(1982, 7, 4, 0, 0),\n",
       " 71: datetime.datetime(1989, 4, 13, 0, 0),\n",
       " 72: datetime.datetime(1977, 7, 11, 0, 0),\n",
       " 73: datetime.datetime(1974, 4, 12, 0, 0),\n",
       " 74: datetime.datetime(1981, 9, 19, 0, 0),\n",
       " 75: datetime.datetime(1979, 9, 6, 0, 0),\n",
       " 76: datetime.datetime(1987, 12, 5, 0, 0),\n",
       " 77: datetime.datetime(1999, 1, 5, 0, 0),\n",
       " 78: datetime.datetime(1980, 4, 22, 0, 0),\n",
       " 79: datetime.datetime(1998, 10, 4, 0, 0),\n",
       " 80: datetime.datetime(1981, 6, 29, 0, 0),\n",
       " 81: datetime.datetime(1978, 8, 4, 0, 0),\n",
       " 82: datetime.datetime(1974, 7, 7, 0, 0),\n",
       " 83: datetime.datetime(2000, 9, 14, 0, 0),\n",
       " 84: datetime.datetime(1971, 5, 18, 0, 0),\n",
       " 85: datetime.datetime(1981, 8, 9, 0, 0),\n",
       " 86: datetime.datetime(1993, 6, 5, 0, 0),\n",
       " 87: datetime.datetime(1997, 8, 9, 0, 0),\n",
       " 88: datetime.datetime(1982, 12, 8, 0, 0),\n",
       " 89: datetime.datetime(1989, 8, 26, 0, 0),\n",
       " 90: datetime.datetime(1995, 10, 13, 0, 0),\n",
       " 91: datetime.datetime(1991, 4, 19, 0, 0),\n",
       " 92: datetime.datetime(2004, 4, 8, 0, 0),\n",
       " 93: datetime.datetime(1976, 9, 20, 0, 0),\n",
       " 94: datetime.datetime(1990, 12, 8, 0, 0),\n",
       " 95: datetime.datetime(1974, 4, 11, 0, 0),\n",
       " 96: datetime.datetime(1986, 7, 18, 0, 0),\n",
       " 97: datetime.datetime(1991, 3, 31, 0, 0),\n",
       " 98: datetime.datetime(1972, 5, 13, 0, 0),\n",
       " 99: datetime.datetime(1983, 11, 14, 0, 0),\n",
       " 100: datetime.datetime(1992, 8, 16, 0, 0),\n",
       " 101: datetime.datetime(1997, 10, 5, 0, 0),\n",
       " 102: datetime.datetime(2002, 7, 18, 0, 0),\n",
       " 103: datetime.datetime(1982, 9, 22, 0, 0),\n",
       " 104: datetime.datetime(1974, 2, 24, 0, 0),\n",
       " 105: datetime.datetime(1978, 2, 3, 0, 0),\n",
       " 106: datetime.datetime(2006, 2, 11, 0, 0),\n",
       " 107: datetime.datetime(1983, 8, 22, 0, 0),\n",
       " 108: datetime.datetime(1974, 5, 4, 0, 0),\n",
       " 109: datetime.datetime(2011, 7, 20, 0, 0),\n",
       " 110: datetime.datetime(1995, 6, 17, 0, 0),\n",
       " 111: datetime.datetime(1972, 6, 10, 0, 0),\n",
       " 112: datetime.datetime(1982, 10, 16, 0, 0),\n",
       " 113: datetime.datetime(1992, 12, 15, 0, 0),\n",
       " 114: datetime.datetime(1997, 12, 8, 0, 0),\n",
       " 115: datetime.datetime(1989, 4, 5, 0, 0),\n",
       " 116: datetime.datetime(1987, 12, 4, 0, 0),\n",
       " 117: datetime.datetime(1977, 6, 20, 0, 0),\n",
       " 118: datetime.datetime(2006, 4, 27, 0, 0),\n",
       " 119: datetime.datetime(1992, 7, 17, 0, 0),\n",
       " 120: datetime.datetime(1998, 12, 22, 0, 0),\n",
       " 121: datetime.datetime(1996, 10, 2, 0, 0),\n",
       " 122: datetime.datetime(1990, 11, 5, 0, 0),\n",
       " 123: datetime.datetime(1977, 5, 4, 0, 0),\n",
       " 124: datetime.datetime(1996, 2, 27, 0, 0),\n",
       " 125: datetime.datetime(2001, 1, 24, 0, 0),\n",
       " 126: datetime.datetime(2004, 9, 10, 0, 0),\n",
       " 127: datetime.datetime(1982, 5, 26, 0, 0),\n",
       " 128: datetime.datetime(2002, 6, 28, 0, 0),\n",
       " 129: datetime.datetime(1972, 5, 6, 0, 0),\n",
       " 130: datetime.datetime(1987, 10, 25, 0, 0),\n",
       " 131: datetime.datetime(1996, 10, 14, 0, 0),\n",
       " 132: datetime.datetime(2007, 11, 30, 0, 0),\n",
       " 133: datetime.datetime(1994, 6, 28, 0, 0),\n",
       " 134: datetime.datetime(1981, 1, 14, 0, 0),\n",
       " 135: datetime.datetime(1985, 10, 10, 0, 0),\n",
       " 136: datetime.datetime(1985, 2, 11, 0, 0),\n",
       " 137: datetime.datetime(1983, 2, 10, 0, 0),\n",
       " 138: datetime.datetime(1992, 2, 5, 0, 0),\n",
       " 139: datetime.datetime(2012, 10, 21, 0, 0),\n",
       " 140: datetime.datetime(1995, 2, 14, 0, 0),\n",
       " 141: datetime.datetime(2016, 5, 30, 0, 0),\n",
       " 142: datetime.datetime(1996, 1, 22, 0, 0),\n",
       " 143: datetime.datetime(1992, 10, 14, 0, 0),\n",
       " 144: datetime.datetime(2003, 10, 6, 0, 0),\n",
       " 145: datetime.datetime(1999, 10, 18, 0, 0),\n",
       " 146: datetime.datetime(2004, 11, 11, 0, 0),\n",
       " 147: datetime.datetime(2001, 5, 30, 0, 0),\n",
       " 148: datetime.datetime(1978, 2, 2, 0, 0),\n",
       " 149: datetime.datetime(1989, 9, 9, 0, 0),\n",
       " 150: datetime.datetime(1980, 3, 12, 0, 0),\n",
       " 151: datetime.datetime(1990, 6, 22, 0, 0),\n",
       " 152: datetime.datetime(2015, 9, 28, 0, 0),\n",
       " 153: datetime.datetime(1972, 1, 13, 0, 0),\n",
       " 154: datetime.datetime(1974, 3, 6, 0, 0),\n",
       " 155: datetime.datetime(1974, 10, 10, 0, 0),\n",
       " 156: datetime.datetime(1974, 5, 26, 0, 0),\n",
       " 157: datetime.datetime(1990, 2, 10, 0, 0),\n",
       " 158: datetime.datetime(2000, 8, 23, 0, 0),\n",
       " 159: datetime.datetime(2001, 5, 26, 0, 0),\n",
       " 160: datetime.datetime(2007, 10, 21, 0, 0),\n",
       " 161: datetime.datetime(2016, 10, 19, 0, 0),\n",
       " 162: datetime.datetime(1974, 3, 5, 0, 0),\n",
       " 163: datetime.datetime(1994, 1, 29, 0, 0),\n",
       " 164: datetime.datetime(1978, 10, 21, 0, 0),\n",
       " 165: datetime.datetime(1975, 8, 18, 0, 0),\n",
       " 166: datetime.datetime(1996, 11, 11, 0, 0),\n",
       " 167: datetime.datetime(1979, 10, 1, 0, 0),\n",
       " 168: datetime.datetime(1986, 10, 13, 0, 0),\n",
       " 169: datetime.datetime(1995, 10, 21, 0, 0),\n",
       " 170: datetime.datetime(2011, 1, 24, 0, 0),\n",
       " 171: datetime.datetime(1972, 10, 4, 0, 0),\n",
       " 172: datetime.datetime(1993, 8, 23, 0, 0),\n",
       " 173: datetime.datetime(2006, 10, 18, 0, 0),\n",
       " 174: datetime.datetime(1988, 12, 4, 0, 0),\n",
       " 175: datetime.datetime(1983, 10, 21, 0, 0),\n",
       " 176: datetime.datetime(2010, 5, 26, 0, 0),\n",
       " 177: datetime.datetime(1990, 1, 18, 0, 0),\n",
       " 178: datetime.datetime(1985, 6, 15, 0, 0),\n",
       " 179: datetime.datetime(1982, 12, 10, 0, 0),\n",
       " 180: datetime.datetime(1988, 12, 9, 0, 0),\n",
       " 181: datetime.datetime(1995, 8, 18, 0, 0),\n",
       " 182: datetime.datetime(1974, 6, 13, 0, 0),\n",
       " 183: datetime.datetime(2008, 5, 26, 0, 0),\n",
       " 184: datetime.datetime(2002, 11, 11, 0, 0),\n",
       " 185: datetime.datetime(1985, 8, 17, 0, 0),\n",
       " 186: datetime.datetime(2016, 10, 13, 0, 0),\n",
       " 187: datetime.datetime(2008, 1, 14, 0, 0),\n",
       " 188: datetime.datetime(2004, 3, 12, 0, 0),\n",
       " 189: datetime.datetime(1977, 10, 21, 0, 0),\n",
       " 190: datetime.datetime(2000, 8, 10, 0, 0),\n",
       " 191: datetime.datetime(1972, 11, 30, 0, 0),\n",
       " 192: datetime.datetime(1993, 5, 6, 0, 0),\n",
       " 193: datetime.datetime(1995, 1, 18, 0, 0),\n",
       " 194: datetime.datetime(1990, 4, 11, 0, 0),\n",
       " 195: datetime.datetime(2001, 5, 30, 0, 0),\n",
       " 196: datetime.datetime(1994, 2, 18, 0, 0),\n",
       " 197: datetime.datetime(1981, 2, 18, 0, 0),\n",
       " 198: datetime.datetime(2013, 10, 11, 0, 0),\n",
       " 199: datetime.datetime(1986, 1, 24, 0, 0),\n",
       " 200: datetime.datetime(1978, 7, 26, 0, 0),\n",
       " 201: datetime.datetime(1999, 12, 23, 0, 0),\n",
       " 202: datetime.datetime(1989, 5, 15, 0, 0),\n",
       " 203: datetime.datetime(1995, 9, 6, 0, 0),\n",
       " 204: datetime.datetime(1976, 3, 10, 0, 0),\n",
       " 205: datetime.datetime(1983, 1, 27, 0, 0),\n",
       " 206: datetime.datetime(1990, 10, 23, 0, 0),\n",
       " 207: datetime.datetime(2004, 8, 12, 0, 0),\n",
       " 208: datetime.datetime(2012, 9, 1, 0, 0),\n",
       " 209: datetime.datetime(1983, 7, 25, 0, 0),\n",
       " 210: datetime.datetime(1989, 8, 11, 0, 0),\n",
       " 211: datetime.datetime(1992, 4, 17, 0, 0),\n",
       " 212: datetime.datetime(1999, 7, 24, 0, 0),\n",
       " 213: datetime.datetime(1997, 7, 11, 0, 0),\n",
       " 214: datetime.datetime(1974, 9, 10, 0, 0),\n",
       " 215: datetime.datetime(1981, 8, 14, 0, 0),\n",
       " 216: datetime.datetime(1988, 11, 11, 0, 0),\n",
       " 217: datetime.datetime(2011, 6, 13, 0, 0),\n",
       " 218: datetime.datetime(1989, 5, 14, 0, 0),\n",
       " 219: datetime.datetime(1975, 12, 14, 0, 0),\n",
       " 220: datetime.datetime(2012, 6, 25, 0, 0),\n",
       " 221: datetime.datetime(1980, 10, 18, 0, 0),\n",
       " 222: datetime.datetime(1998, 5, 15, 0, 0),\n",
       " 223: datetime.datetime(1974, 10, 14, 0, 0),\n",
       " 224: datetime.datetime(1998, 7, 25, 0, 0),\n",
       " 225: datetime.datetime(1972, 6, 15, 0, 0),\n",
       " 226: datetime.datetime(1991, 1, 7, 0, 0),\n",
       " 227: datetime.datetime(2011, 9, 15, 0, 0),\n",
       " 228: datetime.datetime(1985, 9, 1, 0, 0),\n",
       " 229: datetime.datetime(2011, 6, 1, 0, 0),\n",
       " 230: datetime.datetime(1986, 5, 1, 0, 0),\n",
       " 231: datetime.datetime(2016, 5, 1, 0, 0),\n",
       " 232: datetime.datetime(1977, 7, 1, 0, 0),\n",
       " 233: datetime.datetime(1990, 7, 1, 0, 0),\n",
       " 234: datetime.datetime(2003, 7, 1, 0, 0),\n",
       " 235: datetime.datetime(2015, 10, 1, 0, 0),\n",
       " 236: datetime.datetime(1995, 5, 1, 0, 0),\n",
       " 237: datetime.datetime(1976, 2, 1, 0, 0),\n",
       " 238: datetime.datetime(1995, 1, 1, 0, 0),\n",
       " 239: datetime.datetime(1978, 2, 1, 0, 0),\n",
       " 240: datetime.datetime(2011, 5, 1, 0, 0),\n",
       " 241: datetime.datetime(2004, 5, 1, 0, 0),\n",
       " 242: datetime.datetime(2010, 11, 1, 0, 0),\n",
       " 243: datetime.datetime(2012, 9, 1, 0, 0),\n",
       " 244: datetime.datetime(2013, 1, 1, 0, 0),\n",
       " 245: datetime.datetime(1990, 11, 1, 0, 0),\n",
       " 246: datetime.datetime(1981, 7, 1, 0, 0),\n",
       " 247: datetime.datetime(1983, 5, 1, 0, 0),\n",
       " 248: datetime.datetime(1995, 7, 1, 0, 0),\n",
       " 249: datetime.datetime(1993, 4, 1, 0, 0),\n",
       " 250: datetime.datetime(2005, 5, 1, 0, 0),\n",
       " 251: datetime.datetime(1998, 12, 1, 0, 0),\n",
       " 252: datetime.datetime(2007, 1, 1, 0, 0),\n",
       " 253: datetime.datetime(2016, 2, 1, 0, 0),\n",
       " 254: datetime.datetime(1979, 8, 1, 0, 0),\n",
       " 255: datetime.datetime(2014, 10, 1, 0, 0),\n",
       " 256: datetime.datetime(1988, 8, 1, 0, 0),\n",
       " 257: datetime.datetime(2015, 9, 1, 0, 0),\n",
       " 258: datetime.datetime(1976, 4, 1, 0, 0),\n",
       " 259: datetime.datetime(1979, 11, 1, 0, 0),\n",
       " 260: datetime.datetime(2000, 2, 1, 0, 0),\n",
       " 261: datetime.datetime(1986, 10, 1, 0, 0),\n",
       " 262: datetime.datetime(2002, 6, 1, 0, 0),\n",
       " 263: datetime.datetime(1981, 9, 1, 0, 0),\n",
       " 264: datetime.datetime(2007, 6, 1, 0, 0),\n",
       " 265: datetime.datetime(1989, 4, 1, 0, 0),\n",
       " 266: datetime.datetime(1999, 9, 1, 0, 0),\n",
       " 267: datetime.datetime(1980, 10, 1, 0, 0),\n",
       " 268: datetime.datetime(2009, 12, 1, 0, 0),\n",
       " 269: datetime.datetime(1992, 7, 1, 0, 0),\n",
       " 270: datetime.datetime(2006, 5, 1, 0, 0),\n",
       " 271: datetime.datetime(2008, 8, 1, 0, 0),\n",
       " 272: datetime.datetime(1993, 2, 1, 0, 0),\n",
       " 273: datetime.datetime(2010, 2, 1, 0, 0),\n",
       " 274: datetime.datetime(1985, 4, 1, 0, 0),\n",
       " 275: datetime.datetime(1984, 9, 1, 0, 0),\n",
       " 276: datetime.datetime(1986, 4, 1, 0, 0),\n",
       " 277: datetime.datetime(2007, 4, 1, 0, 0),\n",
       " 278: datetime.datetime(1974, 9, 1, 0, 0),\n",
       " 279: datetime.datetime(2013, 9, 1, 0, 0),\n",
       " 280: datetime.datetime(1985, 7, 1, 0, 0),\n",
       " 281: datetime.datetime(2004, 8, 1, 0, 0),\n",
       " 282: datetime.datetime(2012, 5, 1, 0, 0),\n",
       " 283: datetime.datetime(1977, 2, 1, 0, 0),\n",
       " 284: datetime.datetime(1987, 1, 1, 0, 0),\n",
       " 285: datetime.datetime(1983, 9, 1, 0, 0),\n",
       " 286: datetime.datetime(2013, 1, 1, 0, 0),\n",
       " 287: datetime.datetime(2010, 3, 1, 0, 0),\n",
       " 288: datetime.datetime(2009, 8, 1, 0, 0),\n",
       " 289: datetime.datetime(2007, 9, 1, 0, 0),\n",
       " 290: datetime.datetime(2011, 12, 1, 0, 0),\n",
       " 291: datetime.datetime(2004, 1, 1, 0, 0),\n",
       " 292: datetime.datetime(1995, 11, 1, 0, 0),\n",
       " 293: datetime.datetime(2008, 9, 1, 0, 0),\n",
       " 294: datetime.datetime(1983, 2, 1, 0, 0),\n",
       " 295: datetime.datetime(1983, 3, 1, 0, 0),\n",
       " 296: datetime.datetime(1979, 8, 1, 0, 0),\n",
       " 297: datetime.datetime(2009, 1, 1, 0, 0),\n",
       " 298: datetime.datetime(1993, 1, 1, 0, 0),\n",
       " 299: datetime.datetime(1974, 3, 1, 0, 0),\n",
       " 300: datetime.datetime(1994, 1, 1, 0, 0),\n",
       " 301: datetime.datetime(1992, 12, 1, 0, 0),\n",
       " 302: datetime.datetime(2004, 11, 1, 0, 0),\n",
       " 303: datetime.datetime(1977, 1, 1, 0, 0),\n",
       " 304: datetime.datetime(2002, 3, 1, 0, 0),\n",
       " 305: datetime.datetime(2000, 2, 1, 0, 0),\n",
       " 306: datetime.datetime(2004, 5, 1, 0, 0),\n",
       " 307: datetime.datetime(2006, 7, 1, 0, 0),\n",
       " 308: datetime.datetime(1994, 2, 1, 0, 0),\n",
       " 309: datetime.datetime(1977, 4, 1, 0, 0),\n",
       " 310: datetime.datetime(1992, 10, 1, 0, 0),\n",
       " 311: datetime.datetime(1995, 2, 1, 0, 0),\n",
       " 312: datetime.datetime(1989, 2, 1, 0, 0),\n",
       " 313: datetime.datetime(1978, 12, 1, 0, 0),\n",
       " 314: datetime.datetime(2007, 1, 1, 0, 0),\n",
       " 315: datetime.datetime(1976, 6, 1, 0, 0),\n",
       " 316: datetime.datetime(2011, 5, 1, 0, 0),\n",
       " 317: datetime.datetime(1975, 3, 1, 0, 0),\n",
       " 318: datetime.datetime(1978, 1, 1, 0, 0),\n",
       " 319: datetime.datetime(1975, 7, 1, 0, 0),\n",
       " 320: datetime.datetime(2012, 11, 1, 0, 0),\n",
       " 321: datetime.datetime(1999, 6, 1, 0, 0),\n",
       " 322: datetime.datetime(1991, 10, 1, 0, 0),\n",
       " 323: datetime.datetime(1973, 3, 1, 0, 0),\n",
       " 324: datetime.datetime(1996, 10, 1, 0, 0),\n",
       " 325: datetime.datetime(2007, 6, 1, 0, 0),\n",
       " 326: datetime.datetime(1995, 10, 1, 0, 0),\n",
       " 327: datetime.datetime(1999, 4, 1, 0, 0),\n",
       " 328: datetime.datetime(2001, 5, 1, 0, 0),\n",
       " 329: datetime.datetime(2000, 3, 1, 0, 0),\n",
       " 330: datetime.datetime(1988, 4, 1, 0, 0),\n",
       " 331: datetime.datetime(1993, 12, 1, 0, 0),\n",
       " 332: datetime.datetime(1974, 6, 1, 0, 0),\n",
       " 333: datetime.datetime(1997, 11, 1, 0, 0),\n",
       " 334: datetime.datetime(1986, 7, 1, 0, 0),\n",
       " 335: datetime.datetime(1973, 2, 1, 0, 0),\n",
       " 336: datetime.datetime(1978, 3, 1, 0, 0),\n",
       " 337: datetime.datetime(2007, 12, 1, 0, 0),\n",
       " 338: datetime.datetime(1998, 4, 1, 0, 0),\n",
       " 339: datetime.datetime(2005, 3, 1, 0, 0),\n",
       " 340: datetime.datetime(1980, 5, 1, 0, 0),\n",
       " 341: datetime.datetime(2007, 11, 1, 0, 0),\n",
       " 342: datetime.datetime(1976, 3, 1, 0, 0),\n",
       " 343: datetime.datetime(1998, 6, 1, 0, 0),\n",
       " 344: datetime.datetime(2005, 6, 1, 0, 0),\n",
       " 345: datetime.datetime(1973, 10, 1, 0, 0),\n",
       " 346: datetime.datetime(2005, 9, 1, 0, 0),\n",
       " 347: datetime.datetime(1980, 3, 1, 0, 0),\n",
       " 348: datetime.datetime(2005, 12, 1, 0, 0),\n",
       " 349: datetime.datetime(1987, 5, 1, 0, 0),\n",
       " 350: datetime.datetime(2004, 5, 1, 0, 0),\n",
       " 351: datetime.datetime(1974, 8, 1, 0, 0),\n",
       " 352: datetime.datetime(1986, 3, 1, 0, 0),\n",
       " 353: datetime.datetime(1997, 10, 1, 0, 0),\n",
       " 354: datetime.datetime(1993, 3, 1, 0, 0),\n",
       " 355: datetime.datetime(1981, 3, 1, 0, 0),\n",
       " 356: datetime.datetime(2003, 9, 1, 0, 0),\n",
       " 357: datetime.datetime(1993, 10, 1, 0, 0),\n",
       " 358: datetime.datetime(1983, 1, 1, 0, 0),\n",
       " 359: datetime.datetime(1994, 7, 1, 0, 0),\n",
       " 360: datetime.datetime(2008, 12, 1, 0, 0),\n",
       " 361: datetime.datetime(1980, 10, 1, 0, 0),\n",
       " 362: datetime.datetime(2003, 8, 1, 0, 0),\n",
       " 363: datetime.datetime(1975, 12, 1, 0, 0),\n",
       " 364: datetime.datetime(2010, 11, 1, 0, 0),\n",
       " 365: datetime.datetime(1997, 7, 1, 0, 0),\n",
       " 366: datetime.datetime(2014, 7, 1, 0, 0),\n",
       " 367: datetime.datetime(2001, 9, 1, 0, 0),\n",
       " 368: datetime.datetime(1986, 8, 1, 0, 0),\n",
       " 369: datetime.datetime(1978, 1, 1, 0, 0),\n",
       " 370: datetime.datetime(1975, 9, 1, 0, 0),\n",
       " 371: datetime.datetime(2009, 1, 1, 0, 0),\n",
       " 372: datetime.datetime(1995, 5, 1, 0, 0),\n",
       " 373: datetime.datetime(1989, 8, 1, 0, 0),\n",
       " 374: datetime.datetime(2000, 11, 1, 0, 0),\n",
       " 375: datetime.datetime(1973, 6, 1, 0, 0),\n",
       " 376: datetime.datetime(1999, 2, 1, 0, 0),\n",
       " 377: datetime.datetime(2001, 6, 1, 0, 0),\n",
       " 378: datetime.datetime(1978, 12, 1, 0, 0),\n",
       " 379: datetime.datetime(2009, 8, 1, 0, 0),\n",
       " 380: datetime.datetime(1973, 7, 1, 0, 0),\n",
       " 381: datetime.datetime(2014, 1, 1, 0, 0),\n",
       " 382: datetime.datetime(1975, 9, 1, 0, 0),\n",
       " 383: datetime.datetime(2012, 12, 1, 0, 0),\n",
       " 384: datetime.datetime(1999, 5, 1, 0, 0),\n",
       " 385: datetime.datetime(1989, 7, 1, 0, 0),\n",
       " 386: datetime.datetime(2009, 7, 1, 0, 0),\n",
       " 387: datetime.datetime(1998, 11, 1, 0, 0),\n",
       " 388: datetime.datetime(1995, 3, 1, 0, 0),\n",
       " 389: datetime.datetime(2009, 2, 1, 0, 0),\n",
       " 390: datetime.datetime(1988, 8, 1, 0, 0),\n",
       " 391: datetime.datetime(2007, 4, 1, 0, 0),\n",
       " 392: datetime.datetime(2000, 5, 1, 0, 0),\n",
       " 393: datetime.datetime(2012, 4, 1, 0, 0),\n",
       " 394: datetime.datetime(2001, 10, 1, 0, 0),\n",
       " 395: datetime.datetime(1977, 2, 1, 0, 0),\n",
       " 396: datetime.datetime(2008, 8, 1, 0, 0),\n",
       " 397: datetime.datetime(1983, 2, 1, 0, 0),\n",
       " 398: datetime.datetime(1979, 5, 1, 0, 0),\n",
       " 399: datetime.datetime(1992, 1, 1, 0, 0),\n",
       " 400: datetime.datetime(2008, 11, 1, 0, 0),\n",
       " 401: datetime.datetime(2014, 12, 1, 0, 0),\n",
       " 402: datetime.datetime(1974, 4, 1, 0, 0),\n",
       " 403: datetime.datetime(1981, 10, 1, 0, 0),\n",
       " 404: datetime.datetime(1986, 10, 1, 0, 0),\n",
       " 405: datetime.datetime(1973, 3, 1, 0, 0),\n",
       " 406: datetime.datetime(1994, 12, 1, 0, 0),\n",
       " 407: datetime.datetime(1999, 8, 1, 0, 0),\n",
       " 408: datetime.datetime(2010, 10, 1, 0, 0),\n",
       " 409: datetime.datetime(1994, 10, 1, 0, 0),\n",
       " 410: datetime.datetime(2007, 1, 1, 0, 0),\n",
       " 411: datetime.datetime(2010, 8, 1, 0, 0),\n",
       " 412: datetime.datetime(1990, 3, 1, 0, 0),\n",
       " 413: datetime.datetime(2016, 11, 1, 0, 0),\n",
       " 414: datetime.datetime(2004, 4, 1, 0, 0),\n",
       " 415: datetime.datetime(1973, 2, 1, 0, 0),\n",
       " 416: datetime.datetime(1987, 7, 1, 0, 0),\n",
       " 417: datetime.datetime(2000, 8, 1, 0, 0),\n",
       " 418: datetime.datetime(1975, 8, 1, 0, 0),\n",
       " 419: datetime.datetime(1977, 5, 1, 0, 0),\n",
       " 420: datetime.datetime(2000, 3, 1, 0, 0),\n",
       " 421: datetime.datetime(1984, 9, 1, 0, 0),\n",
       " 422: datetime.datetime(1973, 4, 1, 0, 0),\n",
       " 423: datetime.datetime(1986, 12, 1, 0, 0),\n",
       " 424: datetime.datetime(1979, 4, 1, 0, 0),\n",
       " 425: datetime.datetime(2004, 7, 1, 0, 0),\n",
       " 426: datetime.datetime(1984, 11, 1, 0, 0),\n",
       " 427: datetime.datetime(2016, 5, 1, 0, 0),\n",
       " 428: datetime.datetime(2007, 12, 1, 0, 0),\n",
       " 429: datetime.datetime(1982, 11, 1, 0, 0),\n",
       " 430: datetime.datetime(1981, 6, 1, 0, 0),\n",
       " 431: datetime.datetime(2013, 4, 1, 0, 0),\n",
       " 432: datetime.datetime(1999, 4, 1, 0, 0),\n",
       " 433: datetime.datetime(2006, 5, 1, 0, 0),\n",
       " 434: datetime.datetime(1978, 10, 1, 0, 0),\n",
       " 435: datetime.datetime(1989, 12, 1, 0, 0),\n",
       " 436: datetime.datetime(1974, 2, 1, 0, 0),\n",
       " 437: datetime.datetime(1986, 11, 1, 0, 0),\n",
       " 438: datetime.datetime(1983, 4, 1, 0, 0),\n",
       " 439: datetime.datetime(2014, 10, 1, 0, 0),\n",
       " 440: datetime.datetime(1989, 6, 1, 0, 0),\n",
       " 441: datetime.datetime(1980, 9, 1, 0, 0),\n",
       " 442: datetime.datetime(1992, 9, 1, 0, 0),\n",
       " 443: datetime.datetime(2000, 9, 1, 0, 0),\n",
       " 444: datetime.datetime(1981, 7, 1, 0, 0),\n",
       " 445: datetime.datetime(2008, 1, 1, 0, 0),\n",
       " 446: datetime.datetime(2002, 4, 1, 0, 0),\n",
       " 447: datetime.datetime(1985, 7, 1, 0, 0),\n",
       " 448: datetime.datetime(2010, 5, 1, 0, 0),\n",
       " 449: datetime.datetime(2002, 8, 1, 0, 0),\n",
       " 450: datetime.datetime(1994, 1, 1, 0, 0),\n",
       " 451: datetime.datetime(2004, 12, 1, 0, 0),\n",
       " 452: datetime.datetime(2003, 3, 1, 0, 0),\n",
       " 453: datetime.datetime(1991, 7, 1, 0, 0),\n",
       " 454: datetime.datetime(1982, 7, 1, 0, 0),\n",
       " 455: datetime.datetime(1984, 1, 1, 0, 0),\n",
       " 456: datetime.datetime(2000, 1, 1, 0, 0),\n",
       " 457: datetime.datetime(2001, 1, 1, 0, 0),\n",
       " 458: datetime.datetime(1982, 1, 1, 0, 0),\n",
       " 459: datetime.datetime(1998, 1, 1, 0, 0),\n",
       " 460: datetime.datetime(2012, 1, 1, 0, 0),\n",
       " 461: datetime.datetime(1991, 1, 1, 0, 0),\n",
       " 462: datetime.datetime(1988, 1, 1, 0, 0),\n",
       " 463: datetime.datetime(2014, 1, 1, 0, 0),\n",
       " 464: datetime.datetime(2016, 1, 1, 0, 0),\n",
       " 465: datetime.datetime(1976, 1, 1, 0, 0),\n",
       " 466: datetime.datetime(1981, 1, 1, 0, 0),\n",
       " 467: datetime.datetime(2011, 1, 1, 0, 0),\n",
       " 468: datetime.datetime(1997, 1, 1, 0, 0),\n",
       " 469: datetime.datetime(2003, 1, 1, 0, 0),\n",
       " 470: datetime.datetime(1983, 1, 1, 0, 0),\n",
       " 471: datetime.datetime(1999, 1, 1, 0, 0),\n",
       " 472: datetime.datetime(2010, 1, 1, 0, 0),\n",
       " 473: datetime.datetime(1975, 1, 1, 0, 0),\n",
       " 474: datetime.datetime(1972, 1, 1, 0, 0),\n",
       " 475: datetime.datetime(2015, 1, 1, 0, 0),\n",
       " 476: datetime.datetime(1989, 1, 1, 0, 0),\n",
       " 477: datetime.datetime(1994, 1, 1, 0, 0),\n",
       " 478: datetime.datetime(1993, 1, 1, 0, 0),\n",
       " 479: datetime.datetime(1996, 1, 1, 0, 0),\n",
       " 480: datetime.datetime(2013, 1, 1, 0, 0),\n",
       " 481: datetime.datetime(1974, 1, 1, 0, 0),\n",
       " 482: datetime.datetime(1990, 1, 1, 0, 0),\n",
       " 483: datetime.datetime(1995, 1, 1, 0, 0),\n",
       " 484: datetime.datetime(2004, 1, 1, 0, 0),\n",
       " 485: datetime.datetime(1987, 1, 1, 0, 0),\n",
       " 486: datetime.datetime(1973, 1, 1, 0, 0),\n",
       " 487: datetime.datetime(1992, 1, 1, 0, 0),\n",
       " 488: datetime.datetime(1977, 1, 1, 0, 0),\n",
       " 489: datetime.datetime(1985, 1, 1, 0, 0),\n",
       " 490: datetime.datetime(2007, 1, 1, 0, 0),\n",
       " 491: datetime.datetime(2009, 1, 1, 0, 0),\n",
       " 492: datetime.datetime(1986, 1, 1, 0, 0),\n",
       " 493: datetime.datetime(1978, 1, 1, 0, 0),\n",
       " 494: datetime.datetime(2002, 1, 1, 0, 0),\n",
       " 495: datetime.datetime(1979, 1, 1, 0, 0),\n",
       " 496: datetime.datetime(2006, 1, 1, 0, 0),\n",
       " 497: datetime.datetime(2008, 1, 1, 0, 0),\n",
       " 498: datetime.datetime(2005, 1, 1, 0, 0),\n",
       " 499: datetime.datetime(1980, 1, 1, 0, 0)}"
      ]
     },
     "execution_count": 79,
     "metadata": {},
     "output_type": "execute_result"
    }
   ],
   "source": [
    "parsed_dates"
   ]
  },
  {
   "cell_type": "code",
   "execution_count": 35,
   "metadata": {
    "deletable": false,
    "execution": {
     "iopub.execute_input": "2023-03-20T03:56:47.418176Z",
     "iopub.status.busy": "2023-03-20T03:56:47.418176Z",
     "iopub.status.idle": "2023-03-20T03:56:47.435815Z",
     "shell.execute_reply": "2023-03-20T03:56:47.435815Z",
     "shell.execute_reply.started": "2023-03-20T03:56:47.418176Z"
    },
    "nbgrader": {
     "cell_type": "code",
     "checksum": "3e58e227860ae4b02d6bdddd81506787",
     "grade": false,
     "grade_id": "cell-d6f35a51303ed6ff",
     "locked": false,
     "schema_version": 3,
     "solution": true,
     "task": false
    },
    "tags": []
   },
   "outputs": [],
   "source": [
    "def date_sorter():\n",
    "    \n",
    "    parsed_dates = dict.fromkeys(df.index)\n",
    "    \n",
    "    all_numeric = df[:125]\n",
    "    for (ind, date) in zip(all_numeric.index, all_numeric.str.findall(r\"[\\d]{1,2}[/-]{1}[\\d]{1,2}[/-]{1}[\\d]{2,4}\")):\n",
    "\n",
    "        _date = date[0]\n",
    "\n",
    "        if \"-\" not in _date:\n",
    "            if len(_date.split(\"/\")[2]) < 4:      \n",
    "                _strdate = _date[:-2] + \"19\" + _date[-2:]\n",
    "\n",
    "                parsed_dates[ind] = datetime.strptime(_strdate, \"%m/%d/%Y\")\n",
    "            else:\n",
    "\n",
    "                parsed_dates[ind] = datetime.strptime(_date, \"%m/%d/%Y\")\n",
    "                \n",
    "        elif \"-\" in _date:\n",
    "            if len(_date.split(\"-\")[2]) < 4:\n",
    "                _strdate = _date[:-2] + \"19\" + _date[-2:]\n",
    "\n",
    "                parsed_dates[ind] = datetime.strptime(_strdate, \"%m-%d-%Y\")\n",
    "            else:\n",
    "\n",
    "                parsed_dates[ind] = datetime.strptime(_date, \"%m-%d-%Y\")\n",
    "    \n",
    "    month_in_words = df[125:194]\n",
    "    for (ind, date) in zip(month_in_words.index, month_in_words.str.findall(r\"[\\d]{1,2} [\\w]{3,} [\\d]{2,4}\")):\n",
    "            # parsed_dates[ind] = date[0]\n",
    "            _strdate  = date[0]\n",
    "            try:\n",
    "                parsed_dates[ind] = datetime.strptime(_strdate, \"%d %B %Y\")\n",
    "            except ValueError:\n",
    "                try:\n",
    "                    parsed_dates[ind] = datetime.strptime(_strdate, \"%d %b %Y\")\n",
    "                except:\n",
    "                    print(\"FUCK\")\n",
    "                    \n",
    "    start_with_month = df[194:228]\n",
    "    for (ind, date) in zip(start_with_month.index, start_with_month.str.findall(r\"[\\w]{3,}[.,]* [\\d]+[,]* [\\d]{2,4}\")):\n",
    "            # parsed_dates[ind] = date[0]\n",
    "            _strdate = date[0].replace(\",\", \"\").replace(\".\", \"\")\n",
    "            try:\n",
    "                parsed_dates[ind] = datetime.strptime(_strdate, \"%B %d %Y\")\n",
    "            except ValueError:\n",
    "                try:\n",
    "                    parsed_dates[ind] = datetime.strptime(_strdate, \"%b %d %Y\")\n",
    "                except:\n",
    "                    print(\"FUCK\")\n",
    "    \n",
    "    month_and_year_only = df[228:343]\n",
    "    for (ind, date) in zip(month_and_year_only.index, month_and_year_only.str.findall(r\"[A-Z]{1}[a-z]{2,}[,]* [\\d]{4}\")):\n",
    "        # parsed_dates[ind] = \"01 \" + date[0]\n",
    "        _strdate = \"01 \" + date[0].replace(\",\", \"\").replace(\"Janaury\", \"January\").replace(\"Decemeber\", \"December\")\n",
    "        try:\n",
    "            parsed_dates[ind] = datetime.strptime(_strdate, \"%d %B %Y\")\n",
    "        except ValueError:\n",
    "            try:\n",
    "                parsed_dates[ind] = datetime.strptime(_strdate, \"%d %b %Y\")\n",
    "            except:\n",
    "                print(\"FUCK\", _strdate)\n",
    "    \n",
    "    month_and_year_numeric = df[343:455]\n",
    "    for (ind, date) in zip(month_and_year_numeric.index, month_and_year_numeric.str.findall(r\"[\\d]{1,2}/[\\d]{2,4}\")):\n",
    "        # parsed_dates[ind] = \"01/\" + date[0]\n",
    "        _strdate = \"01/\" + date[0]\n",
    "        parsed_dates[ind] = datetime.strptime(_strdate, \"%d/%m/%Y\")\n",
    "        \n",
    "    year_only = df[455:]\n",
    "    for (ind, date) in zip(year_only.index, year_only.str.findall(r\"[\\d]{4}\")):\n",
    "        # parsed_dates[ind] =  \"01/01/\" + date[0]\n",
    "        _strdate = \"01/01/\" + date[0]\n",
    "        parsed_dates[ind] = datetime.strptime(_strdate, \"%d/%m/%Y\")\n",
    "        \n",
    "    dates = pd.Series(parsed_dates, name = \"date\")\n",
    "    return pd.Series(dates.reset_index(drop = False).sort_values([\"date\", \"index\"]).index)"
   ]
  },
  {
   "cell_type": "code",
   "execution_count": 36,
   "metadata": {
    "execution": {
     "iopub.execute_input": "2023-03-20T03:56:48.205896Z",
     "iopub.status.busy": "2023-03-20T03:56:48.205896Z",
     "iopub.status.idle": "2023-03-20T03:56:48.243670Z",
     "shell.execute_reply": "2023-03-20T03:56:48.243670Z",
     "shell.execute_reply.started": "2023-03-20T03:56:48.205896Z"
    },
    "tags": []
   },
   "outputs": [
    {
     "data": {
      "text/plain": [
       "0        9\n",
       "1       84\n",
       "2        2\n",
       "3       53\n",
       "4       28\n",
       "      ... \n",
       "495    427\n",
       "496    141\n",
       "497    186\n",
       "498    161\n",
       "499    413\n",
       "Length: 500, dtype: int64"
      ]
     },
     "execution_count": 36,
     "metadata": {},
     "output_type": "execute_result"
    }
   ],
   "source": [
    "date_sorter()"
   ]
  },
  {
   "cell_type": "code",
   "execution_count": null,
   "metadata": {
    "deletable": false,
    "editable": false,
    "nbgrader": {
     "cell_type": "code",
     "checksum": "c0843c1f0ad2aaa45fa9ac4012f1aa43",
     "grade": true,
     "grade_id": "cell-373f878879c00996",
     "locked": true,
     "points": 4,
     "schema_version": 3,
     "solution": false,
     "task": false
    }
   },
   "outputs": [],
   "source": []
  },
  {
   "cell_type": "code",
   "execution_count": null,
   "metadata": {
    "deletable": false,
    "editable": false,
    "nbgrader": {
     "cell_type": "code",
     "checksum": "0e2f5bb6bab79c07a81ec366c46c4d49",
     "grade": true,
     "grade_id": "cell-0ebae76e6cd794be",
     "locked": true,
     "points": 1,
     "schema_version": 3,
     "solution": false,
     "task": false
    }
   },
   "outputs": [],
   "source": []
  }
 ],
 "metadata": {
  "coursera": {
   "course_slug": "python-text-mining",
   "graded_item_id": "LvcWI",
   "launcher_item_id": "krne9",
   "part_id": "Mkp1I"
  },
  "kernelspec": {
   "display_name": "Python 3 (ipykernel)",
   "language": "python",
   "name": "python3"
  },
  "language_info": {
   "codemirror_mode": {
    "name": "ipython",
    "version": 3
   },
   "file_extension": ".py",
   "mimetype": "text/x-python",
   "name": "python",
   "nbconvert_exporter": "python",
   "pygments_lexer": "ipython3",
   "version": "3.11.2"
  },
  "vscode": {
   "interpreter": {
    "hash": "aee8b7b246df8f9039afb4144a1f6fd8d2ca17a180786b69acc140d282b71a49"
   }
  }
 },
 "nbformat": 4,
 "nbformat_minor": 4
}
